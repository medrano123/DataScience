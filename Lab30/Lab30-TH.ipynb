{
 "cells": [
  {
   "cell_type": "code",
   "execution_count": null,
   "metadata": {},
   "outputs": [],
   "source": []
  },
  {
   "cell_type": "markdown",
   "metadata": {},
   "source": [
    "**Download** (right-click, save target as ...) this page as a jupyterlab notebook [Lab29](http://54.243.252.9/engr-1330-webroot/8-Labs/Lab30/Lab30-TH.ipynb)\n",
    "\n",
    "___"
   ]
  },
  {
   "cell_type": "markdown",
   "metadata": {},
   "source": [
    "# <font color=darkblue>Laboratory 30: Exponential, Logarithmic, Power-Law Models </font>\n",
    "\n",
    "**Medrano, Giovanni**\n",
    "\n",
    "**R11521018**\n",
    "\n",
    "\n",
    "ENGR 1330 Exercise 30 - Homework\n",
    "\n",
    "___\n"
   ]
  },
  {
   "cell_type": "markdown",
   "metadata": {},
   "source": [
    "## Exercise 1\n",
    "\n",
    "The following data are the temperature as a function of vertical depth in a chemically active settling pond. \n",
    "\n",
    "|Depth (cm)|Temp ($^o$C)|\n",
    "|---:|---:|\n",
    "|0.1|21.2|\n",
    "|0.8|27.3|\n",
    "|3.6|31.8|\n",
    "|12| 35.6|\n",
    "|120 | 42.3|\n",
    "|390 | 45.9|\n",
    "|710 | 47.7|\n",
    "|1200| 49.2|\n",
    "|1800| 50.5|\n",
    "|2400| 51.4|\n",
    "\n",
    "Fit the following data models.\n",
    "\n",
    "1. Linear data model\n",
    "2. Exponential data model\n",
    "3. Logarithmic data model\n",
    "4. Power-law model\n",
    "\n",
    "Produce a plot of the data and data model for each model (4 plots)\n",
    "\n",
    "Select the \"best\" model based on the $R^2$ value. \n",
    "\n",
    "Use the best model to predict the temperature at 1 meter and 2 meters depth.\n",
    "\n"
   ]
  },
  {
   "cell_type": "code",
   "execution_count": 70,
   "metadata": {},
   "outputs": [
    {
     "data": {
      "text/html": [
       "<div>\n",
       "<style scoped>\n",
       "    .dataframe tbody tr th:only-of-type {\n",
       "        vertical-align: middle;\n",
       "    }\n",
       "\n",
       "    .dataframe tbody tr th {\n",
       "        vertical-align: top;\n",
       "    }\n",
       "\n",
       "    .dataframe thead th {\n",
       "        text-align: right;\n",
       "    }\n",
       "</style>\n",
       "<table border=\"1\" class=\"dataframe\">\n",
       "  <thead>\n",
       "    <tr style=\"text-align: right;\">\n",
       "      <th></th>\n",
       "      <th>Depth</th>\n",
       "      <th>Temp</th>\n",
       "    </tr>\n",
       "  </thead>\n",
       "  <tbody>\n",
       "    <tr>\n",
       "      <th>0</th>\n",
       "      <td>0.1</td>\n",
       "      <td>21.2</td>\n",
       "    </tr>\n",
       "    <tr>\n",
       "      <th>1</th>\n",
       "      <td>0.8</td>\n",
       "      <td>27.3</td>\n",
       "    </tr>\n",
       "    <tr>\n",
       "      <th>2</th>\n",
       "      <td>3.6</td>\n",
       "      <td>31.8</td>\n",
       "    </tr>\n",
       "    <tr>\n",
       "      <th>3</th>\n",
       "      <td>12.0</td>\n",
       "      <td>35.6</td>\n",
       "    </tr>\n",
       "    <tr>\n",
       "      <th>4</th>\n",
       "      <td>120.0</td>\n",
       "      <td>42.3</td>\n",
       "    </tr>\n",
       "    <tr>\n",
       "      <th>5</th>\n",
       "      <td>390.0</td>\n",
       "      <td>45.9</td>\n",
       "    </tr>\n",
       "    <tr>\n",
       "      <th>6</th>\n",
       "      <td>710.0</td>\n",
       "      <td>47.7</td>\n",
       "    </tr>\n",
       "    <tr>\n",
       "      <th>7</th>\n",
       "      <td>1200.0</td>\n",
       "      <td>49.2</td>\n",
       "    </tr>\n",
       "    <tr>\n",
       "      <th>8</th>\n",
       "      <td>1800.0</td>\n",
       "      <td>50.5</td>\n",
       "    </tr>\n",
       "    <tr>\n",
       "      <th>9</th>\n",
       "      <td>2400.0</td>\n",
       "      <td>51.4</td>\n",
       "    </tr>\n",
       "  </tbody>\n",
       "</table>\n",
       "</div>"
      ],
      "text/plain": [
       "    Depth  Temp\n",
       "0     0.1  21.2\n",
       "1     0.8  27.3\n",
       "2     3.6  31.8\n",
       "3    12.0  35.6\n",
       "4   120.0  42.3\n",
       "5   390.0  45.9\n",
       "6   710.0  47.7\n",
       "7  1200.0  49.2\n",
       "8  1800.0  50.5\n",
       "9  2400.0  51.4"
      ]
     },
     "execution_count": 70,
     "metadata": {},
     "output_type": "execute_result"
    }
   ],
   "source": [
    "# Load the necessary packages\n",
    "import numpy as np\n",
    "import pandas as pd\n",
    "import statistics \n",
    "import math\n",
    "from matplotlib import pyplot as plt\n",
    "import statsmodels.formula.api as smf\n",
    "\n",
    "df=pd.read_csv('lab30.csv')\n",
    "df"
   ]
  },
  {
   "cell_type": "code",
   "execution_count": 71,
   "metadata": {},
   "outputs": [
    {
     "data": {
      "text/html": [
       "<div>\n",
       "<style scoped>\n",
       "    .dataframe tbody tr th:only-of-type {\n",
       "        vertical-align: middle;\n",
       "    }\n",
       "\n",
       "    .dataframe tbody tr th {\n",
       "        vertical-align: top;\n",
       "    }\n",
       "\n",
       "    .dataframe thead th {\n",
       "        text-align: right;\n",
       "    }\n",
       "</style>\n",
       "<table border=\"1\" class=\"dataframe\">\n",
       "  <thead>\n",
       "    <tr style=\"text-align: right;\">\n",
       "      <th></th>\n",
       "      <th>Depth</th>\n",
       "      <th>Temp</th>\n",
       "    </tr>\n",
       "  </thead>\n",
       "  <tbody>\n",
       "    <tr>\n",
       "      <th>count</th>\n",
       "      <td>10.000000</td>\n",
       "      <td>10.000000</td>\n",
       "    </tr>\n",
       "    <tr>\n",
       "      <th>mean</th>\n",
       "      <td>663.650000</td>\n",
       "      <td>40.290000</td>\n",
       "    </tr>\n",
       "    <tr>\n",
       "      <th>std</th>\n",
       "      <td>863.226788</td>\n",
       "      <td>10.670463</td>\n",
       "    </tr>\n",
       "    <tr>\n",
       "      <th>min</th>\n",
       "      <td>0.100000</td>\n",
       "      <td>21.200000</td>\n",
       "    </tr>\n",
       "    <tr>\n",
       "      <th>25%</th>\n",
       "      <td>5.700000</td>\n",
       "      <td>32.750000</td>\n",
       "    </tr>\n",
       "    <tr>\n",
       "      <th>50%</th>\n",
       "      <td>255.000000</td>\n",
       "      <td>44.100000</td>\n",
       "    </tr>\n",
       "    <tr>\n",
       "      <th>75%</th>\n",
       "      <td>1077.500000</td>\n",
       "      <td>48.825000</td>\n",
       "    </tr>\n",
       "    <tr>\n",
       "      <th>max</th>\n",
       "      <td>2400.000000</td>\n",
       "      <td>51.400000</td>\n",
       "    </tr>\n",
       "  </tbody>\n",
       "</table>\n",
       "</div>"
      ],
      "text/plain": [
       "             Depth       Temp\n",
       "count    10.000000  10.000000\n",
       "mean    663.650000  40.290000\n",
       "std     863.226788  10.670463\n",
       "min       0.100000  21.200000\n",
       "25%       5.700000  32.750000\n",
       "50%     255.000000  44.100000\n",
       "75%    1077.500000  48.825000\n",
       "max    2400.000000  51.400000"
      ]
     },
     "execution_count": 71,
     "metadata": {},
     "output_type": "execute_result"
    }
   ],
   "source": [
    "df.describe()"
   ]
  },
  {
   "cell_type": "code",
   "execution_count": 82,
   "metadata": {},
   "outputs": [
    {
     "name": "stdout",
     "output_type": "stream",
     "text": [
      "[0.1, 0.8, 3.6, 12.0, 120.0, 390.0, 710.0, 1200.0, 1800.0, 2400.0]\n",
      "[21.2, 27.3, 31.8, 35.6, 42.3, 45.9, 47.7, 49.2, 50.5, 51.4]\n",
      "<class 'pandas.core.frame.DataFrame'>\n",
      "The r-squared is 0.5835120068643358\n"
     ]
    },
    {
     "data": {
      "image/png": "[encoded data removed]",
      "text/plain": [
       "<Figure size 864x432 with 1 Axes>"
      ]
     },
     "metadata": {
      "needs_background": "light"
     },
     "output_type": "display_data"
    }
   ],
   "source": [
    "# build the data lists\n",
    "# build a dataframe\n",
    "depth = df['Depth'].tolist()\n",
    "print(depth)\n",
    "temp = df['Temp'].tolist()\n",
    "print(temp)\n",
    "df = pd.DataFrame({'Depth':depth, 'Temp':temp})\n",
    "df\n",
    "print(type(df))\n",
    "# Initialise and fit a linear regression model using `statsmodels`\n",
    "model = smf.ols('Temp ~ Depth', data = df)\n",
    "model = model.fit()\n",
    "model.params\n",
    "# Predict values\n",
    "rsl = model.rsquared\n",
    "print('The r-squared is',rsl)\n",
    "yP = model.predict()\n",
    "\n",
    "# Plot regression against actual data\n",
    "plt.figure(figsize = (12, 6))\n",
    "plt.xlabel('Depth (Cm)')\n",
    "plt.ylabel('Temp (Celcius)')\n",
    "plt.plot(df['Depth'], df['Temp'], 'o')\n",
    "plt.plot(df['Depth'], yP, 'r', linewidth = 2)\n",
    "plt.title('model vs observed')\n",
    "plt.show()"
   ]
  },
  {
   "cell_type": "code",
   "execution_count": 84,
   "metadata": {},
   "outputs": [
    {
     "data": {
      "text/html": [
       "<div>\n",
       "<style scoped>\n",
       "    .dataframe tbody tr th:only-of-type {\n",
       "        vertical-align: middle;\n",
       "    }\n",
       "\n",
       "    .dataframe tbody tr th {\n",
       "        vertical-align: top;\n",
       "    }\n",
       "\n",
       "    .dataframe thead th {\n",
       "        text-align: right;\n",
       "    }\n",
       "</style>\n",
       "<table border=\"1\" class=\"dataframe\">\n",
       "  <thead>\n",
       "    <tr style=\"text-align: right;\">\n",
       "      <th></th>\n",
       "      <th>Depth</th>\n",
       "      <th>Temp</th>\n",
       "      <th>DDepth</th>\n",
       "    </tr>\n",
       "  </thead>\n",
       "  <tbody>\n",
       "    <tr>\n",
       "      <th>0</th>\n",
       "      <td>0.1</td>\n",
       "      <td>21.2</td>\n",
       "      <td>0.01</td>\n",
       "    </tr>\n",
       "    <tr>\n",
       "      <th>1</th>\n",
       "      <td>0.8</td>\n",
       "      <td>27.3</td>\n",
       "      <td>0.64</td>\n",
       "    </tr>\n",
       "    <tr>\n",
       "      <th>2</th>\n",
       "      <td>3.6</td>\n",
       "      <td>31.8</td>\n",
       "      <td>12.96</td>\n",
       "    </tr>\n",
       "    <tr>\n",
       "      <th>3</th>\n",
       "      <td>12.0</td>\n",
       "      <td>35.6</td>\n",
       "      <td>144.00</td>\n",
       "    </tr>\n",
       "    <tr>\n",
       "      <th>4</th>\n",
       "      <td>120.0</td>\n",
       "      <td>42.3</td>\n",
       "      <td>14400.00</td>\n",
       "    </tr>\n",
       "    <tr>\n",
       "      <th>5</th>\n",
       "      <td>390.0</td>\n",
       "      <td>45.9</td>\n",
       "      <td>152100.00</td>\n",
       "    </tr>\n",
       "    <tr>\n",
       "      <th>6</th>\n",
       "      <td>710.0</td>\n",
       "      <td>47.7</td>\n",
       "      <td>504100.00</td>\n",
       "    </tr>\n",
       "    <tr>\n",
       "      <th>7</th>\n",
       "      <td>1200.0</td>\n",
       "      <td>49.2</td>\n",
       "      <td>1440000.00</td>\n",
       "    </tr>\n",
       "    <tr>\n",
       "      <th>8</th>\n",
       "      <td>1800.0</td>\n",
       "      <td>50.5</td>\n",
       "      <td>3240000.00</td>\n",
       "    </tr>\n",
       "    <tr>\n",
       "      <th>9</th>\n",
       "      <td>2400.0</td>\n",
       "      <td>51.4</td>\n",
       "      <td>5760000.00</td>\n",
       "    </tr>\n",
       "  </tbody>\n",
       "</table>\n",
       "</div>"
      ],
      "text/plain": [
       "    Depth  Temp      DDepth\n",
       "0     0.1  21.2        0.01\n",
       "1     0.8  27.3        0.64\n",
       "2     3.6  31.8       12.96\n",
       "3    12.0  35.6      144.00\n",
       "4   120.0  42.3    14400.00\n",
       "5   390.0  45.9   152100.00\n",
       "6   710.0  47.7   504100.00\n",
       "7  1200.0  49.2  1440000.00\n",
       "8  1800.0  50.5  3240000.00\n",
       "9  2400.0  51.4  5760000.00"
      ]
     },
     "execution_count": 84,
     "metadata": {},
     "output_type": "execute_result"
    }
   ],
   "source": [
    "# build the data lists\n",
    "# build a dataframe\n",
    "df['DDepth'] = df['Depth']** 2\n",
    "df\n"
   ]
  },
  {
   "cell_type": "code",
   "execution_count": 85,
   "metadata": {},
   "outputs": [
    {
     "name": "stdout",
     "output_type": "stream",
     "text": [
      "The r-squared is 0.7582707849296989\n"
     ]
    },
    {
     "data": {
      "image/png": "[encoded data removed]",
      "text/plain": [
       "<Figure size 864x432 with 1 Axes>"
      ]
     },
     "metadata": {
      "needs_background": "light"
     },
     "output_type": "display_data"
    }
   ],
   "source": [
    "model = smf.ols('Temp ~ Depth + DDepth', data = df)\n",
    "model = model.fit()\n",
    "model.params\n",
    "# Initialise and fit an exponential regression model using `statsmodels`\n",
    "rsl1 = model.rsquared\n",
    "print('The r-squared is',rsl1)\n",
    "yP = model.predict()\n",
    "\n",
    "# Predict values\n",
    "yP = model.predict()\n",
    "# Plot regression against actual data\n",
    "plt.figure(figsize = (12, 6))\n",
    "plt.xlabel('Depth (Cm)')\n",
    "plt.ylabel('Temp (Celcius)')\n",
    "plt.plot(df['Depth'], df['Temp'], 'o')\n",
    "plt.plot(df['Depth'], yP, 'r', linewidth =2)\n",
    "\n",
    "plt.title('model vs observed')\n",
    "plt.show()\n"
   ]
  },
  {
   "cell_type": "code",
   "execution_count": 86,
   "metadata": {},
   "outputs": [
    {
     "data": {
      "text/html": [
       "<div>\n",
       "<style scoped>\n",
       "    .dataframe tbody tr th:only-of-type {\n",
       "        vertical-align: middle;\n",
       "    }\n",
       "\n",
       "    .dataframe tbody tr th {\n",
       "        vertical-align: top;\n",
       "    }\n",
       "\n",
       "    .dataframe thead th {\n",
       "        text-align: right;\n",
       "    }\n",
       "</style>\n",
       "<table border=\"1\" class=\"dataframe\">\n",
       "  <thead>\n",
       "    <tr style=\"text-align: right;\">\n",
       "      <th></th>\n",
       "      <th>Depth</th>\n",
       "      <th>Temp</th>\n",
       "    </tr>\n",
       "  </thead>\n",
       "  <tbody>\n",
       "    <tr>\n",
       "      <th>0</th>\n",
       "      <td>0.1</td>\n",
       "      <td>21.2</td>\n",
       "    </tr>\n",
       "    <tr>\n",
       "      <th>1</th>\n",
       "      <td>0.8</td>\n",
       "      <td>27.3</td>\n",
       "    </tr>\n",
       "    <tr>\n",
       "      <th>2</th>\n",
       "      <td>3.6</td>\n",
       "      <td>31.8</td>\n",
       "    </tr>\n",
       "    <tr>\n",
       "      <th>3</th>\n",
       "      <td>12.0</td>\n",
       "      <td>35.6</td>\n",
       "    </tr>\n",
       "    <tr>\n",
       "      <th>4</th>\n",
       "      <td>120.0</td>\n",
       "      <td>42.3</td>\n",
       "    </tr>\n",
       "    <tr>\n",
       "      <th>5</th>\n",
       "      <td>390.0</td>\n",
       "      <td>45.9</td>\n",
       "    </tr>\n",
       "    <tr>\n",
       "      <th>6</th>\n",
       "      <td>710.0</td>\n",
       "      <td>47.7</td>\n",
       "    </tr>\n",
       "    <tr>\n",
       "      <th>7</th>\n",
       "      <td>1200.0</td>\n",
       "      <td>49.2</td>\n",
       "    </tr>\n",
       "    <tr>\n",
       "      <th>8</th>\n",
       "      <td>1800.0</td>\n",
       "      <td>50.5</td>\n",
       "    </tr>\n",
       "    <tr>\n",
       "      <th>9</th>\n",
       "      <td>2400.0</td>\n",
       "      <td>51.4</td>\n",
       "    </tr>\n",
       "  </tbody>\n",
       "</table>\n",
       "</div>"
      ],
      "text/plain": [
       "    Depth  Temp\n",
       "0     0.1  21.2\n",
       "1     0.8  27.3\n",
       "2     3.6  31.8\n",
       "3    12.0  35.6\n",
       "4   120.0  42.3\n",
       "5   390.0  45.9\n",
       "6   710.0  47.7\n",
       "7  1200.0  49.2\n",
       "8  1800.0  50.5\n",
       "9  2400.0  51.4"
      ]
     },
     "execution_count": 86,
     "metadata": {},
     "output_type": "execute_result"
    }
   ],
   "source": [
    "# build the data lists\n",
    "dfd=pd.read_csv('lab30.csv')\n",
    "dfd"
   ]
  },
  {
   "cell_type": "code",
   "execution_count": 87,
   "metadata": {},
   "outputs": [
    {
     "name": "stdout",
     "output_type": "stream",
     "text": [
      "[0.1, 0.8, 3.6, 12.0, 120.0, 390.0, 710.0, 1200.0, 1800.0, 2400.0]\n",
      "[21.2, 27.3, 31.8, 35.6, 42.3, 45.9, 47.7, 49.2, 50.5, 51.4]\n",
      "<class 'pandas.core.frame.DataFrame'>\n",
      "The R-squared is: 0.5835120068643358\n"
     ]
    },
    {
     "data": {
      "image/png": "[encoded data removed]",
      "text/plain": [
       "<Figure size 864x432 with 1 Axes>"
      ]
     },
     "metadata": {
      "needs_background": "light"
     },
     "output_type": "display_data"
    }
   ],
   "source": [
    "# build a dataframe\n",
    "depth = dfd['Depth'].tolist()\n",
    "print(depth)\n",
    "temp = dfd['Temp'].tolist()\n",
    "print(temp)\n",
    "dfd = pd.DataFrame({'Depth':depth, 'Temp':temp})\n",
    "dfd\n",
    "print(type(dfd))\n",
    "# Initialise and fit a linear regression model using `statsmodels`\n",
    "model = smf.ols('Temp ~ Depth', data = dfd)\n",
    "model = model.fit()\n",
    "yppp= model.predict()\n",
    "# Predict values\n",
    "\n",
    "b0 = model.params[0]\n",
    "b1 = model.params[1]\n",
    "s = model.ssr\n",
    "rsqE = model.rsquared\n",
    "print('The R-squared is:', rsqE)\n",
    "# Plot regression against actual data\n",
    "plt.figure(figsize = (12, 6))\n",
    "plt.xlabel('Depth (Cm)')\n",
    "plt.ylabel('Temp (Celcius)')\n",
    "plt.plot(dfd['Depth'], dfd['Temp'], 'o')\n",
    "plt.plot(dfd['Depth'], yppp, 'r', linewidth = 1)\n",
    "plt.title('model vs observed')\n",
    "plt.show()"
   ]
  },
  {
   "cell_type": "code",
   "execution_count": 96,
   "metadata": {},
   "outputs": [
    {
     "name": "stdout",
     "output_type": "stream",
     "text": [
      "[0.1, 0.8, 3.6, 12.0, 120.0, 390.0, 710.0, 1200.0, 1800.0, 2400.0]\n",
      "The rSquared value is: 0.9867519774371926\n"
     ]
    },
    {
     "data": {
      "image/png": "[encoded data removed]",
      "text/plain": [
       "<Figure size 864x432 with 1 Axes>"
      ]
     },
     "metadata": {
      "needs_background": "light"
     },
     "output_type": "display_data"
    }
   ],
   "source": [
    "# build the data lists\n",
    "# build a dataframe\n",
    "from matplotlib import pyplot as plt\n",
    "dfdd=pd.read_csv('lab30.csv')\n",
    "dfdd\n",
    "depth = dfdd['Depth'].tolist()\n",
    "print(depth)\n",
    "temp = dfdd['Temp'].tolist()\n",
    "dfdd = pd.DataFrame({'Depth':depth, 'Temp':temp})\n",
    "dfdd['lnDepth'] = dfdd['Depth'].apply(math.log)\n",
    "dfdd['lnTemp'] = dfdd['Temp'].apply(math.log)\n",
    "dfdd\n",
    "# Initialise and fit a power-law regression model using `statsmodels`\n",
    "modelplaw = smf.ols('lnTemp ~ lnDepth', data= dfdd)\n",
    "modelplaw = modelplaw.fit()\n",
    "# Predict values\n",
    "yP = modelplaw.predict()\n",
    "\n",
    "b0 = modelplaw.params[0]\n",
    "b1 = modelplaw.params[1]\n",
    "z = modelplaw.ssr\n",
    "rsq = modelplaw.rsquared\n",
    "print('The rSquared value is:', rsq)\n",
    "# Plot regression against actual data\n",
    "plt.figure(figsize = (12,6))\n",
    "plt.plot(dfdd['lnDepth'], dfdd['lnTemp'], 'o')\n",
    "plt.plot(dfdd['lnDepth'], yP, 'r', linewidth = 1)\n",
    "plt.grid()\n",
    "\n",
    "plt.show()"
   ]
  },
  {
   "cell_type": "markdown",
   "metadata": {},
   "source": [
    "## Choose the \"good\" data model\n",
    "# Okay the best one is clearly the power law regression model\n",
    "## With your \"good\" model answer the questions"
   ]
  },
  {
   "cell_type": "code",
   "execution_count": null,
   "metadata": {},
   "outputs": [
    {
     "name": "stdout",
     "output_type": "stream",
     "text": [
      "ERROR! Session/line number was not unique in database. History logging moved to new session 228\n"
     ]
    }
   ],
   "source": [
    "first = modelplaw.predict([[1],[2]])\n",
    "print(first)"
   ]
  },
  {
   "cell_type": "code",
   "execution_count": null,
   "metadata": {},
   "outputs": [],
   "source": []
  }
 ],
 "metadata": {
  "kernelspec": {
   "display_name": "Python 3",
   "language": "python",
   "name": "python3"
  },
  "language_info": {
   "codemirror_mode": {
    "name": "ipython",
    "version": 3
   },
   "file_extension": ".py",
   "mimetype": "text/x-python",
   "name": "python",
   "nbconvert_exporter": "python",
   "pygments_lexer": "ipython3",
   "version": "3.8.5"
  }
 },
 "nbformat": 4,
 "nbformat_minor": 4
}
