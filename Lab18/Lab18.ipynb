{
 "cells": [
  {
   "cell_type": "markdown",
   "metadata": {},
   "source": [
    "**Download** (right-click, save target as ...) this page as a jupyterlab notebook from: [Lab18](http://54.243.252.9/engr-1330-webroot/8-Labs/Lab18/Lab18.ipynb)\n",
    "\n",
    "___"
   ]
  },
  {
   "cell_type": "markdown",
   "metadata": {},
   "source": [
    "# <font color=darkgreen>Laboratory 18: Causality, Simulation, and Probability </font>\n",
    "\n",
    "**Medrano, Giovanni**\n",
    "\n",
    "**R11521018**\n",
    "\n",
    "ENGR 1330 Laboratory 14 - In-Lab\n",
    "\n",
    "---\n",
    "\n",
    "\n",
    "## Exercise 0  *Profile your computer*\n",
    "\n",
    "Execute the cell below "
   ]
  },
  {
   "cell_type": "code",
   "execution_count": 1,
   "metadata": {},
   "outputs": [
    {
     "name": "stdout",
     "output_type": "stream",
     "text": [
      "atomickitty\n",
      "sensei\n",
      "/opt/jupyterhub/bin/python3\n",
      "3.8.10 (default, Nov 26 2021, 20:14:08) \n",
      "[GCC 9.3.0]\n",
      "sys.version_info(major=3, minor=8, micro=10, releaselevel='final', serial=0)\n"
     ]
    }
   ],
   "source": [
    "# Preamble script block to identify host, user, and kernel\n",
    "import sys\n",
    "! hostname\n",
    "! whoami\n",
    "print(sys.executable)\n",
    "print(sys.version)\n",
    "print(sys.version_info)"
   ]
  },
  {
   "cell_type": "markdown",
   "metadata": {},
   "source": [
    "---\n",
    "\n",
    "# <font color=purple>Python for Simulation</font>"
   ]
  },
  {
   "cell_type": "markdown",
   "metadata": {},
   "source": [
    "## What is Russian roulette?\n",
    ">Russian roulette (Russian: русская рулетка, russkaya ruletka) is a lethal game of chance in which a player places a single round in a revolver, spins the cylinder, places the muzzle against their head, and pulls the trigger in hopes that the loaded chamber does not align with the primer percussion mechanism and the barrel, causing the weapon to discharge. Russian refers to the supposed country of origin, and roulette to the element of risk-taking and the spinning of the revolver's cylinder, which is reminiscent of a spinning roulette wheel. <br>\n",
    "- Wikipedia @ https://en.wikipedia.org/wiki/Russian_roulette"
   ]
  },
  {
   "cell_type": "markdown",
   "metadata": {},
   "source": [
    "![](https://images.fineartamerica.com/images/artworkimages/mediumlarge/1/echoes-of-the-great-war-the-revolver-weston-westmoreland.jpg)"
   ]
  },
  {
   "cell_type": "markdown",
   "metadata": {},
   "source": [
    ">A game of dafts, a game of chance <br>\n",
    "One where revolver's the one to dance <br>\n",
    "Rounds and rounds, it goes and spins <br>\n",
    "Makes you regret all those sins <br> \\\n",
    "A game of fools, one of lethality  <br>\n",
    "With a one to six probability <br>\n",
    "There were two guys and a gun <br>\n",
    "With six chambers but only one... <br> \\\n",
    "CLICK, one pushed the gun <br>\n",
    "CLICK, one missed the fun <br>\n",
    "CLICK, \"that awful sound\" ... <br>\n",
    "BANG!, one had his brains all around! <br>"
   ]
  },
  {
   "cell_type": "markdown",
   "metadata": {},
   "source": [
    "___\n",
    "### Example: Simulate a game of Russian Roulette:\n",
    "- For 2 rounds\n",
    "- For 5 rounds\n",
    "- For 10 rounds"
   ]
  },
  {
   "cell_type": "code",
   "execution_count": 1,
   "metadata": {
    "collapsed": false,
    "jupyter": {
     "outputs_hidden": false
    }
   },
   "outputs": [
    {
     "name": "stdout",
     "output_type": "stream",
     "text": [
      "[0 0]\n"
     ]
    }
   ],
   "source": [
    "import numpy as np                     #import numpy\n",
    "revolver = np.array([1,0,0,0,0,0])     #create a numpy array with 1 bullet and 5 empty chambers\n",
    "print(np.random.choice(revolver,2))              #randomly select a value from revolver - simulation"
   ]
  },
  {
   "cell_type": "code",
   "execution_count": 2,
   "metadata": {},
   "outputs": [
    {
     "name": "stdout",
     "output_type": "stream",
     "text": [
      "[1 0]\n"
     ]
    }
   ],
   "source": [
    "print(np.random.choice(revolver,2))  "
   ]
  },
  {
   "cell_type": "code",
   "execution_count": 3,
   "metadata": {},
   "outputs": [
    {
     "name": "stdout",
     "output_type": "stream",
     "text": [
      "[0 1]\n"
     ]
    }
   ],
   "source": [
    "print(np.random.choice(revolver,2))  "
   ]
  },
  {
   "cell_type": "code",
   "execution_count": 4,
   "metadata": {},
   "outputs": [
    {
     "name": "stdout",
     "output_type": "stream",
     "text": [
      "[0 0]\n"
     ]
    }
   ],
   "source": [
    "print(np.random.choice(revolver,2))  "
   ]
  },
  {
   "cell_type": "code",
   "execution_count": 5,
   "metadata": {
    "collapsed": false,
    "jupyter": {
     "outputs_hidden": false
    }
   },
   "outputs": [
    {
     "name": "stdout",
     "output_type": "stream",
     "text": [
      "[0 0 0 0 0]\n"
     ]
    }
   ],
   "source": [
    "print(np.random.choice(revolver,5))"
   ]
  },
  {
   "cell_type": "code",
   "execution_count": 6,
   "metadata": {
    "collapsed": false,
    "jupyter": {
     "outputs_hidden": false
    }
   },
   "outputs": [
    {
     "name": "stdout",
     "output_type": "stream",
     "text": [
      "[0 0 0 0 0 1 0 1 0 0]\n"
     ]
    }
   ],
   "source": [
    "print(np.random.choice(revolver,10))"
   ]
  },
  {
   "cell_type": "markdown",
   "metadata": {},
   "source": [
    "![](https://blog.uvm.edu/aivakhiv/files/2020/06/d4cawex-fd18072b-6140-48d9-93d7-0fa9435abf0e.png)"
   ]
  },
  {
   "cell_type": "markdown",
   "metadata": {},
   "source": [
    "___\n",
    "### Example: Simulate the results of throwing a D6 (regular dice) for 10 times. "
   ]
  },
  {
   "cell_type": "code",
   "execution_count": 7,
   "metadata": {
    "collapsed": false,
    "jupyter": {
     "outputs_hidden": false
    }
   },
   "outputs": [
    {
     "data": {
      "text/plain": [
       "array([1, 4, 2, 4, 6, 1, 6, 6, 3, 3])"
      ]
     },
     "execution_count": 7,
     "metadata": {},
     "output_type": "execute_result"
    }
   ],
   "source": [
    "import numpy as np                     #import numpy\n",
    "dice = np.array([1,2,3,4,5,6])         #create a numpy array with values of a D6\n",
    "np.random.choice(dice,10)              #randomly selecting a value from dice for 10 times- simulation"
   ]
  },
  {
   "cell_type": "markdown",
   "metadata": {},
   "source": [
    "___\n",
    "### Example: Assume the following rules:\n",
    "\n",
    "- If the dice shows 1 or 2 spots, my net gain is -1 dollar.\n",
    "\n",
    "- If the dice shows 3 or 4 spots, my net gain is 0 dollars.\n",
    "\n",
    "- If the dice shows 5 or 6 spots, my net gain is 1 dollar.\n",
    "\n",
    "__Define a function to simulate a game with the above rules, assuming a D6, and compute the net gain of the player over any given number of rolls. <br>\n",
    "Compute the net gain for 5, 50, and 500 rolls__"
   ]
  },
  {
   "cell_type": "code",
   "execution_count": 8,
   "metadata": {
    "collapsed": false,
    "jupyter": {
     "outputs_hidden": false
    }
   },
   "outputs": [],
   "source": [
    "def D6game(nrolls):\n",
    "    import numpy as np                     #import numpy\n",
    "    dice = np.array([1,2,3,4,5,6])         #create a numpy array with values of a D6\n",
    "    rolls = np.random.choice(dice,nrolls)  #randomly selecting a value from dice for nrolls times- simulation\n",
    "    gainlist =[]                           #create an empty list for gains|losses\n",
    "    for i in np.arange(len(rolls)):        #Apply the rules \n",
    "        if rolls[i]<=2:\n",
    "            gainlist.append(-1)\n",
    "        elif rolls[i]<=4:\n",
    "            gainlist.append(0)\n",
    "        elif rolls[i]<=6:\n",
    "            gainlist.append(+1)\n",
    "    return (np.sum(gainlist))              #sum up all gains|losses\n",
    "#   return (gainlist,\"The net gain is equal to:\",np.sum(gainlist))\n"
   ]
  },
  {
   "cell_type": "code",
   "execution_count": 19,
   "metadata": {
    "collapsed": false,
    "jupyter": {
     "outputs_hidden": false
    }
   },
   "outputs": [
    {
     "data": {
      "text/plain": [
       "-1"
      ]
     },
     "execution_count": 19,
     "metadata": {},
     "output_type": "execute_result"
    }
   ],
   "source": [
    "D6game(5)"
   ]
  },
  {
   "cell_type": "code",
   "execution_count": 20,
   "metadata": {
    "collapsed": false,
    "jupyter": {
     "outputs_hidden": false
    }
   },
   "outputs": [
    {
     "data": {
      "text/plain": [
       "-9"
      ]
     },
     "execution_count": 20,
     "metadata": {},
     "output_type": "execute_result"
    }
   ],
   "source": [
    "D6game(50)"
   ]
  },
  {
   "cell_type": "code",
   "execution_count": 21,
   "metadata": {
    "collapsed": false,
    "jupyter": {
     "outputs_hidden": false
    }
   },
   "outputs": [
    {
     "data": {
      "text/plain": [
       "9"
      ]
     },
     "execution_count": 21,
     "metadata": {},
     "output_type": "execute_result"
    }
   ],
   "source": [
    "D6game(500)"
   ]
  },
  {
   "cell_type": "markdown",
   "metadata": {},
   "source": [
    "![](https://www.gannett-cdn.com/media/2017/09/30/USATODAY/USATODAY/636423937425139027-XXX-D4-MONTY-HALL-27-TV.jpg?width=2560)"
   ]
  },
  {
   "cell_type": "markdown",
   "metadata": {},
   "source": [
    "### Let's Make A Deal Game Show and Monty Hall Problem \n",
    "__The Monty Hall problem is a brain teaser, in the form of a probability puzzle, loosely based on the American television game show Let's Make a Deal and named after its original host, Monty Hall. The problem was originally posed (and solved) in a letter by Steve Selvin to the American Statistician in 1975 (Selvin 1975a), (Selvin 1975b).__\n",
    "\n",
    ">\"Suppose you're on a game show, and you're given the choice of three doors: Behind one door is a car; behind the others, goats. You pick a door, say No. 1, and the host, who knows what's behind the doors, opens another door, say No. 3, which has a goat. He then says to you, \"Do you want to pick door No. 2?\" Is it to your advantage to switch your choice?\"\n",
    "\n",
    "__*From Wikipedia: https://en.wikipedia.org/wiki/Monty_Hall_problem*__"
   ]
  },
  {
   "cell_type": "markdown",
   "metadata": {},
   "source": [
    "![](https://thumbs.gfycat.com/ClearcutFragrantArcherfish-size_restricted.gif)"
   ]
  },
  {
   "cell_type": "markdown",
   "metadata": {},
   "source": [
    "![](http://www.bcmath.ca/m10h/The%20Monty%20Hall%20Problem%20(Web)/data/img1.png)"
   ]
  },
  {
   "cell_type": "markdown",
   "metadata": {},
   "source": [
    "![](https://webstockreview.net/images/clipart-door-orange-door-3.png)"
   ]
  },
  {
   "cell_type": "markdown",
   "metadata": {},
   "source": [
    "![](https://brilliant-staff-media.s3-us-west-2.amazonaws.com/tiffany-wang/UcEdvPuGYw.png)"
   ]
  },
  {
   "cell_type": "markdown",
   "metadata": {},
   "source": [
    "___\n",
    "### Example: Simulate Monty Hall Game for 1000 times. Use a barplot and discuss whether players are better off sticking to their initial choice, or switching doors? "
   ]
  },
  {
   "cell_type": "code",
   "execution_count": 22,
   "metadata": {
    "collapsed": false,
    "jupyter": {
     "outputs_hidden": false
    }
   },
   "outputs": [],
   "source": [
    "def othergoat(x):         #Define a function to return \"the other goat\"!\n",
    "    if x == \"Goat 1\":\n",
    "        return \"Goat 2\"\n",
    "    elif x == \"Goat 2\":\n",
    "        return \"Goat 1\""
   ]
  },
  {
   "cell_type": "code",
   "execution_count": 23,
   "metadata": {
    "collapsed": false,
    "jupyter": {
     "outputs_hidden": false
    }
   },
   "outputs": [],
   "source": [
    "Doors = np.array([\"Car\",\"Goat 1\",\"Goat 2\"])     #Define a list for objects behind the doors\n",
    "goats = np.array([\"Goat 1\" , \"Goat 2\"])          #Define a list for goats!\n",
    "\n",
    "def MHgame():\n",
    "    #Function to simulate the Monty Hall Game\n",
    "    #For each guess, return [\"the guess\",\"the revealed\", \"the remaining\"]\n",
    "    userguess=np.random.choice(Doors)         #randomly selects a door as userguess\n",
    "    if userguess == \"Goat 1\":\n",
    "        return [userguess, \"Goat 2\",\"Car\"]\n",
    "    if userguess == \"Goat 2\":\n",
    "        return [userguess, \"Goat 1\",\"Car\"]\n",
    "    if userguess == \"Car\":\n",
    "        revealed = np.random.choice(goats)\n",
    "        return [userguess, revealed,othergoat(revealed)]"
   ]
  },
  {
   "cell_type": "code",
   "execution_count": 24,
   "metadata": {
    "collapsed": false,
    "jupyter": {
     "outputs_hidden": false
    }
   },
   "outputs": [
    {
     "name": "stdout",
     "output_type": "stream",
     "text": [
      "['Car', 'Goat 1', 'Goat 2']\n",
      "Car\n",
      "Goat 1\n",
      "Goat 2\n"
     ]
    }
   ],
   "source": [
    "# Check and see if the MHgame function is doing what it is supposed to do:\n",
    "for i in np.arange(1):\n",
    "    a =MHgame()\n",
    "    print(a)\n",
    "    print(a[0])\n",
    "    print(a[1])\n",
    "    print(a[2])"
   ]
  },
  {
   "cell_type": "code",
   "execution_count": 25,
   "metadata": {
    "collapsed": false,
    "jupyter": {
     "outputs_hidden": false
    }
   },
   "outputs": [],
   "source": [
    "c1 = []         #Create an empty list for the userguess\n",
    "c2 = []         #Create an empty list for the revealed\n",
    "c3 = []         #Create an empty list for the remaining\n",
    "for i in np.arange(1000):         #Simulate the game for 1000 rounds - or any other number of rounds you desire\n",
    "    game = MHgame()\n",
    "    c1.append(game[0])             #In each round, add the first element to the userguess list\n",
    "    c2.append(game[1])             #In each round, add the second element to the revealed list\n",
    "    c3.append(game[2])             #In each round, add the third element to the remaining list\n"
   ]
  },
  {
   "cell_type": "code",
   "execution_count": 26,
   "metadata": {
    "collapsed": false,
    "jupyter": {
     "outputs_hidden": false
    }
   },
   "outputs": [
    {
     "data": {
      "text/html": [
       "<div>\n",
       "<style scoped>\n",
       "    .dataframe tbody tr th:only-of-type {\n",
       "        vertical-align: middle;\n",
       "    }\n",
       "\n",
       "    .dataframe tbody tr th {\n",
       "        vertical-align: top;\n",
       "    }\n",
       "\n",
       "    .dataframe thead th {\n",
       "        text-align: right;\n",
       "    }\n",
       "</style>\n",
       "<table border=\"1\" class=\"dataframe\">\n",
       "  <thead>\n",
       "    <tr style=\"text-align: right;\">\n",
       "      <th></th>\n",
       "      <th>Guess</th>\n",
       "      <th>Revealed</th>\n",
       "      <th>Remaining</th>\n",
       "    </tr>\n",
       "  </thead>\n",
       "  <tbody>\n",
       "    <tr>\n",
       "      <th>0</th>\n",
       "      <td>Goat 2</td>\n",
       "      <td>Goat 1</td>\n",
       "      <td>Car</td>\n",
       "    </tr>\n",
       "    <tr>\n",
       "      <th>1</th>\n",
       "      <td>Goat 2</td>\n",
       "      <td>Goat 1</td>\n",
       "      <td>Car</td>\n",
       "    </tr>\n",
       "    <tr>\n",
       "      <th>2</th>\n",
       "      <td>Goat 1</td>\n",
       "      <td>Goat 2</td>\n",
       "      <td>Car</td>\n",
       "    </tr>\n",
       "    <tr>\n",
       "      <th>3</th>\n",
       "      <td>Goat 1</td>\n",
       "      <td>Goat 2</td>\n",
       "      <td>Car</td>\n",
       "    </tr>\n",
       "    <tr>\n",
       "      <th>4</th>\n",
       "      <td>Goat 2</td>\n",
       "      <td>Goat 1</td>\n",
       "      <td>Car</td>\n",
       "    </tr>\n",
       "    <tr>\n",
       "      <th>...</th>\n",
       "      <td>...</td>\n",
       "      <td>...</td>\n",
       "      <td>...</td>\n",
       "    </tr>\n",
       "    <tr>\n",
       "      <th>995</th>\n",
       "      <td>Goat 1</td>\n",
       "      <td>Goat 2</td>\n",
       "      <td>Car</td>\n",
       "    </tr>\n",
       "    <tr>\n",
       "      <th>996</th>\n",
       "      <td>Car</td>\n",
       "      <td>Goat 1</td>\n",
       "      <td>Goat 2</td>\n",
       "    </tr>\n",
       "    <tr>\n",
       "      <th>997</th>\n",
       "      <td>Goat 1</td>\n",
       "      <td>Goat 2</td>\n",
       "      <td>Car</td>\n",
       "    </tr>\n",
       "    <tr>\n",
       "      <th>998</th>\n",
       "      <td>Car</td>\n",
       "      <td>Goat 2</td>\n",
       "      <td>Goat 1</td>\n",
       "    </tr>\n",
       "    <tr>\n",
       "      <th>999</th>\n",
       "      <td>Car</td>\n",
       "      <td>Goat 1</td>\n",
       "      <td>Goat 2</td>\n",
       "    </tr>\n",
       "  </tbody>\n",
       "</table>\n",
       "<p>1000 rows × 3 columns</p>\n",
       "</div>"
      ],
      "text/plain": [
       "      Guess Revealed Remaining\n",
       "0    Goat 2   Goat 1       Car\n",
       "1    Goat 2   Goat 1       Car\n",
       "2    Goat 1   Goat 2       Car\n",
       "3    Goat 1   Goat 2       Car\n",
       "4    Goat 2   Goat 1       Car\n",
       "..      ...      ...       ...\n",
       "995  Goat 1   Goat 2       Car\n",
       "996     Car   Goat 1    Goat 2\n",
       "997  Goat 1   Goat 2       Car\n",
       "998     Car   Goat 2    Goat 1\n",
       "999     Car   Goat 1    Goat 2\n",
       "\n",
       "[1000 rows x 3 columns]"
      ]
     },
     "execution_count": 26,
     "metadata": {},
     "output_type": "execute_result"
    }
   ],
   "source": [
    "import pandas as pd\n",
    "#Create a data frame (gamedf) with 3 columns (\"Guess\",\"Revealed\", \"Remaining\") and 1000 (or how many number of rounds) rows\n",
    "gamedf = pd.DataFrame({'Guess':c1,\n",
    "                       'Revealed':c2,\n",
    "                       'Remaining':c3})\n",
    "gamedf"
   ]
  },
  {
   "cell_type": "code",
   "execution_count": 27,
   "metadata": {
    "collapsed": false,
    "jupyter": {
     "outputs_hidden": false
    }
   },
   "outputs": [],
   "source": [
    "# Get the count of each item in the first and 3rd column\n",
    "original_car =gamedf[gamedf.Guess == 'Car'].shape[0]\n",
    "remaining_car =gamedf[gamedf.Remaining == 'Car'].shape[0]\n",
    "\n",
    "original_g1 =gamedf[gamedf.Guess == 'Goat 1'].shape[0]\n",
    "remaining_g1 =gamedf[gamedf.Remaining == 'Goat 1'].shape[0]\n",
    "\n",
    "original_g2 =gamedf[gamedf.Guess == 'Goat 2'].shape[0]\n",
    "remaining_g2 =gamedf[gamedf.Remaining == 'Goat 2'].shape[0]"
   ]
  },
  {
   "cell_type": "code",
   "execution_count": 28,
   "metadata": {
    "collapsed": false,
    "jupyter": {
     "outputs_hidden": false
    }
   },
   "outputs": [
    {
     "data": {
      "image/png": "[encoded data removed]",
      "text/plain": [
       "<Figure size 432x288 with 1 Axes>"
      ]
     },
     "metadata": {
      "needs_background": "light"
     },
     "output_type": "display_data"
    }
   ],
   "source": [
    "# Let's plot a grouped barplot\n",
    "import matplotlib.pyplot as plt  \n",
    "\n",
    "# set width of bar\n",
    "barWidth = 0.25\n",
    " \n",
    "# set height of bar\n",
    "bars1 = [original_car,original_g1,original_g2]\n",
    "bars2 = [remaining_car,remaining_g1,remaining_g2]\n",
    " \n",
    "# Set position of bar on X axis\n",
    "r1 = np.arange(len(bars1))\n",
    "r2 = [x + barWidth for x in r1]\n",
    " \n",
    "# Make the plot\n",
    "plt.bar(r1, bars1, color='darkorange', width=barWidth, edgecolor='white', label='Original Guess')\n",
    "plt.bar(r2, bars2, color='midnightblue', width=barWidth, edgecolor='white', label='Remaining Door')\n",
    " \n",
    "# Add xticks on the middle of the group bars\n",
    "plt.xlabel('Item', fontweight='bold')\n",
    "plt.xticks([r + barWidth/2 for r in range(len(bars1))], ['Car', 'Goat 1', 'Goat 2'])\n",
    " \n",
    "# Create legend & Show graphic\n",
    "plt.legend()\n",
    "plt.show()\n"
   ]
  },
  {
   "cell_type": "markdown",
   "metadata": {},
   "source": [
    "<font color=crimson>__According to the plot, it is statitically beneficial for the players to switch doors because the initial chance for being correct is only 1/3__</font>"
   ]
  },
  {
   "cell_type": "markdown",
   "metadata": {},
   "source": [
    "![](http://imgs.xkcd.com/comics/monty_hall.png)"
   ]
  },
  {
   "cell_type": "markdown",
   "metadata": {},
   "source": [
    "# <font color=purple>Python for Probability</font>"
   ]
  },
  {
   "cell_type": "markdown",
   "metadata": {},
   "source": [
    "![](https://static.insider.com/image/5d08059fdaa48259d13213a5.jpg)"
   ]
  },
  {
   "cell_type": "markdown",
   "metadata": {},
   "source": [
    "### <font color=purple>Important Terminology:</font>\n",
    " \n",
    "__Experiment:__ An occurrence with an uncertain outcome that we can observe. <br>\n",
    "*For example, rolling a die.*<br>\n",
    "__Outcome:__ The result of an experiment; one particular state of the world. What Laplace calls a \"case.\"<br>\n",
    "*For example: 4.*<br>\n",
    "__Sample Space:__ The set of all possible outcomes for the experiment.<br>\n",
    "*For example, {1, 2, 3, 4, 5, 6}.*<br>\n",
    "__Event:__ A subset of possible outcomes that together have some property we are interested in.<br>\n",
    "*For example, the event \"even die roll\" is the set of outcomes {2, 4, 6}.*<br>\n",
    "__Probability:__ As Laplace said, the probability of an event with respect to a sample space is the number of favorable cases (outcomes from the sample space that are in the event) divided by the total number of cases in the sample space. (This assumes that all outcomes in the sample space are equally likely.) Since it is a ratio, probability will always be a number between 0 (representing an impossible event) and 1 (representing a certain event).<br>\n",
    "*For example, the probability of an even die roll is 3/6 = 1/2.*<br>\n",
    "\n",
    "__*From https://people.math.ethz.ch/~jteichma/probability.html*__"
   ]
  },
  {
   "cell_type": "code",
   "execution_count": 29,
   "metadata": {
    "collapsed": false,
    "jupyter": {
     "outputs_hidden": false
    }
   },
   "outputs": [],
   "source": [
    "import numpy as np\n",
    "import pandas as pd\n",
    "import matplotlib.pyplot as plt  "
   ]
  },
  {
   "cell_type": "markdown",
   "metadata": {},
   "source": [
    "___\n",
    "### Example: In a game of Russian Roulette, the chance of surviving each round is 5/6 which is almost 83%. Using a for loop, compute probability of surviving \n",
    "- For 2 rounds\n",
    "- For 5 rounds\n",
    "- For 10 rounds"
   ]
  },
  {
   "cell_type": "code",
   "execution_count": 30,
   "metadata": {
    "collapsed": false,
    "jupyter": {
     "outputs_hidden": false
    }
   },
   "outputs": [
    {
     "data": {
      "text/html": [
       "<div>\n",
       "<style scoped>\n",
       "    .dataframe tbody tr th:only-of-type {\n",
       "        vertical-align: middle;\n",
       "    }\n",
       "\n",
       "    .dataframe tbody tr th {\n",
       "        vertical-align: top;\n",
       "    }\n",
       "\n",
       "    .dataframe thead th {\n",
       "        text-align: right;\n",
       "    }\n",
       "</style>\n",
       "<table border=\"1\" class=\"dataframe\">\n",
       "  <thead>\n",
       "    <tr style=\"text-align: right;\">\n",
       "      <th></th>\n",
       "      <th># of Rounds</th>\n",
       "      <th>Probability of Surviving</th>\n",
       "    </tr>\n",
       "  </thead>\n",
       "  <tbody>\n",
       "    <tr>\n",
       "      <th>0</th>\n",
       "      <td>0</td>\n",
       "      <td>1.000000</td>\n",
       "    </tr>\n",
       "    <tr>\n",
       "      <th>1</th>\n",
       "      <td>1</td>\n",
       "      <td>0.833333</td>\n",
       "    </tr>\n",
       "    <tr>\n",
       "      <th>2</th>\n",
       "      <td>2</td>\n",
       "      <td>0.694444</td>\n",
       "    </tr>\n",
       "  </tbody>\n",
       "</table>\n",
       "</div>"
      ],
      "text/plain": [
       "   # of Rounds  Probability of Surviving\n",
       "0            0                  1.000000\n",
       "1            1                  0.833333\n",
       "2            2                  0.694444"
      ]
     },
     "execution_count": 30,
     "metadata": {},
     "output_type": "execute_result"
    }
   ],
   "source": [
    "nrounds =[]\n",
    "probs =[]\n",
    "\n",
    "for i in range(3):\n",
    "    nrounds.append(i)\n",
    "    probs.append((5/6)**i) #probability of surviving- not getting the bullet!\n",
    "\n",
    "RRDF = pd.DataFrame({\"# of Rounds\": nrounds, \"Probability of Surviving\": probs})\n",
    "RRDF"
   ]
  },
  {
   "cell_type": "code",
   "execution_count": 31,
   "metadata": {
    "collapsed": false,
    "jupyter": {
     "outputs_hidden": false
    }
   },
   "outputs": [
    {
     "data": {
      "text/html": [
       "<div>\n",
       "<style scoped>\n",
       "    .dataframe tbody tr th:only-of-type {\n",
       "        vertical-align: middle;\n",
       "    }\n",
       "\n",
       "    .dataframe tbody tr th {\n",
       "        vertical-align: top;\n",
       "    }\n",
       "\n",
       "    .dataframe thead th {\n",
       "        text-align: right;\n",
       "    }\n",
       "</style>\n",
       "<table border=\"1\" class=\"dataframe\">\n",
       "  <thead>\n",
       "    <tr style=\"text-align: right;\">\n",
       "      <th></th>\n",
       "      <th># of Rounds</th>\n",
       "      <th>Probability of Surviving</th>\n",
       "    </tr>\n",
       "  </thead>\n",
       "  <tbody>\n",
       "    <tr>\n",
       "      <th>0</th>\n",
       "      <td>0</td>\n",
       "      <td>1.000000</td>\n",
       "    </tr>\n",
       "    <tr>\n",
       "      <th>1</th>\n",
       "      <td>1</td>\n",
       "      <td>0.833333</td>\n",
       "    </tr>\n",
       "    <tr>\n",
       "      <th>2</th>\n",
       "      <td>2</td>\n",
       "      <td>0.694444</td>\n",
       "    </tr>\n",
       "    <tr>\n",
       "      <th>3</th>\n",
       "      <td>3</td>\n",
       "      <td>0.578704</td>\n",
       "    </tr>\n",
       "    <tr>\n",
       "      <th>4</th>\n",
       "      <td>4</td>\n",
       "      <td>0.482253</td>\n",
       "    </tr>\n",
       "    <tr>\n",
       "      <th>5</th>\n",
       "      <td>5</td>\n",
       "      <td>0.401878</td>\n",
       "    </tr>\n",
       "  </tbody>\n",
       "</table>\n",
       "</div>"
      ],
      "text/plain": [
       "   # of Rounds  Probability of Surviving\n",
       "0            0                  1.000000\n",
       "1            1                  0.833333\n",
       "2            2                  0.694444\n",
       "3            3                  0.578704\n",
       "4            4                  0.482253\n",
       "5            5                  0.401878"
      ]
     },
     "execution_count": 31,
     "metadata": {},
     "output_type": "execute_result"
    }
   ],
   "source": [
    "nrounds =[]\n",
    "probs =[]\n",
    "\n",
    "for i in range(6):\n",
    "    nrounds.append(i)\n",
    "    probs.append((5/6)**i) #probability of surviving- not getting the bullet!\n",
    "\n",
    "RRDF = pd.DataFrame({\"# of Rounds\": nrounds, \"Probability of Surviving\": probs})\n",
    "RRDF"
   ]
  },
  {
   "cell_type": "code",
   "execution_count": 32,
   "metadata": {
    "collapsed": false,
    "jupyter": {
     "outputs_hidden": false
    }
   },
   "outputs": [
    {
     "data": {
      "text/html": [
       "<div>\n",
       "<style scoped>\n",
       "    .dataframe tbody tr th:only-of-type {\n",
       "        vertical-align: middle;\n",
       "    }\n",
       "\n",
       "    .dataframe tbody tr th {\n",
       "        vertical-align: top;\n",
       "    }\n",
       "\n",
       "    .dataframe thead th {\n",
       "        text-align: right;\n",
       "    }\n",
       "</style>\n",
       "<table border=\"1\" class=\"dataframe\">\n",
       "  <thead>\n",
       "    <tr style=\"text-align: right;\">\n",
       "      <th></th>\n",
       "      <th># of Rounds</th>\n",
       "      <th>Probability of Surviving</th>\n",
       "    </tr>\n",
       "  </thead>\n",
       "  <tbody>\n",
       "    <tr>\n",
       "      <th>0</th>\n",
       "      <td>0</td>\n",
       "      <td>1.000000</td>\n",
       "    </tr>\n",
       "    <tr>\n",
       "      <th>1</th>\n",
       "      <td>1</td>\n",
       "      <td>0.833333</td>\n",
       "    </tr>\n",
       "    <tr>\n",
       "      <th>2</th>\n",
       "      <td>2</td>\n",
       "      <td>0.694444</td>\n",
       "    </tr>\n",
       "    <tr>\n",
       "      <th>3</th>\n",
       "      <td>3</td>\n",
       "      <td>0.578704</td>\n",
       "    </tr>\n",
       "    <tr>\n",
       "      <th>4</th>\n",
       "      <td>4</td>\n",
       "      <td>0.482253</td>\n",
       "    </tr>\n",
       "    <tr>\n",
       "      <th>5</th>\n",
       "      <td>5</td>\n",
       "      <td>0.401878</td>\n",
       "    </tr>\n",
       "    <tr>\n",
       "      <th>6</th>\n",
       "      <td>6</td>\n",
       "      <td>0.334898</td>\n",
       "    </tr>\n",
       "    <tr>\n",
       "      <th>7</th>\n",
       "      <td>7</td>\n",
       "      <td>0.279082</td>\n",
       "    </tr>\n",
       "    <tr>\n",
       "      <th>8</th>\n",
       "      <td>8</td>\n",
       "      <td>0.232568</td>\n",
       "    </tr>\n",
       "    <tr>\n",
       "      <th>9</th>\n",
       "      <td>9</td>\n",
       "      <td>0.193807</td>\n",
       "    </tr>\n",
       "    <tr>\n",
       "      <th>10</th>\n",
       "      <td>10</td>\n",
       "      <td>0.161506</td>\n",
       "    </tr>\n",
       "  </tbody>\n",
       "</table>\n",
       "</div>"
      ],
      "text/plain": [
       "    # of Rounds  Probability of Surviving\n",
       "0             0                  1.000000\n",
       "1             1                  0.833333\n",
       "2             2                  0.694444\n",
       "3             3                  0.578704\n",
       "4             4                  0.482253\n",
       "5             5                  0.401878\n",
       "6             6                  0.334898\n",
       "7             7                  0.279082\n",
       "8             8                  0.232568\n",
       "9             9                  0.193807\n",
       "10           10                  0.161506"
      ]
     },
     "execution_count": 32,
     "metadata": {},
     "output_type": "execute_result"
    }
   ],
   "source": [
    "nrounds =[]\n",
    "probs =[]\n",
    "\n",
    "for i in range(11):\n",
    "    nrounds.append(i)\n",
    "    probs.append((5/6)**i) #probability of surviving- not getting the bullet!\n",
    "\n",
    "RRDF = pd.DataFrame({\"# of Rounds\": nrounds, \"Probability of Surviving\": probs})\n",
    "RRDF"
   ]
  },
  {
   "cell_type": "code",
   "execution_count": 33,
   "metadata": {
    "collapsed": false,
    "jupyter": {
     "outputs_hidden": false
    }
   },
   "outputs": [
    {
     "data": {
      "text/plain": [
       "<AxesSubplot:xlabel='# of Rounds', ylabel='Probability of Surviving'>"
      ]
     },
     "execution_count": 33,
     "metadata": {},
     "output_type": "execute_result"
    },
    {
     "data": {
      "image/png": "[encoded data removed]",
      "text/plain": [
       "<Figure size 432x288 with 1 Axes>"
      ]
     },
     "metadata": {
      "needs_background": "light"
     },
     "output_type": "display_data"
    }
   ],
   "source": [
    "RRDF.plot.scatter(x=\"# of Rounds\", y=\"Probability of Surviving\",color=\"red\")"
   ]
  },
  {
   "cell_type": "markdown",
   "metadata": {},
   "source": [
    "___\n",
    "### Example: What will be the probability of constantly throwing an even number with a D20 in\n",
    "- For 2 rolls\n",
    "- For 5 rolls\n",
    "- For 10 rolls\n",
    "- For 15 rolls"
   ]
  },
  {
   "cell_type": "code",
   "execution_count": 34,
   "metadata": {
    "collapsed": false,
    "jupyter": {
     "outputs_hidden": false
    }
   },
   "outputs": [
    {
     "data": {
      "text/html": [
       "<div>\n",
       "<style scoped>\n",
       "    .dataframe tbody tr th:only-of-type {\n",
       "        vertical-align: middle;\n",
       "    }\n",
       "\n",
       "    .dataframe tbody tr th {\n",
       "        vertical-align: top;\n",
       "    }\n",
       "\n",
       "    .dataframe thead th {\n",
       "        text-align: right;\n",
       "    }\n",
       "</style>\n",
       "<table border=\"1\" class=\"dataframe\">\n",
       "  <thead>\n",
       "    <tr style=\"text-align: right;\">\n",
       "      <th></th>\n",
       "      <th># of Rolls</th>\n",
       "      <th>Probability of constantly throwing an even number</th>\n",
       "    </tr>\n",
       "  </thead>\n",
       "  <tbody>\n",
       "    <tr>\n",
       "      <th>0</th>\n",
       "      <td>1</td>\n",
       "      <td>0.500000</td>\n",
       "    </tr>\n",
       "    <tr>\n",
       "      <th>1</th>\n",
       "      <td>2</td>\n",
       "      <td>0.250000</td>\n",
       "    </tr>\n",
       "    <tr>\n",
       "      <th>2</th>\n",
       "      <td>3</td>\n",
       "      <td>0.125000</td>\n",
       "    </tr>\n",
       "    <tr>\n",
       "      <th>3</th>\n",
       "      <td>4</td>\n",
       "      <td>0.062500</td>\n",
       "    </tr>\n",
       "    <tr>\n",
       "      <th>4</th>\n",
       "      <td>5</td>\n",
       "      <td>0.031250</td>\n",
       "    </tr>\n",
       "    <tr>\n",
       "      <th>5</th>\n",
       "      <td>6</td>\n",
       "      <td>0.015625</td>\n",
       "    </tr>\n",
       "    <tr>\n",
       "      <th>6</th>\n",
       "      <td>7</td>\n",
       "      <td>0.007812</td>\n",
       "    </tr>\n",
       "    <tr>\n",
       "      <th>7</th>\n",
       "      <td>8</td>\n",
       "      <td>0.003906</td>\n",
       "    </tr>\n",
       "    <tr>\n",
       "      <th>8</th>\n",
       "      <td>9</td>\n",
       "      <td>0.001953</td>\n",
       "    </tr>\n",
       "    <tr>\n",
       "      <th>9</th>\n",
       "      <td>10</td>\n",
       "      <td>0.000977</td>\n",
       "    </tr>\n",
       "    <tr>\n",
       "      <th>10</th>\n",
       "      <td>11</td>\n",
       "      <td>0.000488</td>\n",
       "    </tr>\n",
       "    <tr>\n",
       "      <th>11</th>\n",
       "      <td>12</td>\n",
       "      <td>0.000244</td>\n",
       "    </tr>\n",
       "    <tr>\n",
       "      <th>12</th>\n",
       "      <td>13</td>\n",
       "      <td>0.000122</td>\n",
       "    </tr>\n",
       "    <tr>\n",
       "      <th>13</th>\n",
       "      <td>14</td>\n",
       "      <td>0.000061</td>\n",
       "    </tr>\n",
       "    <tr>\n",
       "      <th>14</th>\n",
       "      <td>15</td>\n",
       "      <td>0.000031</td>\n",
       "    </tr>\n",
       "  </tbody>\n",
       "</table>\n",
       "</div>"
      ],
      "text/plain": [
       "    # of Rolls  Probability of constantly throwing an even number\n",
       "0            1                                           0.500000\n",
       "1            2                                           0.250000\n",
       "2            3                                           0.125000\n",
       "3            4                                           0.062500\n",
       "4            5                                           0.031250\n",
       "5            6                                           0.015625\n",
       "6            7                                           0.007812\n",
       "7            8                                           0.003906\n",
       "8            9                                           0.001953\n",
       "9           10                                           0.000977\n",
       "10          11                                           0.000488\n",
       "11          12                                           0.000244\n",
       "12          13                                           0.000122\n",
       "13          14                                           0.000061\n",
       "14          15                                           0.000031"
      ]
     },
     "execution_count": 34,
     "metadata": {},
     "output_type": "execute_result"
    }
   ],
   "source": [
    "nrolls =[]\n",
    "probs =[]\n",
    "\n",
    "for i in range(1,16,1):\n",
    "    nrolls.append(i)\n",
    "    probs.append((1/2)**i) #probability of throwing an even number-10/20 or 1/2\n",
    "\n",
    "DRDF = pd.DataFrame({\"# of Rolls\": nrolls, \"Probability of constantly throwing an even number\": probs})\n",
    "DRDF"
   ]
  },
  {
   "cell_type": "code",
   "execution_count": 35,
   "metadata": {
    "collapsed": false,
    "jupyter": {
     "outputs_hidden": false
    }
   },
   "outputs": [
    {
     "data": {
      "text/plain": [
       "<AxesSubplot:xlabel='# of Rolls', ylabel='Probability of constantly throwing an even number'>"
      ]
     },
     "execution_count": 35,
     "metadata": {},
     "output_type": "execute_result"
    },
    {
     "data": {
      "image/png": "[encoded data removed]",
      "text/plain": [
       "<Figure size 432x288 with 1 Axes>"
      ]
     },
     "metadata": {
      "needs_background": "light"
     },
     "output_type": "display_data"
    }
   ],
   "source": [
    "DRDF.plot.scatter(x=\"# of Rolls\", y=\"Probability of constantly throwing an even number\",color=\"crimson\")"
   ]
  },
  {
   "cell_type": "markdown",
   "metadata": {},
   "source": [
    "___\n",
    "### Example: What will be the probability of throwing at least one 6 with a D6:\n",
    "- For 2 rolls\n",
    "- For 5 rolls\n",
    "- For 10 rolls\n",
    "- For 50 rolls - Make a scatter plot for this one!"
   ]
  },
  {
   "cell_type": "code",
   "execution_count": 36,
   "metadata": {
    "collapsed": false,
    "jupyter": {
     "outputs_hidden": false
    }
   },
   "outputs": [
    {
     "data": {
      "text/html": [
       "<div>\n",
       "<style scoped>\n",
       "    .dataframe tbody tr th:only-of-type {\n",
       "        vertical-align: middle;\n",
       "    }\n",
       "\n",
       "    .dataframe tbody tr th {\n",
       "        vertical-align: top;\n",
       "    }\n",
       "\n",
       "    .dataframe thead th {\n",
       "        text-align: right;\n",
       "    }\n",
       "</style>\n",
       "<table border=\"1\" class=\"dataframe\">\n",
       "  <thead>\n",
       "    <tr style=\"text-align: right;\">\n",
       "      <th></th>\n",
       "      <th># of Rolls</th>\n",
       "      <th>Probability of rolling at least one 6</th>\n",
       "    </tr>\n",
       "  </thead>\n",
       "  <tbody>\n",
       "    <tr>\n",
       "      <th>0</th>\n",
       "      <td>1</td>\n",
       "      <td>0.166667</td>\n",
       "    </tr>\n",
       "    <tr>\n",
       "      <th>1</th>\n",
       "      <td>2</td>\n",
       "      <td>0.305556</td>\n",
       "    </tr>\n",
       "    <tr>\n",
       "      <th>2</th>\n",
       "      <td>3</td>\n",
       "      <td>0.421296</td>\n",
       "    </tr>\n",
       "    <tr>\n",
       "      <th>3</th>\n",
       "      <td>4</td>\n",
       "      <td>0.517747</td>\n",
       "    </tr>\n",
       "    <tr>\n",
       "      <th>4</th>\n",
       "      <td>5</td>\n",
       "      <td>0.598122</td>\n",
       "    </tr>\n",
       "    <tr>\n",
       "      <th>5</th>\n",
       "      <td>6</td>\n",
       "      <td>0.665102</td>\n",
       "    </tr>\n",
       "    <tr>\n",
       "      <th>6</th>\n",
       "      <td>7</td>\n",
       "      <td>0.720918</td>\n",
       "    </tr>\n",
       "    <tr>\n",
       "      <th>7</th>\n",
       "      <td>8</td>\n",
       "      <td>0.767432</td>\n",
       "    </tr>\n",
       "    <tr>\n",
       "      <th>8</th>\n",
       "      <td>9</td>\n",
       "      <td>0.806193</td>\n",
       "    </tr>\n",
       "    <tr>\n",
       "      <th>9</th>\n",
       "      <td>10</td>\n",
       "      <td>0.838494</td>\n",
       "    </tr>\n",
       "    <tr>\n",
       "      <th>10</th>\n",
       "      <td>11</td>\n",
       "      <td>0.865412</td>\n",
       "    </tr>\n",
       "    <tr>\n",
       "      <th>11</th>\n",
       "      <td>12</td>\n",
       "      <td>0.887843</td>\n",
       "    </tr>\n",
       "    <tr>\n",
       "      <th>12</th>\n",
       "      <td>13</td>\n",
       "      <td>0.906536</td>\n",
       "    </tr>\n",
       "    <tr>\n",
       "      <th>13</th>\n",
       "      <td>14</td>\n",
       "      <td>0.922113</td>\n",
       "    </tr>\n",
       "    <tr>\n",
       "      <th>14</th>\n",
       "      <td>15</td>\n",
       "      <td>0.935095</td>\n",
       "    </tr>\n",
       "    <tr>\n",
       "      <th>15</th>\n",
       "      <td>16</td>\n",
       "      <td>0.945912</td>\n",
       "    </tr>\n",
       "    <tr>\n",
       "      <th>16</th>\n",
       "      <td>17</td>\n",
       "      <td>0.954927</td>\n",
       "    </tr>\n",
       "    <tr>\n",
       "      <th>17</th>\n",
       "      <td>18</td>\n",
       "      <td>0.962439</td>\n",
       "    </tr>\n",
       "    <tr>\n",
       "      <th>18</th>\n",
       "      <td>19</td>\n",
       "      <td>0.968699</td>\n",
       "    </tr>\n",
       "    <tr>\n",
       "      <th>19</th>\n",
       "      <td>20</td>\n",
       "      <td>0.973916</td>\n",
       "    </tr>\n",
       "    <tr>\n",
       "      <th>20</th>\n",
       "      <td>21</td>\n",
       "      <td>0.978263</td>\n",
       "    </tr>\n",
       "    <tr>\n",
       "      <th>21</th>\n",
       "      <td>22</td>\n",
       "      <td>0.981886</td>\n",
       "    </tr>\n",
       "    <tr>\n",
       "      <th>22</th>\n",
       "      <td>23</td>\n",
       "      <td>0.984905</td>\n",
       "    </tr>\n",
       "    <tr>\n",
       "      <th>23</th>\n",
       "      <td>24</td>\n",
       "      <td>0.987421</td>\n",
       "    </tr>\n",
       "    <tr>\n",
       "      <th>24</th>\n",
       "      <td>25</td>\n",
       "      <td>0.989517</td>\n",
       "    </tr>\n",
       "    <tr>\n",
       "      <th>25</th>\n",
       "      <td>26</td>\n",
       "      <td>0.991265</td>\n",
       "    </tr>\n",
       "    <tr>\n",
       "      <th>26</th>\n",
       "      <td>27</td>\n",
       "      <td>0.992720</td>\n",
       "    </tr>\n",
       "    <tr>\n",
       "      <th>27</th>\n",
       "      <td>28</td>\n",
       "      <td>0.993934</td>\n",
       "    </tr>\n",
       "    <tr>\n",
       "      <th>28</th>\n",
       "      <td>29</td>\n",
       "      <td>0.994945</td>\n",
       "    </tr>\n",
       "    <tr>\n",
       "      <th>29</th>\n",
       "      <td>30</td>\n",
       "      <td>0.995787</td>\n",
       "    </tr>\n",
       "    <tr>\n",
       "      <th>30</th>\n",
       "      <td>31</td>\n",
       "      <td>0.996489</td>\n",
       "    </tr>\n",
       "    <tr>\n",
       "      <th>31</th>\n",
       "      <td>32</td>\n",
       "      <td>0.997074</td>\n",
       "    </tr>\n",
       "    <tr>\n",
       "      <th>32</th>\n",
       "      <td>33</td>\n",
       "      <td>0.997562</td>\n",
       "    </tr>\n",
       "    <tr>\n",
       "      <th>33</th>\n",
       "      <td>34</td>\n",
       "      <td>0.997968</td>\n",
       "    </tr>\n",
       "    <tr>\n",
       "      <th>34</th>\n",
       "      <td>35</td>\n",
       "      <td>0.998307</td>\n",
       "    </tr>\n",
       "    <tr>\n",
       "      <th>35</th>\n",
       "      <td>36</td>\n",
       "      <td>0.998589</td>\n",
       "    </tr>\n",
       "    <tr>\n",
       "      <th>36</th>\n",
       "      <td>37</td>\n",
       "      <td>0.998824</td>\n",
       "    </tr>\n",
       "    <tr>\n",
       "      <th>37</th>\n",
       "      <td>38</td>\n",
       "      <td>0.999020</td>\n",
       "    </tr>\n",
       "    <tr>\n",
       "      <th>38</th>\n",
       "      <td>39</td>\n",
       "      <td>0.999184</td>\n",
       "    </tr>\n",
       "    <tr>\n",
       "      <th>39</th>\n",
       "      <td>40</td>\n",
       "      <td>0.999320</td>\n",
       "    </tr>\n",
       "    <tr>\n",
       "      <th>40</th>\n",
       "      <td>41</td>\n",
       "      <td>0.999433</td>\n",
       "    </tr>\n",
       "    <tr>\n",
       "      <th>41</th>\n",
       "      <td>42</td>\n",
       "      <td>0.999528</td>\n",
       "    </tr>\n",
       "    <tr>\n",
       "      <th>42</th>\n",
       "      <td>43</td>\n",
       "      <td>0.999606</td>\n",
       "    </tr>\n",
       "    <tr>\n",
       "      <th>43</th>\n",
       "      <td>44</td>\n",
       "      <td>0.999672</td>\n",
       "    </tr>\n",
       "    <tr>\n",
       "      <th>44</th>\n",
       "      <td>45</td>\n",
       "      <td>0.999727</td>\n",
       "    </tr>\n",
       "    <tr>\n",
       "      <th>45</th>\n",
       "      <td>46</td>\n",
       "      <td>0.999772</td>\n",
       "    </tr>\n",
       "    <tr>\n",
       "      <th>46</th>\n",
       "      <td>47</td>\n",
       "      <td>0.999810</td>\n",
       "    </tr>\n",
       "    <tr>\n",
       "      <th>47</th>\n",
       "      <td>48</td>\n",
       "      <td>0.999842</td>\n",
       "    </tr>\n",
       "    <tr>\n",
       "      <th>48</th>\n",
       "      <td>49</td>\n",
       "      <td>0.999868</td>\n",
       "    </tr>\n",
       "    <tr>\n",
       "      <th>49</th>\n",
       "      <td>50</td>\n",
       "      <td>0.999890</td>\n",
       "    </tr>\n",
       "  </tbody>\n",
       "</table>\n",
       "</div>"
      ],
      "text/plain": [
       "    # of Rolls  Probability of rolling at least one 6\n",
       "0            1                               0.166667\n",
       "1            2                               0.305556\n",
       "2            3                               0.421296\n",
       "3            4                               0.517747\n",
       "4            5                               0.598122\n",
       "5            6                               0.665102\n",
       "6            7                               0.720918\n",
       "7            8                               0.767432\n",
       "8            9                               0.806193\n",
       "9           10                               0.838494\n",
       "10          11                               0.865412\n",
       "11          12                               0.887843\n",
       "12          13                               0.906536\n",
       "13          14                               0.922113\n",
       "14          15                               0.935095\n",
       "15          16                               0.945912\n",
       "16          17                               0.954927\n",
       "17          18                               0.962439\n",
       "18          19                               0.968699\n",
       "19          20                               0.973916\n",
       "20          21                               0.978263\n",
       "21          22                               0.981886\n",
       "22          23                               0.984905\n",
       "23          24                               0.987421\n",
       "24          25                               0.989517\n",
       "25          26                               0.991265\n",
       "26          27                               0.992720\n",
       "27          28                               0.993934\n",
       "28          29                               0.994945\n",
       "29          30                               0.995787\n",
       "30          31                               0.996489\n",
       "31          32                               0.997074\n",
       "32          33                               0.997562\n",
       "33          34                               0.997968\n",
       "34          35                               0.998307\n",
       "35          36                               0.998589\n",
       "36          37                               0.998824\n",
       "37          38                               0.999020\n",
       "38          39                               0.999184\n",
       "39          40                               0.999320\n",
       "40          41                               0.999433\n",
       "41          42                               0.999528\n",
       "42          43                               0.999606\n",
       "43          44                               0.999672\n",
       "44          45                               0.999727\n",
       "45          46                               0.999772\n",
       "46          47                               0.999810\n",
       "47          48                               0.999842\n",
       "48          49                               0.999868\n",
       "49          50                               0.999890"
      ]
     },
     "execution_count": 36,
     "metadata": {},
     "output_type": "execute_result"
    }
   ],
   "source": [
    "nRolls =[]\n",
    "probs =[]\n",
    "\n",
    "for i in range(1,51,1):\n",
    "    nRolls.append(i)\n",
    "    probs.append(1-(5/6)**i) #probability of at least one 6: 1-(5/6)\n",
    "\n",
    "rollsDF = pd.DataFrame({\"# of Rolls\": nRolls, \"Probability of rolling at least one 6\": probs})\n",
    "rollsDF"
   ]
  },
  {
   "cell_type": "code",
   "execution_count": 37,
   "metadata": {
    "collapsed": false,
    "jupyter": {
     "outputs_hidden": false
    }
   },
   "outputs": [
    {
     "data": {
      "text/html": [
       "<div>\n",
       "<style scoped>\n",
       "    .dataframe tbody tr th:only-of-type {\n",
       "        vertical-align: middle;\n",
       "    }\n",
       "\n",
       "    .dataframe tbody tr th {\n",
       "        vertical-align: top;\n",
       "    }\n",
       "\n",
       "    .dataframe thead th {\n",
       "        text-align: right;\n",
       "    }\n",
       "</style>\n",
       "<table border=\"1\" class=\"dataframe\">\n",
       "  <thead>\n",
       "    <tr style=\"text-align: right;\">\n",
       "      <th></th>\n",
       "      <th># of Rolls</th>\n",
       "      <th>Probability of rolling at least one 6</th>\n",
       "    </tr>\n",
       "  </thead>\n",
       "  <tbody>\n",
       "    <tr>\n",
       "      <th>0</th>\n",
       "      <td>1</td>\n",
       "      <td>0.166667</td>\n",
       "    </tr>\n",
       "    <tr>\n",
       "      <th>1</th>\n",
       "      <td>2</td>\n",
       "      <td>0.305556</td>\n",
       "    </tr>\n",
       "    <tr>\n",
       "      <th>2</th>\n",
       "      <td>3</td>\n",
       "      <td>0.421296</td>\n",
       "    </tr>\n",
       "    <tr>\n",
       "      <th>3</th>\n",
       "      <td>4</td>\n",
       "      <td>0.517747</td>\n",
       "    </tr>\n",
       "    <tr>\n",
       "      <th>4</th>\n",
       "      <td>5</td>\n",
       "      <td>0.598122</td>\n",
       "    </tr>\n",
       "  </tbody>\n",
       "</table>\n",
       "</div>"
      ],
      "text/plain": [
       "   # of Rolls  Probability of rolling at least one 6\n",
       "0           1                               0.166667\n",
       "1           2                               0.305556\n",
       "2           3                               0.421296\n",
       "3           4                               0.517747\n",
       "4           5                               0.598122"
      ]
     },
     "execution_count": 37,
     "metadata": {},
     "output_type": "execute_result"
    }
   ],
   "source": [
    "nRolls =[]\n",
    "probs =[]\n",
    "\n",
    "for i in range(1,6,1):\n",
    "    nRolls.append(i)\n",
    "    probs.append(1-(5/6)**i) #probability of at least one 6: 1-(5/6)\n",
    "\n",
    "rollsDF = pd.DataFrame({\"# of Rolls\": nRolls, \"Probability of rolling at least one 6\": probs})\n",
    "rollsDF"
   ]
  },
  {
   "cell_type": "code",
   "execution_count": 38,
   "metadata": {
    "collapsed": false,
    "jupyter": {
     "outputs_hidden": false
    }
   },
   "outputs": [
    {
     "data": {
      "text/html": [
       "<div>\n",
       "<style scoped>\n",
       "    .dataframe tbody tr th:only-of-type {\n",
       "        vertical-align: middle;\n",
       "    }\n",
       "\n",
       "    .dataframe tbody tr th {\n",
       "        vertical-align: top;\n",
       "    }\n",
       "\n",
       "    .dataframe thead th {\n",
       "        text-align: right;\n",
       "    }\n",
       "</style>\n",
       "<table border=\"1\" class=\"dataframe\">\n",
       "  <thead>\n",
       "    <tr style=\"text-align: right;\">\n",
       "      <th></th>\n",
       "      <th># of Rolls</th>\n",
       "      <th>Probability of rolling at least one 6</th>\n",
       "    </tr>\n",
       "  </thead>\n",
       "  <tbody>\n",
       "    <tr>\n",
       "      <th>0</th>\n",
       "      <td>1</td>\n",
       "      <td>0.166667</td>\n",
       "    </tr>\n",
       "    <tr>\n",
       "      <th>1</th>\n",
       "      <td>2</td>\n",
       "      <td>0.305556</td>\n",
       "    </tr>\n",
       "    <tr>\n",
       "      <th>2</th>\n",
       "      <td>3</td>\n",
       "      <td>0.421296</td>\n",
       "    </tr>\n",
       "    <tr>\n",
       "      <th>3</th>\n",
       "      <td>4</td>\n",
       "      <td>0.517747</td>\n",
       "    </tr>\n",
       "    <tr>\n",
       "      <th>4</th>\n",
       "      <td>5</td>\n",
       "      <td>0.598122</td>\n",
       "    </tr>\n",
       "    <tr>\n",
       "      <th>5</th>\n",
       "      <td>6</td>\n",
       "      <td>0.665102</td>\n",
       "    </tr>\n",
       "    <tr>\n",
       "      <th>6</th>\n",
       "      <td>7</td>\n",
       "      <td>0.720918</td>\n",
       "    </tr>\n",
       "    <tr>\n",
       "      <th>7</th>\n",
       "      <td>8</td>\n",
       "      <td>0.767432</td>\n",
       "    </tr>\n",
       "    <tr>\n",
       "      <th>8</th>\n",
       "      <td>9</td>\n",
       "      <td>0.806193</td>\n",
       "    </tr>\n",
       "    <tr>\n",
       "      <th>9</th>\n",
       "      <td>10</td>\n",
       "      <td>0.838494</td>\n",
       "    </tr>\n",
       "  </tbody>\n",
       "</table>\n",
       "</div>"
      ],
      "text/plain": [
       "   # of Rolls  Probability of rolling at least one 6\n",
       "0           1                               0.166667\n",
       "1           2                               0.305556\n",
       "2           3                               0.421296\n",
       "3           4                               0.517747\n",
       "4           5                               0.598122\n",
       "5           6                               0.665102\n",
       "6           7                               0.720918\n",
       "7           8                               0.767432\n",
       "8           9                               0.806193\n",
       "9          10                               0.838494"
      ]
     },
     "execution_count": 38,
     "metadata": {},
     "output_type": "execute_result"
    }
   ],
   "source": [
    "nRolls =[]\n",
    "probs =[]\n",
    "\n",
    "for i in range(1,11,1):\n",
    "    nRolls.append(i)\n",
    "    probs.append(1-(5/6)**i) #probability of at least one 6: 1-(5/6)\n",
    "\n",
    "rollsDF = pd.DataFrame({\"# of Rolls\": nRolls, \"Probability of rolling at least one 6\": probs})\n",
    "rollsDF"
   ]
  },
  {
   "cell_type": "code",
   "execution_count": 39,
   "metadata": {
    "collapsed": false,
    "jupyter": {
     "outputs_hidden": false
    }
   },
   "outputs": [],
   "source": [
    "nRolls =[]\n",
    "probs =[]\n",
    "\n",
    "for i in range(1,51,1):\n",
    "    nRolls.append(i)\n",
    "    probs.append(1-(5/6)**i) #probability of at least one 6: 1-(5/6)\n",
    "\n",
    "rollsDF = pd.DataFrame({\"# of Rolls\": nRolls, \"Probability of rolling at least one 6\": probs})"
   ]
  },
  {
   "cell_type": "code",
   "execution_count": 40,
   "metadata": {
    "collapsed": false,
    "jupyter": {
     "outputs_hidden": false
    }
   },
   "outputs": [
    {
     "data": {
      "text/plain": [
       "<AxesSubplot:xlabel='# of Rolls', ylabel='Probability of rolling at least one 6'>"
      ]
     },
     "execution_count": 40,
     "metadata": {},
     "output_type": "execute_result"
    },
    {
     "data": {
      "image/png": "[encoded data removed]",
      "text/plain": [
       "<Figure size 432x288 with 1 Axes>"
      ]
     },
     "metadata": {
      "needs_background": "light"
     },
     "output_type": "display_data"
    }
   ],
   "source": [
    "rollsDF.plot.scatter(x=\"# of Rolls\", y=\"Probability of rolling at least one 6\")"
   ]
  },
  {
   "cell_type": "markdown",
   "metadata": {},
   "source": [
    "___\n",
    "### Example: What is the probability of drawing an ace at least once (with replacement):\n",
    "- in 2 tries\n",
    "- in 5 tries\n",
    "- in 10 tries\n",
    "- in 20 tries - make a scatter plot.\n"
   ]
  },
  {
   "cell_type": "code",
   "execution_count": 41,
   "metadata": {
    "collapsed": false,
    "jupyter": {
     "outputs_hidden": false
    }
   },
   "outputs": [
    {
     "data": {
      "text/html": [
       "<div>\n",
       "<style scoped>\n",
       "    .dataframe tbody tr th:only-of-type {\n",
       "        vertical-align: middle;\n",
       "    }\n",
       "\n",
       "    .dataframe tbody tr th {\n",
       "        vertical-align: top;\n",
       "    }\n",
       "\n",
       "    .dataframe thead th {\n",
       "        text-align: right;\n",
       "    }\n",
       "</style>\n",
       "<table border=\"1\" class=\"dataframe\">\n",
       "  <thead>\n",
       "    <tr style=\"text-align: right;\">\n",
       "      <th></th>\n",
       "      <th># of Draws</th>\n",
       "      <th>Probability of drawing an ace at least once</th>\n",
       "    </tr>\n",
       "  </thead>\n",
       "  <tbody>\n",
       "    <tr>\n",
       "      <th>0</th>\n",
       "      <td>1</td>\n",
       "      <td>0.076923</td>\n",
       "    </tr>\n",
       "    <tr>\n",
       "      <th>1</th>\n",
       "      <td>2</td>\n",
       "      <td>0.147929</td>\n",
       "    </tr>\n",
       "    <tr>\n",
       "      <th>2</th>\n",
       "      <td>3</td>\n",
       "      <td>0.213473</td>\n",
       "    </tr>\n",
       "    <tr>\n",
       "      <th>3</th>\n",
       "      <td>4</td>\n",
       "      <td>0.273975</td>\n",
       "    </tr>\n",
       "    <tr>\n",
       "      <th>4</th>\n",
       "      <td>5</td>\n",
       "      <td>0.329823</td>\n",
       "    </tr>\n",
       "    <tr>\n",
       "      <th>...</th>\n",
       "      <td>...</td>\n",
       "      <td>...</td>\n",
       "    </tr>\n",
       "    <tr>\n",
       "      <th>94</th>\n",
       "      <td>95</td>\n",
       "      <td>0.999502</td>\n",
       "    </tr>\n",
       "    <tr>\n",
       "      <th>95</th>\n",
       "      <td>96</td>\n",
       "      <td>0.999540</td>\n",
       "    </tr>\n",
       "    <tr>\n",
       "      <th>96</th>\n",
       "      <td>97</td>\n",
       "      <td>0.999575</td>\n",
       "    </tr>\n",
       "    <tr>\n",
       "      <th>97</th>\n",
       "      <td>98</td>\n",
       "      <td>0.999608</td>\n",
       "    </tr>\n",
       "    <tr>\n",
       "      <th>98</th>\n",
       "      <td>99</td>\n",
       "      <td>0.999638</td>\n",
       "    </tr>\n",
       "  </tbody>\n",
       "</table>\n",
       "<p>99 rows × 2 columns</p>\n",
       "</div>"
      ],
      "text/plain": [
       "    # of Draws  Probability of drawing an ace at least once\n",
       "0            1                                     0.076923\n",
       "1            2                                     0.147929\n",
       "2            3                                     0.213473\n",
       "3            4                                     0.273975\n",
       "4            5                                     0.329823\n",
       "..         ...                                          ...\n",
       "94          95                                     0.999502\n",
       "95          96                                     0.999540\n",
       "96          97                                     0.999575\n",
       "97          98                                     0.999608\n",
       "98          99                                     0.999638\n",
       "\n",
       "[99 rows x 2 columns]"
      ]
     },
     "execution_count": 41,
     "metadata": {},
     "output_type": "execute_result"
    }
   ],
   "source": [
    "nDraws =[]\n",
    "probs =[]\n",
    "\n",
    "for i in range(1,100,1):\n",
    "    nDraws.append(i)\n",
    "    probs.append(1-(48/52)**i) #probability of drawing an ace least once : 1-(48/52)\n",
    "\n",
    "DrawsDF = pd.DataFrame({\"# of Draws\": nDraws, \"Probability of drawing an ace at least once\": probs})\n",
    "DrawsDF"
   ]
  },
  {
   "cell_type": "code",
   "execution_count": 42,
   "metadata": {
    "collapsed": false,
    "jupyter": {
     "outputs_hidden": false
    }
   },
   "outputs": [
    {
     "data": {
      "text/html": [
       "<div>\n",
       "<style scoped>\n",
       "    .dataframe tbody tr th:only-of-type {\n",
       "        vertical-align: middle;\n",
       "    }\n",
       "\n",
       "    .dataframe tbody tr th {\n",
       "        vertical-align: top;\n",
       "    }\n",
       "\n",
       "    .dataframe thead th {\n",
       "        text-align: right;\n",
       "    }\n",
       "</style>\n",
       "<table border=\"1\" class=\"dataframe\">\n",
       "  <thead>\n",
       "    <tr style=\"text-align: right;\">\n",
       "      <th></th>\n",
       "      <th># of Draws</th>\n",
       "      <th>Probability of drawing an ace at least once</th>\n",
       "    </tr>\n",
       "  </thead>\n",
       "  <tbody>\n",
       "    <tr>\n",
       "      <th>0</th>\n",
       "      <td>1</td>\n",
       "      <td>0.076923</td>\n",
       "    </tr>\n",
       "    <tr>\n",
       "      <th>1</th>\n",
       "      <td>2</td>\n",
       "      <td>0.147929</td>\n",
       "    </tr>\n",
       "    <tr>\n",
       "      <th>2</th>\n",
       "      <td>3</td>\n",
       "      <td>0.213473</td>\n",
       "    </tr>\n",
       "    <tr>\n",
       "      <th>3</th>\n",
       "      <td>4</td>\n",
       "      <td>0.273975</td>\n",
       "    </tr>\n",
       "    <tr>\n",
       "      <th>4</th>\n",
       "      <td>5</td>\n",
       "      <td>0.329823</td>\n",
       "    </tr>\n",
       "  </tbody>\n",
       "</table>\n",
       "</div>"
      ],
      "text/plain": [
       "   # of Draws  Probability of drawing an ace at least once\n",
       "0           1                                     0.076923\n",
       "1           2                                     0.147929\n",
       "2           3                                     0.213473\n",
       "3           4                                     0.273975\n",
       "4           5                                     0.329823"
      ]
     },
     "execution_count": 42,
     "metadata": {},
     "output_type": "execute_result"
    }
   ],
   "source": [
    "nDraws =[]\n",
    "probs =[]\n",
    "\n",
    "for i in range(1,6,1):\n",
    "    nDraws.append(i)\n",
    "    probs.append(1-(48/52)**i) #probability of drawing an ace least once : 1-(48/52)\n",
    "\n",
    "DrawsDF = pd.DataFrame({\"# of Draws\": nDraws, \"Probability of drawing an ace at least once\": probs})\n",
    "DrawsDF"
   ]
  },
  {
   "cell_type": "code",
   "execution_count": 43,
   "metadata": {
    "collapsed": false,
    "jupyter": {
     "outputs_hidden": false
    }
   },
   "outputs": [
    {
     "data": {
      "text/html": [
       "<div>\n",
       "<style scoped>\n",
       "    .dataframe tbody tr th:only-of-type {\n",
       "        vertical-align: middle;\n",
       "    }\n",
       "\n",
       "    .dataframe tbody tr th {\n",
       "        vertical-align: top;\n",
       "    }\n",
       "\n",
       "    .dataframe thead th {\n",
       "        text-align: right;\n",
       "    }\n",
       "</style>\n",
       "<table border=\"1\" class=\"dataframe\">\n",
       "  <thead>\n",
       "    <tr style=\"text-align: right;\">\n",
       "      <th></th>\n",
       "      <th># of Draws</th>\n",
       "      <th>Probability of drawing an ace at least once</th>\n",
       "    </tr>\n",
       "  </thead>\n",
       "  <tbody>\n",
       "    <tr>\n",
       "      <th>0</th>\n",
       "      <td>1</td>\n",
       "      <td>0.076923</td>\n",
       "    </tr>\n",
       "    <tr>\n",
       "      <th>1</th>\n",
       "      <td>2</td>\n",
       "      <td>0.147929</td>\n",
       "    </tr>\n",
       "    <tr>\n",
       "      <th>2</th>\n",
       "      <td>3</td>\n",
       "      <td>0.213473</td>\n",
       "    </tr>\n",
       "    <tr>\n",
       "      <th>3</th>\n",
       "      <td>4</td>\n",
       "      <td>0.273975</td>\n",
       "    </tr>\n",
       "    <tr>\n",
       "      <th>4</th>\n",
       "      <td>5</td>\n",
       "      <td>0.329823</td>\n",
       "    </tr>\n",
       "    <tr>\n",
       "      <th>5</th>\n",
       "      <td>6</td>\n",
       "      <td>0.381375</td>\n",
       "    </tr>\n",
       "    <tr>\n",
       "      <th>6</th>\n",
       "      <td>7</td>\n",
       "      <td>0.428962</td>\n",
       "    </tr>\n",
       "    <tr>\n",
       "      <th>7</th>\n",
       "      <td>8</td>\n",
       "      <td>0.472888</td>\n",
       "    </tr>\n",
       "    <tr>\n",
       "      <th>8</th>\n",
       "      <td>9</td>\n",
       "      <td>0.513435</td>\n",
       "    </tr>\n",
       "    <tr>\n",
       "      <th>9</th>\n",
       "      <td>10</td>\n",
       "      <td>0.550863</td>\n",
       "    </tr>\n",
       "  </tbody>\n",
       "</table>\n",
       "</div>"
      ],
      "text/plain": [
       "   # of Draws  Probability of drawing an ace at least once\n",
       "0           1                                     0.076923\n",
       "1           2                                     0.147929\n",
       "2           3                                     0.213473\n",
       "3           4                                     0.273975\n",
       "4           5                                     0.329823\n",
       "5           6                                     0.381375\n",
       "6           7                                     0.428962\n",
       "7           8                                     0.472888\n",
       "8           9                                     0.513435\n",
       "9          10                                     0.550863"
      ]
     },
     "execution_count": 43,
     "metadata": {},
     "output_type": "execute_result"
    }
   ],
   "source": [
    "nDraws =[]\n",
    "probs =[]\n",
    "\n",
    "for i in range(1,11,1):\n",
    "    nDraws.append(i)\n",
    "    probs.append(1-(48/52)**i) #probability of drawing an ace least once : 1-(48/52)\n",
    "\n",
    "DrawsDF = pd.DataFrame({\"# of Draws\": nDraws, \"Probability of drawing an ace at least once\": probs})\n",
    "DrawsDF"
   ]
  },
  {
   "cell_type": "code",
   "execution_count": 44,
   "metadata": {
    "collapsed": false,
    "jupyter": {
     "outputs_hidden": false
    }
   },
   "outputs": [
    {
     "data": {
      "text/html": [
       "<div>\n",
       "<style scoped>\n",
       "    .dataframe tbody tr th:only-of-type {\n",
       "        vertical-align: middle;\n",
       "    }\n",
       "\n",
       "    .dataframe tbody tr th {\n",
       "        vertical-align: top;\n",
       "    }\n",
       "\n",
       "    .dataframe thead th {\n",
       "        text-align: right;\n",
       "    }\n",
       "</style>\n",
       "<table border=\"1\" class=\"dataframe\">\n",
       "  <thead>\n",
       "    <tr style=\"text-align: right;\">\n",
       "      <th></th>\n",
       "      <th># of Draws</th>\n",
       "      <th>Probability of drawing an ace at least once</th>\n",
       "    </tr>\n",
       "  </thead>\n",
       "  <tbody>\n",
       "    <tr>\n",
       "      <th>0</th>\n",
       "      <td>1</td>\n",
       "      <td>0.076923</td>\n",
       "    </tr>\n",
       "    <tr>\n",
       "      <th>1</th>\n",
       "      <td>2</td>\n",
       "      <td>0.147929</td>\n",
       "    </tr>\n",
       "    <tr>\n",
       "      <th>2</th>\n",
       "      <td>3</td>\n",
       "      <td>0.213473</td>\n",
       "    </tr>\n",
       "    <tr>\n",
       "      <th>3</th>\n",
       "      <td>4</td>\n",
       "      <td>0.273975</td>\n",
       "    </tr>\n",
       "    <tr>\n",
       "      <th>4</th>\n",
       "      <td>5</td>\n",
       "      <td>0.329823</td>\n",
       "    </tr>\n",
       "    <tr>\n",
       "      <th>5</th>\n",
       "      <td>6</td>\n",
       "      <td>0.381375</td>\n",
       "    </tr>\n",
       "    <tr>\n",
       "      <th>6</th>\n",
       "      <td>7</td>\n",
       "      <td>0.428962</td>\n",
       "    </tr>\n",
       "    <tr>\n",
       "      <th>7</th>\n",
       "      <td>8</td>\n",
       "      <td>0.472888</td>\n",
       "    </tr>\n",
       "    <tr>\n",
       "      <th>8</th>\n",
       "      <td>9</td>\n",
       "      <td>0.513435</td>\n",
       "    </tr>\n",
       "    <tr>\n",
       "      <th>9</th>\n",
       "      <td>10</td>\n",
       "      <td>0.550863</td>\n",
       "    </tr>\n",
       "    <tr>\n",
       "      <th>10</th>\n",
       "      <td>11</td>\n",
       "      <td>0.585412</td>\n",
       "    </tr>\n",
       "    <tr>\n",
       "      <th>11</th>\n",
       "      <td>12</td>\n",
       "      <td>0.617303</td>\n",
       "    </tr>\n",
       "    <tr>\n",
       "      <th>12</th>\n",
       "      <td>13</td>\n",
       "      <td>0.646742</td>\n",
       "    </tr>\n",
       "    <tr>\n",
       "      <th>13</th>\n",
       "      <td>14</td>\n",
       "      <td>0.673915</td>\n",
       "    </tr>\n",
       "    <tr>\n",
       "      <th>14</th>\n",
       "      <td>15</td>\n",
       "      <td>0.698999</td>\n",
       "    </tr>\n",
       "    <tr>\n",
       "      <th>15</th>\n",
       "      <td>16</td>\n",
       "      <td>0.722153</td>\n",
       "    </tr>\n",
       "    <tr>\n",
       "      <th>16</th>\n",
       "      <td>17</td>\n",
       "      <td>0.743525</td>\n",
       "    </tr>\n",
       "    <tr>\n",
       "      <th>17</th>\n",
       "      <td>18</td>\n",
       "      <td>0.763254</td>\n",
       "    </tr>\n",
       "    <tr>\n",
       "      <th>18</th>\n",
       "      <td>19</td>\n",
       "      <td>0.781466</td>\n",
       "    </tr>\n",
       "    <tr>\n",
       "      <th>19</th>\n",
       "      <td>20</td>\n",
       "      <td>0.798276</td>\n",
       "    </tr>\n",
       "  </tbody>\n",
       "</table>\n",
       "</div>"
      ],
      "text/plain": [
       "    # of Draws  Probability of drawing an ace at least once\n",
       "0            1                                     0.076923\n",
       "1            2                                     0.147929\n",
       "2            3                                     0.213473\n",
       "3            4                                     0.273975\n",
       "4            5                                     0.329823\n",
       "5            6                                     0.381375\n",
       "6            7                                     0.428962\n",
       "7            8                                     0.472888\n",
       "8            9                                     0.513435\n",
       "9           10                                     0.550863\n",
       "10          11                                     0.585412\n",
       "11          12                                     0.617303\n",
       "12          13                                     0.646742\n",
       "13          14                                     0.673915\n",
       "14          15                                     0.698999\n",
       "15          16                                     0.722153\n",
       "16          17                                     0.743525\n",
       "17          18                                     0.763254\n",
       "18          19                                     0.781466\n",
       "19          20                                     0.798276"
      ]
     },
     "execution_count": 44,
     "metadata": {},
     "output_type": "execute_result"
    }
   ],
   "source": [
    "nDraws =[]\n",
    "probs =[]\n",
    "\n",
    "for i in range(1,21,1):\n",
    "    nDraws.append(i)\n",
    "    probs.append(1-(48/52)**i) #probability of drawing an ace at least once : 1-(48/52)\n",
    "\n",
    "DrawsDF = pd.DataFrame({\"# of Draws\": nDraws, \"Probability of drawing an ace at least once\": probs})\n",
    "DrawsDF"
   ]
  },
  {
   "cell_type": "code",
   "execution_count": 45,
   "metadata": {
    "collapsed": false,
    "jupyter": {
     "outputs_hidden": false
    }
   },
   "outputs": [
    {
     "data": {
      "text/plain": [
       "<AxesSubplot:xlabel='# of Draws', ylabel='Probability of drawing an ace at least once'>"
      ]
     },
     "execution_count": 45,
     "metadata": {},
     "output_type": "execute_result"
    },
    {
     "data": {
      "image/png": "[encoded data removed]",
      "text/plain": [
       "<Figure size 432x288 with 1 Axes>"
      ]
     },
     "metadata": {
      "needs_background": "light"
     },
     "output_type": "display_data"
    }
   ],
   "source": [
    "DrawsDF.plot.scatter(x=\"# of Draws\", y=\"Probability of drawing an ace at least once\")"
   ]
  },
  {
   "cell_type": "markdown",
   "metadata": {},
   "source": [
    "___\n",
    "### Example: \n",
    "- A) Write a function to find the probability of an event in percentage form based on given outcomes and sample space\n",
    "- B) Use the function and compute the probability of rolling a 4 with a D6\n",
    "- C) Use the function and compute the probability of drawing a King from a standard deck of cards\n",
    "- D) Use the function and compute the probability of drawing the King of Hearts from a standard deck of cards\n",
    "- E) Use the function and compute the probability of drawing an ace after drawing a king\n",
    "- F) Use the function and compute the probability of drawing an ace after drawing an ace\n",
    "- G) Use the function and compute the probability of drawing a heart OR a club\n",
    "- F) Use the function and compute the probability of drawing a Royal Flush <br>\n",
    "*hint: (in poker) a straight flush including ace, king, queen, jack, and ten all in the same suit, which is the hand of the highest possible value\n",
    "\n",
    "__This problem is designed based on an example by *Daniel Poston* from DataCamp, accessible @ *https://www.datacamp.com/community/tutorials/statistics-python-tutorial-probability-1*__"
   ]
  },
  {
   "cell_type": "code",
   "execution_count": 46,
   "metadata": {
    "collapsed": false,
    "jupyter": {
     "outputs_hidden": false
    }
   },
   "outputs": [],
   "source": [
    "# A\n",
    "# Create function that returns probability percent rounded to one decimal place\n",
    "def Prob(outcome, sampspace):\n",
    "    probability = (outcome / sampspace) * 100\n",
    "    return round(probability, 1)"
   ]
  },
  {
   "cell_type": "code",
   "execution_count": 47,
   "metadata": {
    "collapsed": false,
    "jupyter": {
     "outputs_hidden": false
    }
   },
   "outputs": [
    {
     "data": {
      "text/plain": [
       "16.7"
      ]
     },
     "execution_count": 47,
     "metadata": {},
     "output_type": "execute_result"
    }
   ],
   "source": [
    "# B\n",
    "outcome = 1      #Rolling a 4 is only one of the possible outcomes\n",
    "space = 6       #Rolling a D6 can have 6 different outcomes\n",
    "Prob(outcome, space)"
   ]
  },
  {
   "cell_type": "code",
   "execution_count": 48,
   "metadata": {
    "collapsed": false,
    "jupyter": {
     "outputs_hidden": false
    }
   },
   "outputs": [
    {
     "data": {
      "text/plain": [
       "7.7"
      ]
     },
     "execution_count": 48,
     "metadata": {},
     "output_type": "execute_result"
    }
   ],
   "source": [
    "# C\n",
    "outcome = 4       #Drawing a king is four of the possible outcomes\n",
    "space = 52        #Drawing from a standard deck of cards can have 52 different outcomes\n",
    "Prob(outcome, space)"
   ]
  },
  {
   "cell_type": "code",
   "execution_count": 49,
   "metadata": {
    "collapsed": false,
    "jupyter": {
     "outputs_hidden": false
    }
   },
   "outputs": [
    {
     "data": {
      "text/plain": [
       "1.9"
      ]
     },
     "execution_count": 49,
     "metadata": {},
     "output_type": "execute_result"
    }
   ],
   "source": [
    "# D\n",
    "outcome = 1       #Drawing the king of hearts is only 1 of the possible outcomes\n",
    "space = 52        #Drawing from a standard deck of cards can have 52 different outcomes\n",
    "Prob(outcome, space)"
   ]
  },
  {
   "cell_type": "code",
   "execution_count": 50,
   "metadata": {
    "collapsed": false,
    "jupyter": {
     "outputs_hidden": false
    }
   },
   "outputs": [
    {
     "data": {
      "text/plain": [
       "7.8"
      ]
     },
     "execution_count": 50,
     "metadata": {},
     "output_type": "execute_result"
    }
   ],
   "source": [
    "# E\n",
    "outcome = 4       #Drawing an ace is 4 of the possible outcomes\n",
    "space = 51        #One card has been drawn\n",
    "Prob(outcome, space)"
   ]
  },
  {
   "cell_type": "code",
   "execution_count": 51,
   "metadata": {
    "collapsed": false,
    "jupyter": {
     "outputs_hidden": false
    }
   },
   "outputs": [
    {
     "data": {
      "text/plain": [
       "5.9"
      ]
     },
     "execution_count": 51,
     "metadata": {},
     "output_type": "execute_result"
    }
   ],
   "source": [
    "# F\n",
    "outcome = 3       #Once Ace is already drawn\n",
    "space = 51        #One card has been drawn\n",
    "Prob(outcome, space)"
   ]
  },
  {
   "cell_type": "code",
   "execution_count": 52,
   "metadata": {
    "collapsed": false,
    "jupyter": {
     "outputs_hidden": false
    }
   },
   "outputs": [
    {
     "name": "stdout",
     "output_type": "stream",
     "text": [
      "Probability of drawing a heart or a club is 50.0 %\n"
     ]
    }
   ],
   "source": [
    "# G\n",
    "hearts = 13       #13 cards of hearts in a deck\n",
    "space = 52        #total number of cards in a deck\n",
    "clubs = 13        #13 cards of clubs in a deck\n",
    "Prob_heartsORclubs= Prob(hearts, space) + Prob(clubs, space)\n",
    "print(\"Probability of drawing a heart or a club is\",Prob_heartsORclubs,\"%\")"
   ]
  },
  {
   "cell_type": "code",
   "execution_count": 53,
   "metadata": {
    "collapsed": false,
    "jupyter": {
     "outputs_hidden": false
    }
   },
   "outputs": [
    {
     "name": "stdout",
     "output_type": "stream",
     "text": [
      "Probability of drawing a royal flush is 1.5473203199999998e-06 %\n"
     ]
    }
   ],
   "source": [
    "# F\n",
    "draw1 = 5       #5 cards are needed\n",
    "space1 = 52        #out of the possible 52 cards\n",
    "draw2 = 4       #4 cards are needed\n",
    "space2 = 51        #out of the possible 51 cards\n",
    "draw3 = 3       #3 cards are needed\n",
    "space3 = 50        #out of the possible 50 cards\n",
    "draw4 = 2       #2 cards are needed\n",
    "space4 = 49        #out of the possible 49 cards\n",
    "draw5 = 1       #1 cards is needed\n",
    "space5 = 48        #out of the possible 48 cards\n",
    "\n",
    "#Probability of a getting a Royal Flush\n",
    "Prob_RF= 4*(Prob(draw1, space1)/100) * (Prob(draw2, space2)/100) * (Prob(draw3, space3)/100) * (Prob(draw4, space4)/100) * (Prob(draw5, space5)/100)     \n",
    "print(\"Probability of drawing a royal flush is\",Prob_RF,\"%\")"
   ]
  },
  {
   "cell_type": "markdown",
   "metadata": {},
   "source": [
    "___\n",
    "### Example: Two unbiased dice are thrown once and the total score is observed. Define an appropriate function and use a simulation to find the estimated probability that :\n",
    "- the total score is greater than 10?\n",
    "- the total score is even and greater than 7?\n",
    "\n",
    "\n",
    "__This problem is designed based on an example by *Elliott Saslow*\n",
    "from Medium.com, accessible @ *https://medium.com/future-vision/simulating-probability-events-in-python-5dd29e34e381*__"
   ]
  },
  {
   "cell_type": "code",
   "execution_count": 54,
   "metadata": {
    "collapsed": false,
    "jupyter": {
     "outputs_hidden": false
    }
   },
   "outputs": [
    {
     "name": "stdout",
     "output_type": "stream",
     "text": [
      "The probability of rolling a number greater than 10 after 10000 rolld is: 8.23 %\n"
     ]
    }
   ],
   "source": [
    "import numpy as np\n",
    "def DiceRoll1(nSimulation):\n",
    "    count =0\n",
    "    dice = np.array([1,2,3,4,5,6])         #create a numpy array with values of a D6\n",
    "    for i in range(nSimulation):\n",
    "        die1 = np.random.choice(dice,1)    #randomly selecting a value from dice - throw the D6 once\n",
    "        die2 = np.random.choice(dice,1)    #randomly selecting a value from dice - throw the D6 once again!\n",
    "        score = die1 + die2                #summing them up\n",
    "        if score > 10:                     #if it meets our desired condition:\n",
    "            count +=1                      #add one to the \"count\"\n",
    "    return count/nSimulation               #compute the probability of the desired event by dividing count by the total number of trials\n",
    "\n",
    "nSimulation = 10000\n",
    "print(\"The probability of rolling a number greater than 10 after\",nSimulation,\"rolld is:\",DiceRoll1(nSimulation)*100,\"%\")\n"
   ]
  },
  {
   "cell_type": "code",
   "execution_count": 55,
   "metadata": {
    "collapsed": false,
    "jupyter": {
     "outputs_hidden": false
    }
   },
   "outputs": [
    {
     "name": "stdout",
     "output_type": "stream",
     "text": [
      "The probability of rolling an even number and greater than 7 after 10000  rolls is: 24.87 %\n"
     ]
    }
   ],
   "source": [
    "import numpy as np\n",
    "def DiceRoll2(nSimulation):\n",
    "    count =0\n",
    "    dice = np.array([1,2,3,4,5,6])         #create a numpy array with values of a D6\n",
    "    for i in range(nSimulation):\n",
    "        die1 = np.random.choice(dice,1)    #randomly selecting a value from dice - throw the D6 once\n",
    "        die2 = np.random.choice(dice,1)    #randomly selecting a value from dice - throw the D6 once again!\n",
    "        score = die1 + die2\n",
    "        if score %2 ==0 and score > 7:      #the total score is even and greater than 7\n",
    "            count +=1\n",
    "    return count/nSimulation\n",
    "\n",
    "nSimulation = 10000\n",
    "print(\"The probability of rolling an even number and greater than 7 after\",nSimulation,\" rolls is:\",DiceRoll2(nSimulation)*100,\"%\")"
   ]
  },
  {
   "cell_type": "markdown",
   "metadata": {},
   "source": [
    "___\n",
    "### Example: An urn contains 10 white balls, 20 reds and 30 greens. We want to draw 5 balls with replacement. Use a simulation (10000 trials) to find the estimated probability that:\n",
    "- we draw 3 white and 2 red balls\n",
    "- we draw 5 balls of the same color\n",
    "\n",
    "\n",
    "__This problem is designed based on an example by *Elliott Saslow*\n",
    "from Medium.com, accessible @ *https://medium.com/future-vision/simulating-probability-events-in-python-5dd29e34e381*__"
   ]
  },
  {
   "cell_type": "code",
   "execution_count": 56,
   "metadata": {
    "collapsed": false,
    "jupyter": {
     "outputs_hidden": false
    }
   },
   "outputs": [
    {
     "name": "stdout",
     "output_type": "stream",
     "text": [
      "The probability of drawing 3 white and 2 red balls is 0.544 %\n"
     ]
    }
   ],
   "source": [
    "# A\n",
    "import numpy as np\n",
    "import random\n",
    "d = {}                     #Create an empty dictionary to associate numbers and colors\n",
    "for i in range(0,60,1):     #total of 60 balls\n",
    "    if i <10:                 #10 white balls\n",
    "        d[i]=\"White\"\n",
    "    elif i>9 and i<30:         #20 red balls\n",
    "        d[i]=\"Red\"\n",
    "    else:                         #60-30=30 green balls\n",
    "        d[i]=\"Green\"\n",
    "#\n",
    "nSimulation= 100000         #How many trials?\n",
    "outcome1= 0                #initial value on the desired outcome counter\n",
    "\n",
    "for i in range(nSimulation):\n",
    "    draw=[]                     #an empty list for the draws\n",
    "    for i in range(5):                               #how many balls we want to draw?\n",
    "        draw.append(d[random.randint(0,59)])         #randomly choose a number from 0 to 59- simulation of drawing balls\n",
    "    drawarray = np.array(draw)                       #convert the list into a numpy array\n",
    "    white = sum(drawarray== \"White\")                 #count the white balls\n",
    "    red = sum(drawarray== \"Red\")                     #count the red balls\n",
    "    green = sum(drawarray== \"Green\")                 #count the green balls\n",
    "    if white ==3 and red==2:                         #If the desired condition is met, add one to the counter\n",
    "        outcome1 +=1\n",
    "print(\"The probability of drawing 3 white and 2 red balls is\",(outcome1/nSimulation)*100,\"%\")"
   ]
  },
  {
   "cell_type": "code",
   "execution_count": 57,
   "metadata": {
    "collapsed": false,
    "jupyter": {
     "outputs_hidden": false
    }
   },
   "outputs": [
    {
     "name": "stdout",
     "output_type": "stream",
     "text": [
      "The probability of drawing 3 white and 2 red balls is 0.6 %\n",
      "The probability of drawing 5 balls of the same color is 3.54 %\n"
     ]
    }
   ],
   "source": [
    "# B\n",
    "import numpy as np\n",
    "import random\n",
    "d = {}\n",
    "for i in range(0,60,1):\n",
    "    if i <10:\n",
    "        d[i]=\"White\"\n",
    "    elif i>9 and i<30:\n",
    "        d[i]=\"Red\"\n",
    "    else:\n",
    "        d[i]=\"Green\"\n",
    "#\n",
    "nSimulation= 10000\n",
    "outcome1= 0\n",
    "outcome2= 0         #we can consider multiple desired outcomes\n",
    "\n",
    "\n",
    "for i in range(nSimulation):\n",
    "    draw=[]\n",
    "    for i in range(5):\n",
    "        draw.append(d[random.randint(0,59)])\n",
    "    drawarray = np.array(draw)\n",
    "    white = sum(drawarray== \"White\")\n",
    "    red = sum(drawarray== \"Red\")\n",
    "    green = sum(drawarray== \"Green\")\n",
    "    if white ==3 and red==2:\n",
    "        outcome1 +=1\n",
    "    if white ==5 or red==5 or green==5:\n",
    "        outcome2 +=1\n",
    "\n",
    "print(\"The probability of drawing 3 white and 2 red balls is\",(outcome1/nSimulation)*100,\"%\")\n",
    "print(\"The probability of drawing 5 balls of the same color is\",(outcome2/nSimulation)*100,\"%\")\n"
   ]
  },
  {
   "cell_type": "markdown",
   "metadata": {},
   "source": [
    "___\n",
    "![](https://media2.giphy.com/media/5nj4ZZWl6QwneEaBX4/source.gif) <br>\n",
    "\n",
    "*Here are some of the resources used for creating this notebook:* \n",
    "\n",
    "\n",
    "- __\"Poker Probability and Statistics with Python\"__ by __Daniel Poston__ available at *https://www.datacamp.com/community/tutorials/statistics-python-tutorial-probability-1*<br>\n",
    "- __\"Simulating probability events in Python\"__ by __Elliott Saslow__ available at *https://medium.com/future-vision/simulating-probability-events-in-python-5dd29e34e381*<br>\n",
    "\n",
    "\n",
    "*Here are some great reads on this topic:* \n",
    "- __\"Simulate the Monty Hall Problem Using Python\"__ by __randerson112358__ available at *https://medium.com/swlh/simulate-the-monty-hall-problem-using-python-7b76b943640e* <br>\n",
    "- __\"The Monty Hall problem\"__ available at *https://scipython.com/book/chapter-4-the-core-python-language-ii/examples/the-monty-hall-problem/*<br>\n",
    "- __\"Introduction to Probability Using Python\"__ by __Lisandra Melo__ available at *https://medium.com/future-vision/simulating-probability-events-in-python-5dd29e34e381* <br>\n",
    "- __\"Introduction to probability and statistics for Data Scientists and machine learning using python : Part-1\"__ by __Arun Singh__ available at *https://medium.com/@anayan/introduction-to-probability-and-statistics-for-data-scientists-and-machine-learning-using-python-377a9b082487*<br>\n",
    "\n",
    "*Here are some great videos on these topics:* \n",
    "- __\"Monty Hall Problem - Numberphile\"__ by __Numberphile__ available at *https://www.youtube.com/watch?v=4Lb-6rxZxx0* <br>\n",
    "- __\"The Monty Hall Problem\"__ by __D!NG__ available at *https://www.youtube.com/watch?v=TVq2ivVpZgQ* <br>\n",
    "- __\"21 - Monty Hall - PROPENSITY BASED THEORETICAL MODEL PROBABILITY - MATHEMATICS in the MOVIES\"__ by __Motivating Mathematical Education and STEM__ available at *https://www.youtube.com/watch?v=iBdjqtR2iK4* <br>\n",
    "- __\"The Monty Hall Problem\"__ by __niansenx__ available at *https://www.youtube.com/watch?v=mhlc7peGlGg* <br>\n",
    "- __\"The Monty Hall Problem - Explained\"__ by __AsapSCIENCE__ available at *https://www.youtube.com/watch?v=9vRUxbzJZ9Y* <br>\n",
    "- __\"Introduction to Probability | 365 Data Science Online Course\"__ by __365 Data Science__ available at *https://www.youtube.com/watch?v=soZRfdnkUQg* <br>\n",
    "- __\"Probability explained | Independent and dependent events | Probability and Statistics | Khan Academy\"__ by __Khan Academy__ available at *https://www.youtube.com/watch?v=uzkc-qNVoOk* <br>\n",
    "- __\"Math Antics - Basic Probability\"__ by __mathantics__ available at *https://www.youtube.com/watch?v=KzfWUEJjG18* <br>"
   ]
  },
  {
   "cell_type": "markdown",
   "metadata": {},
   "source": [
    "___\n",
    "![](https://media2.giphy.com/media/dNgK7Ws7y176U/200.gif) <br>\n"
   ]
  },
  {
   "cell_type": "markdown",
   "metadata": {},
   "source": [
    "## Exercise 1: Risk or Probability  <br>\n",
    "\n",
    "### Are they the same? Are they different? Discuss your opinion. \n",
    "\n",
    "#### _Make sure to cite any resources that you may use._ "
   ]
  },
  {
   "cell_type": "markdown",
   "metadata": {},
   "source": [
    "The probability states that they will be different, but not by a lot as theyre very close to being .5."
   ]
  },
  {
   "cell_type": "markdown",
   "metadata": {},
   "source": [
    "![](https://cdn.quotes.pub/660x400/thats-too-bad-mr-hall-said-opening-door-579647.jpg)"
   ]
  }
 ],
 "metadata": {
  "kernelspec": {
   "display_name": "Python 3",
   "language": "python",
   "name": "python3"
  },
  "language_info": {
   "codemirror_mode": {
    "name": "ipython",
    "version": 3
   },
   "file_extension": ".py",
   "mimetype": "text/x-python",
   "name": "python",
   "nbconvert_exporter": "python",
   "pygments_lexer": "ipython3",
   "version": "3.8.5"
  }
 },
 "nbformat": 4,
 "nbformat_minor": 4
}
