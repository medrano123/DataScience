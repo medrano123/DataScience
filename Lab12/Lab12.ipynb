{
 "cells": [
  {
   "cell_type": "markdown",
   "metadata": {},
   "source": [
    "**Download** (right-click, save target as ...) this page as a jupyterlab notebook from: [Lab12](http://54.243.252.9/engr-1330-webroot/8-Labs/Lab12/Lab12.ipynb)\n",
    "\n",
    "___"
   ]
  },
  {
   "cell_type": "markdown",
   "metadata": {},
   "source": [
    "# <font color=darkred>Laboratory 12: Practice with Pandas </font>\n",
    "\n",
    "***Medrano, Giovanni**\n",
    "\n",
    "**R11521018**\n",
    "\n",
    "ENGR 1330 Laboratory 12 - In-Lab"
   ]
  },
  {
   "cell_type": "markdown",
   "metadata": {},
   "source": [
    "## Exercise 1\n",
    "Profile your computer\n",
    "\n",
    "Run the script below exactly as written"
   ]
  },
  {
   "cell_type": "code",
   "execution_count": 1,
   "metadata": {},
   "outputs": [
    {
     "name": "stdout",
     "output_type": "stream",
     "text": [
      "DESKTOP-6HAS1BN\n",
      "desktop-6has1bn\\medraC:\\Users\\medra\\anaconda3\\python.exe\n",
      "\n"
     ]
    }
   ],
   "source": [
    "import sys\n",
    "! hostname\n",
    "! whoami\n",
    "print(sys.executable)"
   ]
  },
  {
   "cell_type": "markdown",
   "metadata": {},
   "source": [
    "---\n",
    "\n",
    "## Example\n",
    "\n",
    "Population Lines\n",
    "\n",
    "Use pandas to read a dataframe from the file [http://54.243.252.9/engr-1330-webroot/4-Databases/census_18.csv](http://54.243.252.9/engr-1330-webroot/4-Databases/census_18.csv).  \n",
    "Then produce a line plot of the counts by age for the 2010 census, x-axis will be the series `age`, y-axis will be the census values for `2010`."
   ]
  },
  {
   "cell_type": "code",
   "execution_count": 2,
   "metadata": {},
   "outputs": [],
   "source": [
    "# get the file (using requests, or just download to your computer by hand)\n",
    "import requests # Module to process http/https requests\n",
    "#\n",
    "remote_url=\"http://54.243.252.9/engr-1330-webroot/4-Databases/census_18.csv\"  # set the url\n",
    "rget = requests.get(remote_url, allow_redirects=True)  # get the remote resource, follow imbedded links\n",
    "#\n",
    "junk = open('census_18.csv','wb').write(rget.content) # extract from the remote the contents, assign to a local file same name"
   ]
  },
  {
   "cell_type": "code",
   "execution_count": 3,
   "metadata": {},
   "outputs": [
    {
     "data": {
      "text/html": [
       "<div>\n",
       "<style scoped>\n",
       "    .dataframe tbody tr th:only-of-type {\n",
       "        vertical-align: middle;\n",
       "    }\n",
       "\n",
       "    .dataframe tbody tr th {\n",
       "        vertical-align: top;\n",
       "    }\n",
       "\n",
       "    .dataframe thead th {\n",
       "        text-align: right;\n",
       "    }\n",
       "</style>\n",
       "<table border=\"1\" class=\"dataframe\">\n",
       "  <thead>\n",
       "    <tr style=\"text-align: right;\">\n",
       "      <th></th>\n",
       "      <th>AGE</th>\n",
       "      <th>2010</th>\n",
       "      <th>2014</th>\n",
       "    </tr>\n",
       "  </thead>\n",
       "  <tbody>\n",
       "    <tr>\n",
       "      <th>0</th>\n",
       "      <td>0</td>\n",
       "      <td>3951330</td>\n",
       "      <td>3949775</td>\n",
       "    </tr>\n",
       "    <tr>\n",
       "      <th>1</th>\n",
       "      <td>1</td>\n",
       "      <td>3957888</td>\n",
       "      <td>3949776</td>\n",
       "    </tr>\n",
       "    <tr>\n",
       "      <th>2</th>\n",
       "      <td>2</td>\n",
       "      <td>4090862</td>\n",
       "      <td>3959664</td>\n",
       "    </tr>\n",
       "    <tr>\n",
       "      <th>3</th>\n",
       "      <td>3</td>\n",
       "      <td>4111920</td>\n",
       "      <td>4007079</td>\n",
       "    </tr>\n",
       "    <tr>\n",
       "      <th>4</th>\n",
       "      <td>4</td>\n",
       "      <td>4077551</td>\n",
       "      <td>4005716</td>\n",
       "    </tr>\n",
       "  </tbody>\n",
       "</table>\n",
       "</div>"
      ],
      "text/plain": [
       "   AGE     2010     2014\n",
       "0    0  3951330  3949775\n",
       "1    1  3957888  3949776\n",
       "2    2  4090862  3959664\n",
       "3    3  4111920  4007079\n",
       "4    4  4077551  4005716"
      ]
     },
     "execution_count": 3,
     "metadata": {},
     "output_type": "execute_result"
    }
   ],
   "source": [
    "# read the file into a dataframe\n",
    "import pandas as pd\n",
    "df = pd.read_csv('census_18.csv')\n",
    "df.head() # Examine dataframe layout"
   ]
  },
  {
   "cell_type": "code",
   "execution_count": 4,
   "metadata": {},
   "outputs": [
    {
     "data": {
      "text/plain": [
       "<AxesSubplot:xlabel='AGE'>"
      ]
     },
     "execution_count": 4,
     "metadata": {},
     "output_type": "execute_result"
    },
    {
     "data": {
      "image/png": "[encoded data removed]",
      "text/plain": [
       "<Figure size 432x288 with 1 Axes>"
      ]
     },
     "metadata": {
      "needs_background": "light"
     },
     "output_type": "display_data"
    }
   ],
   "source": [
    "# plotting \n",
    "df.plot.line(x=\"AGE\", y=\"2010\", label=\"duh\", c=\"blue\")# Make a plot fill in the parameters"
   ]
  },
  {
   "cell_type": "markdown",
   "metadata": {},
   "source": [
    "---\n",
    "\n",
    "## Exercise 2: \n",
    "Using your dataframe from above, plot both the 2010 and 2014 census values by age. Plot the 2010 distribution in blue and the 2014 distribution in red."
   ]
  },
  {
   "cell_type": "code",
   "execution_count": 7,
   "metadata": {},
   "outputs": [
    {
     "data": {
      "text/plain": [
       "<AxesSubplot:xlabel='AGE'>"
      ]
     },
     "execution_count": 7,
     "metadata": {},
     "output_type": "execute_result"
    },
    {
     "data": {
      "image/png": "[encoded data removed]",
      "text/plain": [
       "<Figure size 432x288 with 1 Axes>"
      ]
     },
     "metadata": {
      "needs_background": "light"
     },
     "output_type": "display_data"
    }
   ],
   "source": [
    "ax = df.plot.line(x=\"AGE\", y=\"2010\", label=\"2010 DATA\", c=\"blue\") # fill in the parameters\n",
    "df.plot.line(x=\"AGE\", y=\"2014\", label=\"2014 DATA\", c=\"red\", ax=ax)"
   ]
  },
  {
   "cell_type": "markdown",
   "metadata": {},
   "source": [
    "## Exercise 3. \n",
    "\n",
    "1. What is population for age = 9 for the 2010 census?\n",
    "2. What is population for age = 9 for the 2014 census?\n",
    "3. Is the portion of population over 9 years old increasing? decreasing? staying the same?"
   ]
  },
  {
   "cell_type": "code",
   "execution_count": 15,
   "metadata": {},
   "outputs": [
    {
     "name": "stdout",
     "output_type": "stream",
     "text": [
      "<class 'pandas.core.series.Series'>\n",
      "Population for age = 9 for 2010 is: 4125415\n",
      "Population for age = 9 for 2014 is: 4125415\n",
      "Increasing prop\n"
     ]
    }
   ],
   "source": [
    "# your code here\n",
    "print(type(df['AGE']==9))\n",
    "all9YoData = df[df['AGE']==9]\n",
    "\n",
    "print('Population for age = 9 for 2010 is:', all9YoData.loc[9,'2010'])\n",
    "\n",
    "print('Population for age = 9 for 2014 is:', all9YoData.loc[9,'2010'])\n",
    "\n",
    "total2010 = df['2010'].sum()\n",
    "total2014 = df['2014'].sum()\n",
    "\n",
    "p2010 = all9YoData.loc[9,'2010'] / total2010\n",
    "p2014 = all9YoData.loc[9,'2014'] / total2014\n",
    "\n",
    "if( p2010 < p2014):\n",
    "    print('Increasing prop')\n",
    "elif(p2010 > p2014):\n",
    "    print('Deacreasing prop')\n",
    "else:\n",
    "    print('Proportionally staying the same')"
   ]
  },
  {
   "cell_type": "markdown",
   "metadata": {},
   "source": [
    "### Bonus\n",
    "Put the new histogram and the previous one next to each other and explain what you can infer by comparing them."
   ]
  },
  {
   "cell_type": "markdown",
   "metadata": {},
   "source": []
  }
 ],
 "metadata": {
  "kernelspec": {
   "display_name": "Python 3",
   "language": "python",
   "name": "python3"
  },
  "language_info": {
   "codemirror_mode": {
    "name": "ipython",
    "version": 3
   },
   "file_extension": ".py",
   "mimetype": "text/x-python",
   "name": "python",
   "nbconvert_exporter": "python",
   "pygments_lexer": "ipython3",
   "version": "3.8.5"
  }
 },
 "nbformat": 4,
 "nbformat_minor": 4
}
