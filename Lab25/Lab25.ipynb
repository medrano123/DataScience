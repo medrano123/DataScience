{
 "cells": [
  {
   "cell_type": "markdown",
   "metadata": {},
   "source": [
    "**Download** (right-click, save target as ...) this page as a jupyterlab notebook from: [Lab25](http://54.243.252.9/engr-1330-webroot/8-Labs/Lab25/Lab25.ipynb)\n",
    "\n",
    "___"
   ]
  },
  {
   "cell_type": "markdown",
   "metadata": {},
   "source": [
    "# <font color=green>Laboratory 25: \"Probability-Magnitude Data Models\"</font>\n",
    "\n",
    "\n",
    "**Medrano, Giovanni**\n",
    "\n",
    "**R11521018**\n",
    "\n",
    "ENGR 1330 Laboratory 25 "
   ]
  },
  {
   "cell_type": "markdown",
   "metadata": {},
   "source": [
    "<hr>\n",
    "\n",
    "### Important Terminology:\n",
    "__Population:__ In statistics, a population is the entire pool from which a statistical sample is drawn. A population may refer to an entire group of people, objects, events, hospital visits, or measurements. <br>\n",
    "__Sample:__ In statistics and quantitative research methodology, a sample is a set of individuals or objects collected or selected from a statistical population by a defined procedure. The elements of a sample are known as sample points, sampling units or observations.<br>\n",
    "__Distribution (Data Model):__ A data distribution is a function or a listing which shows all the possible values (or intervals) of the data. It also (and this is important) tells you how often each value occurs. <br>\n",
    "\n",
    "__*From https://www.investopedia.com/terms*__<br>\n",
    "__*https://www.statisticshowto.com/data-distribution/*__"
   ]
  },
  {
   "cell_type": "markdown",
   "metadata": {
    "jupyter": {
     "outputs_hidden": false
    }
   },
   "source": [
    "### Important Steps:\n",
    "1. __Get descriptive statistics- mean, variance, std. dev.__\n",
    "2. __Use plotting position formulas (e.g., weibull) and plot the SAMPLES (data you already have)__\n",
    "3. __Use different data models (e.g., normal, log-normal, Gumbell) and find the one that better FITs your samples- Visual or Numerical__\n",
    "4. __Use the data model that provides the best fit to infer about the POPULATION__"
   ]
  },
  {
   "cell_type": "markdown",
   "metadata": {},
   "source": [
    "# Estimate the magnitude of the annual peak flow at Spring Ck near Spring, TX.\n",
    "\n",
    "The file [08068500.pkf](http://54.243.252.9/engr-1330-webroot/4-Databases/08068500.pkf)  is an actual WATSTORE formatted file for a USGS gage at Spring Creek, Texas. The first few lines of the file look like:\n",
    "\n",
    "    Z08068500                       USGS \n",
    "    H08068500       3006370952610004848339SW12040102409    409     72.6             \n",
    "    N08068500       Spring Ck nr Spring, TX\n",
    "    Y08068500       \n",
    "    308068500       19290530  483007              34.30        1879          \n",
    "    308068500       19390603    838               13.75                    \n",
    "    308068500       19400612   3420               21.42                    \n",
    "    308068500       19401125  42700               33.60                    \n",
    "    308068500       19420409  14200               27.78                    \n",
    "    308068500       19430730   8000               25.09                    \n",
    "    308068500       19440319   5260               23.15                    \n",
    "    308068500       19450830  31100               32.79                    \n",
    "    308068500       19460521  12200               27.97                 \n",
    "    \n",
    "The first column are some agency codes that identify the station , the second column after the fourth row is a date in YYYYMMDD format, the third column is a discharge in CFS, the fourth and fifth column are not relevant for this laboratory exercise.  The file was downloadef from\n",
    "\n",
    "https://nwis.waterdata.usgs.gov/tx/nwis/peak?site_no=08068500&agency_cd=USGS&format=hn2\n",
    "\n",
    "In the original file there are a couple of codes that are manually removed:\n",
    "\n",
    "- 19290530  483007;  the trailing 7 is a code identifying a break in the series (non-sequential)\n",
    "- 20170828  784009; the trailing 9 identifies the historical peak\n",
    "\n",
    "The laboratory task is to fit the data models to this data, decide the best model from visual perspective, and report from that data model the magnitudes of peak flow associated with the probebilitiess below (i.e. populate the table)\n",
    "\n",
    "|Exceedence Probability|Flow Value|Remarks|\n",
    "|:---|:---|:---|\n",
    "|25% |????| 75% chance of greater value|           \n",
    "|50% |????| 50% chance of greater value|            \n",
    "|75% |????| 25% chance of greater value|            \n",
    "|90% |????| 10% chance of greater value|\n",
    "|99% |????| 1% chance of greater value (in flood statistics, this is the 1 in 100-yr chance event)|\n",
    "|99.8%|????| 0.002% chance of greater value (in flood statistics, this is the 1 in 500-yr chance event)|\n",
    "|99.9%|????| 0.001% chance of greater value (in flood statistics, this is the 1 in 1000-yr chance event)|\n",
    "\n",
    "The first step is to read the file, skipping the first part, then build a dataframe:\n"
   ]
  },
  {
   "cell_type": "code",
   "execution_count": 1,
   "metadata": {
    "collapsed": false,
    "jupyter": {
     "outputs_hidden": false
    }
   },
   "outputs": [],
   "source": [
    "# Get the datafile\n",
    "# Read the data file\n",
    "amatrix = [] # null list to store matrix reads\n",
    "rowNumA = 0\n",
    "matrix1=[]\n",
    "col0=[]\n",
    "col1=[]\n",
    "col2=[]\n",
    "with open('08068500.pkf','r') as afile:\n",
    "    lines_after_4 = afile.readlines()[4:]\n",
    "afile.close() # Disconnect the file\n",
    "howmanyrows = len(lines_after_4)\n",
    "for i in range(howmanyrows):\n",
    "    matrix1.append(lines_after_4[i].strip().split())\n",
    "for i in range(howmanyrows):\n",
    "    col0.append(matrix1[i][0])\n",
    "    col1.append(matrix1[i][1])\n",
    "    col2.append(matrix1[i][2])\n",
    "# col2 is date, col3 is peak flow\n",
    "#now build a datafranem"
   ]
  },
  {
   "cell_type": "code",
   "execution_count": 5,
   "metadata": {
    "collapsed": false,
    "jupyter": {
     "outputs_hidden": false
    }
   },
   "outputs": [],
   "source": [
    "import pandas \n",
    "df = pandas.DataFrame(col0)\n",
    "df['date']= col1\n",
    "df['date']=df['date'].astype(int)\n",
    "df['flow']= col2\n",
    "df['flow']=df['flow'].astype(int)\n"
   ]
  },
  {
   "cell_type": "code",
   "execution_count": 6,
   "metadata": {
    "collapsed": false,
    "jupyter": {
     "outputs_hidden": false
    }
   },
   "outputs": [
    {
     "data": {
      "text/html": [
       "<div>\n",
       "<style scoped>\n",
       "    .dataframe tbody tr th:only-of-type {\n",
       "        vertical-align: middle;\n",
       "    }\n",
       "\n",
       "    .dataframe tbody tr th {\n",
       "        vertical-align: top;\n",
       "    }\n",
       "\n",
       "    .dataframe thead th {\n",
       "        text-align: right;\n",
       "    }\n",
       "</style>\n",
       "<table border=\"1\" class=\"dataframe\">\n",
       "  <thead>\n",
       "    <tr style=\"text-align: right;\">\n",
       "      <th></th>\n",
       "      <th>0</th>\n",
       "      <th>date</th>\n",
       "      <th>flow</th>\n",
       "    </tr>\n",
       "  </thead>\n",
       "  <tbody>\n",
       "    <tr>\n",
       "      <th>0</th>\n",
       "      <td>308068500</td>\n",
       "      <td>19290530</td>\n",
       "      <td>48300</td>\n",
       "    </tr>\n",
       "    <tr>\n",
       "      <th>1</th>\n",
       "      <td>308068500</td>\n",
       "      <td>19390603</td>\n",
       "      <td>838</td>\n",
       "    </tr>\n",
       "    <tr>\n",
       "      <th>2</th>\n",
       "      <td>308068500</td>\n",
       "      <td>19400612</td>\n",
       "      <td>3420</td>\n",
       "    </tr>\n",
       "    <tr>\n",
       "      <th>3</th>\n",
       "      <td>308068500</td>\n",
       "      <td>19401125</td>\n",
       "      <td>42700</td>\n",
       "    </tr>\n",
       "    <tr>\n",
       "      <th>4</th>\n",
       "      <td>308068500</td>\n",
       "      <td>19420409</td>\n",
       "      <td>14200</td>\n",
       "    </tr>\n",
       "  </tbody>\n",
       "</table>\n",
       "</div>"
      ],
      "text/plain": [
       "           0      date   flow\n",
       "0  308068500  19290530  48300\n",
       "1  308068500  19390603    838\n",
       "2  308068500  19400612   3420\n",
       "3  308068500  19401125  42700\n",
       "4  308068500  19420409  14200"
      ]
     },
     "execution_count": 6,
     "metadata": {},
     "output_type": "execute_result"
    }
   ],
   "source": [
    "df.head()"
   ]
  },
  {
   "cell_type": "code",
   "execution_count": 7,
   "metadata": {},
   "outputs": [
    {
     "data": {
      "text/html": [
       "<div>\n",
       "<style scoped>\n",
       "    .dataframe tbody tr th:only-of-type {\n",
       "        vertical-align: middle;\n",
       "    }\n",
       "\n",
       "    .dataframe tbody tr th {\n",
       "        vertical-align: top;\n",
       "    }\n",
       "\n",
       "    .dataframe thead th {\n",
       "        text-align: right;\n",
       "    }\n",
       "</style>\n",
       "<table border=\"1\" class=\"dataframe\">\n",
       "  <thead>\n",
       "    <tr style=\"text-align: right;\">\n",
       "      <th></th>\n",
       "      <th>date</th>\n",
       "      <th>flow</th>\n",
       "    </tr>\n",
       "  </thead>\n",
       "  <tbody>\n",
       "    <tr>\n",
       "      <th>count</th>\n",
       "      <td>8.000000e+01</td>\n",
       "      <td>80.000000</td>\n",
       "    </tr>\n",
       "    <tr>\n",
       "      <th>mean</th>\n",
       "      <td>1.977249e+07</td>\n",
       "      <td>11197.800000</td>\n",
       "    </tr>\n",
       "    <tr>\n",
       "      <th>std</th>\n",
       "      <td>2.338980e+05</td>\n",
       "      <td>15022.831582</td>\n",
       "    </tr>\n",
       "    <tr>\n",
       "      <th>min</th>\n",
       "      <td>1.929053e+07</td>\n",
       "      <td>381.000000</td>\n",
       "    </tr>\n",
       "    <tr>\n",
       "      <th>25%</th>\n",
       "      <td>1.957772e+07</td>\n",
       "      <td>3360.000000</td>\n",
       "    </tr>\n",
       "    <tr>\n",
       "      <th>50%</th>\n",
       "      <td>1.977552e+07</td>\n",
       "      <td>7190.000000</td>\n",
       "    </tr>\n",
       "    <tr>\n",
       "      <th>75%</th>\n",
       "      <td>1.997276e+07</td>\n",
       "      <td>11500.000000</td>\n",
       "    </tr>\n",
       "    <tr>\n",
       "      <th>max</th>\n",
       "      <td>2.017083e+07</td>\n",
       "      <td>78800.000000</td>\n",
       "    </tr>\n",
       "  </tbody>\n",
       "</table>\n",
       "</div>"
      ],
      "text/plain": [
       "               date          flow\n",
       "count  8.000000e+01     80.000000\n",
       "mean   1.977249e+07  11197.800000\n",
       "std    2.338980e+05  15022.831582\n",
       "min    1.929053e+07    381.000000\n",
       "25%    1.957772e+07   3360.000000\n",
       "50%    1.977552e+07   7190.000000\n",
       "75%    1.997276e+07  11500.000000\n",
       "max    2.017083e+07  78800.000000"
      ]
     },
     "execution_count": 7,
     "metadata": {},
     "output_type": "execute_result"
    }
   ],
   "source": [
    "df.describe()"
   ]
  },
  {
   "cell_type": "code",
   "execution_count": 8,
   "metadata": {},
   "outputs": [
    {
     "data": {
      "text/plain": [
       "pandas.core.series.Series"
      ]
     },
     "execution_count": 8,
     "metadata": {},
     "output_type": "execute_result"
    }
   ],
   "source": [
    "type(df['date'])"
   ]
  },
  {
   "cell_type": "markdown",
   "metadata": {},
   "source": [
    "Now explore if you can plot the dataframe as a plot of peaks versus date."
   ]
  },
  {
   "cell_type": "code",
   "execution_count": 9,
   "metadata": {},
   "outputs": [
    {
     "data": {
      "text/plain": [
       "<AxesSubplot:>"
      ]
     },
     "execution_count": 9,
     "metadata": {},
     "output_type": "execute_result"
    },
    {
     "data": {
      "image/png": "[encoded data removed]",
      "text/plain": [
       "<Figure size 432x288 with 1 Axes>"
      ]
     },
     "metadata": {
      "needs_background": "light"
     },
     "output_type": "display_data"
    }
   ],
   "source": [
    "df.plot()"
   ]
  },
  {
   "cell_type": "code",
   "execution_count": 10,
   "metadata": {},
   "outputs": [],
   "source": [
    "def normdensity(x,mu,sigma):\n",
    "    weight = 1.0 /(sigma * math.sqrt(2.0*math.pi))\n",
    "    argument = ((x - mu)**2)/(2.0*sigma**2)\n",
    "    normdensity = weight*math.exp(-1.0*argument)\n",
    "    return normdensity\n",
    "\n",
    "def normdist(x,mu,sigma):\n",
    "    argument = (x - mu)/(math.sqrt(2.0)*sigma)    \n",
    "    normdist = (1.0 + math.erf(argument))/2.0\n",
    "    return normdist"
   ]
  },
  {
   "cell_type": "code",
   "execution_count": 12,
   "metadata": {
    "collapsed": false,
    "jupyter": {
     "outputs_hidden": false
    }
   },
   "outputs": [
    {
     "data": {
      "image/png": "[encoded data removed]",
      "text/plain": [
       "<Figure size 504x648 with 1 Axes>"
      ]
     },
     "metadata": {
      "needs_background": "light"
     },
     "output_type": "display_data"
    }
   ],
   "source": [
    "# Plot here\n",
    "import numpy\n",
    "import math\n",
    "import matplotlib.pyplot # the python plotting library\n",
    "\n",
    "\n",
    "sample = df['flow'].tolist() # put the peaks into a list\n",
    "sample_mean = numpy.array(sample).mean()\n",
    "sample_variance = numpy.array(sample).std()**2\n",
    "sample.sort() # sort the sample in place!\n",
    "weibull_pp = [] # built a relative frequency approximation to probability, assume each pick is equally likely\n",
    "for i in range(0,len(sample),1):\n",
    "    weibull_pp.append((i+1)/(len(sample)+1))\n",
    "################\n",
    "mu = sample_mean # Fitted Model\n",
    "sigma = math.sqrt(sample_variance)\n",
    "x = []; ycdf = []\n",
    "xlow = 0; xhigh = 1.2*max(sample) ; howMany = 100\n",
    "xstep = (xhigh - xlow)/howMany\n",
    "for i in range(0,howMany+1,1):\n",
    "    x.append(xlow + i*xstep)\n",
    "    yvalue = normdist(xlow + i*xstep,mu,sigma)\n",
    "    ycdf.append(yvalue) \n",
    "# Now plot the sample values and plotting position\n",
    "myfigure = matplotlib.pyplot.figure(figsize = (7,9)) # generate a object from the figure class, set aspect ratio\n",
    "matplotlib.pyplot.scatter(weibull_pp, sample ,color ='blue') \n",
    "matplotlib.pyplot.plot(ycdf, x, color ='red') \n",
    "matplotlib.pyplot.xlabel(\"Quantile Value\") \n",
    "matplotlib.pyplot.ylabel(\"Value of RV\") \n",
    "mytitle = \"Normal Distribution Data Model sample mean = : \" + str(sample_mean)+ \" sample variance =:\" + str(sample_variance)\n",
    "matplotlib.pyplot.title(mytitle) \n",
    "matplotlib.pyplot.show()"
   ]
  },
  {
   "cell_type": "markdown",
   "metadata": {},
   "source": [
    "From here on you can proceede using the lecture notebook as a go-by, although you should use functions as much as practical to keep your work concise"
   ]
  },
  {
   "cell_type": "code",
   "execution_count": 34,
   "metadata": {
    "collapsed": false,
    "jupyter": {
     "outputs_hidden": false
    }
   },
   "outputs": [
    {
     "data": {
      "text/plain": [
       "count       80.000000\n",
       "mean     11197.800000\n",
       "std      15022.831582\n",
       "min        381.000000\n",
       "25%       3360.000000\n",
       "50%       7190.000000\n",
       "75%      11500.000000\n",
       "max      78800.000000\n",
       "Name: flow, dtype: float64"
      ]
     },
     "execution_count": 34,
     "metadata": {},
     "output_type": "execute_result"
    }
   ],
   "source": [
    "# Descriptive Statistics \n",
    "df['flow'].describe()"
   ]
  },
  {
   "cell_type": "code",
   "execution_count": 35,
   "metadata": {
    "collapsed": false,
    "jupyter": {
     "outputs_hidden": false
    }
   },
   "outputs": [
    {
     "name": "stdout",
     "output_type": "stream",
     "text": [
      "11197.8 14928.64362174273\n",
      "0.41519334019257514\n"
     ]
    }
   ],
   "source": [
    "myguess = 8000\n",
    "print(mu,sigma)\n",
    "print(normdist(myguess,mu,sigma))"
   ]
  },
  {
   "cell_type": "code",
   "execution_count": 37,
   "metadata": {
    "collapsed": false,
    "jupyter": {
     "outputs_hidden": false
    }
   },
   "outputs": [
    {
     "name": "stdout",
     "output_type": "stream",
     "text": [
      "1065.0540790190107\n"
     ]
    }
   ],
   "source": [
    "from scipy.optimize import newton\n",
    "\n",
    "def f(x):\n",
    "    mu = 11197.8\n",
    "    sigma = 15022.831582\n",
    "    quantile = 0.25\n",
    "    argument = (x - mu)/(math.sqrt(2.0)*sigma)    \n",
    "    normdist = (1.0 + math.erf(argument))/2.0\n",
    "    return normdist - quantile\n",
    "\n",
    "print(newton(f, myguess))"
   ]
  },
  {
   "cell_type": "markdown",
   "metadata": {},
   "source": [
    "## Normal Distribution Data Model\n",
    "|Exceedence Probability|Flow Value|Remarks|\n",
    "|:---|:---|:---|\n",
    "|25% |1065| 75% chance of greater value|           \n",
    "|50% |11197| 50% chance of greater value|            \n",
    "|75% |21330| 25% chance of greater value|            \n",
    "|90% |30450| 10% chance of greater value|\n",
    "|99% |46146| 1% chance of greater value (in flood statistics, this is the 1 in 100-yr chance event)|\n",
    "|99.8%|54435| 0.002% chance of greater value (in flood statistics, this is the 1 in 500-yr chance event)|\n",
    "|99.9%|57621| 0.001% chance of greater value (in flood statistics, this is the 1 in 1000-yr chance event)|\n",
    "\n",
    "<hr>"
   ]
  },
  {
   "cell_type": "code",
   "execution_count": null,
   "metadata": {},
   "outputs": [],
   "source": []
  }
 ],
 "metadata": {
  "kernelspec": {
   "display_name": "Python 3",
   "language": "python",
   "name": "python3"
  },
  "language_info": {
   "codemirror_mode": {
    "name": "ipython",
    "version": 3
   },
   "file_extension": ".py",
   "mimetype": "text/x-python",
   "name": "python",
   "nbconvert_exporter": "python",
   "pygments_lexer": "ipython3",
   "version": "3.8.5"
  }
 },
 "nbformat": 4,
 "nbformat_minor": 4
}
