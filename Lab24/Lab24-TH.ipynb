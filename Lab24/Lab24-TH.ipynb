{
 "cells": [
  {
   "cell_type": "code",
   "execution_count": 1,
   "metadata": {},
   "outputs": [
    {
     "data": {
      "text/html": [
       "<!--Script block to left align Markdown Tables-->\n",
       "<style>\n",
       "  table {margin-left: 0 !important;}\n",
       "</style>\n"
      ],
      "text/plain": [
       "<IPython.core.display.HTML object>"
      ]
     },
     "metadata": {},
     "output_type": "display_data"
    }
   ],
   "source": [
    "%%html\n",
    "<!--Script block to left align Markdown Tables-->\n",
    "<style>\n",
    "  table {margin-left: 0 !important;}\n",
    "</style>"
   ]
  },
  {
   "cell_type": "markdown",
   "metadata": {},
   "source": [
    "**Download** (right-click, save target as ...) this page as a jupyterlab notebook from: [Lab24-TH](http://54.243.252.9/engr-1330-webroot/8-Labs/Lab24/Lab24-TH.ipynb)\n",
    "\n",
    "___"
   ]
  },
  {
   "cell_type": "markdown",
   "metadata": {},
   "source": [
    "# <font color=green>Exercise Set 24: \"Predictor-Response Data Models\"</font>\n",
    "\n",
    "**Medrano, Giovanni**\n",
    "\n",
    "**R11521018**\n",
    "\n",
    "ENGR 1330 Exercise Set 24 - Homework"
   ]
  },
  {
   "cell_type": "markdown",
   "metadata": {},
   "source": [
    "## Exercise: Building a Dive Computer\n",
    "\n",
    "![](TechDiving_NOAA.png)\n",
    "\n",
    "| Diver with Computer |\n",
    "|---|\n",
    "\n",
    "### Background \n",
    "Scuba divers circa 1980's used to memorize dive tables which provided safe depth-duration combinations (e.g. 60 feet for 60 minutes).  Commerical divers used similar tables. A bounce would occur when a diver at depth notices a shiny object and descends deeper for a very short interval to recover the object - usually something worthless, but occassionally something very valuable. Bounce dives can be quite dangerous - more so if the diver is trying to adapt a memorized dive table to his/her current situation, hence the development of dive computers.\n",
    "\n",
    "The US Navy started development of dive computers in the 1950's to relieve the human of the somewhat tricky task of multi-level dive planning and monitoring. The first digital dive computer was a laboratory model, the XDC-1, based on a desktop electronic calculator, converted to run a DCIEM four-tissue algorithm in 1975. It used pneumofathometer depth input from surface-supplied divers. In 1976 the diving equipment company Dacor developed and marketed a digital dive computer which used a **table lookup** based on stored US Navy tables rather than a real-time tissue gas saturation model. The Dacor Dive Computer (DDC), displayed output on light-emitting diodes for: current depth; elapsed dive time; surface interval; maximum depth of the dive; repetitive dive data; ascent rate, with a warning for exceeding 20 metres per minute; warning when no-decompression limit is reached; battery low warning light; and required decompression. In the subsequent decade several firms developed and marketed dive computers; by 1989, the advent of dive computers had not met with what might be considered widespread acceptance. Combined with the general mistrust, at the time, of taking a piece of electronics that your life might depend upon underwater, there were also objections expressed ranging from dive resorts felt that the increased bottom time would upset their boat and meal schedules, to that experienced divers felt that the increased bottom time would, regardless of the claims, result in many more cases of decompression sickness.\n",
    "\n",
    "By 2015 sophisticated dive computers using real-time tissue gas saturation models were commonplace and comparatively inexpensive (circa 2020 computers are programmable for exotic gasses - greatly relieving the diver's workload in planning and monitoring multi-level (bounce) dives).\n",
    "\n",
    "![](HELOX.png)\n",
    "\n",
    "|Helium-Oxygen Dive Computer Readout|\n",
    "|---|\n",
    "\n",
    "### Problem Statement\n",
    "\n",
    "Using the data below develop a data-model for a dive computer that uses Dacor's original approach (i.e. table lookup in this case replaced by an data model). The table lists allowable time at prescribed depths for a recreational diver with a safety decompression stop at 10 feet depth.\n",
    "\n",
    "![](DiveTable.png)\n",
    "\n",
    "<!--|Depth (feet)|Time (minutes) with Safety Stop|Time (minutes) without Safety Stop|\n",
    "|---|---|---|\n",
    "35 |205|139|\n",
    "40 |140|104|\n",
    "50 |80|63|\n",
    "60 |55|47|\n",
    "70 |45|33|\n",
    "80 |35|25|\n",
    "90 |25|21|\n",
    "100 |22|none|\n",
    "110 | 16|none|\n",
    "120| 13|none|\n",
    "130| 10|none|\n",
    "140| 8|none|-->\n",
    "\n",
    "\n",
    "### Build a Data Model:\n",
    "\n",
    "Build a predictor-response type data model.\n"
   ]
  },
  {
   "cell_type": "markdown",
   "metadata": {},
   "source": [
    "<hr/><hr/> \n",
    "\n",
    "**Part 1:** <hr/>\n",
    "\n",
    "Make a data model using **Depth** as a predictor of **Time** ($Time = \\beta_{0}+\\beta_{1}*Depth$) for a dive with and without safety stops<br> Plot your models and the data on the same plot. Report your values of the parameters."
   ]
  },
  {
   "cell_type": "code",
   "execution_count": 2,
   "metadata": {},
   "outputs": [
    {
     "data": {
      "text/html": [
       "<div>\n",
       "<style scoped>\n",
       "    .dataframe tbody tr th:only-of-type {\n",
       "        vertical-align: middle;\n",
       "    }\n",
       "\n",
       "    .dataframe tbody tr th {\n",
       "        vertical-align: top;\n",
       "    }\n",
       "\n",
       "    .dataframe thead th {\n",
       "        text-align: right;\n",
       "    }\n",
       "</style>\n",
       "<table border=\"1\" class=\"dataframe\">\n",
       "  <thead>\n",
       "    <tr style=\"text-align: right;\">\n",
       "      <th></th>\n",
       "      <th>Depth (feet</th>\n",
       "      <th>Time with Safety Stop</th>\n",
       "    </tr>\n",
       "  </thead>\n",
       "  <tbody>\n",
       "    <tr>\n",
       "      <th>count</th>\n",
       "      <td>12.000000</td>\n",
       "      <td>12.000000</td>\n",
       "    </tr>\n",
       "    <tr>\n",
       "      <th>mean</th>\n",
       "      <td>85.416667</td>\n",
       "      <td>54.500000</td>\n",
       "    </tr>\n",
       "    <tr>\n",
       "      <th>std</th>\n",
       "      <td>35.384790</td>\n",
       "      <td>60.569269</td>\n",
       "    </tr>\n",
       "    <tr>\n",
       "      <th>min</th>\n",
       "      <td>35.000000</td>\n",
       "      <td>8.000000</td>\n",
       "    </tr>\n",
       "    <tr>\n",
       "      <th>25%</th>\n",
       "      <td>57.500000</td>\n",
       "      <td>15.250000</td>\n",
       "    </tr>\n",
       "    <tr>\n",
       "      <th>50%</th>\n",
       "      <td>85.000000</td>\n",
       "      <td>30.000000</td>\n",
       "    </tr>\n",
       "    <tr>\n",
       "      <th>75%</th>\n",
       "      <td>112.500000</td>\n",
       "      <td>61.250000</td>\n",
       "    </tr>\n",
       "    <tr>\n",
       "      <th>max</th>\n",
       "      <td>140.000000</td>\n",
       "      <td>205.000000</td>\n",
       "    </tr>\n",
       "  </tbody>\n",
       "</table>\n",
       "</div>"
      ],
      "text/plain": [
       "       Depth (feet  Time with Safety Stop\n",
       "count    12.000000              12.000000\n",
       "mean     85.416667              54.500000\n",
       "std      35.384790              60.569269\n",
       "min      35.000000               8.000000\n",
       "25%      57.500000              15.250000\n",
       "50%      85.000000              30.000000\n",
       "75%     112.500000              61.250000\n",
       "max     140.000000             205.000000"
      ]
     },
     "execution_count": 2,
     "metadata": {},
     "output_type": "execute_result"
    }
   ],
   "source": [
    "# import packages\n",
    "import pandas as pd\n",
    "import numpy as np\n",
    "import matplotlib.pyplot as plt\n",
    "import math\n",
    "\n",
    "df = pd.read_csv(\"lab24th.csv\")\n",
    "# read data file\n",
    "# summarize contents + markdown cell as needed\n",
    "df.describe()\n"
   ]
  },
  {
   "cell_type": "code",
   "execution_count": 3,
   "metadata": {},
   "outputs": [
    {
     "data": {
      "text/html": [
       "<div>\n",
       "<style scoped>\n",
       "    .dataframe tbody tr th:only-of-type {\n",
       "        vertical-align: middle;\n",
       "    }\n",
       "\n",
       "    .dataframe tbody tr th {\n",
       "        vertical-align: top;\n",
       "    }\n",
       "\n",
       "    .dataframe thead th {\n",
       "        text-align: right;\n",
       "    }\n",
       "</style>\n",
       "<table border=\"1\" class=\"dataframe\">\n",
       "  <thead>\n",
       "    <tr style=\"text-align: right;\">\n",
       "      <th></th>\n",
       "      <th>Depth (feet</th>\n",
       "      <th>Time with Safety Stop</th>\n",
       "      <th>Time without Safety Stop</th>\n",
       "    </tr>\n",
       "  </thead>\n",
       "  <tbody>\n",
       "    <tr>\n",
       "      <th>0</th>\n",
       "      <td>35</td>\n",
       "      <td>205</td>\n",
       "      <td>139</td>\n",
       "    </tr>\n",
       "    <tr>\n",
       "      <th>1</th>\n",
       "      <td>40</td>\n",
       "      <td>140</td>\n",
       "      <td>104</td>\n",
       "    </tr>\n",
       "    <tr>\n",
       "      <th>2</th>\n",
       "      <td>50</td>\n",
       "      <td>80</td>\n",
       "      <td>63</td>\n",
       "    </tr>\n",
       "    <tr>\n",
       "      <th>3</th>\n",
       "      <td>60</td>\n",
       "      <td>55</td>\n",
       "      <td>47</td>\n",
       "    </tr>\n",
       "    <tr>\n",
       "      <th>4</th>\n",
       "      <td>70</td>\n",
       "      <td>45</td>\n",
       "      <td>33</td>\n",
       "    </tr>\n",
       "  </tbody>\n",
       "</table>\n",
       "</div>"
      ],
      "text/plain": [
       "   Depth (feet  Time with Safety Stop Time without Safety Stop\n",
       "0           35                    205                      139\n",
       "1           40                    140                      104\n",
       "2           50                     80                       63\n",
       "3           60                     55                       47\n",
       "4           70                     45                       33"
      ]
     },
     "execution_count": 3,
     "metadata": {},
     "output_type": "execute_result"
    }
   ],
   "source": [
    "df.head()"
   ]
  },
  {
   "cell_type": "code",
   "execution_count": 8,
   "metadata": {},
   "outputs": [
    {
     "data": {
      "text/plain": [
       "array([ 35,  40,  50,  60,  70,  80,  90, 100, 110, 120, 130, 140],\n",
       "      dtype=int64)"
      ]
     },
     "execution_count": 8,
     "metadata": {},
     "output_type": "execute_result"
    },
    {
     "data": {
      "image/png": "[encoded data removed]",
      "text/plain": [
       "<Figure size 432x288 with 1 Axes>"
      ]
     },
     "metadata": {
      "needs_background": "light"
     },
     "output_type": "display_data"
    }
   ],
   "source": [
    "# \n",
    "fig, ax = plt.subplots()\n",
    "tdaSet = np.array(df['Depth (feet'])\n",
    "tpeakSet = np.array(df['Time with Safety Stop'])\n",
    "\n",
    "data = pd.DataFrame({'Depth (fee)':tpeakSet, 'Time with Safety Stop':tdaSet})\n",
    "\n",
    "data.plot(ax=ax)\n",
    "tdaSet"
   ]
  },
  {
   "cell_type": "code",
   "execution_count": 12,
   "metadata": {},
   "outputs": [
    {
     "name": "stdin",
     "output_type": "stream",
     "text": [
      "Please enter an input for b0 1\n",
      "Please enter an input for b1 2\n"
     ]
    },
    {
     "data": {
      "text/plain": [
       "<AxesSubplot:>"
      ]
     },
     "execution_count": 12,
     "metadata": {},
     "output_type": "execute_result"
    },
    {
     "data": {
      "image/png": "[encoded data removed]",
      "text/plain": [
       "<Figure size 432x288 with 1 Axes>"
      ]
     },
     "metadata": {
      "needs_background": "light"
     },
     "output_type": "display_data"
    }
   ],
   "source": [
    "b0 = int(input('Please enter an input for b0'))\n",
    "b1 = int(input('Please enter an input for b1'))\n",
    "\n",
    "sorted_df = df.sort_values(by = 'Depth (feet')\n",
    "sorted_df.head()\n",
    "\n",
    "#print(range(0,len(sorted_df)))\n",
    "\n",
    "fig, ax = plt.subplots()\n",
    "sortedTdaPeakSet = np.array(sorted_df['Depth (feet'])\n",
    "\n",
    "sortedTdaSet = [] #np.array(sorted_df['TDA'])\n",
    "\n",
    "for i in (range(0 , len(sorted_df))):\n",
    "    #print(i)\n",
    "    #print(sorted_df['TDA'][i])\n",
    "    \n",
    "    sortedTdaSet.append(b0 + b1* sorted_df['Depth (feet'][i])\n",
    "data = pd.DataFrame({'Time with Safety Stop':sortedTdaPeakSet, 'Depth (feet':sortedTdaSet})\n",
    "\n",
    "data.plot(ax=ax)"
   ]
  },
  {
   "cell_type": "code",
   "execution_count": 13,
   "metadata": {},
   "outputs": [
    {
     "data": {
      "text/plain": [
       "array([ 35,  40,  50,  60,  70,  80,  90, 100, 110, 120, 130, 140],\n",
       "      dtype=int64)"
      ]
     },
     "execution_count": 13,
     "metadata": {},
     "output_type": "execute_result"
    },
    {
     "data": {
      "image/png": "[encoded data removed]",
      "text/plain": [
       "<Figure size 432x288 with 1 Axes>"
      ]
     },
     "metadata": {
      "needs_background": "light"
     },
     "output_type": "display_data"
    }
   ],
   "source": [
    "# \n",
    "fig, ax = plt.subplots()\n",
    "tdaSet = np.array(df['Depth (feet'])\n",
    "tpeakSet = np.array(df['Time without Safety Stop'])\n",
    "\n",
    "data = pd.DataFrame({'Depth (fee)':tpeakSet, 'Time without Safety Stop':tdaSet})\n",
    "\n",
    "data.plot(ax=ax)\n",
    "tdaSet"
   ]
  },
  {
   "cell_type": "code",
   "execution_count": 14,
   "metadata": {},
   "outputs": [
    {
     "name": "stdin",
     "output_type": "stream",
     "text": [
      "Please enter an input for b0 1\n",
      "Please enter an input for b1 2\n"
     ]
    },
    {
     "data": {
      "text/plain": [
       "<AxesSubplot:>"
      ]
     },
     "execution_count": 14,
     "metadata": {},
     "output_type": "execute_result"
    },
    {
     "data": {
      "image/png": "[encoded data removed]",
      "text/plain": [
       "<Figure size 432x288 with 1 Axes>"
      ]
     },
     "metadata": {
      "needs_background": "light"
     },
     "output_type": "display_data"
    }
   ],
   "source": [
    "b0 = int(input('Please enter an input for b0'))\n",
    "b1 = int(input('Please enter an input for b1'))\n",
    "\n",
    "sorted_df = df.sort_values(by = 'Depth (feet')\n",
    "sorted_df.head()\n",
    "\n",
    "#print(range(0,len(sorted_df)))\n",
    "\n",
    "fig, ax = plt.subplots()\n",
    "sortedTdaPeakSet = np.array(sorted_df['Depth (feet'])\n",
    "\n",
    "sortedTdaSet = [] #np.array(sorted_df['TDA'])\n",
    "\n",
    "for i in (range(0 , len(sorted_df))):\n",
    "    #print(i)\n",
    "    #print(sorted_df['TDA'][i])\n",
    "    \n",
    "    sortedTdaSet.append(b0 + b1* sorted_df['Depth (feet'][i])\n",
    "data = pd.DataFrame({'Time without Safety Stop':sortedTdaPeakSet, 'Depth (feet':sortedTdaSet})\n",
    "\n",
    "data.plot(ax=ax)"
   ]
  },
  {
   "cell_type": "code",
   "execution_count": null,
   "metadata": {},
   "outputs": [],
   "source": []
  },
  {
   "cell_type": "code",
   "execution_count": null,
   "metadata": {},
   "outputs": [],
   "source": []
  },
  {
   "cell_type": "markdown",
   "metadata": {},
   "source": [
    "<hr/><hr/> \n",
    "\n",
    "**Part 2:**\n",
    "\n",
    "<hr/>\n",
    "\n",
    "Make a data model using **Depth** as a predictor of **Time** ($Time = \\beta_{0}+\\beta_{1}*log(Depth)$) for a dive with and without safety stops. <br> Plot your models and the data on the same plot. Report your values of the parameters.\n",
    "\n",
    "In your opinion which mapping of **Depth**  (arithmetic or logarithmic) produces a more useful graph? "
   ]
  },
  {
   "cell_type": "code",
   "execution_count": 15,
   "metadata": {},
   "outputs": [
    {
     "name": "stdin",
     "output_type": "stream",
     "text": [
      "Please enter an input for b0 1\n",
      "Please enter an input for b1 2\n"
     ]
    },
    {
     "data": {
      "text/plain": [
       "<AxesSubplot:>"
      ]
     },
     "execution_count": 15,
     "metadata": {},
     "output_type": "execute_result"
    },
    {
     "data": {
      "image/png": "[encoded data removed]",
      "text/plain": [
       "<Figure size 432x288 with 1 Axes>"
      ]
     },
     "metadata": {
      "needs_background": "light"
     },
     "output_type": "display_data"
    }
   ],
   "source": [
    "b0 = int(input('Please enter an input for b0'))\n",
    "b1 = int(input('Please enter an input for b1'))\n",
    "\n",
    "sorted_df = df.sort_values(by = 'Time with Safety Stop')\n",
    "sorted_df.head()\n",
    "\n",
    "#print(range(0,len(sorted_df)))\n",
    "\n",
    "fig, ax = plt.subplots()\n",
    "sortedTdaPeakSet = np.array(sorted_df['Time with Safety Stop'])\n",
    "\n",
    "sortedTdaSet = [] #np.array(sorted_df['TDA'])\n",
    "\n",
    "for i in (range(0 , len(sorted_df))):\n",
    "    #print(i)\n",
    "    #print(sorted_df['TDA'][i])\n",
    "    \n",
    "    sortedTdaSet.append(b0 + b1*math.log(sorted_df['Depth (feet'][i]))\n",
    "data = pd.DataFrame({'time':sortedTdaPeakSet, 'Predicted Depth (feet (USING'+ str(b0)+ '+'+str(b1)+'*log(Depth (feet':sortedTdaSet})\n",
    "\n",
    "data.plot(ax=ax)"
   ]
  },
  {
   "cell_type": "code",
   "execution_count": 16,
   "metadata": {},
   "outputs": [
    {
     "name": "stdin",
     "output_type": "stream",
     "text": [
      "Please enter an input for b0 1\n",
      "Please enter an input for b1 2\n"
     ]
    },
    {
     "data": {
      "text/plain": [
       "<AxesSubplot:>"
      ]
     },
     "execution_count": 16,
     "metadata": {},
     "output_type": "execute_result"
    },
    {
     "data": {
      "image/png": "[encoded data removed]",
      "text/plain": [
       "<Figure size 432x288 with 1 Axes>"
      ]
     },
     "metadata": {
      "needs_background": "light"
     },
     "output_type": "display_data"
    }
   ],
   "source": [
    "b0 = int(input('Please enter an input for b0'))\n",
    "b1 = int(input('Please enter an input for b1'))\n",
    "\n",
    "sorted_df = df.sort_values(by = 'Time without Safety Stop')\n",
    "sorted_df.head()\n",
    "\n",
    "#print(range(0,len(sorted_df)))\n",
    "\n",
    "fig, ax = plt.subplots()\n",
    "sortedTdaPeakSet = np.array(sorted_df['Time without Safety Stop'])\n",
    "\n",
    "sortedTdaSet = [] #np.array(sorted_df['TDA'])\n",
    "\n",
    "for i in (range(0 , len(sorted_df))):\n",
    "    #print(i)\n",
    "    #print(sorted_df['TDA'][i])\n",
    "    \n",
    "    sortedTdaSet.append(b0 + b1*math.log(sorted_df['Depth (feet'][i]))\n",
    "data = pd.DataFrame({'time':sortedTdaPeakSet, 'Predicted Depth (feet (USING'+ str(b0)+ '+'+str(b1)+'*log(Depth (feet':sortedTdaSet})\n",
    "\n",
    "data.plot(ax=ax)"
   ]
  },
  {
   "cell_type": "markdown",
   "metadata": {},
   "source": [
    "<hr/><hr/> \n",
    "\n",
    "**Part 3:**\n",
    "\n",
    "<hr/>\n",
    "\n",
    "Using your preferred model, report the time a diver can spend at 65 feet with and without a safety stop."
   ]
  },
  {
   "cell_type": "code",
   "execution_count": null,
   "metadata": {},
   "outputs": [],
   "source": [
    "It appears it is very hard to reach 65 feet without a safety stop as itll take a amount of time off the charts."
   ]
  }
 ],
 "metadata": {
  "kernelspec": {
   "display_name": "Python 3",
   "language": "python",
   "name": "python3"
  },
  "language_info": {
   "codemirror_mode": {
    "name": "ipython",
    "version": 3
   },
   "file_extension": ".py",
   "mimetype": "text/x-python",
   "name": "python",
   "nbconvert_exporter": "python",
   "pygments_lexer": "ipython3",
   "version": "3.8.5"
  }
 },
 "nbformat": 4,
 "nbformat_minor": 4
}
