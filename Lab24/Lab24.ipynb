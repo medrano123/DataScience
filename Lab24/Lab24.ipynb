{
 "cells": [
  {
   "cell_type": "code",
   "execution_count": null,
   "metadata": {},
   "outputs": [],
   "source": [
    "%%html\n",
    "<!--Script block to left align Markdown Tables-->\n",
    "<style>\n",
    "  table {margin-left: 0 !important;}\n",
    "</style>"
   ]
  },
  {
   "cell_type": "markdown",
   "metadata": {},
   "source": [
    "**Download** (right-click, save target as ...) this page as a jupyterlab notebook from: [Lab24](http://54.243.252.9/engr-1330-webroot/8-Labs/Lab24/Lab24.ipynb)\n",
    "\n",
    "___"
   ]
  },
  {
   "cell_type": "markdown",
   "metadata": {},
   "source": [
    "# <font color=green>Laboratory 24: \"Predictor-Response Data Models\"</font>\n",
    "\n",
    "**Medrano, Giovanni**\n",
    "\n",
    "**R11521018**\n",
    "\n",
    "ENGR 1330 Laboratory 24 "
   ]
  },
  {
   "cell_type": "markdown",
   "metadata": {},
   "source": [
    "## Exercise: Watershed Response Metrics \n",
    "\n",
    "### Background \n",
    "Rainfall-Runoff response prediction is a vital step in engineering design for mitigating flood-induced infrastructure failure.   One easy to measure characteristic of a watershed is its drainage area.  Harder to quantify are its characteristic response time, and its conversion (of precipitation into runoff) factor.\n",
    "\n",
    "### Study Database\n",
    "\n",
    "The [watersheds.csv](http://54.243.252.9/engr-1330-webroot/4-Databases/watersheds.csv) dataset contains (measured) drainage area for 92 study watersheds in Texas from [Cleveland, et. al., 2006](https://192.168.1.75/documents/about-me/MyWebPapers/journal_papers/ASCE_Irrigation_Drainage_IR-022737/2006_0602_IUHEvalTexas.pdf), and the associated data:\n",
    "\n",
    "|Columns|Info.|\n",
    "|:---|:---|\n",
    "|STATION_ID |USGS HUC-8 Station ID code|\n",
    "|TDA |Total drainage area (sq. miles) |\n",
    "|RCOEF|Runoff Ratio (Runoff Depth/Precipitation Depth)|\n",
    "|TPEAK|Characteristic Time (minutes)|\n",
    "|FPEAK|Peaking factor (same as NRCS factor)|\n",
    "|QP_OBS|Observed peak discharge (measured)|\n",
    "|QP_MOD|Modeled peak discharge (modeled)| \n",
    "\n",
    "### :\n",
    "\n",
    "Using the following steps, build a predictor-response type data model. \n"
   ]
  },
  {
   "cell_type": "markdown",
   "metadata": {},
   "source": [
    "<hr/><hr/> \n",
    "\n",
    "**Step 1:** \n",
    "\n",
    "<hr/>\n",
    "\n",
    "Read the \"watersheds.csv\" file as a dataframe. Explore the dataframe and in a markdown cell briefly describe the summarize the dataframe. <br>"
   ]
  },
  {
   "cell_type": "code",
   "execution_count": 42,
   "metadata": {},
   "outputs": [
    {
     "data": {
      "text/html": [
       "<div>\n",
       "<style scoped>\n",
       "    .dataframe tbody tr th:only-of-type {\n",
       "        vertical-align: middle;\n",
       "    }\n",
       "\n",
       "    .dataframe tbody tr th {\n",
       "        vertical-align: top;\n",
       "    }\n",
       "\n",
       "    .dataframe thead th {\n",
       "        text-align: right;\n",
       "    }\n",
       "</style>\n",
       "<table border=\"1\" class=\"dataframe\">\n",
       "  <thead>\n",
       "    <tr style=\"text-align: right;\">\n",
       "      <th></th>\n",
       "      <th>TDA</th>\n",
       "      <th>RCOEF</th>\n",
       "      <th>TPEAK</th>\n",
       "      <th>FPEAK</th>\n",
       "      <th>QP_OBS</th>\n",
       "      <th>QP_MOD</th>\n",
       "    </tr>\n",
       "  </thead>\n",
       "  <tbody>\n",
       "    <tr>\n",
       "      <th>count</th>\n",
       "      <td>92.000000</td>\n",
       "      <td>92.000000</td>\n",
       "      <td>92.000000</td>\n",
       "      <td>92.000000</td>\n",
       "      <td>92.000000</td>\n",
       "      <td>92.000000</td>\n",
       "    </tr>\n",
       "    <tr>\n",
       "      <th>mean</th>\n",
       "      <td>16.809130</td>\n",
       "      <td>0.321473</td>\n",
       "      <td>234.292174</td>\n",
       "      <td>4.228043</td>\n",
       "      <td>0.007499</td>\n",
       "      <td>0.004811</td>\n",
       "    </tr>\n",
       "    <tr>\n",
       "      <th>std</th>\n",
       "      <td>29.272612</td>\n",
       "      <td>0.162198</td>\n",
       "      <td>211.798151</td>\n",
       "      <td>2.997854</td>\n",
       "      <td>0.005721</td>\n",
       "      <td>0.004245</td>\n",
       "    </tr>\n",
       "    <tr>\n",
       "      <th>min</th>\n",
       "      <td>0.260000</td>\n",
       "      <td>0.011400</td>\n",
       "      <td>18.000000</td>\n",
       "      <td>1.310000</td>\n",
       "      <td>0.000393</td>\n",
       "      <td>0.000089</td>\n",
       "    </tr>\n",
       "    <tr>\n",
       "      <th>25%</th>\n",
       "      <td>3.037500</td>\n",
       "      <td>0.183400</td>\n",
       "      <td>88.767500</td>\n",
       "      <td>2.455000</td>\n",
       "      <td>0.002800</td>\n",
       "      <td>0.001830</td>\n",
       "    </tr>\n",
       "    <tr>\n",
       "      <th>50%</th>\n",
       "      <td>6.965000</td>\n",
       "      <td>0.308000</td>\n",
       "      <td>189.735000</td>\n",
       "      <td>3.365000</td>\n",
       "      <td>0.005720</td>\n",
       "      <td>0.003250</td>\n",
       "    </tr>\n",
       "    <tr>\n",
       "      <th>75%</th>\n",
       "      <td>13.815000</td>\n",
       "      <td>0.424450</td>\n",
       "      <td>282.222500</td>\n",
       "      <td>4.617500</td>\n",
       "      <td>0.010575</td>\n",
       "      <td>0.006713</td>\n",
       "    </tr>\n",
       "    <tr>\n",
       "      <th>max</th>\n",
       "      <td>166.000000</td>\n",
       "      <td>0.712900</td>\n",
       "      <td>1150.500000</td>\n",
       "      <td>17.940000</td>\n",
       "      <td>0.023000</td>\n",
       "      <td>0.022400</td>\n",
       "    </tr>\n",
       "  </tbody>\n",
       "</table>\n",
       "</div>"
      ],
      "text/plain": [
       "              TDA      RCOEF        TPEAK      FPEAK     QP_OBS     QP_MOD\n",
       "count   92.000000  92.000000    92.000000  92.000000  92.000000  92.000000\n",
       "mean    16.809130   0.321473   234.292174   4.228043   0.007499   0.004811\n",
       "std     29.272612   0.162198   211.798151   2.997854   0.005721   0.004245\n",
       "min      0.260000   0.011400    18.000000   1.310000   0.000393   0.000089\n",
       "25%      3.037500   0.183400    88.767500   2.455000   0.002800   0.001830\n",
       "50%      6.965000   0.308000   189.735000   3.365000   0.005720   0.003250\n",
       "75%     13.815000   0.424450   282.222500   4.617500   0.010575   0.006713\n",
       "max    166.000000   0.712900  1150.500000  17.940000   0.023000   0.022400"
      ]
     },
     "execution_count": 42,
     "metadata": {},
     "output_type": "execute_result"
    }
   ],
   "source": [
    "# import packages\n",
    "import pandas as pd\n",
    "import numpy as np\n",
    "import matplotlib.pyplot as plt\n",
    "import math\n",
    "\n",
    "df = pd.read_csv(\"watersheds.csv\")\n",
    "# read data file\n",
    "# summarize contents + markdown cell as needed\n",
    "df.describe()"
   ]
  },
  {
   "cell_type": "code",
   "execution_count": 12,
   "metadata": {},
   "outputs": [
    {
     "data": {
      "text/html": [
       "<div>\n",
       "<style scoped>\n",
       "    .dataframe tbody tr th:only-of-type {\n",
       "        vertical-align: middle;\n",
       "    }\n",
       "\n",
       "    .dataframe tbody tr th {\n",
       "        vertical-align: top;\n",
       "    }\n",
       "\n",
       "    .dataframe thead th {\n",
       "        text-align: right;\n",
       "    }\n",
       "</style>\n",
       "<table border=\"1\" class=\"dataframe\">\n",
       "  <thead>\n",
       "    <tr style=\"text-align: right;\">\n",
       "      <th></th>\n",
       "      <th>STATION_ID</th>\n",
       "      <th>TDA</th>\n",
       "      <th>RCOEF</th>\n",
       "      <th>TPEAK</th>\n",
       "      <th>FPEAK</th>\n",
       "      <th>QP_OBS</th>\n",
       "      <th>QP_MOD</th>\n",
       "    </tr>\n",
       "  </thead>\n",
       "  <tbody>\n",
       "    <tr>\n",
       "      <th>0</th>\n",
       "      <td>08158920</td>\n",
       "      <td>6.3</td>\n",
       "      <td>0.3083</td>\n",
       "      <td>127.43</td>\n",
       "      <td>1.61</td>\n",
       "      <td>0.00932</td>\n",
       "      <td>0.005150</td>\n",
       "    </tr>\n",
       "    <tr>\n",
       "      <th>1</th>\n",
       "      <td>08158930</td>\n",
       "      <td>19.0</td>\n",
       "      <td>0.2108</td>\n",
       "      <td>190.44</td>\n",
       "      <td>3.69</td>\n",
       "      <td>0.00521</td>\n",
       "      <td>0.002680</td>\n",
       "    </tr>\n",
       "    <tr>\n",
       "      <th>2</th>\n",
       "      <td>08158970</td>\n",
       "      <td>27.6</td>\n",
       "      <td>0.1838</td>\n",
       "      <td>339.06</td>\n",
       "      <td>5.59</td>\n",
       "      <td>0.00454</td>\n",
       "      <td>0.001910</td>\n",
       "    </tr>\n",
       "    <tr>\n",
       "      <th>3</th>\n",
       "      <td>08154700</td>\n",
       "      <td>22.3</td>\n",
       "      <td>0.1803</td>\n",
       "      <td>266.64</td>\n",
       "      <td>2.86</td>\n",
       "      <td>0.00498</td>\n",
       "      <td>0.003080</td>\n",
       "    </tr>\n",
       "    <tr>\n",
       "      <th>4</th>\n",
       "      <td>08155200</td>\n",
       "      <td>89.7</td>\n",
       "      <td>0.1876</td>\n",
       "      <td>722.50</td>\n",
       "      <td>2.25</td>\n",
       "      <td>0.00184</td>\n",
       "      <td>0.000745</td>\n",
       "    </tr>\n",
       "  </tbody>\n",
       "</table>\n",
       "</div>"
      ],
      "text/plain": [
       "  STATION_ID   TDA   RCOEF   TPEAK  FPEAK   QP_OBS    QP_MOD\n",
       "0   08158920   6.3  0.3083  127.43   1.61  0.00932  0.005150\n",
       "1   08158930  19.0  0.2108  190.44   3.69  0.00521  0.002680\n",
       "2   08158970  27.6  0.1838  339.06   5.59  0.00454  0.001910\n",
       "3   08154700  22.3  0.1803  266.64   2.86  0.00498  0.003080\n",
       "4   08155200  89.7  0.1876  722.50   2.25  0.00184  0.000745"
      ]
     },
     "execution_count": 12,
     "metadata": {},
     "output_type": "execute_result"
    }
   ],
   "source": [
    "df.head()"
   ]
  },
  {
   "cell_type": "markdown",
   "metadata": {},
   "source": [
    "# the data ub watersheds.csv has 92 entries of 6 columnds each, the first being an id integer and the rest being floats (measurements)"
   ]
  },
  {
   "cell_type": "markdown",
   "metadata": {},
   "source": [
    "<hr/><hr/> \n",
    "\n",
    "**Step 2:** <hr/>\n",
    "\n",
    "Make a data model using **TDA** as a predictor of **TPEAK** ($T_{peak} = \\beta_{0}+\\beta_{1}*TDA$) <br> Plot your model and the data on the same plot. Report your values of the parameters."
   ]
  },
  {
   "cell_type": "code",
   "execution_count": 30,
   "metadata": {},
   "outputs": [
    {
     "data": {
      "text/plain": [
       "array([  6.3 ,  19.  ,  27.6 ,  22.3 ,  89.7 , 116.  , 124.  , 166.  ,\n",
       "         8.24,  23.1 ,   4.61,  12.6 ,  37.71,   5.57,  12.1 ,  51.3 ,\n",
       "        13.1 ,   2.79,   7.03,   7.56,  12.3 ,   3.12,   3.58,   2.31,\n",
       "         4.13,   5.22,  12.2 ,  24.  ,  21.  ,   7.83,  13.42,   1.22,\n",
       "         1.94,   7.51,   9.42,   9.03,   4.17,   9.94,   4.75,   6.77,\n",
       "         8.5 ,  13.4 ,  23.  ,   1.25,   2.53,   6.92,   7.98,   5.91,\n",
       "        11.26,   8.05,   3.26,   9.54,   4.05,   2.45,   2.33,   0.26,\n",
       "         0.45,   0.33,   2.43,   5.57,  15.  ,   1.19,   1.08,   2.15,\n",
       "        17.7 ,   0.97,   1.35,   0.38,   5.64,  12.3 ,   5.41,   3.42,\n",
       "        21.8 ,   4.02,  70.4 ,   3.29,   8.43,   7.01,   3.18,  22.2 ,\n",
       "        48.6 ,   5.25,   2.14,   1.26,   6.82,  21.6 ,   0.77,  17.6 ,\n",
       "         2.1 ,  75.5 , 116.  ,   1.94])"
      ]
     },
     "execution_count": 30,
     "metadata": {},
     "output_type": "execute_result"
    },
    {
     "data": {
      "image/png": "[encoded data removed]",
      "text/plain": [
       "<Figure size 432x288 with 1 Axes>"
      ]
     },
     "metadata": {
      "needs_background": "light"
     },
     "output_type": "display_data"
    }
   ],
   "source": [
    "# \n",
    "fig, ax = plt.subplots()\n",
    "tdaSet = np.array(df['TDA'])\n",
    "tpeakSet = np.array(df['TPEAK'])\n",
    "\n",
    "data = pd.DataFrame({'TPEAK':tpeakSet, 'TDA':tdaSet})\n",
    "\n",
    "data.plot(ax=ax)\n",
    "tdaSet"
   ]
  },
  {
   "cell_type": "code",
   "execution_count": 41,
   "metadata": {},
   "outputs": [
    {
     "name": "stdin",
     "output_type": "stream",
     "text": [
      "Please enter an input for b0 0\n",
      "Please enter an input for b1 5\n"
     ]
    },
    {
     "data": {
      "text/plain": [
       "<AxesSubplot:>"
      ]
     },
     "execution_count": 41,
     "metadata": {},
     "output_type": "execute_result"
    },
    {
     "data": {
      "image/png": "[encoded data removed]",
      "text/plain": [
       "<Figure size 432x288 with 1 Axes>"
      ]
     },
     "metadata": {
      "needs_background": "light"
     },
     "output_type": "display_data"
    }
   ],
   "source": [
    "b0 = int(input('Please enter an input for b0'))\n",
    "b1 = int(input('Please enter an input for b1'))\n",
    "\n",
    "sorted_df = df.sort_values(by = 'TPEAK')\n",
    "sorted_df.head()\n",
    "\n",
    "#print(range(0,len(sorted_df)))\n",
    "\n",
    "fig, ax = plt.subplots()\n",
    "sortedTdaPeakSet = np.array(sorted_df['TPEAK'])\n",
    "\n",
    "sortedTdaSet = [] #np.array(sorted_df['TDA'])\n",
    "\n",
    "for i in (range(0 , len(sorted_df))):\n",
    "    #print(i)\n",
    "    #print(sorted_df['TDA'][i])\n",
    "    \n",
    "    sortedTdaSet.append(b0 + b1* sorted_df['TDA'][i])\n",
    "data = pd.DataFrame({'TPEAK':sortedTdaPeakSet, 'TDA':sortedTdaSet})\n",
    "\n",
    "data.plot(ax=ax)"
   ]
  },
  {
   "cell_type": "markdown",
   "metadata": {},
   "source": [
    "<hr/><hr/> \n",
    "\n",
    "**Step 3:**\n",
    "\n",
    "<hr/>\n",
    "\n",
    "Make a data model using **log(TDA)** as a predictor of **TPEAK** ($T_{peak} = \\beta_{0}+\\beta_{1}*log(TDA)$)\n",
    "\n",
    "In your opinion which mapping of **TDA**  (arithmetic or logarithmic) produces a more useful graph? "
   ]
  },
  {
   "cell_type": "code",
   "execution_count": 45,
   "metadata": {},
   "outputs": [
    {
     "name": "stdin",
     "output_type": "stream",
     "text": [
      "Please enter an input for b0 1\n",
      "Please enter an input for b1 10\n"
     ]
    },
    {
     "data": {
      "text/plain": [
       "<AxesSubplot:>"
      ]
     },
     "execution_count": 45,
     "metadata": {},
     "output_type": "execute_result"
    },
    {
     "data": {
      "image/png": "[encoded data removed]",
      "text/plain": [
       "<Figure size 432x288 with 1 Axes>"
      ]
     },
     "metadata": {
      "needs_background": "light"
     },
     "output_type": "display_data"
    }
   ],
   "source": [
    "b0 = int(input('Please enter an input for b0'))\n",
    "b1 = int(input('Please enter an input for b1'))\n",
    "\n",
    "sorted_df = df.sort_values(by = 'TPEAK')\n",
    "sorted_df.head()\n",
    "\n",
    "#print(range(0,len(sorted_df)))\n",
    "\n",
    "fig, ax = plt.subplots()\n",
    "sortedTdaPeakSet = np.array(sorted_df['TPEAK'])\n",
    "\n",
    "sortedTdaSet = [] #np.array(sorted_df['TDA'])\n",
    "\n",
    "for i in (range(0 , len(sorted_df))):\n",
    "    #print(i)\n",
    "    #print(sorted_df['TDA'][i])\n",
    "    \n",
    "    sortedTdaSet.append(b0 + b1*math.log(sorted_df['TDA'][i]))\n",
    "data = pd.DataFrame({'TPEAK':sortedTdaPeakSet, 'Predicted TPEAK (USING'+ str(b0)+ '+'+str(b1)+'*log(TDA)':sortedTdaSet})\n",
    "\n",
    "data.plot(ax=ax)"
   ]
  },
  {
   "cell_type": "code",
   "execution_count": null,
   "metadata": {},
   "outputs": [],
   "source": [
    "It appears the logbased it more useful."
   ]
  }
 ],
 "metadata": {
  "kernelspec": {
   "display_name": "Python 3",
   "language": "python",
   "name": "python3"
  },
  "language_info": {
   "codemirror_mode": {
    "name": "ipython",
    "version": 3
   },
   "file_extension": ".py",
   "mimetype": "text/x-python",
   "name": "python",
   "nbconvert_exporter": "python",
   "pygments_lexer": "ipython3",
   "version": "3.8.5"
  }
 },
 "nbformat": 4,
 "nbformat_minor": 4
}
