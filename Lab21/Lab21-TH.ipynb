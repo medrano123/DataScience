{
 "cells": [
  {
   "cell_type": "markdown",
   "metadata": {},
   "source": [
    "**Download** (right-click, save target as ...) this page as a jupyterlab notebook [Lab21-TH](http://54.243.252.9/engr-1330-webroot/8-Labs/Lab21/Lab21-TH.ipynb)\n",
    "\n",
    "___"
   ]
  },
  {
   "cell_type": "markdown",
   "metadata": {},
   "source": [
    "# <font color=darkred>Exercise Set 21: \"Compare Two Collections\" </font>\n",
    "\n",
    "**Medrano, Giovanni**\n",
    "\n",
    "**R11521018**\n",
    "\n",
    "ENGR 1330 Exercise Set 21 \n",
    "\n",
    "___\n"
   ]
  },
  {
   "cell_type": "markdown",
   "metadata": {},
   "source": [
    "import statistics\n",
    "import pandas as pd\n",
    "import numpy as np\n",
    "import matplotlib.pyplot as plt\n",
    "data={\"Amazon Branded Boxes\":[1.25,1.16,1.33,1.15,1.23,1.20,1.32,1.28,1.21,1.14,1.17,1\n",
    "\"Walmart Branded Boxes\":[0.89,1.01,0.97,0.95,0.94,1.02,0.98,1.06,0.98,0.94,1.02,0.98]}\n",
    "# Exercise\n",
    "The data below are the impact impact strength of packaging materials in foot-pounds of two branded boxes. Produce a histogram of the two series, and determine if there is evidence of a difference in mean strength between the two brands.  \n",
    "\n",
    "| Amazon Branded Boxes | Walmart Branded Boxes |\n",
    "|:---|:---|\n",
    "| 1.25| 0.89|\n",
    "| 1.16| 1.01|\n",
    "| 1.33| 0.97|\n",
    "| 1.15| 0.95|\n",
    "| 1.23| 0.94|\n",
    "| 1.20| 1.02|\n",
    "| 1.32| 0.98|\n",
    "| 1.28| 1.06|\n",
    "| 1.21| 0.98|\n",
    "| 1.14| 0.94|\n",
    "| 1.17| 1.02|\n",
    "| 1.34| 0.98|\n",
    "\n",
    "## Deliverables:\n",
    "\n",
    "- Working scripts that produce perform the necessary plot\n",
    "- Narrative (or print blocks) that supply answer questions\n",
    "- CCMR citations for sources  (URL for outside sources is OK)\n",
    "\n",
    "## Hints:\n",
    "\n",
    "- A suggested set of code cells is listed below\n",
    "- Add/remove cells as needed for your solution"
   ]
  },
  {
   "cell_type": "code",
   "execution_count": 8,
   "metadata": {},
   "outputs": [],
   "source": [
    "#imports\n",
    "import statistics\n",
    "import numpy\n",
    "import pandas\n",
    "import matplotlib.pyplot as plt"
   ]
  },
  {
   "cell_type": "code",
   "execution_count": 16,
   "metadata": {},
   "outputs": [],
   "source": [
    "lists ={\"Amazon Branded Boxes\":[1.25,1.16,1.33,1.15,1.23,1.20,1.32,1.28,1.21,1.14,1.17,1.34],\n",
    "\"Walmart Branded Boxes\":[0.89,1.01,0.97,0.95,0.94,1.02,0.98,1.06,0.98,0.94,1.02,.98]}"
   ]
  },
  {
   "cell_type": "code",
   "execution_count": 17,
   "metadata": {},
   "outputs": [
    {
     "name": "stdout",
     "output_type": "stream",
     "text": [
      "    Amazon Branded Boxes  Walmart Branded Boxes\n",
      "0                   1.25                   0.89\n",
      "1                   1.16                   1.01\n",
      "2                   1.33                   0.97\n",
      "3                   1.15                   0.95\n",
      "4                   1.23                   0.94\n",
      "5                   1.20                   1.02\n",
      "6                   1.32                   0.98\n",
      "7                   1.28                   1.06\n",
      "8                   1.21                   0.98\n",
      "9                   1.14                   0.94\n",
      "10                  1.17                   1.02\n",
      "11                  1.34                   0.98\n"
     ]
    },
    {
     "data": {
      "text/html": [
       "<div>\n",
       "<style scoped>\n",
       "    .dataframe tbody tr th:only-of-type {\n",
       "        vertical-align: middle;\n",
       "    }\n",
       "\n",
       "    .dataframe tbody tr th {\n",
       "        vertical-align: top;\n",
       "    }\n",
       "\n",
       "    .dataframe thead th {\n",
       "        text-align: right;\n",
       "    }\n",
       "</style>\n",
       "<table border=\"1\" class=\"dataframe\">\n",
       "  <thead>\n",
       "    <tr style=\"text-align: right;\">\n",
       "      <th></th>\n",
       "      <th>Amazon Branded Boxes</th>\n",
       "      <th>Walmart Branded Boxes</th>\n",
       "    </tr>\n",
       "  </thead>\n",
       "  <tbody>\n",
       "    <tr>\n",
       "      <th>count</th>\n",
       "      <td>12.000000</td>\n",
       "      <td>12.000000</td>\n",
       "    </tr>\n",
       "    <tr>\n",
       "      <th>mean</th>\n",
       "      <td>1.231667</td>\n",
       "      <td>0.978333</td>\n",
       "    </tr>\n",
       "    <tr>\n",
       "      <th>std</th>\n",
       "      <td>0.072216</td>\n",
       "      <td>0.045494</td>\n",
       "    </tr>\n",
       "    <tr>\n",
       "      <th>min</th>\n",
       "      <td>1.140000</td>\n",
       "      <td>0.890000</td>\n",
       "    </tr>\n",
       "    <tr>\n",
       "      <th>25%</th>\n",
       "      <td>1.167500</td>\n",
       "      <td>0.947500</td>\n",
       "    </tr>\n",
       "    <tr>\n",
       "      <th>50%</th>\n",
       "      <td>1.220000</td>\n",
       "      <td>0.980000</td>\n",
       "    </tr>\n",
       "    <tr>\n",
       "      <th>75%</th>\n",
       "      <td>1.290000</td>\n",
       "      <td>1.012500</td>\n",
       "    </tr>\n",
       "    <tr>\n",
       "      <th>max</th>\n",
       "      <td>1.340000</td>\n",
       "      <td>1.060000</td>\n",
       "    </tr>\n",
       "  </tbody>\n",
       "</table>\n",
       "</div>"
      ],
      "text/plain": [
       "       Amazon Branded Boxes  Walmart Branded Boxes\n",
       "count             12.000000              12.000000\n",
       "mean               1.231667               0.978333\n",
       "std                0.072216               0.045494\n",
       "min                1.140000               0.890000\n",
       "25%                1.167500               0.947500\n",
       "50%                1.220000               0.980000\n",
       "75%                1.290000               1.012500\n",
       "max                1.340000               1.060000"
      ]
     },
     "execution_count": 17,
     "metadata": {},
     "output_type": "execute_result"
    }
   ],
   "source": [
    "# describe lists/dataframe \n",
    "\n",
    "df=pd.DataFrame(lists)\n",
    "print(df)\n",
    "df.describe()"
   ]
  },
  {
   "cell_type": "code",
   "execution_count": 18,
   "metadata": {},
   "outputs": [
    {
     "data": {
      "image/png": "[encoded data removed]",
      "text/plain": [
       "<Figure size 432x288 with 1 Axes>"
      ]
     },
     "metadata": {
      "needs_background": "light"
     },
     "output_type": "display_data"
    },
    {
     "data": {
      "text/plain": [
       "<function matplotlib.pyplot.show(close=None, block=None)>"
      ]
     },
     "execution_count": 18,
     "metadata": {},
     "output_type": "execute_result"
    },
    {
     "data": {
      "image/png": "[encoded data removed]",
      "text/plain": [
       "<Figure size 432x288 with 1 Axes>"
      ]
     },
     "metadata": {
      "needs_background": "light"
     },
     "output_type": "display_data"
    }
   ],
   "source": [
    "# histograms\n",
    "plt.hist(lists['Amazon Branded Boxes'])\n",
    "plt.show()\n",
    "plt.hist(lists['Walmart Branded Boxes'])\n",
    "plt.show"
   ]
  },
  {
   "cell_type": "markdown",
   "metadata": {},
   "source": [
    "## interpret findings (could be a markdown cell, or embed into code)\n",
    "# The Amazon branded boxes are overall better as they have\n",
    "# have a higher strength on averge."
   ]
  },
  {
   "cell_type": "code",
   "execution_count": null,
   "metadata": {},
   "outputs": [],
   "source": []
  }
 ],
 "metadata": {
  "kernelspec": {
   "display_name": "Python 3",
   "language": "python",
   "name": "python3"
  },
  "language_info": {
   "codemirror_mode": {
    "name": "ipython",
    "version": 3
   },
   "file_extension": ".py",
   "mimetype": "text/x-python",
   "name": "python",
   "nbconvert_exporter": "python",
   "pygments_lexer": "ipython3",
   "version": "3.8.5"
  }
 },
 "nbformat": 4,
 "nbformat_minor": 4
}
