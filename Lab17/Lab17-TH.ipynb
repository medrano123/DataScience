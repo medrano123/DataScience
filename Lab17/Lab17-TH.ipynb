{
 "cells": [
  {
   "cell_type": "markdown",
   "metadata": {},
   "source": [
    "**Download** (right-click, save target as ...) this page as a jupyterlab notebook from: [Lab17-TH](http://54.243.252.9/engr-1330-webroot/8-Labs/Lab17/Lab17-TH.ipynb)\n",
    "\n",
    "___"
   ]
  },
  {
   "cell_type": "markdown",
   "metadata": {},
   "source": [
    "# <font color=darkgreen>Exercise Set 17: Descriptive Statistics </font>\n",
    "**Medrano, Giovanni**\n",
    "\n",
    "**R11521018**\n",
    "\n",
    "ENGR 1330 ES-17 - Homework\n",
    "\n",
    "<hr>\n",
    "\n",
    "Exercise 0:  Profile your computer\n"
   ]
  },
  {
   "cell_type": "code",
   "execution_count": 1,
   "metadata": {},
   "outputs": [
    {
     "name": "stdout",
     "output_type": "stream",
     "text": [
      "DESKTOP-6HAS1BN\n",
      "desktop-6has1bn\\medra\n",
      "C:\\Users\\medra\\anaconda3\\python.exe\n",
      "3.8.5 (default, Sep  3 2020, 21:29:08) [MSC v.1916 64 bit (AMD64)]\n",
      "sys.version_info(major=3, minor=8, micro=5, releaselevel='final', serial=0)\n"
     ]
    }
   ],
   "source": [
    "# Preamble script block to identify host, user, and kernel\n",
    "import sys\n",
    "! hostname\n",
    "! whoami\n",
    "print(sys.executable)\n",
    "print(sys.version)\n",
    "print(sys.version_info)"
   ]
  },
  {
   "cell_type": "code",
   "execution_count": 14,
   "metadata": {},
   "outputs": [],
   "source": [
    "# Let's import the necessary libraries:\n",
    "import numpy as np\n",
    "import pandas as pd\n",
    "import statistics\n",
    "import scipy.stats\n",
    "import matplotlib.pyplot as plt "
   ]
  },
  {
   "cell_type": "markdown",
   "metadata": {},
   "source": [
    "<hr>\n",
    "\n",
    "### Exercise1: \n",
    "\n",
    "1. Read the \"Lubbock_Oct_T&P.csv\" file as a dataframe and check its first few rows.<br>\n",
    "2. Use descriptive functions of the Pandas library and explain the format of the dataframe<br>\n",
    "3. Compute the arithmetic, harmonic, and geometric mean of 'temperature'.<br>\n",
    "4. Find the median of 'precipitation' and 'temperature'.<br>\n",
    "5. Report whether set of 'temperature' has one mode, two modes, or multiple modes.<br>\n",
    "6. Find the range and IQR of 'precipitation'.<br>\n",
    "7. Find the 10th,40th, and 70th percentile of 'temperature'.<br>\n",
    "8. Provide a 5-number summary of 'precipitation'. Plot a box plot without outliers. Interpret it in your own words<br>\n",
    "9. Find the variance and standard deviation of 'precipitation'.<br>\n",
    "10. Find the skewness and kurtosis 'precipitation'.<br>"
   ]
  },
  {
   "cell_type": "code",
   "execution_count": 15,
   "metadata": {},
   "outputs": [],
   "source": [
    "######### CODE TO AUTOMATICALLY DOWNLOAD THE DATABASE ################\n",
    "#! pip install requests #install packages into local environment\n",
    "import requests # import needed modules to interact with the internet\n",
    "# make the connection to the remote file (actually its implementing \"bash curl -O http://fqdn/path ...\")\n",
    "remote_url = 'http://54.243.252.9/engr-1330-webroot/4-Databases/Lubbock_Oct_T&P.csv' # a csv file\n",
    "response = requests.get(remote_url) # Gets the file contents puts into an object\n",
    "output = open('Lubbock_Oct_T&P.csv', 'wb') # Prepare a destination, local\n",
    "output.write(response.content) # write contents of object to named local file\n",
    "output.close() # close the connection"
   ]
  },
  {
   "cell_type": "markdown",
   "metadata": {},
   "source": [
    "**If you get an error, or an empty file, then download using your browser and mouse.**"
   ]
  },
  {
   "cell_type": "code",
   "execution_count": 16,
   "metadata": {},
   "outputs": [
    {
     "data": {
      "text/html": [
       "<div>\n",
       "<style scoped>\n",
       "    .dataframe tbody tr th:only-of-type {\n",
       "        vertical-align: middle;\n",
       "    }\n",
       "\n",
       "    .dataframe tbody tr th {\n",
       "        vertical-align: top;\n",
       "    }\n",
       "\n",
       "    .dataframe thead th {\n",
       "        text-align: right;\n",
       "    }\n",
       "</style>\n",
       "<table border=\"1\" class=\"dataframe\">\n",
       "  <thead>\n",
       "    <tr style=\"text-align: right;\">\n",
       "      <th></th>\n",
       "      <th>Date</th>\n",
       "      <th>precipitation</th>\n",
       "      <th>temperature</th>\n",
       "    </tr>\n",
       "  </thead>\n",
       "  <tbody>\n",
       "    <tr>\n",
       "      <th>0</th>\n",
       "      <td>1895-10</td>\n",
       "      <td>2.14</td>\n",
       "      <td>57.3</td>\n",
       "    </tr>\n",
       "    <tr>\n",
       "      <th>1</th>\n",
       "      <td>1896-10</td>\n",
       "      <td>3.33</td>\n",
       "      <td>58.7</td>\n",
       "    </tr>\n",
       "    <tr>\n",
       "      <th>2</th>\n",
       "      <td>1897-10</td>\n",
       "      <td>1.13</td>\n",
       "      <td>60.4</td>\n",
       "    </tr>\n",
       "    <tr>\n",
       "      <th>3</th>\n",
       "      <td>1898-10</td>\n",
       "      <td>0.26</td>\n",
       "      <td>61.0</td>\n",
       "    </tr>\n",
       "    <tr>\n",
       "      <th>4</th>\n",
       "      <td>1899-10</td>\n",
       "      <td>0.76</td>\n",
       "      <td>62.9</td>\n",
       "    </tr>\n",
       "  </tbody>\n",
       "</table>\n",
       "</div>"
      ],
      "text/plain": [
       "      Date  precipitation  temperature\n",
       "0  1895-10           2.14         57.3\n",
       "1  1896-10           3.33         58.7\n",
       "2  1897-10           1.13         60.4\n",
       "3  1898-10           0.26         61.0\n",
       "4  1899-10           0.76         62.9"
      ]
     },
     "execution_count": 16,
     "metadata": {},
     "output_type": "execute_result"
    }
   ],
   "source": [
    "#code here\n",
    "# read the data into a dataframe\n",
    "df=pd.read_csv('Lubbock_Oct_T&P.csv')\n",
    "df.head()"
   ]
  },
  {
   "cell_type": "code",
   "execution_count": 17,
   "metadata": {},
   "outputs": [
    {
     "name": "stdout",
     "output_type": "stream",
     "text": [
      "<class 'pandas.core.frame.DataFrame'>\n",
      "RangeIndex: 125 entries, 0 to 124\n",
      "Data columns (total 3 columns):\n",
      " #   Column         Non-Null Count  Dtype  \n",
      "---  ------         --------------  -----  \n",
      " 0   Date           125 non-null    object \n",
      " 1   precipitation  125 non-null    float64\n",
      " 2   temperature    125 non-null    float64\n",
      "dtypes: float64(2), object(1)\n",
      "memory usage: 3.1+ KB\n"
     ]
    }
   ],
   "source": [
    "# info about the dataframe\n",
    "df.info()"
   ]
  },
  {
   "cell_type": "markdown",
   "metadata": {},
   "source": [
    "---"
   ]
  },
  {
   "cell_type": "code",
   "execution_count": 18,
   "metadata": {},
   "outputs": [
    {
     "data": {
      "text/html": [
       "<div>\n",
       "<style scoped>\n",
       "    .dataframe tbody tr th:only-of-type {\n",
       "        vertical-align: middle;\n",
       "    }\n",
       "\n",
       "    .dataframe tbody tr th {\n",
       "        vertical-align: top;\n",
       "    }\n",
       "\n",
       "    .dataframe thead th {\n",
       "        text-align: right;\n",
       "    }\n",
       "</style>\n",
       "<table border=\"1\" class=\"dataframe\">\n",
       "  <thead>\n",
       "    <tr style=\"text-align: right;\">\n",
       "      <th></th>\n",
       "      <th>precipitation</th>\n",
       "      <th>temperature</th>\n",
       "    </tr>\n",
       "  </thead>\n",
       "  <tbody>\n",
       "    <tr>\n",
       "      <th>count</th>\n",
       "      <td>125.000000</td>\n",
       "      <td>125.000000</td>\n",
       "    </tr>\n",
       "    <tr>\n",
       "      <th>mean</th>\n",
       "      <td>1.823280</td>\n",
       "      <td>61.411200</td>\n",
       "    </tr>\n",
       "    <tr>\n",
       "      <th>std</th>\n",
       "      <td>1.722971</td>\n",
       "      <td>2.343805</td>\n",
       "    </tr>\n",
       "    <tr>\n",
       "      <th>min</th>\n",
       "      <td>0.000000</td>\n",
       "      <td>54.200000</td>\n",
       "    </tr>\n",
       "    <tr>\n",
       "      <th>25%</th>\n",
       "      <td>0.550000</td>\n",
       "      <td>59.900000</td>\n",
       "    </tr>\n",
       "    <tr>\n",
       "      <th>50%</th>\n",
       "      <td>1.200000</td>\n",
       "      <td>61.600000</td>\n",
       "    </tr>\n",
       "    <tr>\n",
       "      <th>75%</th>\n",
       "      <td>2.440000</td>\n",
       "      <td>62.900000</td>\n",
       "    </tr>\n",
       "    <tr>\n",
       "      <th>max</th>\n",
       "      <td>7.220000</td>\n",
       "      <td>66.900000</td>\n",
       "    </tr>\n",
       "  </tbody>\n",
       "</table>\n",
       "</div>"
      ],
      "text/plain": [
       "       precipitation  temperature\n",
       "count     125.000000   125.000000\n",
       "mean        1.823280    61.411200\n",
       "std         1.722971     2.343805\n",
       "min         0.000000    54.200000\n",
       "25%         0.550000    59.900000\n",
       "50%         1.200000    61.600000\n",
       "75%         2.440000    62.900000\n",
       "max         7.220000    66.900000"
      ]
     },
     "execution_count": 18,
     "metadata": {},
     "output_type": "execute_result"
    }
   ],
   "source": [
    "# info about the dataframe\n",
    "df.describe()"
   ]
  },
  {
   "cell_type": "code",
   "execution_count": 26,
   "metadata": {},
   "outputs": [
    {
     "name": "stdout",
     "output_type": "stream",
     "text": [
      "The temperature has an Arithmetic mean of 61.41119999999999\n",
      "The temperature has an Harmonic mean of 61.32108490088802\n",
      "The temperature has an Geometric mean of 61.36638193715268\n"
     ]
    }
   ],
   "source": [
    "# descriptive statistics for temperature\n",
    "tMean = df['temperature'].mean()\n",
    "hMean = statistics.harmonic_mean(df['temperature'])\n",
    "gMean = statistics.geometric_mean(df['temperature'])\n",
    "\n",
    "print('The temperature has an Arithmetic mean of', tMean)\n",
    "print('The temperature has an Harmonic mean of', hMean)\n",
    "print('The temperature has an Geometric mean of', gMean)"
   ]
  },
  {
   "cell_type": "code",
   "execution_count": 29,
   "metadata": {},
   "outputs": [
    {
     "name": "stdout",
     "output_type": "stream",
     "text": [
      "The median temperature is thus: 61.6\n",
      "The median precipitation is thus: 1.2\n"
     ]
    }
   ],
   "source": [
    "# median of precipitation and temperature\n",
    "medT = df['temperature'].median()\n",
    "medP = df['precipitation'].median()\n",
    "\n",
    "print('The median temperature is thus:', medT)\n",
    "print('The median precipitation is thus:', medP)"
   ]
  },
  {
   "cell_type": "code",
   "execution_count": 32,
   "metadata": {},
   "outputs": [
    {
     "name": "stdout",
     "output_type": "stream",
     "text": [
      "61.6\n",
      "0    61.6\n",
      "dtype: float64\n"
     ]
    }
   ],
   "source": [
    "# how many modes temperature\n",
    "modes = df['temperature']\n",
    "#using stats\n",
    "mode6 = statistics.mode(modes)\n",
    "print(mode6) \n",
    "# via pandas:\n",
    "mode7 = modes.mode()\n",
    "print(mode7) \n"
   ]
  },
  {
   "cell_type": "code",
   "execution_count": 33,
   "metadata": {},
   "outputs": [
    {
     "name": "stdout",
     "output_type": "stream",
     "text": [
      "The IQR of the budget of the Top10 highest-grossing films is  1.89\n",
      "The IQR of the budget of the Top10 highest-grossing films is  1.89\n"
     ]
    }
   ],
   "source": [
    "# IQR precipitation\n",
    "iqrr = df['precipitation']\n",
    "#via Numpy:\n",
    "IQR1 = np.percentile(iqrr, 75) -np.percentile(iqrr, 25)    #returns the IQR = Q3-Q1 = P75-P25\n",
    "print(\"The IQR of the budget of the Top10 highest-grossing films is \",IQR1)\n",
    "#via scipy.stats:\n",
    "IQR2 = scipy.stats.iqr(iqrr)    #returns the IQR- Can be used for other percentile differences as well >> iqr(object, rng=(p1, p2))\n",
    "print(\"The IQR of the budget of the Top10 highest-grossing films is \",IQR2)\n"
   ]
  },
  {
   "cell_type": "code",
   "execution_count": 36,
   "metadata": {},
   "outputs": [
    {
     "name": "stdout",
     "output_type": "stream",
     "text": [
      "The 10th percentile of the temperature is 58.58\n",
      "The 40th and 70th percentile of the temperature is [61.   62.68]\n",
      "The 10th percentile of the temperature 58.58\n",
      "The quartiles of the budget of the temperature is [59.9, 61.6, 62.9]\n"
     ]
    }
   ],
   "source": [
    "# Selected quantiles for temperature\n",
    "quants = df['temperature']\n",
    "\n",
    "#via Numpy:\n",
    "p10 = np.percentile(quants, 10) #returns the 10th percentile\n",
    "print(\"The 10th percentile of the temperature is\",p10)\n",
    "p4070 = np.percentile(quants, [40,70]) #returns the 40th and 70th percentile\n",
    "print(\"The 40th and 70th percentile of the temperature is\",p4070)\n",
    "\n",
    "\n",
    "#via Pandas:\n",
    "p10n = quants.quantile(0.10) #returns the 10th percentile - notice the difference from Numpy\n",
    "print(\"The 10th percentile of the temperature\",p10n)\n",
    "\n",
    "\n",
    "#via Statistics:\n",
    "Qs = statistics.quantiles(quants, n=4, method='inclusive')     #The parameter n defines the number of resulting equal-probability percentiles: \n",
    "                                                               #n=4 returns the quartiles | n=2 returns the median\n",
    "print(\"The quartiles of the budget of the temperature is\",Qs)"
   ]
  },
  {
   "cell_type": "code",
   "execution_count": 37,
   "metadata": {},
   "outputs": [
    {
     "data": {
      "text/plain": [
       "count    125.000000\n",
       "mean       1.823280\n",
       "std        1.722971\n",
       "min        0.000000\n",
       "25%        0.550000\n",
       "50%        1.200000\n",
       "75%        2.440000\n",
       "max        7.220000\n",
       "Name: precipitation, dtype: float64"
      ]
     },
     "execution_count": 37,
     "metadata": {},
     "output_type": "execute_result"
    }
   ],
   "source": [
    "# 5-number summary precipitation\n",
    "summary = df['precipitation']\n",
    "summary.describe()"
   ]
  },
  {
   "cell_type": "code",
   "execution_count": 40,
   "metadata": {},
   "outputs": [
    {
     "data": {
      "image/png": "[encoded data removed]",
      "text/plain": [
       "<Figure size 504x360 with 1 Axes>"
      ]
     },
     "metadata": {
      "needs_background": "light"
     },
     "output_type": "display_data"
    }
   ],
   "source": [
    "# Boxplot\n",
    "import matplotlib.pyplot as plt \n",
    "info = df['precipitation']\n",
    "fig = plt.figure(figsize =(7, 5))\n",
    "plt.boxplot(info,medianprops={'linewidth': 1, 'color': 'purple'})\n",
    "\n",
    "plt.show()\n"
   ]
  },
  {
   "cell_type": "code",
   "execution_count": 42,
   "metadata": {},
   "outputs": [
    {
     "name": "stdout",
     "output_type": "stream",
     "text": [
      "The vairance of precipitation is: 2.9686302838709677\n",
      "The standard deviation of precipitation is: 1.7229713531776922\n"
     ]
    }
   ],
   "source": [
    "# Variance and standard deviation of 'precipitation'\n",
    "info = df['precipitation']\n",
    "var = statistics.variance(info)\n",
    "sd = statistics.stdev(info)\n",
    "print('The vairance of precipitation is:', var)\n",
    "print('The standard deviation of precipitation is:', sd)"
   ]
  },
  {
   "cell_type": "code",
   "execution_count": 44,
   "metadata": {},
   "outputs": [
    {
     "name": "stdout",
     "output_type": "stream",
     "text": [
      "The skew of precipitation is: 1.3136899131063302\n",
      "The kurtosis of precipitation is: 0.9313333208069934\n"
     ]
    }
   ],
   "source": [
    "# Skewness and kurtosis 'precipitation'\n",
    "info = df['precipitation']\n",
    "skew = scipy.stats.skew(info)\n",
    "kurtosis = scipy.stats.kurtosis(info)\n",
    "print('The skew of precipitation is:', skew)\n",
    "print('The kurtosis of precipitation is:', kurtosis)"
   ]
  },
  {
   "cell_type": "code",
   "execution_count": null,
   "metadata": {},
   "outputs": [],
   "source": []
  }
 ],
 "metadata": {
  "kernelspec": {
   "display_name": "Python 3",
   "language": "python",
   "name": "python3"
  },
  "language_info": {
   "codemirror_mode": {
    "name": "ipython",
    "version": 3
   },
   "file_extension": ".py",
   "mimetype": "text/x-python",
   "name": "python",
   "nbconvert_exporter": "python",
   "pygments_lexer": "ipython3",
   "version": "3.8.5"
  }
 },
 "nbformat": 4,
 "nbformat_minor": 4
}
