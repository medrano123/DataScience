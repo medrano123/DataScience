{
 "cells": [
  {
   "cell_type": "code",
   "execution_count": null,
   "metadata": {},
   "outputs": [],
   "source": []
  },
  {
   "cell_type": "markdown",
   "metadata": {},
   "source": [
    "**Download** (right-click, save target as ...) this page as a jupyterlab notebook [Lab26-TH](http://54.243.252.9/engr-1330-webroot/8-Labs/Lab26/Lab26-TH.ipynb)\n",
    "\n",
    "___"
   ]
  },
  {
   "cell_type": "markdown",
   "metadata": {},
   "source": [
    "# <font color=darkred>Exercise Set 26: Regression Models </font>\n",
    "\n",
    "**Medrano, Giovanni**\n",
    "\n",
    "**R11521018**\n",
    "\n",
    "ENGR 1330 Exercise Set 26 - Homework\n",
    "\n",
    "___\n"
   ]
  },
  {
   "cell_type": "markdown",
   "metadata": {},
   "source": [
    "### Exercise: \n",
    "In the [http://54.243.252.9/engr-1330-webroot/4-Databases/CarsDF.csv](http://54.243.252.9/engr-1330-webroot/4-Databases/CarsDF.csv) file, you will find a dataset with information about cars and motorcycles including their age, kilometers driven (mileage), fuel economy, enginer power, engine volume, and selling price. Follow the steps and answer the questions. <br>\n",
    "\n",
    "- Step1: Read the \"CarsDF.csv\" file as a dataframe. Explore the dataframe and in a markdown cell briefly describe it in your own words. <br>\n",
    "- Step2: Calculate and compare the correlation coefficient of the \"selling price\" with all the other parameters (execpt for \"name\", of course!). In a markdown cell, explain the results and state which parameters have the strongest and weakest relationship with \"selling price\" of a vehicle. \n",
    "- Step3: Use linear regression modeling in primitive python and VISUALLY assess the quality of a linear fit with Age as the predictor, and selling price as outcome. Explain the result of this analysis in a markdown cell.\n",
    "- Step4: Use linear regression modeling with statsmodels and VISUALLY assess the quality of a linear fit with fuel economy as the predictor, and selling price as outcome. Explain the result of this analysis in a markdown cell.\n",
    "- Step5: Use linear regression modeling with statsmodels and VISUALLY assess the quality of a linear fit with engine volume as the predictor, and selling price as outcome. Explain the result of this analysis in a markdown cell.\n",
    "- Step6: In a markdown cell, explain which of the three predictors in steps 3,4, and 5, was a better predictor (resulted in a better fit ) for selling price?\n",
    "- Step7: Use multiple linear regression modeling with scikit-learn and use all the parameters (execpt for \"name\", of course!) to predict selling price. Then, use this model to predict the selling price of a car that has the following charactristics and decide whether this prediction is reliable in your opinion: \n",
    "    - 2 years old\n",
    "    - has gone 17000 km\n",
    "    - has fuel economy measure of 24.2 kmpl\n",
    "    - has an engine power of 74 bhp\n",
    "    - has en engine volume of 1260 CC"
   ]
  },
  {
   "cell_type": "code",
   "execution_count": 38,
   "metadata": {},
   "outputs": [
    {
     "data": {
      "text/html": [
       "<div>\n",
       "<style scoped>\n",
       "    .dataframe tbody tr th:only-of-type {\n",
       "        vertical-align: middle;\n",
       "    }\n",
       "\n",
       "    .dataframe tbody tr th {\n",
       "        vertical-align: top;\n",
       "    }\n",
       "\n",
       "    .dataframe thead th {\n",
       "        text-align: right;\n",
       "    }\n",
       "</style>\n",
       "<table border=\"1\" class=\"dataframe\">\n",
       "  <thead>\n",
       "    <tr style=\"text-align: right;\">\n",
       "      <th></th>\n",
       "      <th>name</th>\n",
       "      <th>Age</th>\n",
       "      <th>km_driven</th>\n",
       "      <th>FuelEconomy_kmpl</th>\n",
       "      <th>engine_p</th>\n",
       "      <th>engine_v</th>\n",
       "      <th>selling_price</th>\n",
       "    </tr>\n",
       "  </thead>\n",
       "  <tbody>\n",
       "    <tr>\n",
       "      <th>0</th>\n",
       "      <td>Maruti Swift Dzire VDI</td>\n",
       "      <td>6</td>\n",
       "      <td>145500</td>\n",
       "      <td>23.4</td>\n",
       "      <td>74.0</td>\n",
       "      <td>1248</td>\n",
       "      <td>450000</td>\n",
       "    </tr>\n",
       "    <tr>\n",
       "      <th>1</th>\n",
       "      <td>Skoda Rapid 1.5 TDI Ambition</td>\n",
       "      <td>6</td>\n",
       "      <td>120000</td>\n",
       "      <td>21.1</td>\n",
       "      <td>103.0</td>\n",
       "      <td>1498</td>\n",
       "      <td>370000</td>\n",
       "    </tr>\n",
       "    <tr>\n",
       "      <th>2</th>\n",
       "      <td>Honda City 2017-2020 EXi</td>\n",
       "      <td>14</td>\n",
       "      <td>140000</td>\n",
       "      <td>17.7</td>\n",
       "      <td>78.0</td>\n",
       "      <td>1497</td>\n",
       "      <td>158000</td>\n",
       "    </tr>\n",
       "    <tr>\n",
       "      <th>3</th>\n",
       "      <td>Hyundai i20 Sportz Diesel</td>\n",
       "      <td>10</td>\n",
       "      <td>127000</td>\n",
       "      <td>23.0</td>\n",
       "      <td>90.0</td>\n",
       "      <td>1396</td>\n",
       "      <td>225000</td>\n",
       "    </tr>\n",
       "    <tr>\n",
       "      <th>4</th>\n",
       "      <td>Maruti Swift VXI BSIII</td>\n",
       "      <td>13</td>\n",
       "      <td>120000</td>\n",
       "      <td>16.1</td>\n",
       "      <td>88.0</td>\n",
       "      <td>1298</td>\n",
       "      <td>130000</td>\n",
       "    </tr>\n",
       "  </tbody>\n",
       "</table>\n",
       "</div>"
      ],
      "text/plain": [
       "                           name  Age  km_driven  FuelEconomy_kmpl  engine_p  \\\n",
       "0        Maruti Swift Dzire VDI    6     145500              23.4      74.0   \n",
       "1  Skoda Rapid 1.5 TDI Ambition    6     120000              21.1     103.0   \n",
       "2      Honda City 2017-2020 EXi   14     140000              17.7      78.0   \n",
       "3     Hyundai i20 Sportz Diesel   10     127000              23.0      90.0   \n",
       "4        Maruti Swift VXI BSIII   13     120000              16.1      88.0   \n",
       "\n",
       "   engine_v  selling_price  \n",
       "0      1248         450000  \n",
       "1      1498         370000  \n",
       "2      1497         158000  \n",
       "3      1396         225000  \n",
       "4      1298         130000  "
      ]
     },
     "execution_count": 38,
     "metadata": {},
     "output_type": "execute_result"
    }
   ],
   "source": [
    "# code here\n",
    "# Step1:\n",
    "import requests # Module to process http/https requests\n",
    "import pandas as pd\n",
    "import numpy as np\n",
    "import matplotlib.pyplot as plt\n",
    "import statsmodels.formula.api as smf\n",
    "from sklearn.linear_model import LinearRegression\n",
    "\n",
    "\n",
    "\n",
    "remote_url=\"http://54.243.252.9/engr-1330-webroot/4-Databases/CarsDF.csv\"  # set the url\n",
    "rget = requests.get(remote_url, allow_redirects=True)  # get the remote resource, follow imbedded links\n",
    "open('CarsDF.csv','wb').write(rget.content); # extract from the remote the contents, assign to a local file same name\n",
    "# Step1B\n",
    "# make into a dataframe\n",
    "# whats in the dataframe\n",
    "dfd = pd.read_csv('CarsDF.csv')\n",
    "dfd.head()"
   ]
  },
  {
   "cell_type": "code",
   "execution_count": 39,
   "metadata": {},
   "outputs": [
    {
     "data": {
      "text/html": [
       "<div>\n",
       "<style scoped>\n",
       "    .dataframe tbody tr th:only-of-type {\n",
       "        vertical-align: middle;\n",
       "    }\n",
       "\n",
       "    .dataframe tbody tr th {\n",
       "        vertical-align: top;\n",
       "    }\n",
       "\n",
       "    .dataframe thead th {\n",
       "        text-align: right;\n",
       "    }\n",
       "</style>\n",
       "<table border=\"1\" class=\"dataframe\">\n",
       "  <thead>\n",
       "    <tr style=\"text-align: right;\">\n",
       "      <th></th>\n",
       "      <th>Age</th>\n",
       "      <th>km_driven</th>\n",
       "      <th>FuelEconomy_kmpl</th>\n",
       "      <th>engine_p</th>\n",
       "      <th>engine_v</th>\n",
       "      <th>selling_price</th>\n",
       "    </tr>\n",
       "  </thead>\n",
       "  <tbody>\n",
       "    <tr>\n",
       "      <th>count</th>\n",
       "      <td>7905.000000</td>\n",
       "      <td>7.905000e+03</td>\n",
       "      <td>7905.000000</td>\n",
       "      <td>7905.000000</td>\n",
       "      <td>7905.000000</td>\n",
       "      <td>7.905000e+03</td>\n",
       "    </tr>\n",
       "    <tr>\n",
       "      <th>mean</th>\n",
       "      <td>6.015939</td>\n",
       "      <td>6.918350e+04</td>\n",
       "      <td>19.397293</td>\n",
       "      <td>79.227577</td>\n",
       "      <td>1458.735484</td>\n",
       "      <td>6.498295e+05</td>\n",
       "    </tr>\n",
       "    <tr>\n",
       "      <th>std</th>\n",
       "      <td>3.863924</td>\n",
       "      <td>5.679403e+04</td>\n",
       "      <td>4.034584</td>\n",
       "      <td>23.035056</td>\n",
       "      <td>503.919358</td>\n",
       "      <td>8.136330e+05</td>\n",
       "    </tr>\n",
       "    <tr>\n",
       "      <th>min</th>\n",
       "      <td>0.000000</td>\n",
       "      <td>1.000000e+00</td>\n",
       "      <td>0.000000</td>\n",
       "      <td>32.000000</td>\n",
       "      <td>624.000000</td>\n",
       "      <td>2.999900e+04</td>\n",
       "    </tr>\n",
       "    <tr>\n",
       "      <th>25%</th>\n",
       "      <td>3.000000</td>\n",
       "      <td>3.500000e+04</td>\n",
       "      <td>16.700000</td>\n",
       "      <td>67.000000</td>\n",
       "      <td>1197.000000</td>\n",
       "      <td>2.700000e+05</td>\n",
       "    </tr>\n",
       "    <tr>\n",
       "      <th>50%</th>\n",
       "      <td>5.000000</td>\n",
       "      <td>6.000000e+04</td>\n",
       "      <td>19.300000</td>\n",
       "      <td>81.000000</td>\n",
       "      <td>1248.000000</td>\n",
       "      <td>4.500000e+05</td>\n",
       "    </tr>\n",
       "    <tr>\n",
       "      <th>75%</th>\n",
       "      <td>8.000000</td>\n",
       "      <td>9.520000e+04</td>\n",
       "      <td>22.300000</td>\n",
       "      <td>88.000000</td>\n",
       "      <td>1582.000000</td>\n",
       "      <td>6.900000e+05</td>\n",
       "    </tr>\n",
       "    <tr>\n",
       "      <th>max</th>\n",
       "      <td>26.000000</td>\n",
       "      <td>2.360457e+06</td>\n",
       "      <td>42.000000</td>\n",
       "      <td>280.000000</td>\n",
       "      <td>3604.000000</td>\n",
       "      <td>1.000000e+07</td>\n",
       "    </tr>\n",
       "  </tbody>\n",
       "</table>\n",
       "</div>"
      ],
      "text/plain": [
       "               Age     km_driven  FuelEconomy_kmpl     engine_p     engine_v  \\\n",
       "count  7905.000000  7.905000e+03       7905.000000  7905.000000  7905.000000   \n",
       "mean      6.015939  6.918350e+04         19.397293    79.227577  1458.735484   \n",
       "std       3.863924  5.679403e+04          4.034584    23.035056   503.919358   \n",
       "min       0.000000  1.000000e+00          0.000000    32.000000   624.000000   \n",
       "25%       3.000000  3.500000e+04         16.700000    67.000000  1197.000000   \n",
       "50%       5.000000  6.000000e+04         19.300000    81.000000  1248.000000   \n",
       "75%       8.000000  9.520000e+04         22.300000    88.000000  1582.000000   \n",
       "max      26.000000  2.360457e+06         42.000000   280.000000  3604.000000   \n",
       "\n",
       "       selling_price  \n",
       "count   7.905000e+03  \n",
       "mean    6.498295e+05  \n",
       "std     8.136330e+05  \n",
       "min     2.999900e+04  \n",
       "25%     2.700000e+05  \n",
       "50%     4.500000e+05  \n",
       "75%     6.900000e+05  \n",
       "max     1.000000e+07  "
      ]
     },
     "execution_count": 39,
     "metadata": {},
     "output_type": "execute_result"
    }
   ],
   "source": [
    "dfd.describe()"
   ]
  },
  {
   "cell_type": "markdown",
   "metadata": {},
   "source": [
    "On Step1: <font color=\"red\">\n",
    "# The dataframe is filled with 7 colums and describes the\n",
    "\n",
    "# vehicle Names, age, km driven, fueleconomy, enginep, enginey, and\n",
    "\n",
    "# it includes the selling price of the vehicle.\n",
    "\n",
    "# It is also filled with 7905 rows and the purpose is to compare the vehicles\n",
    "\n",
    "# to see which is ideal.\n",
    "</font>"
   ]
  },
  {
   "cell_type": "code",
   "execution_count": 40,
   "metadata": {},
   "outputs": [
    {
     "data": {
      "text/html": [
       "<div>\n",
       "<style scoped>\n",
       "    .dataframe tbody tr th:only-of-type {\n",
       "        vertical-align: middle;\n",
       "    }\n",
       "\n",
       "    .dataframe tbody tr th {\n",
       "        vertical-align: top;\n",
       "    }\n",
       "\n",
       "    .dataframe thead th {\n",
       "        text-align: right;\n",
       "    }\n",
       "</style>\n",
       "<table border=\"1\" class=\"dataframe\">\n",
       "  <thead>\n",
       "    <tr style=\"text-align: right;\">\n",
       "      <th></th>\n",
       "      <th>Age</th>\n",
       "      <th>km_driven</th>\n",
       "      <th>FuelEconomy_kmpl</th>\n",
       "      <th>engine_p</th>\n",
       "      <th>engine_v</th>\n",
       "      <th>selling_price</th>\n",
       "    </tr>\n",
       "  </thead>\n",
       "  <tbody>\n",
       "    <tr>\n",
       "      <th>Age</th>\n",
       "      <td>1.000000</td>\n",
       "      <td>0.428541</td>\n",
       "      <td>-0.327189</td>\n",
       "      <td>-0.096420</td>\n",
       "      <td>-0.018250</td>\n",
       "      <td>-0.412299</td>\n",
       "    </tr>\n",
       "    <tr>\n",
       "      <th>km_driven</th>\n",
       "      <td>0.428541</td>\n",
       "      <td>1.000000</td>\n",
       "      <td>-0.173003</td>\n",
       "      <td>-0.010078</td>\n",
       "      <td>0.206078</td>\n",
       "      <td>-0.222152</td>\n",
       "    </tr>\n",
       "    <tr>\n",
       "      <th>FuelEconomy_kmpl</th>\n",
       "      <td>-0.327189</td>\n",
       "      <td>-0.173003</td>\n",
       "      <td>1.000000</td>\n",
       "      <td>-0.143632</td>\n",
       "      <td>-0.577973</td>\n",
       "      <td>-0.127844</td>\n",
       "    </tr>\n",
       "    <tr>\n",
       "      <th>engine_p</th>\n",
       "      <td>-0.096420</td>\n",
       "      <td>-0.010078</td>\n",
       "      <td>-0.143632</td>\n",
       "      <td>1.000000</td>\n",
       "      <td>0.282820</td>\n",
       "      <td>0.278393</td>\n",
       "    </tr>\n",
       "    <tr>\n",
       "      <th>engine_v</th>\n",
       "      <td>-0.018250</td>\n",
       "      <td>0.206078</td>\n",
       "      <td>-0.577973</td>\n",
       "      <td>0.282820</td>\n",
       "      <td>1.000000</td>\n",
       "      <td>0.455679</td>\n",
       "    </tr>\n",
       "    <tr>\n",
       "      <th>selling_price</th>\n",
       "      <td>-0.412299</td>\n",
       "      <td>-0.222152</td>\n",
       "      <td>-0.127844</td>\n",
       "      <td>0.278393</td>\n",
       "      <td>0.455679</td>\n",
       "      <td>1.000000</td>\n",
       "    </tr>\n",
       "  </tbody>\n",
       "</table>\n",
       "</div>"
      ],
      "text/plain": [
       "                       Age  km_driven  FuelEconomy_kmpl  engine_p  engine_v  \\\n",
       "Age               1.000000   0.428541         -0.327189 -0.096420 -0.018250   \n",
       "km_driven         0.428541   1.000000         -0.173003 -0.010078  0.206078   \n",
       "FuelEconomy_kmpl -0.327189  -0.173003          1.000000 -0.143632 -0.577973   \n",
       "engine_p         -0.096420  -0.010078         -0.143632  1.000000  0.282820   \n",
       "engine_v         -0.018250   0.206078         -0.577973  0.282820  1.000000   \n",
       "selling_price    -0.412299  -0.222152         -0.127844  0.278393  0.455679   \n",
       "\n",
       "                  selling_price  \n",
       "Age                   -0.412299  \n",
       "km_driven             -0.222152  \n",
       "FuelEconomy_kmpl      -0.127844  \n",
       "engine_p               0.278393  \n",
       "engine_v               0.455679  \n",
       "selling_price          1.000000  "
      ]
     },
     "execution_count": 40,
     "metadata": {},
     "output_type": "execute_result"
    }
   ],
   "source": [
    "# Step2:.\n",
    "dfd.corr()"
   ]
  },
  {
   "cell_type": "markdown",
   "metadata": {},
   "source": [
    "On Step2: <font color=\"red\">\n",
    "# According to selling price the only variables that have a positive correlation are\n",
    "\n",
    "# Engine power and Enginer volume and Engine volume has the highest positive corr.\n",
    "    \n",
    "# with selling price. The rest are all negative so the main driving factors of \n",
    "\n",
    "# selling price are engine power and engine volume.\n",
    "\n",
    "\n",
    "</font>"
   ]
  },
  {
   "cell_type": "code",
   "execution_count": 41,
   "metadata": {},
   "outputs": [
    {
     "name": "stdout",
     "output_type": "stream",
     "text": [
      "6.015939278937381 649829.510056926\n",
      "===========================\n",
      "Beta = -86818.48239180523\n",
      "Alpha= 1172124.2284155204\n"
     ]
    }
   ],
   "source": [
    "#Step3:\n",
    "a = dfd['Age']\n",
    "sp = dfd['selling_price']\n",
    "\n",
    "meanA = np.mean(a)\n",
    "meanSp = np.mean(sp)\n",
    "print(meanA, meanSp)\n",
    "\n",
    "dfd['xycov'] = (dfd['Age'] - meanA) * (dfd['selling_price'] - meanSp)\n",
    "dfd['xvar'] = (dfd['Age'] - meanA)**2\n",
    "print('===========================')\n",
    "\n",
    "b = dfd['xycov'].sum() / dfd['xvar'].sum()\n",
    "alpha = meanSp - (b * meanA)\n",
    "\n",
    "print('Beta =',b)\n",
    "print('Alpha=',alpha)"
   ]
  },
  {
   "cell_type": "code",
   "execution_count": 42,
   "metadata": {},
   "outputs": [
    {
     "name": "stdout",
     "output_type": "stream",
     "text": [
      "[651213.33406469 651213.33406469 -43334.52506975 ... 217120.92210566\n",
      " 564394.85167288 564394.85167288]\n"
     ]
    }
   ],
   "source": [
    "X = np.array(a)\n",
    "\n",
    "ypred = alpha + b * X\n",
    "print(ypred)"
   ]
  },
  {
   "cell_type": "code",
   "execution_count": 43,
   "metadata": {},
   "outputs": [
    {
     "data": {
      "image/png": "[encoded data removed]",
      "text/plain": [
       "<Figure size 864x432 with 1 Axes>"
      ]
     },
     "metadata": {
      "needs_background": "light"
     },
     "output_type": "display_data"
    }
   ],
   "source": [
    "plt.figure(figsize=(12, 6))\n",
    "plt.plot(X, ypred, color=\"red\")     \n",
    "plt.plot(a, sp, 'ro', color=\"blue\")   \n",
    "plt.title('Actual vs Predicted')\n",
    "plt.xlabel('Age (Yrs)')\n",
    "plt.ylabel('Selling Price ($)')\n",
    "\n",
    "plt.show();"
   ]
  },
  {
   "cell_type": "markdown",
   "metadata": {},
   "source": [
    "On Step3: <font color=\"red\">\n",
    "# The older the car the lower the selling price becomes.\n",
    "  \n",
    "# Higher Age = Lower Selling Price\n",
    "    \n",
    "# Due to car damage, inflation, car wearing down, etc\n",
    "\n",
    "\n",
    "</font>"
   ]
  },
  {
   "cell_type": "code",
   "execution_count": 53,
   "metadata": {},
   "outputs": [
    {
     "data": {
      "text/plain": [
       "Intercept    1.149923e+06\n",
       "f           -2.578159e+04\n",
       "dtype: float64"
      ]
     },
     "execution_count": 53,
     "metadata": {},
     "output_type": "execute_result"
    }
   ],
   "source": [
    "# Step4:\n",
    "f = dfd['FuelEconomy_kmpl']\n",
    "\n",
    "model = smf.ols('sp ~ f', data = dfd)\n",
    "model = model.fit()\n",
    "model.params"
   ]
  },
  {
   "cell_type": "code",
   "execution_count": 54,
   "metadata": {},
   "outputs": [
    {
     "data": {
      "image/png": "[encoded data removed]",
      "text/plain": [
       "<Figure size 864x432 with 1 Axes>"
      ]
     },
     "metadata": {
      "needs_background": "light"
     },
     "output_type": "display_data"
    }
   ],
   "source": [
    "sp_p = model.predict()\n",
    "\n",
    "plt.figure(figsize=(12, 6))\n",
    "plt.plot(f, sp, 'o')   \n",
    "\n",
    "plt.plot(f, sp_p, 'r', linewidth=2)   \n",
    "plt.xlabel('Fuel Economy (kmpl)')\n",
    "plt.ylabel('Selling Price ($)')\n",
    "plt.title('model vs observed')\n",
    "\n",
    "plt.show();"
   ]
  },
  {
   "cell_type": "markdown",
   "metadata": {},
   "source": [
    "On Step4: <font color=\"red\">\n",
    "# According to the plot as fuel economy continues to grow\n",
    "    \n",
    "# The selling price begins to lower.\n",
    "    \n",
    "# Fuel economy increases = Selling Price lowers\n",
    "  \n",
    "# Although it is a low correlation.\n",
    "\n",
    "\n",
    "\n",
    "\n",
    "</font>"
   ]
  },
  {
   "cell_type": "code",
   "execution_count": 46,
   "metadata": {},
   "outputs": [
    {
     "data": {
      "text/plain": [
       "Intercept   -423426.822869\n",
       "e               735.744311\n",
       "dtype: float64"
      ]
     },
     "execution_count": 46,
     "metadata": {},
     "output_type": "execute_result"
    }
   ],
   "source": [
    "# Step5:\n",
    "e = dfd['engine_v']\n",
    "\n",
    "model = smf.ols('sp ~ e', data = dfd)\n",
    "\n",
    "model = model.fit()\n",
    "model.params"
   ]
  },
  {
   "cell_type": "code",
   "execution_count": 47,
   "metadata": {},
   "outputs": [
    {
     "data": {
      "image/png": "[encoded data removed]",
      "text/plain": [
       "<Figure size 864x432 with 1 Axes>"
      ]
     },
     "metadata": {
      "needs_background": "light"
     },
     "output_type": "display_data"
    }
   ],
   "source": [
    "sepP = model.predict()\n",
    "\n",
    "\n",
    "plt.figure(figsize=(12, 6))\n",
    "plt.plot(e, sp, 'o')           \n",
    "plt.plot(e, sepP, 'r', linewidth=2)  \n",
    "plt.xlabel('Volume of Engine (m^3)')\n",
    "plt.ylabel('Selling Price ($)')\n",
    "plt.title('model vs observed')\n",
    "\n",
    "plt.show();"
   ]
  },
  {
   "cell_type": "markdown",
   "metadata": {},
   "source": [
    "On Step5: <font color=\"red\">\n",
    "# As the engine volume increased the selling price also increased\n",
    "\n",
    "# Engine Volume Increase = Selling Price Increase\n",
    "    \n",
    "# People tend to enjoy cars with a bigger engine. \n",
    "        \n",
    "</font>"
   ]
  },
  {
   "cell_type": "code",
   "execution_count": 48,
   "metadata": {},
   "outputs": [],
   "source": [
    "# Step6:"
   ]
  },
  {
   "cell_type": "markdown",
   "metadata": {},
   "source": [
    "On Step6: <font color=\"red\">\n",
    "# As a whole it seems as though step5 has the best fit\n",
    "\n",
    "# Step 3 has a decent fit as well, but not as great as step5s\n",
    "    \n",
    "# Meaning Engine Volume being the predictor will lease to the best fit in terms of selling price.\n",
    "</font>"
   ]
  },
  {
   "cell_type": "code",
   "execution_count": 55,
   "metadata": {},
   "outputs": [
    {
     "name": "stdout",
     "output_type": "stream",
     "text": [
      "alpha = -349182.43008742994\n",
      "betas = [-6.39699185e+04 -2.61785873e+00  6.27862738e+03  4.17269445e+03\n",
      "  7.62703638e+02]\n"
     ]
    }
   ],
   "source": [
    "#Step7:\n",
    "predictors = ['Age', 'km_driven', 'FuelEconomy_kmpl','engine_p','engine_v']\n",
    "X = dfd[predictors]\n",
    "y = dfd['selling_price']\n",
    "lm = LinearRegression()\n",
    "model = lm.fit(X, y)\n",
    "print(f'alpha = {model.intercept_}')\n",
    "print(f'betas = {model.coef_}')"
   ]
  },
  {
   "cell_type": "code",
   "execution_count": 56,
   "metadata": {},
   "outputs": [
    {
     "data": {
      "image/png": "[encoded data removed]",
      "text/plain": [
       "<Figure size 864x432 with 1 Axes>"
      ]
     },
     "metadata": {
      "needs_background": "light"
     },
     "output_type": "display_data"
    }
   ],
   "source": [
    "fitted = model.predict(X)\n",
    "\n",
    "\n",
    "plt.figure(figsize=(12, 6))\n",
    "plt.plot(dfd['Age'], dfd['selling_price'], 'o')           \n",
    "plt.plot(dfd['Age'], fitted, 'r', linewidth=2)  \n",
    "plt.xlabel('Predictors')\n",
    "plt.ylabel('Selling Price')\n",
    "plt.title('Predicted Selling Price')\n",
    "\n",
    "plt.show();"
   ]
  },
  {
   "cell_type": "code",
   "execution_count": 57,
   "metadata": {},
   "outputs": [
    {
     "name": "stdout",
     "output_type": "stream",
     "text": [
      "The Final Prediction for those parameters is: [900102.89014124]\n"
     ]
    }
   ],
   "source": [
    "final = [[2,17000,24.2,74,1260]]\n",
    "finals =model.predict(final)\n",
    "print('The Final Prediction for those parameters is:',finals)"
   ]
  }
 ],
 "metadata": {
  "kernelspec": {
   "display_name": "Python 3",
   "language": "python",
   "name": "python3"
  },
  "language_info": {
   "codemirror_mode": {
    "name": "ipython",
    "version": 3
   },
   "file_extension": ".py",
   "mimetype": "text/x-python",
   "name": "python",
   "nbconvert_exporter": "python",
   "pygments_lexer": "ipython3",
   "version": "3.8.5"
  }
 },
 "nbformat": 4,
 "nbformat_minor": 4
}
