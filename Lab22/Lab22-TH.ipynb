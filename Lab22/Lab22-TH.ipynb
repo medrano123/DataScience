{
 "cells": [
  {
   "cell_type": "markdown",
   "metadata": {},
   "source": [
    "**Download** (right-click, save target as ...) this page as a jupyterlab notebook [Lab22-TH](http://54.243.252.9/engr-1330-webroot/8-Labs/Lab22/Lab22-TH.ipynb)\n",
    "\n",
    "___\n",
    "\n",
    "**Medrano, Giovanni**\n",
    "\n",
    "**R11521018**"
   ]
  },
  {
   "cell_type": "markdown",
   "metadata": {},
   "source": [
    "# <font color=darkred>Exercise Set 22: \"Reject it or Fail!\" or a Lab on \"Hypothesis Testing\" </font>\n",
    "\n",
    "**Medrano, Giovanni**\n",
    "\n",
    "**R11521018**\n",
    "\n",
    "ENGR 1330 Exercise Set 22 \n",
    "\n",
    "___"
   ]
  },
  {
   "cell_type": "markdown",
   "metadata": {},
   "source": [
    "## Exercise 1\n",
    "The data below are the impact impact strength of packaging materials in foot-pounds of two branded boxes. Produce a histogram of the two series, and determine if there is evidence of a difference in mean strength between the two brands.  Use an appropriate hypothesis test to support your assertion at a level of significance of $\\alpha = 0.10$. \n",
    "\n",
    "| Amazon Branded Boxes | Walmart Branded Boxes |\n",
    "|:---|:---|\n",
    "| 1.25| 0.89|\n",
    "| 1.16| 1.01|\n",
    "| 1.33| 0.97|\n",
    "| 1.15| 0.95|\n",
    "| 1.23| 0.94|\n",
    "| 1.20| 1.02|\n",
    "| 1.32| 0.98|\n",
    "| 1.28| 1.06|\n",
    "| 1.21| 0.98|\n",
    "| 1.14| 0.94|\n",
    "| 1.17| 1.02|\n",
    "| 1.34| 0.98|\n",
    "\n",
    "## Deliverables:\n",
    "\n",
    "- Working scripts that produce perform the necessary tests\n",
    "- Narrative (or print blocks) that supply answer questions\n",
    "- CCMR citations for sources  (URL for outside sources is OK)\n",
    "\n",
    "## Hints:\n",
    "\n",
    "- A suggested set of code cells is listed below\n",
    "- Add/remove cells as needed for your solution"
   ]
  },
  {
   "cell_type": "code",
   "execution_count": 5,
   "metadata": {},
   "outputs": [
    {
     "name": "stdout",
     "output_type": "stream",
     "text": [
      "    Amazon Branded Boxes  Walmart Branded Boxes\n",
      "0                   1.25                   0.89\n",
      "1                   1.16                   1.01\n",
      "2                   1.33                   0.97\n",
      "3                   1.15                   0.95\n",
      "4                   1.23                   0.94\n",
      "5                   1.20                   1.02\n",
      "6                   1.32                   0.98\n",
      "7                   1.28                   1.06\n",
      "8                   1.21                   0.98\n",
      "9                   1.14                   0.94\n",
      "10                  1.17                   1.02\n",
      "11                  1.34                   0.98\n"
     ]
    }
   ],
   "source": [
    "# define lists and make into dataframe \n",
    "info={ \"Amazon Branded Boxes\" : [1.25 , 1.16 , 1.33 , 1.15 , 1.23 , 1.20,1.32,1.28,1.21,1.14,1.17,1.34] ,\n",
    "       \"Walmart Branded Boxes\" : [0.89 , 1.01 , 0.97 , 0.95 , 0.94,1.02,0.98,1.06,0.98,0.94,1.02,0.98]}\n",
    "import statistics as stat\n",
    "import numpy as np\n",
    "import matplotlib.pyplot as plt\n",
    "import pandas as pd\n",
    "\n",
    "dfd=pd.DataFrame(info)\n",
    "print(dfd)"
   ]
  },
  {
   "cell_type": "markdown",
   "metadata": {},
   "source": [
    "# describe lists/dataframe\n",
    "\n",
    "# The data shows the strength of 11 Amazon brand boxes and 11 Walmart Brand boxes and our goal is to see which is stronger"
   ]
  },
  {
   "cell_type": "code",
   "execution_count": 8,
   "metadata": {},
   "outputs": [
    {
     "data": {
      "image/png": "[encoded data removed]",
      "text/plain": [
       "<Figure size 432x288 with 1 Axes>"
      ]
     },
     "metadata": {
      "needs_background": "light"
     },
     "output_type": "display_data"
    }
   ],
   "source": [
    "# histograms\n",
    "plt.hist(data['Amazon Branded Boxes'])\n",
    "plt.title('The Strength of Amazon Boxes')\n",
    "plt.show()"
   ]
  },
  {
   "cell_type": "code",
   "execution_count": 9,
   "metadata": {},
   "outputs": [
    {
     "data": {
      "image/png": "[encoded data removed]",
      "text/plain": [
       "<Figure size 432x288 with 1 Axes>"
      ]
     },
     "metadata": {
      "needs_background": "light"
     },
     "output_type": "display_data"
    }
   ],
   "source": [
    "plt.hist(data['Walmart Branded Boxes'])\n",
    "plt.title('The Strength of Walmart Boxes')\n",
    "plt.show()"
   ]
  },
  {
   "cell_type": "code",
   "execution_count": 10,
   "metadata": {},
   "outputs": [
    {
     "data": {
      "text/plain": [
       "<function matplotlib.pyplot.show(close=None, block=None)>"
      ]
     },
     "execution_count": 10,
     "metadata": {},
     "output_type": "execute_result"
    },
    {
     "data": {
      "image/png": "[encoded data removed]",
      "text/plain": [
       "<Figure size 432x288 with 1 Axes>"
      ]
     },
     "metadata": {
      "needs_background": "light"
     },
     "output_type": "display_data"
    }
   ],
   "source": [
    "# hypothesis tests are means same? (test for nomrality then t-test if normal; mann-whitney if non-normal)\n",
    "plt.hist(data['Amazon Branded Boxes'])\n",
    "plt.hist(data['Walmart Branded Boxes'])\n",
    "plt.title('Strength of two different Boxes')\n",
    "plt.show"
   ]
  },
  {
   "cell_type": "code",
   "execution_count": 11,
   "metadata": {},
   "outputs": [
    {
     "data": {
      "text/html": [
       "<div>\n",
       "<style scoped>\n",
       "    .dataframe tbody tr th:only-of-type {\n",
       "        vertical-align: middle;\n",
       "    }\n",
       "\n",
       "    .dataframe tbody tr th {\n",
       "        vertical-align: top;\n",
       "    }\n",
       "\n",
       "    .dataframe thead th {\n",
       "        text-align: right;\n",
       "    }\n",
       "</style>\n",
       "<table border=\"1\" class=\"dataframe\">\n",
       "  <thead>\n",
       "    <tr style=\"text-align: right;\">\n",
       "      <th></th>\n",
       "      <th>Amazon Branded Boxes</th>\n",
       "      <th>Walmart Branded Boxes</th>\n",
       "    </tr>\n",
       "  </thead>\n",
       "  <tbody>\n",
       "    <tr>\n",
       "      <th>count</th>\n",
       "      <td>12.000000</td>\n",
       "      <td>12.000000</td>\n",
       "    </tr>\n",
       "    <tr>\n",
       "      <th>mean</th>\n",
       "      <td>1.231667</td>\n",
       "      <td>0.978333</td>\n",
       "    </tr>\n",
       "    <tr>\n",
       "      <th>std</th>\n",
       "      <td>0.072216</td>\n",
       "      <td>0.045494</td>\n",
       "    </tr>\n",
       "    <tr>\n",
       "      <th>min</th>\n",
       "      <td>1.140000</td>\n",
       "      <td>0.890000</td>\n",
       "    </tr>\n",
       "    <tr>\n",
       "      <th>25%</th>\n",
       "      <td>1.167500</td>\n",
       "      <td>0.947500</td>\n",
       "    </tr>\n",
       "    <tr>\n",
       "      <th>50%</th>\n",
       "      <td>1.220000</td>\n",
       "      <td>0.980000</td>\n",
       "    </tr>\n",
       "    <tr>\n",
       "      <th>75%</th>\n",
       "      <td>1.290000</td>\n",
       "      <td>1.012500</td>\n",
       "    </tr>\n",
       "    <tr>\n",
       "      <th>max</th>\n",
       "      <td>1.340000</td>\n",
       "      <td>1.060000</td>\n",
       "    </tr>\n",
       "  </tbody>\n",
       "</table>\n",
       "</div>"
      ],
      "text/plain": [
       "       Amazon Branded Boxes  Walmart Branded Boxes\n",
       "count             12.000000              12.000000\n",
       "mean               1.231667               0.978333\n",
       "std                0.072216               0.045494\n",
       "min                1.140000               0.890000\n",
       "25%                1.167500               0.947500\n",
       "50%                1.220000               0.980000\n",
       "75%                1.290000               1.012500\n",
       "max                1.340000               1.060000"
      ]
     },
     "execution_count": 11,
     "metadata": {},
     "output_type": "execute_result"
    }
   ],
   "source": [
    "dfd.describe()"
   ]
  },
  {
   "cell_type": "markdown",
   "metadata": {},
   "source": [
    "# interpret findings (could be a markdown cell, or embed into code)\n",
    "\n",
    "# As we can see overall AMAZON BRANDED BOXES ARE STRONGER DUE TO MEAN,STF,MIN AND MAX"
   ]
  },
  {
   "cell_type": "code",
   "execution_count": null,
   "metadata": {},
   "outputs": [],
   "source": []
  }
 ],
 "metadata": {
  "kernelspec": {
   "display_name": "Python 3",
   "language": "python",
   "name": "python3"
  },
  "language_info": {
   "codemirror_mode": {
    "name": "ipython",
    "version": 3
   },
   "file_extension": ".py",
   "mimetype": "text/x-python",
   "name": "python",
   "nbconvert_exporter": "python",
   "pygments_lexer": "ipython3",
   "version": "3.8.5"
  }
 },
 "nbformat": 4,
 "nbformat_minor": 4
}
