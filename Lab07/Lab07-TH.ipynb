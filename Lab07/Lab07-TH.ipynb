{
 "cells": [
  {
   "cell_type": "markdown",
   "metadata": {},
   "source": [
    "**Download** (right-click, save target as ...) this page as a jupyterlab notebook from: [ES-7](http://54.243.252.9/engr-1330-webroot/8-Labs/Lab07/Lab07-TH.ipynb)\n",
    "\n",
    "___"
   ]
  },
  {
   "cell_type": "markdown",
   "metadata": {},
   "source": [
    "# <font color=darkred>Exercise Set 7: FILE it for later ...  </font>\n",
    "\n",
    "**Medrano, Giovanni**\n",
    "\n",
    "**R11521018**\n",
    "\n",
    "ENGR 1330 ES-7 - Homework"
   ]
  },
  {
   "cell_type": "code",
   "execution_count": 1,
   "metadata": {},
   "outputs": [
    {
     "name": "stdout",
     "output_type": "stream",
     "text": [
      "DESKTOP-6HAS1BN\n",
      "desktop-6has1bn\\medra\n",
      "C:\\Users\\medra\\anaconda3\\python.exe\n",
      "3.8.5 (default, Sep  3 2020, 21:29:08) [MSC v.1916 64 bit (AMD64)]\n",
      "sys.version_info(major=3, minor=8, micro=5, releaselevel='final', serial=0)\n"
     ]
    }
   ],
   "source": [
    "# Preamble script block to identify host, user, and kernel\n",
    "import sys\n",
    "! hostname\n",
    "! whoami\n",
    "print(sys.executable)\n",
    "print(sys.version)\n",
    "print(sys.version_info)"
   ]
  },
  {
   "cell_type": "markdown",
   "metadata": {},
   "source": [
    "\n",
    "___\n",
    "\n",
    "## Reading and Writing Files\n"
   ]
  },
  {
   "cell_type": "markdown",
   "metadata": {},
   "source": [
    "---\n",
    "\n",
    "## Exercise 0\n",
    "\n",
    "Consider the object below named definition"
   ]
  },
  {
   "cell_type": "code",
   "execution_count": 5,
   "metadata": {},
   "outputs": [],
   "source": [
    "definition = \"\"\"\n",
    "A computer file is a computer resource for recording data discretely in a\n",
    "computer storage device. Just as words can be written \n",
    "to paper, so can information be written to a computer\n",
    "file. Files can be edited and transferred through the \n",
    "internet on that particular computer system.\"\"\""
   ]
  },
  {
   "cell_type": "markdown",
   "metadata": {},
   "source": [
    "Write this into a file with the name `file_definition.txt`.  When done, open the file using an editor and screen capture the contents for your solution"
   ]
  },
  {
   "cell_type": "code",
   "execution_count": 6,
   "metadata": {},
   "outputs": [],
   "source": [
    "# code block for your solution\n",
    "myfile = open('file_definition.txt','w')\n",
    "myfile.write(definition)\n",
    "myfile.close()"
   ]
  },
  {
   "attachments": {
    "d8c5df6e-7826-4bcc-b1fb-ff90a9fdc247.PNG": {
     "image/png": "[encoded data removed]"
    }
   },
   "cell_type": "markdown",
   "metadata": {},
   "source": [
    "Screen capture of file (put the filename into the object below, then elevate (remove the leading spaces and run the markdown cell to render the image)\n",
    "![proof.PNG](attachment:d8c5df6e-7826-4bcc-b1fb-ff90a9fdc247.PNG)\n",
    "    ![](filename.png)"
   ]
  },
  {
   "cell_type": "code",
   "execution_count": null,
   "metadata": {},
   "outputs": [],
   "source": []
  },
  {
   "cell_type": "markdown",
   "metadata": {},
   "source": [
    "---\n",
    "\n",
    "## Exercise 1\n",
    "The code cell below will generate a file"
   ]
  },
  {
   "cell_type": "code",
   "execution_count": 7,
   "metadata": {},
   "outputs": [
    {
     "data": {
      "text/plain": [
       "482"
      ]
     },
     "execution_count": 7,
     "metadata": {},
     "output_type": "execute_result"
    }
   ],
   "source": [
    "long_file = \"\"\"V. ad Lesbiam\n",
    "\n",
    "VIVAMUS mea Lesbia, atque amemus,\n",
    "rumoresque senum severiorum\n",
    "omnes unius aestimemus assis!\n",
    "soles occidere et redire possunt:\n",
    "nobis cum semel occidit breuis lux,\n",
    "nox est perpetua una dormienda.\n",
    "da mi basia mille, deinde centum,\n",
    "dein mille altera, dein secunda centum,\n",
    "deinde usque altera mille, deinde centum.\n",
    "dein, cum milia multa fecerimus,\n",
    "conturbabimus illa, ne sciamus,\n",
    "aut ne quis malus inuidere possit,\n",
    "cum tantum sciat esse basiorum.\n",
    "(GAIUS VALERIUS CATULLUS)\"\"\"\n",
    "\n",
    "open('long_file.txt','w').write(long_file)"
   ]
  },
  {
   "cell_type": "markdown",
   "metadata": {},
   "source": [
    "Read the contents of long_file.txt line-by-line and print each line as it is read."
   ]
  },
  {
   "cell_type": "code",
   "execution_count": 11,
   "metadata": {},
   "outputs": [
    {
     "name": "stdout",
     "output_type": "stream",
     "text": [
      "V. ad Lesbiam\n",
      "\n",
      "VIVAMUS mea Lesbia, atque amemus,\n",
      "rumoresque senum severiorum\n",
      "omnes unius aestimemus assis!\n",
      "soles occidere et redire possunt:\n",
      "nobis cum semel occidit breuis lux,\n",
      "nox est perpetua una dormienda.\n",
      "da mi basia mille, deinde centum,\n",
      "dein mille altera, dein secunda centum,\n",
      "deinde usque altera mille, deinde centum.\n",
      "dein, cum milia multa fecerimus,\n",
      "conturbabimus illa, ne sciamus,\n",
      "aut ne quis malus inuidere possit,\n",
      "cum tantum sciat esse basiorum.\n",
      "(GAIUS VALERIUS CATULLUS)"
     ]
    }
   ],
   "source": [
    "# open the connection\n",
    "# for ... # read line-by-line\n",
    "strings = []\n",
    "myfile = open(\"long_file.txt\",\"r\")\n",
    "for line in myfile:\n",
    "    strings.append(str(line))\n",
    "    \n",
    "    print(str(line), end =\"\")\n",
    "#     print()  # each line"
   ]
  },
  {
   "cell_type": "markdown",
   "metadata": {},
   "source": [
    "---\n",
    "\n",
    "## Exercise 2\n",
    "\n",
    "Build a script to read [http://54.243.252.9/engr-1330-webroot/8-Labs/Lab07/pythonista.txt](http://54.243.252.9/engr-1330-webroot/8-Labs/Lab07/pythonista.txt) (you can download a copy of the file) line-by-line.  Then after each line is read, replace any occurance of \"Pythonista\" with \"Python newbie\" in each line, and replace any occurance of \"Python snake\" with \"Python guru\" in each line.  Write the output to another file named \"python_newbie_and_the_guru.txt\" and show the contents of the new file in a text editor."
   ]
  },
  {
   "cell_type": "code",
   "execution_count": 13,
   "metadata": {},
   "outputs": [
    {
     "name": "stdout",
     "output_type": "stream",
     "text": [
      "A blue Python newbie, green behind the ears, went to Pythonia.\n",
      "She wanted to visit the famous wise green Python guru.\n",
      "She wanted to ask her about the white way to avoid the black.\n",
      "The bright path to program in a yellow, green, or blue style.\n",
      "The green Python turned red, when she addressed her.\n",
      "The Python newbie turned yellow in turn.\n",
      "After a long but not endless loop  the wise Python uttered: \n",
      "\"The rainbow!\""
     ]
    }
   ],
   "source": [
    "# open the input connection\n",
    "myfile = open('pythonista.txt','r')\n",
    "out = open('python_newbie_and_the_guru.txt','w')\n",
    "# open an output connection\n",
    "for line in myfile:\n",
    "    temps = str(line)\n",
    "    temps = temps.replace(\"Pythonista\",\"Python newbie\")\n",
    "    temps = temps.replace(\"Python snake\",\"Python guru\")\n",
    "    print(temps, end = \"\")\n",
    "    out.write(temps)\n",
    "myfile.close()\n",
    "out.close()\n",
    "# read line-by-line from input\n",
    "#    replace pythonista with python newbie in line just read\n",
    "#    replace Python snake with Python guru in line just read\n",
    "#    write updated line to output"
   ]
  },
  {
   "cell_type": "markdown",
   "metadata": {},
   "source": [
    "## Exercise 3\n",
    "The file [http://54.243.252.9/engr-1330-webroot/8-Labs/Lab07/ts-data.txt](http://54.243.252.9/engr-1330-webroot/8-Labs/Lab07/ts-data.txt) contains two columns as shown below:\n",
    "\n",
    "        Time,Speed\n",
    "        0.0,0.0\n",
    "        1.0,3.0\n",
    "        2.0,7.0\n",
    "        3.0,12.0\n",
    "        4.0,20.0\n",
    "        5.0,30.0\n",
    "        6.0,45.6\n",
    "        \n",
    "The first column is time in seconds, the second is the speed of an object in meters/second.  \n",
    "\n",
    "Build a script that reads the data in the file, and then captures from the first row the two column labels (as strings) to be passed to the `plotAline` function below.  Also put the numeric values into two lists as floats for passing to the `plotAline` function.  Put your code after the `plotAline` definition"
   ]
  },
  {
   "cell_type": "code",
   "execution_count": 14,
   "metadata": {},
   "outputs": [],
   "source": [
    "# use this code as-is!\n",
    "def plotAline(list1,list2,strx,stry,strtitle): # plot list1 on x, list2 on y, xlabel, ylabel, title\n",
    "    from matplotlib import pyplot as plt # import the plotting library from matplotlibplt.show()\n",
    "    plt.plot( list1, list2, color ='green', marker ='o', linestyle ='solid') # create a line chart, years on x-axis, gdp on y-axis\n",
    "    plt.title(strtitle)# add a title\n",
    "    plt.ylabel(stry)# add a label to the x and y-axes\n",
    "    plt.xlabel(strx)\n",
    "    plt.show() # display the plot\n",
    "    return #null return"
   ]
  },
  {
   "cell_type": "code",
   "execution_count": 27,
   "metadata": {},
   "outputs": [
    {
     "data": {
      "image/png": "[encoded data removed]",
      "text/plain": [
       "<Figure size 432x288 with 1 Axes>"
      ]
     },
     "metadata": {
      "needs_background": "light"
     },
     "output_type": "display_data"
    }
   ],
   "source": [
    "matrix = []\n",
    "first = []\n",
    "second = []\n",
    "\n",
    "myfile = open('ts-data.txt','r')\n",
    "line1 = (myfile.readline().split(\",\"))\n",
    "\n",
    "x = str(line[0])\n",
    "y = str(line1[1])\n",
    "for line in myfile:\n",
    "    matrix.append([float(n) for n in line.strip().split(\",\")])\n",
    "myfile.close()\n",
    "for i in range(0,len(matrix)):\n",
    "    first.append(matrix[i][0])\n",
    "    second.append(matrix[i][1])\n",
    "plot_title = 'Plit'\n",
    "plotAline(first,second,x,y,plot_title)\n"
   ]
  },
  {
   "cell_type": "markdown",
   "metadata": {},
   "source": [
    "___\n",
    "\n",
    "## References\n",
    "\n",
    "1. List processing tips [https://www.programiz.com/python-programming/del](https://www.programiz.com/python-programming/del)\n",
    "\n",
    "2. Character replacement tips [https://www.geeksforgeeks.org/python-string-replace/](https://www.geeksforgeeks.org/python-string-replace/)\n",
    "\n",
    "3. Python file manipulations [https://www.tutorialspoint.com/python/python_files_io.htm](https://www.tutorialspoint.com/python/python_files_io.htm)\n",
    "\n"
   ]
  },
  {
   "cell_type": "code",
   "execution_count": null,
   "metadata": {},
   "outputs": [],
   "source": []
  }
 ],
 "metadata": {
  "kernelspec": {
   "display_name": "Python 3",
   "language": "python",
   "name": "python3"
  },
  "language_info": {
   "codemirror_mode": {
    "name": "ipython",
    "version": 3
   },
   "file_extension": ".py",
   "mimetype": "text/x-python",
   "name": "python",
   "nbconvert_exporter": "python",
   "pygments_lexer": "ipython3",
   "version": "3.8.5"
  }
 },
 "nbformat": 4,
 "nbformat_minor": 4
}
