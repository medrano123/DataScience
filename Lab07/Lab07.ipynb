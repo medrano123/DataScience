{
 "cells": [
  {
   "cell_type": "markdown",
   "metadata": {},
   "source": [
    "**Download** (right-click, save target as ...) this page as a jupyterlab notebook from: [ES-7](http://54.243.252.9/engr-1330-webroot/8-Labs/Lab07/Lab07-TH.ipynb)\n",
    "\n",
    "___"
   ]
  },
  {
   "cell_type": "markdown",
   "metadata": {},
   "source": [
    "# <font color=darkred>Laboratory 7: FILE it for later ...  </font>\n",
    "\n",
    "**Medrano, Giovanni**\n",
    "\n",
    "**R11521018**\n",
    "\n",
    "ENGR 1330 Lab-7 - In Lab"
   ]
  },
  {
   "cell_type": "code",
   "execution_count": 1,
   "metadata": {},
   "outputs": [
    {
     "name": "stdout",
     "output_type": "stream",
     "text": [
      "DESKTOP-6HAS1BN\n",
      "desktop-6has1bn\\medra\n",
      "C:\\Users\\medra\\anaconda3\\python.exe\n",
      "3.8.5 (default, Sep  3 2020, 21:29:08) [MSC v.1916 64 bit (AMD64)]\n",
      "sys.version_info(major=3, minor=8, micro=5, releaselevel='final', serial=0)\n"
     ]
    }
   ],
   "source": [
    "# Preamble script block to identify host, user, and kernel\n",
    "import sys\n",
    "! hostname\n",
    "! whoami\n",
    "print(sys.executable)\n",
    "print(sys.version)\n",
    "print(sys.version_info)"
   ]
  },
  {
   "cell_type": "markdown",
   "metadata": {},
   "source": [
    "\n",
    "___\n",
    "\n",
    "## Reading and Writing Files\n"
   ]
  },
  {
   "cell_type": "markdown",
   "metadata": {},
   "source": []
  },
  {
   "cell_type": "markdown",
   "metadata": {},
   "source": []
  },
  {
   "cell_type": "markdown",
   "metadata": {},
   "source": [
    "### Example Reading a Data File to Build a Plot\n",
    "\n",
    "In this example we will make a contour plot using data in a file at http://54.243.252.9/engr-1330-webroot/8-Labs/Lab07/gridded_data.txtthat The data in the file are organized as follows:\n",
    "\n",
    "    160 240\n",
    "    -3.0,-2.0,4.5206310380743785e-06\n",
    "    -2.975,-2.0,5.248940670890073e-06\n",
    "    -2.95,-2.0,6.086973208643232e-06\n",
    "    -2.9250000000000003,-2.0,7.049985780998036e-06\n",
    "    -2.9000000000000004,-2.0,8.155154929062083e-06\n",
    "    ... many more rows\n",
    "\n",
    "The first two entries are the row and column count of a rectangular region that we wish to plot the contours. The remaining rows contain the x-,y-, and z-values. The x and y values are the spatial locations where the z values are known. There are a total of 38,400 records in the file - too big to manually enter.\n",
    "\n",
    "The plotting package needs all the entries on a grid (dumb, but thats what it needs) so we need to read in the xyz data then manipultes it so that there are three 2D structures `X[160][240]`, `Y[160][240]`, and `Z[160][240]` these structures get sent to the contour plotting function.\n",
    "\n",
    "Step 0: Download the data file to your machine!\n",
    "\n",
    "- Right-click the link\n",
    "- Save (target, link, file ...) as ... (This action will differ by machine, OS, and browser!) but goal is to get a copy of the file to your machine.\n",
    "- Verify you have the file and it is readable (its supposed to be ASCII, so open in an editor and see if it kind of looks like the fragment above, possibly without line feeds\n",
    "\n",
    "#### Reading a Data File ####\n",
    "\n",
    "Our first step is to create space to hold the data, then open the file"
   ]
  },
  {
   "cell_type": "code",
   "execution_count": 2,
   "metadata": {},
   "outputs": [],
   "source": [
    "#%reset -f # only if neccesary"
   ]
  },
  {
   "cell_type": "code",
   "execution_count": 4,
   "metadata": {},
   "outputs": [],
   "source": [
    "xyzmatrix = [] # null list to hold contents\n",
    "xyzfile = open(\"gridded_data.txt\",\"r\") # open a read connection"
   ]
  },
  {
   "cell_type": "markdown",
   "metadata": {},
   "source": [
    "Next we read the first line, and extract the row and column counts"
   ]
  },
  {
   "cell_type": "code",
   "execution_count": 5,
   "metadata": {},
   "outputs": [],
   "source": [
    "line1 = (xyzfile.readline().split()) # read just the first line\n",
    "rowNum = int(line1[0]) # extract row count\n",
    "colNum = int(line1[1]) # extract column count"
   ]
  },
  {
   "cell_type": "markdown",
   "metadata": {},
   "source": [
    "Next we read the remaining 38,000 lines"
   ]
  },
  {
   "cell_type": "code",
   "execution_count": 6,
   "metadata": {},
   "outputs": [],
   "source": [
    "for line in xyzfile: # now read rest of the file, line by line\n",
    "    xyzmatrix.append([float(n) for n in line.strip().split(\",\")])"
   ]
  },
  {
   "cell_type": "markdown",
   "metadata": {},
   "source": [
    "So the read is complete, lets close the connection"
   ]
  },
  {
   "cell_type": "code",
   "execution_count": 6,
   "metadata": {},
   "outputs": [],
   "source": [
    "xyzfile.close()"
   ]
  },
  {
   "cell_type": "markdown",
   "metadata": {},
   "source": [
    "Now build the structures for plotting, as before we need to allocate space for the data, here we are using a constructor syntax to build matrices of zeros using implied loops."
   ]
  },
  {
   "cell_type": "markdown",
   "metadata": {},
   "source": [
    "#### Build 2D Structure for Contour Plot Example ####"
   ]
  },
  {
   "cell_type": "code",
   "execution_count": 7,
   "metadata": {},
   "outputs": [],
   "source": [
    "xlist = [[0 for j in range(colNum)] for i in range(rowNum)]     # null list to hold contents\n",
    "ylist = [[0 for j in range(colNum)] for i in range(rowNum)]     # null list to hold contents\n",
    "zlist = [[0 for j in range(colNum)] for i in range(rowNum)]     # null list to hold contents"
   ]
  },
  {
   "cell_type": "markdown",
   "metadata": {},
   "source": [
    "Next we will populate the matrices (grids) from the xyzmatrix we just read into the notebook. Notice how we create a counter to keep track of each row of the xyzmatrix and increment the counter as we build the grids."
   ]
  },
  {
   "cell_type": "code",
   "execution_count": 8,
   "metadata": {},
   "outputs": [],
   "source": [
    "pointer=0\n",
    "for irow in range(0,rowNum): \n",
    "    for jcol in range(0,colNum):\n",
    "        xlist[irow][jcol]=(xyzmatrix[pointer][0])\n",
    "        ylist[irow][jcol]=(xyzmatrix[pointer][1])\n",
    "        zlist[irow][jcol]=(xyzmatrix[pointer][2])\n",
    "        pointer += 1"
   ]
  },
  {
   "cell_type": "markdown",
   "metadata": {},
   "source": [
    "Now finally the plot - using a package called matplotlib which we will study later in the course. For now use it as shown."
   ]
  },
  {
   "cell_type": "markdown",
   "metadata": {},
   "source": [
    "#### Build the Plot #####"
   ]
  },
  {
   "cell_type": "code",
   "execution_count": 9,
   "metadata": {},
   "outputs": [
    {
     "data": {
      "text/plain": [
       "Text(0.5, 1.0, 'Contour Plot from Gridded Data File')"
      ]
     },
     "execution_count": 9,
     "metadata": {},
     "output_type": "execute_result"
    },
    {
     "data": {
      "image/png": "[encoded data removed]",
      "text/plain": [
       "<Figure size 432x288 with 1 Axes>"
      ]
     },
     "metadata": {
      "needs_background": "light"
     },
     "output_type": "display_data"
    }
   ],
   "source": [
    "import matplotlib.pyplot\n",
    "fig, ax = matplotlib.pyplot.subplots()\n",
    "CS = ax.contour(xlist, ylist, zlist, levels = 7)\n",
    "ax.clabel(CS, inline=2, fontsize=10)\n",
    "ax.set_title('Contour Plot from Gridded Data File')\n",
    "################################"
   ]
  },
  {
   "cell_type": "markdown",
   "metadata": {},
   "source": []
  },
  {
   "cell_type": "markdown",
   "metadata": {},
   "source": [
    "### Example - Reading a Treasure Map\n",
    "\n",
    "The treasure map problem was already presented, in this example we will replace the explicitly defined map lists with a file, allowing for the use of multiple maps. Starting with our original map, but contained in a text file named http://54.243.252.9/engr-1330-webroot/8-Labs/Lab07/treasure1.txt we can read the map using file manipulation methods.\n",
    "\n",
    "Here is what the file looks like\n",
    "\n",
    "       c1,c2,c3,c4,c5\n",
    "    r1,34,21,32,41,25  \n",
    "    r2,14,42,43,14,31  \n",
    "    r3,54,45,52,42,23  \n",
    "    r4,33,15,51,31,35  \n",
    "    r5,21,52,33,13,23 \n",
    "\n",
    "The upper left hand corner appears to be 3 spaces, then the remainder of the first row is column headings, which we dont need. Similarily the second row and beyond, has a column of row labels, then the actual data contents.\n",
    "\n",
    "Step 0: Download the data file to your machine!\n",
    "\n",
    "- Right-click the link\n",
    "- Save (target, link, file ...) as ... (This action will differ by machine, OS, and browser!) but goal is to get a copy of the file to your machine.\n",
    "- Verify you have the file and it is readable (its supposed to be ASCII, so open in an editor and see if it kind of looks like the fragment above, possibly without line feeds\n",
    "\n",
    "Our reading exercise will need to get just the data and ignore (or discard) the rest of the information."
   ]
  },
  {
   "cell_type": "code",
   "execution_count": 10,
   "metadata": {},
   "outputs": [],
   "source": [
    "treasuremap = [] # empty list to the map information\n",
    "treasurefile = open(\"treasure1.txt\",\"r\") # open a read connection\n",
    "for line in treasurefile:\n",
    "    treasuremap.append([str(n) for n in line.strip().split(\",\")])\n",
    "treasurefile.close()"
   ]
  },
  {
   "cell_type": "markdown",
   "metadata": {},
   "source": [
    "Now we have the map, we can use list delete and slicing to remove un-necessary data"
   ]
  },
  {
   "cell_type": "code",
   "execution_count": 11,
   "metadata": {},
   "outputs": [],
   "source": [
    "del treasuremap[0] #remove entire first row \n",
    "for irow in range(len(treasuremap)): #step through remaining rows\n",
    "    del treasuremap[irow][0] #kill leading column each row"
   ]
  },
  {
   "cell_type": "markdown",
   "metadata": {},
   "source": [
    "Now we can use our treasure map search to complete the example"
   ]
  },
  {
   "cell_type": "code",
   "execution_count": 13,
   "metadata": {},
   "outputs": [
    {
     "name": "stdout",
     "output_type": "stream",
     "text": [
      "'34','21','32','41','25'\n",
      "'14','42','43','14','31'\n",
      "'54','45','52','42','23'\n",
      "'33','15','51','31','35'\n",
      "'21','52','33','13','23'\n",
      "Cell  52  contains TREASURE \n"
     ]
    }
   ],
   "source": [
    "#####################################\n",
    "for i in range(0,5,1):\n",
    "    what_to_print =','.join(map(repr, treasuremap[i][:]))\n",
    "    print(what_to_print) # print the map by row\n",
    "#### Complete Enumeration Search ####\n",
    "for i in range(0,5,1): # visit the rows\n",
    "    for j in range(0,5,1): # visit the columns\n",
    "# get row and column from i and j values\n",
    "        row = i+1\n",
    "        column = j+1\n",
    "# get maprowval and mapcolval\n",
    "        maprowval = str(treasuremap[row-1][column-1])[0]\n",
    "        mapcolval = str(treasuremap[row-1][column-1])[1]\n",
    "# test if cell is a treasure cell or not\n",
    "        if int(maprowval) == row and int(mapcolval) == column :\n",
    "            print('Cell ',treasuremap[i][j], ' contains TREASURE ') # print the result\n",
    "            found = True\n",
    "            break\n",
    "            pass #comment this line out when have message\n",
    "        else:\n",
    "            #print('Cell ',treasuremap[i][j], ' contains no treasure') # message here for no treasure\n",
    "            found = False\n",
    "            pass #comment this line out when have message\n",
    "    if found: break # exit the search when find first treasure\n",
    "if not found:\n",
    "    print(\"no treasure found after searching all cells\")"
   ]
  },
  {
   "cell_type": "markdown",
   "metadata": {},
   "source": [
    "### Exercise\n",
    "\n",
    "Consider a new treasure map contained in file http://54.243.252.9/engr-1330-webroot/8-Labs/Lab07/treasure2.txt. Modify the program to use this map, and find ALL the treasures (there are two).\n",
    "Writing Files"
   ]
  },
  {
   "cell_type": "markdown",
   "metadata": {},
   "source": [
    "### Example\n",
    "\n",
    "Suppose we read a text file and wish to count how many occurances of A and M appear in the file, then we want to write the result back onto the file.\n",
    "\n",
    "Here is a test case:\n",
    "\n",
    "    Updated information\n",
    "    As simplified by official websites.\n",
    "\n",
    "The file has 4 A's and 2 M's\n",
    "\n",
    "The file is located at http://54.243.252.9/engr-1330-webroot/8-Labs/Lab07/writing_file.txt\n",
    "\n",
    "Step 0: Download the data file to your machine!\n",
    "\n",
    "- Right-click the link\n",
    "- Save (target, link, file ...) as ... (This action will differ by machine, OS, and browser!) but goal is to get a copy of the file to your machine.\n",
    "- Verify you have the file and it is readable (its supposed to be ASCII, so open in an editor and see if it kind of looks like the fragment above, possibly without line feeds\n",
    "\n",
    "Lets process the file and find these values, then we will append a message back to the same file"
   ]
  },
  {
   "cell_type": "code",
   "execution_count": 14,
   "metadata": {},
   "outputs": [],
   "source": [
    "# As a function\n",
    "def AMcount(infile):\n",
    "    file = open(infile,'r')\n",
    "    data = file.read()\n",
    "    counta=0\n",
    "    countm=0\n",
    "    for letter in data:\n",
    "        if letter == 'A' or letter =='a':\n",
    "            counta += 1\n",
    "        elif letter == 'M' or letter =='m':\n",
    "            countm += 1\n",
    "    file.close() # disconnect\n",
    "    file = open(infile,'a') # open the file to append\n",
    "    what_to_write = '\\n' # write a linefeed\n",
    "    file.write(what_to_write)\n",
    "    what_to_write = 'A or a: ' + str(counta) + '\\n'\n",
    "    file.write(what_to_write)\n",
    "    what_to_write = 'M or m: ' + str(countm) + '\\n'\n",
    "    file.write(what_to_write)\n",
    "    file.close() # disconnect\n",
    "    print('A or a:',counta)\n",
    "    print('M or m:',countm)\n",
    "    return"
   ]
  },
  {
   "cell_type": "code",
   "execution_count": 15,
   "metadata": {},
   "outputs": [
    {
     "name": "stdout",
     "output_type": "stream",
     "text": [
      "A or a: 8\n",
      "M or m: 6\n"
     ]
    }
   ],
   "source": [
    "# wrapper script\n",
    "#infile = input('Enter the filename and extension')\n",
    "infile='writing_file.txt'\n",
    "AMcount(infile)"
   ]
  },
  {
   "cell_type": "markdown",
   "metadata": {},
   "source": [
    "### Exercise\n",
    "\n",
    "You have used a text editing software to type some text. After saving the document as **WORDS.TXT**, you realise that she you wrongly typed **J** in place of **I** everywhere in the article.\n",
    "\n",
    "Write a function definition for **J_TO_I()** in Python that would display the corrected version of entire content of the file **WORDS.TXT** with all the \"**J**\" to be displayed as an \"**I**\" and placed back into the original file.\n",
    "\n",
    "> Obviously a string substitution editor could do this in-place, as could Find/Replace , but the goal here is to get a little practice. The hardest part is likely to be how to write back to the same file to corrected line\n",
    "\n",
    "The code block below will generate the test file for you to process"
   ]
  },
  {
   "cell_type": "code",
   "execution_count": 16,
   "metadata": {},
   "outputs": [],
   "source": [
    "# generate original file to manipulate - just run this cell\n",
    "externalfile = open(\"WORDS.TXT\",'w') # create connection to file, set to append (a), file does not need to exist\n",
    "externalfile.write('WELL, THJS JS A WORD BY JTSELF. YOU COULD STRETCH THJS TO BE A SENTENCE \\n') # add a string including the linefeed\n",
    "externalfile.close()"
   ]
  },
  {
   "cell_type": "markdown",
   "metadata": {},
   "source": [
    "The code block below is where you build your script"
   ]
  },
  {
   "cell_type": "code",
   "execution_count": 20,
   "metadata": {},
   "outputs": [
    {
     "name": "stdout",
     "output_type": "stream",
     "text": [
      "['WELL,', 'THJS', 'JS', 'A', 'WORD', 'JTSELF.', 'YOU', 'COULD', 'STRETCH', 'THJS', 'TO', 'BE', 'A', 'SENTENCE']\n",
      "['WELL,', 'THIS', 'IS', 'A', 'WORD', 'ITSELF.', 'YOU', 'COULD', 'STRETCH', 'THIS', 'TO', 'BE', 'A', 'SENTENCE']\n"
     ]
    },
    {
     "data": {
      "text/plain": [
       "['WELL,',\n",
       " 'THIS',\n",
       " 'IS',\n",
       " 'A',\n",
       " 'WORD',\n",
       " 'ITSELF.',\n",
       " 'YOU',\n",
       " 'COULD',\n",
       " 'STRETCH',\n",
       " 'THIS',\n",
       " 'TO',\n",
       " 'BE',\n",
       " 'A',\n",
       " 'SENTENCE']"
      ]
     },
     "execution_count": 20,
     "metadata": {},
     "output_type": "execute_result"
    }
   ],
   "source": [
    "# read from WORDS.TXT\n",
    "words = []\n",
    "wordfile = open(\"WORDS.TXT\",\"r\")\n",
    "line1 = (wordfile.readline().split())\n",
    "wordfile.close()\n",
    "print(line1)\n",
    "\n",
    "def J_TO_I(myString):\n",
    "    newString = \"\"\n",
    "    for c in myString:\n",
    "        if c.upper() != \"J\":\n",
    "            newString += c\n",
    "        else:\n",
    "            newString += \"I\"\n",
    "    return newString\n",
    "\n",
    "\n",
    "line2 = []\n",
    "for s in line1:\n",
    "    line2.append(J_TO_I(s))\n",
    "print(line2)\n",
    "externalfile = open(\"WORDS.TXT\",'w')\n",
    "externalfile.write('WELL, THJS JS A WORD JTSELF. YOU COULD STRETCH THJS TO BE A SENTENCE \\n')\n",
    "externalfile.close()\n",
    "\n",
    "\n",
    "['WELL,', 'THJS', 'JS', 'A', 'WORD', 'JTSELF.', 'YOU', 'COULD', 'STRETCH', 'THJS', 'TO', 'BE', 'A', 'SENTENCE']\n",
    "['WELL,', 'THIS', 'IS', 'A', 'WORD', 'ITSELF.', 'YOU', 'COULD', 'STRETCH', 'THIS', 'TO', 'BE', 'A', 'SENTENCE']\n"
   ]
  },
  {
   "cell_type": "markdown",
   "metadata": {},
   "source": [
    "___\n",
    "\n",
    "## References\n",
    "\n",
    "1. List processing tips [https://www.programiz.com/python-programming/del](https://www.programiz.com/python-programming/del)\n",
    "\n",
    "2. Character replacement tips [https://www.geeksforgeeks.org/python-string-replace/](https://www.geeksforgeeks.org/python-string-replace/)\n",
    "\n",
    "3. Python file manipulations [https://www.tutorialspoint.com/python/python_files_io.htm](https://www.tutorialspoint.com/python/python_files_io.htm)\n",
    "\n",
    "4. Contour Plots [https://clouds.eos.ubc.ca/~phil/docs/problem_solving/06-Plotting-with-Matplotlib/06.14-Contour-Plots.html](https://clouds.eos.ubc.ca/~phil/docs/problem_solving/06-Plotting-with-Matplotlib/06.14-Contour-Plots.html)\n",
    "\n"
   ]
  },
  {
   "cell_type": "code",
   "execution_count": null,
   "metadata": {},
   "outputs": [],
   "source": []
  }
 ],
 "metadata": {
  "kernelspec": {
   "display_name": "Python 3",
   "language": "python",
   "name": "python3"
  },
  "language_info": {
   "codemirror_mode": {
    "name": "ipython",
    "version": 3
   },
   "file_extension": ".py",
   "mimetype": "text/x-python",
   "name": "python",
   "nbconvert_exporter": "python",
   "pygments_lexer": "ipython3",
   "version": "3.8.5"
  }
 },
 "nbformat": 4,
 "nbformat_minor": 4
}
