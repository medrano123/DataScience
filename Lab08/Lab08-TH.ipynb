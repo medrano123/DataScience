{
 "cells": [
  {
   "cell_type": "markdown",
   "metadata": {},
   "source": [
    "**Download** (right-click, save target as ...) this page as a jupyterlab notebook from: [Lab8-TH](http://54.243.252.9/engr-1330-webroot/8-Labs/Lab08/Lab08-TH.ipynb)\n",
    "\n",
    "___"
   ]
  },
  {
   "cell_type": "markdown",
   "metadata": {},
   "source": [
    "# <font color=darkred>Exercise Set 8: Matrices a Red Pill Approach </font>\n",
    "\n",
    "**Medrano, Giovanni**\n",
    "\n",
    "**R11521018**\n",
    "\n",
    "ENGR 1330 ES 8 - Homework"
   ]
  },
  {
   "cell_type": "code",
   "execution_count": 1,
   "metadata": {},
   "outputs": [
    {
     "name": "stdout",
     "output_type": "stream",
     "text": [
      "DESKTOP-6HAS1BN\n",
      "desktop-6has1bn\\medra\n",
      "C:\\Users\\medra\\anaconda3\\python.exe\n",
      "3.8.5 (default, Sep  3 2020, 21:29:08) [MSC v.1916 64 bit (AMD64)]\n",
      "sys.version_info(major=3, minor=8, micro=5, releaselevel='final', serial=0)\n"
     ]
    }
   ],
   "source": [
    "# Preamble script block to identify host, user, and kernel\n",
    "import sys\n",
    "! hostname\n",
    "! whoami\n",
    "print(sys.executable)\n",
    "print(sys.version)\n",
    "print(sys.version_info)"
   ]
  },
  {
   "cell_type": "markdown",
   "metadata": {},
   "source": [
    "\n",
    "___\n",
    "\n",
    "## Reading Files\n"
   ]
  },
  {
   "cell_type": "markdown",
   "metadata": {},
   "source": [
    "## Exercise 0 \n",
    "Define the matrix A and the vector u in Python. Then perform all of the tasks below. \n",
    "\n",
    "\\begin{gather}\n",
    "\\mathbf{A} =\n",
    "\\begin{pmatrix}\n",
    "1 & 3 & 5 & 7 \\\\\n",
    "2 & 4 & 6 & 8 \\\\\n",
    "-3 & -2 & -1 & 0 \\\\\n",
    "\\end{pmatrix}\n",
    "~ \\mathbf{u} = \n",
    "\\begin{pmatrix}\n",
    "10 \\\\\n",
    "20 \\\\\n",
    "30 \\\\\n",
    "\\end{pmatrix}\n",
    "\\end{gather}\n",
    "\n",
    "1. Print the matrix A\n",
    "2. Print the vector u\n",
    "3. Print the shape of A \n",
    "4. Print the shape of u\n",
    "5. Print the first column of A\n",
    "6. Print the first two rows of A\n",
    "7. Print the first two entries of u\n",
    "8. Print the last two entries of u\n",
    "9. Print the bottom left 2×2 partition (submatrix) of A\n",
    "10. Print the middle two elements of the middle row of A\n",
    "\n",
    "---\n",
    "\n",
    "Use the code blocks below to craft your answer."
   ]
  },
  {
   "cell_type": "code",
   "execution_count": 12,
   "metadata": {},
   "outputs": [],
   "source": [
    "#%reset -f # only if necessary"
   ]
  },
  {
   "cell_type": "code",
   "execution_count": 11,
   "metadata": {},
   "outputs": [
    {
     "name": "stdout",
     "output_type": "stream",
     "text": [
      "This is matrix A\n",
      "[[ 1  3  5  7]\n",
      " [ 2  4  6  8]\n",
      " [-3 -2 -1  0]]\n",
      "\n",
      "\n",
      "This is matrix B\n",
      "[10 20 30]\n",
      "\n",
      "\n",
      "This is the shape of A\n",
      "(3, 4)\n",
      "\n",
      "\n",
      "This is the shape of U\n",
      "(3,)\n",
      "\n",
      "\n",
      "this is the first column of A\n",
      "1\n",
      "2\n",
      "-3\n",
      "\n",
      "\n",
      "This is the first two rows of A\n",
      "[1 3 5 7]\n",
      "[2 4 6 8]\n",
      "\n",
      "\n",
      "These are the first two entries of u.\n",
      "10\n",
      "20\n",
      "\n",
      "\n",
      "These are the last two entries of u\n",
      "[20 30]\n",
      "\n",
      "\n",
      "These are the bottom left 2x2 submatrix of A\n",
      "[2 4]\n",
      "[-3 -2]\n",
      "\n",
      "\n",
      "These are the middle two elements of the middle row of A\n",
      "[4 6]\n"
     ]
    }
   ],
   "source": [
    "# read/create matrix A\n",
    "import numpy as np\n",
    "A = np.array([[1,3,5,7],[2,4,6,8],[-3,-2,-1,0]])\n",
    "# read/create vector u\n",
    "u = np.array([10,20,30])\n",
    "\n",
    "# print A\n",
    "print('This is matrix A')\n",
    "print(A)\n",
    "print('\\n')\n",
    "# print u\n",
    "print('This is matrix B')\n",
    "print(u)\n",
    "print('\\n')\n",
    "\n",
    "# determine and Print the shape of A \n",
    "print('This is the shape of A')\n",
    "print(A.shape)\n",
    "print('\\n')\n",
    "\n",
    "# determine andPrint the shape of u\n",
    "print('This is the shape of U')\n",
    "print(u.shape)\n",
    "print('\\n')\n",
    "\n",
    "# Print the first column of A\n",
    "print('this is the first column of A')\n",
    "for j in range(3):\n",
    "    print(A[j][0])\n",
    "print(\"\\n\")\n",
    "\n",
    "# Print the first two rows of \n",
    "print('This is the first two rows of A')\n",
    "print(A[0])\n",
    "print(A[1])\n",
    "print('\\n')\n",
    "# Print the first two entries of u\n",
    "\n",
    "print('These are the first two entries of u.')\n",
    "for j in range(2):\n",
    "    print(u[j])\n",
    "print('\\n')\n",
    "# Print the last two entries of u\n",
    "print('These are the last two entries of u')\n",
    "print(u[1:])\n",
    "print('\\n')\n",
    "\n",
    "# Print the bottom left 2×2 partition (submatrix) of A\n",
    "print('These are the bottom left 2x2 submatrix of A')\n",
    "for j in range(1,3):\n",
    "    print(A[j][0:2])\n",
    "print('\\n')\n",
    "# Print the middle two elements of the middle row of A\n",
    "print('These are the middle two elements of the middle row of A')\n",
    "print(A[1][1:3])"
   ]
  },
  {
   "cell_type": "markdown",
   "metadata": {},
   "source": [
    "## Exercise 1\n",
    "\n",
    "Use your script to multiply two matrices, just like in the Lab (in-Lab portion).\n",
    "Apply the script to find $\\mathbf{A}\\mathbf{B}$ where.\n",
    "\n",
    "\\begin{gather}\n",
    "\\mathbf{A} =\n",
    "\\begin{pmatrix}\n",
    "1 & 2 \\\\\n",
    "3 & 4 \\\\\n",
    "5 & 6  \\\\\n",
    "\\end{pmatrix}\n",
    "~~~~ \\mathbf{B} = \n",
    "\\begin{pmatrix}\n",
    "7 & 8 & 9 \\\\\n",
    "10 & 11 & 12 \\\\\n",
    "\\end{pmatrix}\n",
    "\\end{gather}"
   ]
  },
  {
   "cell_type": "markdown",
   "metadata": {},
   "source": [
    "The two matrices are located in files:\n",
    "\n",
    "[http://54.243.252.9/engr-1330-webroot/8-Labs/Lab08/Amat.txt](http://54.243.252.9/engr-1330-webroot/8-Labs/Lab08/Amat.txt)\n",
    "\n",
    "and:\n",
    "\n",
    "[http://54.243.252.9/engr-1330-webroot/8-Labs/Lab08/Bmat.txt](http://54.243.252.9/engr-1330-webroot/8-Labs/Lab08/Bmat.txt)\n",
    "\n",
    "You should download these files before proceeding"
   ]
  },
  {
   "cell_type": "code",
   "execution_count": 18,
   "metadata": {},
   "outputs": [
    {
     "name": "stdout",
     "output_type": "stream",
     "text": [
      "['1,2\\n', '3,4\\n', '5,6']\n",
      "[[27, 30, 33], [61, 68, 75], [95, 106, 117]]\n"
     ]
    }
   ],
   "source": [
    "# read file Amat.txt\n",
    "fileOne = open(\"amat.txt\",'r')\n",
    "# read file Bmat.txt\n",
    "fileTwo = open('bmat.txt','r')\n",
    "# create a destination matrix ABmatrix\n",
    "lineOne = fileOne.readlines()\n",
    "lineTwo = fileTwo.readlines()\n",
    "print(lineOne)\n",
    "A = []\n",
    "B = []\n",
    "# print Amat\n",
    "for i in lineOne:\n",
    "    l=i.strip('\\n')\n",
    "    l=l.split(',')\n",
    "    l=list(map(int,l))\n",
    "    A.append(l)\n",
    "for i in lineTwo:\n",
    "    l=i.strip('\\n')\n",
    "    l=l.split(',')\n",
    "    l=list(map(int,l))\n",
    "    B.append(l)    \n",
    "# print Bmat\n",
    "# perform the multiplication put the result into ABmatrix \n",
    "\n",
    "final = [[0 for j in range(len(B[0]))]for i in range(len(A))]\n",
    "for i in range(len(A)):\n",
    "    for j in range(len(B[0])):\n",
    "        for k in range(len(B)):\n",
    "            final[i][j] += A[i][k] * B[k][j]\n",
    "print(final)\n",
    "# print ABmatrix"
   ]
  },
  {
   "cell_type": "markdown",
   "metadata": {},
   "source": [
    "___\n",
    "\n",
    "## References\n",
    "\n",
    "1. A linear algebra primer [https://numericalmethodssullivan.github.io/ch-linearalgebra.html](https://numericalmethodssullivan.github.io/ch-linearalgebra.html)\n",
    "\n",
    "3. Python file manipulations [https://www.tutorialspoint.com/python/python_files_io.htm](https://www.tutorialspoint.com/python/python_files_io.htm)\n",
    "\n",
    "2. A Complete Beginners Guide to Matrix Multiplication for Data Science with Python Numpy [https://towardsdatascience.com/a-complete-beginners-guide-to-matrix-multiplication-for-data-science-with-python-numpy-9274ecfc1dc6](https://towardsdatascience.com/a-complete-beginners-guide-to-matrix-multiplication-for-data-science-with-python-numpy-9274ecfc1dc6)\n",
    "\n"
   ]
  }
 ],
 "metadata": {
  "kernelspec": {
   "display_name": "Python 3",
   "language": "python",
   "name": "python3"
  },
  "language_info": {
   "codemirror_mode": {
    "name": "ipython",
    "version": 3
   },
   "file_extension": ".py",
   "mimetype": "text/x-python",
   "name": "python",
   "nbconvert_exporter": "python",
   "pygments_lexer": "ipython3",
   "version": "3.8.5"
  }
 },
 "nbformat": 4,
 "nbformat_minor": 4
}
