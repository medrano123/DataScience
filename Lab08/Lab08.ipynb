{
 "cells": [
  {
   "cell_type": "markdown",
   "metadata": {},
   "source": [
    "**Download** (right-click, save target as ...) this page as a jupyterlab notebook from: [Lab8](http://54.243.252.9/engr-1330-webroot/8-Labs/Lab08/Lab08.ipynb)\n",
    "\n",
    "___"
   ]
  },
  {
   "cell_type": "markdown",
   "metadata": {},
   "source": [
    "# <font color=darkred>Laboratory 8: Matrices a Red Pill Approach </font>\n",
    "\n",
    "**Medrano, Giovanni**\n",
    "\n",
    "**R11521018**\n",
    "\n",
    "ENGR 1330 Laboratory 8 - In-Lab "
   ]
  },
  {
   "cell_type": "code",
   "execution_count": 1,
   "metadata": {},
   "outputs": [
    {
     "name": "stdout",
     "output_type": "stream",
     "text": [
      "DESKTOP-6HAS1BN\n",
      "desktop-6has1bn\\medra\n",
      "C:\\Users\\medra\\anaconda3\\python.exe\n",
      "3.8.5 (default, Sep  3 2020, 21:29:08) [MSC v.1916 64 bit (AMD64)]\n",
      "sys.version_info(major=3, minor=8, micro=5, releaselevel='final', serial=0)\n"
     ]
    }
   ],
   "source": [
    "# Preamble script block to identify host, user, and kernel\n",
    "import sys\n",
    "! hostname\n",
    "! whoami\n",
    "print(sys.executable)\n",
    "print(sys.version)\n",
    "print(sys.version_info)"
   ]
  },
  {
   "cell_type": "markdown",
   "metadata": {},
   "source": [
    "\n",
    "___\n",
    "\n",
    "## Reading Files, Working with 2D Lists\n"
   ]
  },
  {
   "cell_type": "markdown",
   "metadata": {},
   "source": [
    "Is the file [A-Inverse.txt](http://54.243.252.9/engr-1330-webroot/8-Labs/Lab08/A-Inverse.txt) indeed the inverse of [A-Matrix.txt](http://54.243.252.9/engr-1330-webroot/8-Labs/Lab08/A-Matrix.txt) ?"
   ]
  },
  {
   "cell_type": "markdown",
   "metadata": {},
   "source": [
    "---\n",
    "\n",
    "## Example - Using the Treasure Map\n",
    "\n",
    "The treasure map problem was already presented, and we replaced the explicitly defined map lists with a file, allowing for the use of multiple maps.  Starting with our original map, but contained in a text file named [http://54.243.252.9/engr-1330-webroot/8-Labs/Lab07/treasure1.txt](http://54.243.252.9/engr-1330-webroot/8-Labs/Lab07/treasure1.txt) we can read the map using file manipulation methods.\n",
    "\n",
    "Here is what the file looks like\n",
    "\n",
    "       c1,c2,c3,c4,c5\n",
    "    r1,34,21,32,41,25  \n",
    "    r2,14,42,43,14,31  \n",
    "    r3,54,45,52,42,23  \n",
    "    r4,33,15,51,31,35  \n",
    "    r5,21,52,33,13,23 \n",
    "    \n",
    "The upper left hand corner appears to be 3 spaces, then the remainder of the first row is column headings, which we dont need.  Similarily the second row and beyond, has a column of row labels, then the actual data contents.\n",
    "\n",
    "Our reading exercise will need to get just the data and ignore (or discard) the rest of the information.\n",
    "\n",
    "However our search method visited all cells in the grid, and did not use the clues explicitly in the map.  Modify the search method to use the clues in the individual cells.\n",
    "\n"
   ]
  },
  {
   "cell_type": "code",
   "execution_count": 2,
   "metadata": {},
   "outputs": [],
   "source": [
    "treasuremap = [] # empty list to the map information\n",
    "treasurefile = open(\"treasure1.txt\",\"r\") # open a read connection\n",
    "for line in treasurefile:\n",
    "    treasuremap.append([str(n) for n in line.strip().split(\",\")])\n",
    "treasurefile.close()"
   ]
  },
  {
   "cell_type": "markdown",
   "metadata": {},
   "source": [
    "Now we have the map, we can use list delete and slicing to remove un-necessary data"
   ]
  },
  {
   "cell_type": "code",
   "execution_count": 3,
   "metadata": {},
   "outputs": [],
   "source": [
    "del treasuremap[0] #remove entire first row \n",
    "for irow in range(len(treasuremap)): #step through remaining rows\n",
    "    del treasuremap[irow][0] #kill leading column each row"
   ]
  },
  {
   "cell_type": "markdown",
   "metadata": {},
   "source": [
    "Now we can use our treasure map search to complete the example"
   ]
  },
  {
   "cell_type": "code",
   "execution_count": 4,
   "metadata": {},
   "outputs": [
    {
     "name": "stdout",
     "output_type": "stream",
     "text": [
      "'34','21','32','41','25'\n",
      "'14','42','43','14','31'\n",
      "'54','45','52','42','23'\n",
      "'33','15','51','31','35'\n",
      "'21','52','33','13','23'\n",
      "Cell  1 1  contains no treasure, move to Cell  34\n",
      "Cell  3 4  contains no treasure, move to Cell  42\n",
      "Cell  4 2  contains no treasure, move to Cell  15\n",
      "Cell  1 5  contains no treasure, move to Cell  25\n",
      "Cell  2 5  contains no treasure, move to Cell  31\n",
      "Cell  3 1  contains no treasure, move to Cell  54\n",
      "Cell  5 4  contains no treasure, move to Cell  13\n",
      "Cell  1 3  contains no treasure, move to Cell  32\n",
      "Cell  3 2  contains no treasure, move to Cell  45\n",
      "Cell  4 5  contains no treasure, move to Cell  35\n",
      "Cell  3 5  contains no treasure, move to Cell  23\n",
      "Cell  2 3  contains no treasure, move to Cell  43\n",
      "Cell  4 3  contains no treasure, move to Cell  51\n",
      "Cell  5 1  contains no treasure, move to Cell  21\n",
      "Cell  2 1  contains no treasure, move to Cell  14\n",
      "Cell  1 4  contains no treasure, move to Cell  41\n",
      "Cell  4 1  contains no treasure, move to Cell  33\n",
      "Cell  3 3  contains no treasure, move to Cell  52\n",
      "Cell  52  contains TREASURE \n",
      "Treasure found after  18  cells visited\n"
     ]
    }
   ],
   "source": [
    "#####################################\n",
    "for i in range(0,5,1):\n",
    "    what_to_print =','.join(map(repr, treasuremap[i][:]))\n",
    "    print(what_to_print) # print the map by row\n",
    "howMany = 25 # set how many moves before we quit\n",
    "#### Clue Directed Search ####\n",
    "found = False\n",
    "# start at (1,1)\n",
    "rowNow=1\n",
    "colNow=1\n",
    "tryCount = 0\n",
    "while not found:\n",
    "# get row and column from rowNow and colNow values\n",
    "    row = rowNow\n",
    "    column = colNow\n",
    "# get maprowval and mapcolval\n",
    "    maprowval = str(treasuremap[row-1][column-1])[0]\n",
    "    mapcolval = str(treasuremap[row-1][column-1])[1]\n",
    "# test if cell is a treasure cell or not\n",
    "    if int(maprowval) == row and int(mapcolval) == column :\n",
    "        print('Cell ',treasuremap[row-1][column-1], ' contains TREASURE ') # print the result\n",
    "        print('Treasure found after ',tryCount,' cells visited')\n",
    "        found = True\n",
    "        break\n",
    "        pass #comment this line out when have message\n",
    "    else:\n",
    "        print('Cell ',row,column, ' contains no treasure, move to Cell ',treasuremap[row-1][column-1]) # message here for no treasure\n",
    "        rowNow = int(maprowval)\n",
    "        colNow = int(mapcolval)\n",
    "        found = False\n",
    "        pass #comment this line out when have message\n",
    "    tryCount+=1\n",
    "    if tryCount > howMany :\n",
    "        print('No treasure after ',tryCount,' cells visited')\n",
    "        break\n"
   ]
  },
  {
   "cell_type": "markdown",
   "metadata": {},
   "source": [
    "---\n",
    "\n",
    "## Exercise 0\n",
    "\n",
    "Consider a new treasure map contained in file [http://54.243.252.9/engr-1330-webroot/8-Labs/Lab07/treasure2.txt](http://54.243.252.9/engr-1330-webroot/8-Labs/Lab07/treasure2.txt).  "
   ]
  },
  {
   "cell_type": "markdown",
   "metadata": {},
   "source": [
    "---\n",
    "\n",
    "## Example \n",
    "\n",
    "Develop a script to multiply a vector by a matrix.  \n",
    "\n",
    "- Apply the program to find $\\mathbf{A}\\mathbf{x}$ where.\n",
    "\n",
    "\\begin{gather}\n",
    "\\mathbf{A} =\n",
    "\\begin{pmatrix}\n",
    "4.0 & 1.5 & 0.7 & 1.2 & 0.5 \\\\\n",
    "1.0 & 6.0 & 0.9 & 1.4 & 0.7 \\\\\n",
    "0.5 & 1.0 & 3.9 & 3.2 & 0.9 \\\\\n",
    "0.2 & 2.0 & 0.2 & 7.5 & 1.9 \\\\\n",
    "1.7 & 0.9 & 1.2 & 2.3 & 4.9 \\\\\n",
    "\\end{pmatrix}\n",
    "~ \\mathbf{x} = \n",
    "\\begin{pmatrix}\n",
    "0.595194878133 \\\\\n",
    "0.507932173989 \\\\\n",
    "0.831708392507 \\\\\n",
    "0.630365599089 \\\\ \n",
    "1.03737526565 \\\\\n",
    "\\end{pmatrix}\n",
    "\\end{gather}\n",
    "\n",
    "Use the code blocks below to craft your answer."
   ]
  },
  {
   "cell_type": "code",
   "execution_count": 5,
   "metadata": {},
   "outputs": [],
   "source": [
    "#%reset -f # only if necessary"
   ]
  },
  {
   "cell_type": "code",
   "execution_count": 6,
   "metadata": {},
   "outputs": [
    {
     "name": "stdout",
     "output_type": "stream",
     "text": [
      "[4.0, 1.5, 0.7, 1.2, 0.5]\n",
      "[1.0, 6.0, 0.9, 1.4, 0.7]\n",
      "[0.5, 1.0, 3.9, 3.2, 0.9]\n",
      "[0.2, 2.0, 0.2, 7.5, 1.9]\n",
      "[1.7, 0.9, 1.2, 2.3, 4.9]\n",
      "0.595194878133\n",
      "0.507932173989\n",
      "0.831708392507\n",
      "0.630365599089\n",
      "1.03737526565\n",
      "5.0\n",
      "6.0\n",
      "7.0\n",
      "8.0\n",
      "9.0\n"
     ]
    }
   ],
   "source": [
    "# create matrix A\n",
    "amatrix = [[4.0,1.5,0.7,1.2,0.5],\n",
    "           [1.0,6.0,0.9,1.4,0.7],\n",
    "           [0.5,1.0,3.9,3.2,0.9],\n",
    "           [0.2,2.0,0.2,7.5,1.9],\n",
    "           [1.7,0.9,1.2,2.3,4.9]]\n",
    "# create vector x\n",
    "xvector = [0.595194878133,\n",
    "           0.507932173989,\n",
    "           0.831708392507,\n",
    "           0.630365599089,\n",
    "           1.03737526565  ]\n",
    "# create null vector to store Ax\n",
    "AXvector = [0 for i in range(0,len(xvector))] # populate with zeros\n",
    "# print A\n",
    "for i in range(0,len(amatrix),1):\n",
    "    print(amatrix[i][:])\n",
    "# print x\n",
    "for i in range(0,len(xvector),1):\n",
    "    print(xvector[i])\n",
    "# perform the multiplication Ax put the result into Ax \n",
    "for i in range(0,len(amatrix),1):\n",
    "    for j in range(0,len(xvector),1):\n",
    "        AXvector[i]= AXvector[i] + amatrix[i][j]*xvector[j]\n",
    "# print Ax\n",
    "for i in range(0,len(AXvector),1):\n",
    "    print(round(AXvector[i],3))"
   ]
  },
  {
   "cell_type": "markdown",
   "metadata": {},
   "source": [
    "## Exercise 1\n",
    "\n",
    "Develop a script to multiply two matrices, just like in the Lesson.\n",
    "Apply the script to find $\\mathbf{A}\\mathbf{B}$ where.\n",
    "\n",
    "\\begin{gather}\n",
    "\\mathbf{A} =\n",
    "\\begin{pmatrix}\n",
    "4.0 &  1.5 & 0.7 & 1.2 & 0.5 \\\\\n",
    "1.0 & 6.0 & 0.9 & 1.4 & 0.7 \\\\\n",
    "0.5 & 1.0 & 3.9 & 3.2 & 0.9 \\\\\n",
    "0.2 & 2.0 & 0.2 & 7.5 & 1.9  \\\\\n",
    "1.7 & 0.9 & 1.2 & 2.3 & 4.9 \\\\\n",
    "\\end{pmatrix}\n",
    "~ \\mathbf{B} = \n",
    "\\begin{pmatrix}\n",
    "0.27196 &  -0.05581 & -0.03285 & -0.01687  & -0.007203 \\\\\n",
    "-0.036787 &  0.186918 & -0.03206 & -0.011457  & -0.012618 \\\\\n",
    "-0.02595 & -0.001333 & 0.268266 & -0.10875 & -0.004267 \\\\\n",
    "0.027048 & -0.050632 & 0.016499 &  0.14865  & -0.056198 \\\\\n",
    "-0.093939 & 0.009124 & -0.056155 & -0.03519  & 0.236322 \\\\\n",
    "\\end{pmatrix}\n",
    "\\end{gather}"
   ]
  },
  {
   "cell_type": "markdown",
   "metadata": {},
   "source": [
    "The two matrices are located in files:\n",
    "\n",
    "[http://54.243.252.9/engr-1330-webroot/8-Labs/Lab08/A-Matrix.txt](http://54.243.252.9/engr-1330-webroot/8-Labs/Lab08/A-Matrix.txt)\n",
    "\n",
    "and:\n",
    "\n",
    "[http://54.243.252.9/engr-1330-webroot/8-Labs/Lab08/A-Inverse.txt](http://54.243.252.9/engr-1330-webroot/8-Labs/Lab08/A-Inverse.txt)\n",
    "\n",
    "You should download these files before proceeding"
   ]
  },
  {
   "cell_type": "code",
   "execution_count": 11,
   "metadata": {},
   "outputs": [
    {
     "name": "stdout",
     "output_type": "stream",
     "text": [
      "-----------MatrixA-------\n",
      "[4.0, 1.5, 0.7, 1.2, 0.5]\n",
      "[1.0, 6.0, 0.9, 1.4, 0.7]\n",
      "[0.5, 1.0, 3.9, 3.2, 0.9]\n",
      "[0.2, 2.0, 0.2, 7.5, 1.9]\n",
      "[1.7, 0.9, 1.2, 2.3, 4.9]\n",
      "-----------MatrixA^-1-------\n",
      "[0.27196423630168165, -0.05581183146290884, -0.032853102922602934, -0.016869919448735553, -0.0072026931722172435]\n",
      "[-0.036786468827077756, 0.18691841183385363, -0.032062455842026744, -0.011456196435011407, -0.012617687833839365]\n",
      "[-0.025949127789423248, -0.0013334022990376664, 0.26826513178341493, -0.10875073215127727, -0.004266180002777282]\n",
      "[0.027047195749338872, -0.05063248905238324, 0.01649816113355711, 0.1486518640705042, -0.05619749842697155]\n",
      "[-0.0939389748254409, 0.009124153146082323, -0.05615458031041434, -0.03518550386250331, 0.23632125710787594]\n",
      "-----------MatrixAA^-1-------\n",
      "[1.0878569452067266, -0.08371774719436326, -0.02299717204582205, -0.020243903338482663, -0.0036013465861086218]\n",
      "[-0.036786468827077756, 1.1215104710031218, -0.02885621025782407, -0.01603867500901597, -0.008832381483687554]\n",
      "[-0.012974563894711624, -0.0013334022990376664, 1.0462340139553181, -0.34800234288408727, -0.0038395620024995543]\n",
      "[0.005409439149867775, -0.10126497810476648, 0.0032996322267114225, 1.1148889805287816, -0.10677524701124594]\n",
      "[-0.15969625720324954, 0.008211737831474091, -0.0673854963724972, -0.08092665888375761, 1.1579741598285922]\n"
     ]
    }
   ],
   "source": [
    "matrixA = []\n",
    "matrixfile = open(\"A-Matrix.txt\",\"r\")\n",
    "for line in matrixfile:\n",
    "    matrixA.append([float(n) for n in line.strip().split()])\n",
    "matrixfile.close()\n",
    "\n",
    "matrixinv = []\n",
    "matrixfile = open(\"A-Inverse.txt\",\"r\")\n",
    "for line in matrixfile:\n",
    "    matrixinv.append([float(n) for n in line.strip().split()])\n",
    "matrixfile.close()\n",
    "\n",
    "matrixC = []\n",
    "for i in range(0,len(matrixA)):\n",
    "    matrixC.append([0 for i in range(0,len(matrixinv[0]))])\n",
    "\n",
    "print(\"-----------MatrixA-------\")\n",
    "for i in range(0,len(matrixA),1):\n",
    "    print(matrixA[i][:])\n",
    "    \n",
    "print(\"-----------MatrixA^-1-------\")\n",
    "for i in range(0,len(matrixinv),1):\n",
    "    print(matrixinv[i][:])\n",
    "for i in range(0,len(matrixA),1):\n",
    "    for j in range(0,len(matrixinv[0])):\n",
    "        matrixC[i][j] = matrixC[i][j] + matrixA[i][j]*matrixinv[i][j]\n",
    "    \n",
    "print(\"-----------MatrixAA^-1-------\")\n",
    "for i in range(0,len(matrixC),1):\n",
    "    print(matrixC[i][:])"
   ]
  },
  {
   "cell_type": "markdown",
   "metadata": {},
   "source": [
    "___\n",
    "\n",
    "## References\n",
    "\n",
    "1. List processing tips [https://www.programiz.com/python-programming/del](https://www.programiz.com/python-programming/del)\n",
    "\n",
    "2. Character replacement tips [https://www.geeksforgeeks.org/python-string-replace/](https://www.geeksforgeeks.org/python-string-replace/)\n",
    "\n",
    "3. Python file manipulations [https://www.tutorialspoint.com/python/python_files_io.htm](https://www.tutorialspoint.com/python/python_files_io.htm)\n",
    "\n",
    "1. A linear algebra primer [https://numericalmethodssullivan.github.io/ch-linearalgebra.html](https://numericalmethodssullivan.github.io/ch-linearalgebra.html)\n",
    "\n",
    "3. Python file manipulations [https://www.tutorialspoint.com/python/python_files_io.htm](https://www.tutorialspoint.com/python/python_files_io.htm)\n",
    "\n",
    "2. A Complete Beginners Guide to Matrix Multiplication for Data Science with Python Numpy [https://towardsdatascience.com/a-complete-beginners-guide-to-matrix-multiplication-for-data-science-with-python-numpy-9274ecfc1dc6](https://towardsdatascience.com/a-complete-beginners-guide-to-matrix-multiplication-for-data-science-with-python-numpy-9274ecfc1dc6)\n",
    "\n"
   ]
  }
 ],
 "metadata": {
  "kernelspec": {
   "display_name": "Python 3",
   "language": "python",
   "name": "python3"
  },
  "language_info": {
   "codemirror_mode": {
    "name": "ipython",
    "version": 3
   },
   "file_extension": ".py",
   "mimetype": "text/x-python",
   "name": "python",
   "nbconvert_exporter": "python",
   "pygments_lexer": "ipython3",
   "version": "3.8.5"
  }
 },
 "nbformat": 4,
 "nbformat_minor": 4
}
