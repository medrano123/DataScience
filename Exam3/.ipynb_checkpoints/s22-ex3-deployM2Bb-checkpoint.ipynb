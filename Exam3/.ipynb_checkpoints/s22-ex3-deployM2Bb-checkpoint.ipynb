{
 "cells": [
  {
   "cell_type": "markdown",
   "metadata": {},
   "source": [
    "# <font color=darkblue>ENGR 1330-2022 Exam 3 - Laboratory Portion  </font>\n",
    "\n",
    "**Medrano, Giovanni**\n",
    "\n",
    "**R11521018**\n",
    "\n",
    "ENGR 1330 Exam 3M - Demonstrate Laboratory/Programming Skills\n",
    "\n",
    "---\n",
    "\n",
    "\n",
    "\n",
    "**If you are unable to download the file, create an empty notebook and copy paste the problems into Markdown cells and Code cells (problem-by-problem)**\n",
    "\n"
   ]
  },
  {
   "cell_type": "markdown",
   "metadata": {},
   "source": [
    "## Problem 0 (5 pts) : <font color = 'magenta'>*Profile your computer*</font>\n",
    "\n",
    "Execute the code cell below exactly as written.  If you get an error just continue to the remaining problems."
   ]
  },
  {
   "cell_type": "code",
   "execution_count": 5,
   "metadata": {},
   "outputs": [
    {
     "name": "stdout",
     "output_type": "stream",
     "text": [
      "DESKTOP-6HAS1BN\n",
      "desktop-6has1bn\\medra\n",
      "C:\\Users\\medra\\anaconda3\\python.exe\n",
      "3.8.5 (default, Sep  3 2020, 21:29:08) [MSC v.1916 64 bit (AMD64)]\n",
      "sys.version_info(major=3, minor=8, micro=5, releaselevel='final', serial=0)\n"
     ]
    }
   ],
   "source": [
    "# Preamble script block to identify host, user, and kernel\n",
    "import sys\n",
    "! hostname\n",
    "! whoami\n",
    "print(sys.executable)\n",
    "print(sys.version)\n",
    "print(sys.version_info)"
   ]
  },
  {
   "cell_type": "markdown",
   "metadata": {},
   "source": [
    "## Exercise 1 (5 pts) Download the datafile\n",
    "The file is available on Blackboard and you will need to dowenload it and place it in the same folder/directory as your Exam ipynb file. It contains values of impact strength of packaging materials in foot-pounds of branded boxes. \n",
    "\n",
    "Download the file and read it into a dataframe.\n"
   ]
  },
  {
   "cell_type": "markdown",
   "metadata": {},
   "source": [
    "#### Download the necessary datafile"
   ]
  },
  {
   "cell_type": "code",
   "execution_count": 40,
   "metadata": {},
   "outputs": [
    {
     "ename": "NameError",
     "evalue": "name 'rget' is not defined",
     "output_type": "error",
     "traceback": [
      "\u001b[1;31m---------------------------------------------------------------------------\u001b[0m",
      "\u001b[1;31mNameError\u001b[0m                                 Traceback (most recent call last)",
      "\u001b[1;32m<ipython-input-40-1b51bbd38c54>\u001b[0m in \u001b[0;36m<module>\u001b[1;34m\u001b[0m\n\u001b[0;32m      1\u001b[0m \u001b[1;31m# download script goes here\u001b[0m\u001b[1;33m\u001b[0m\u001b[1;33m\u001b[0m\u001b[1;33m\u001b[0m\u001b[0m\n\u001b[0;32m      2\u001b[0m \u001b[0mlocalfile\u001b[0m \u001b[1;33m=\u001b[0m \u001b[0mopen\u001b[0m\u001b[1;33m(\u001b[0m\u001b[1;34m'boxes.csv'\u001b[0m\u001b[1;33m,\u001b[0m\u001b[1;34m'wb'\u001b[0m\u001b[1;33m)\u001b[0m \u001b[1;31m# open connection to a local file same name as remote\u001b[0m\u001b[1;33m\u001b[0m\u001b[1;33m\u001b[0m\u001b[0m\n\u001b[1;32m----> 3\u001b[1;33m \u001b[0mlocalfile\u001b[0m\u001b[1;33m.\u001b[0m\u001b[0mwrite\u001b[0m\u001b[1;33m(\u001b[0m\u001b[0mrget\u001b[0m\u001b[1;33m.\u001b[0m\u001b[0mcontent\u001b[0m\u001b[1;33m)\u001b[0m \u001b[1;31m# extract from the remote the contents,insert into the local file same name\u001b[0m\u001b[1;33m\u001b[0m\u001b[1;33m\u001b[0m\u001b[0m\n\u001b[0m\u001b[0;32m      4\u001b[0m \u001b[0mlocalfile\u001b[0m\u001b[1;33m.\u001b[0m\u001b[0mclose\u001b[0m\u001b[1;33m(\u001b[0m\u001b[1;33m)\u001b[0m \u001b[1;31m# close connection to the local file\u001b[0m\u001b[1;33m\u001b[0m\u001b[1;33m\u001b[0m\u001b[0m\n",
      "\u001b[1;31mNameError\u001b[0m: name 'rget' is not defined"
     ]
    }
   ],
   "source": [
    "# download script goes here\n",
    "localfile = open('boxes.csv','wb') # open connection to a local file same name as remote\n",
    "localfile.write(rget.content) # extract from the remote the contents,insert into the local file same name\n",
    "localfile.close() # close connection to the local file"
   ]
  },
  {
   "cell_type": "markdown",
   "metadata": {},
   "source": [
    "#### Store the datafile into a datafrome"
   ]
  },
  {
   "cell_type": "code",
   "execution_count": 4,
   "metadata": {},
   "outputs": [
    {
     "data": {
      "text/html": [
       "<div>\n",
       "<style scoped>\n",
       "    .dataframe tbody tr th:only-of-type {\n",
       "        vertical-align: middle;\n",
       "    }\n",
       "\n",
       "    .dataframe tbody tr th {\n",
       "        vertical-align: top;\n",
       "    }\n",
       "\n",
       "    .dataframe thead th {\n",
       "        text-align: right;\n",
       "    }\n",
       "</style>\n",
       "<table border=\"1\" class=\"dataframe\">\n",
       "  <thead>\n",
       "    <tr style=\"text-align: right;\">\n",
       "      <th></th>\n",
       "      <th>Amazon Branded Boxes</th>\n",
       "      <th>Walmart Branded Boxes</th>\n",
       "      <th>US Postal Service Branded Boxes</th>\n",
       "    </tr>\n",
       "  </thead>\n",
       "  <tbody>\n",
       "    <tr>\n",
       "      <th>0</th>\n",
       "      <td>0.786840</td>\n",
       "      <td>1.085667</td>\n",
       "      <td>1.017169</td>\n",
       "    </tr>\n",
       "    <tr>\n",
       "      <th>1</th>\n",
       "      <td>1.278068</td>\n",
       "      <td>1.019425</td>\n",
       "      <td>1.225774</td>\n",
       "    </tr>\n",
       "    <tr>\n",
       "      <th>2</th>\n",
       "      <td>0.964830</td>\n",
       "      <td>0.798582</td>\n",
       "      <td>1.139398</td>\n",
       "    </tr>\n",
       "    <tr>\n",
       "      <th>3</th>\n",
       "      <td>0.968899</td>\n",
       "      <td>0.647075</td>\n",
       "      <td>1.478555</td>\n",
       "    </tr>\n",
       "    <tr>\n",
       "      <th>4</th>\n",
       "      <td>0.938127</td>\n",
       "      <td>0.856392</td>\n",
       "      <td>1.158053</td>\n",
       "    </tr>\n",
       "    <tr>\n",
       "      <th>...</th>\n",
       "      <td>...</td>\n",
       "      <td>...</td>\n",
       "      <td>...</td>\n",
       "    </tr>\n",
       "    <tr>\n",
       "      <th>249995</th>\n",
       "      <td>1.682455</td>\n",
       "      <td>0.267142</td>\n",
       "      <td>1.005418</td>\n",
       "    </tr>\n",
       "    <tr>\n",
       "      <th>249996</th>\n",
       "      <td>0.402352</td>\n",
       "      <td>0.632802</td>\n",
       "      <td>1.234473</td>\n",
       "    </tr>\n",
       "    <tr>\n",
       "      <th>249997</th>\n",
       "      <td>1.288016</td>\n",
       "      <td>1.201354</td>\n",
       "      <td>1.288564</td>\n",
       "    </tr>\n",
       "    <tr>\n",
       "      <th>249998</th>\n",
       "      <td>0.864747</td>\n",
       "      <td>0.713163</td>\n",
       "      <td>1.438149</td>\n",
       "    </tr>\n",
       "    <tr>\n",
       "      <th>249999</th>\n",
       "      <td>1.421109</td>\n",
       "      <td>0.729032</td>\n",
       "      <td>1.283414</td>\n",
       "    </tr>\n",
       "  </tbody>\n",
       "</table>\n",
       "<p>250000 rows × 3 columns</p>\n",
       "</div>"
      ],
      "text/plain": [
       "        Amazon Branded Boxes  Walmart Branded Boxes  \\\n",
       "0                   0.786840               1.085667   \n",
       "1                   1.278068               1.019425   \n",
       "2                   0.964830               0.798582   \n",
       "3                   0.968899               0.647075   \n",
       "4                   0.938127               0.856392   \n",
       "...                      ...                    ...   \n",
       "249995              1.682455               0.267142   \n",
       "249996              0.402352               0.632802   \n",
       "249997              1.288016               1.201354   \n",
       "249998              0.864747               0.713163   \n",
       "249999              1.421109               0.729032   \n",
       "\n",
       "        US Postal Service Branded Boxes  \n",
       "0                              1.017169  \n",
       "1                              1.225774  \n",
       "2                              1.139398  \n",
       "3                              1.478555  \n",
       "4                              1.158053  \n",
       "...                                 ...  \n",
       "249995                         1.005418  \n",
       "249996                         1.234473  \n",
       "249997                         1.288564  \n",
       "249998                         1.438149  \n",
       "249999                         1.283414  \n",
       "\n",
       "[250000 rows x 3 columns]"
      ]
     },
     "execution_count": 4,
     "metadata": {},
     "output_type": "execute_result"
    }
   ],
   "source": [
    "# read dataframe script goes here\n",
    "import pandas as pd\n",
    "dfd = pd.read_csv('boxes.csv')\n",
    "dfd"
   ]
  },
  {
   "cell_type": "markdown",
   "metadata": {},
   "source": [
    "#### Describe the dataframe, how many columns are in the dataframe?  What are the column names?"
   ]
  },
  {
   "cell_type": "code",
   "execution_count": 5,
   "metadata": {},
   "outputs": [
    {
     "data": {
      "text/html": [
       "<div>\n",
       "<style scoped>\n",
       "    .dataframe tbody tr th:only-of-type {\n",
       "        vertical-align: middle;\n",
       "    }\n",
       "\n",
       "    .dataframe tbody tr th {\n",
       "        vertical-align: top;\n",
       "    }\n",
       "\n",
       "    .dataframe thead th {\n",
       "        text-align: right;\n",
       "    }\n",
       "</style>\n",
       "<table border=\"1\" class=\"dataframe\">\n",
       "  <thead>\n",
       "    <tr style=\"text-align: right;\">\n",
       "      <th></th>\n",
       "      <th>Amazon Branded Boxes</th>\n",
       "      <th>Walmart Branded Boxes</th>\n",
       "      <th>US Postal Service Branded Boxes</th>\n",
       "    </tr>\n",
       "  </thead>\n",
       "  <tbody>\n",
       "    <tr>\n",
       "      <th>count</th>\n",
       "      <td>250000.000000</td>\n",
       "      <td>250000.000000</td>\n",
       "      <td>250000.000000</td>\n",
       "    </tr>\n",
       "    <tr>\n",
       "      <th>mean</th>\n",
       "      <td>1.210037</td>\n",
       "      <td>0.780308</td>\n",
       "      <td>1.199937</td>\n",
       "    </tr>\n",
       "    <tr>\n",
       "      <th>std</th>\n",
       "      <td>0.300282</td>\n",
       "      <td>0.200181</td>\n",
       "      <td>0.119895</td>\n",
       "    </tr>\n",
       "    <tr>\n",
       "      <th>min</th>\n",
       "      <td>-0.131195</td>\n",
       "      <td>-0.153808</td>\n",
       "      <td>0.663480</td>\n",
       "    </tr>\n",
       "    <tr>\n",
       "      <th>25%</th>\n",
       "      <td>1.007211</td>\n",
       "      <td>0.646009</td>\n",
       "      <td>1.118755</td>\n",
       "    </tr>\n",
       "    <tr>\n",
       "      <th>50%</th>\n",
       "      <td>1.211051</td>\n",
       "      <td>0.780008</td>\n",
       "      <td>1.200183</td>\n",
       "    </tr>\n",
       "    <tr>\n",
       "      <th>75%</th>\n",
       "      <td>1.411952</td>\n",
       "      <td>0.914654</td>\n",
       "      <td>1.280694</td>\n",
       "    </tr>\n",
       "    <tr>\n",
       "      <th>max</th>\n",
       "      <td>2.535326</td>\n",
       "      <td>1.655256</td>\n",
       "      <td>1.730012</td>\n",
       "    </tr>\n",
       "  </tbody>\n",
       "</table>\n",
       "</div>"
      ],
      "text/plain": [
       "       Amazon Branded Boxes  Walmart Branded Boxes  \\\n",
       "count         250000.000000          250000.000000   \n",
       "mean               1.210037               0.780308   \n",
       "std                0.300282               0.200181   \n",
       "min               -0.131195              -0.153808   \n",
       "25%                1.007211               0.646009   \n",
       "50%                1.211051               0.780008   \n",
       "75%                1.411952               0.914654   \n",
       "max                2.535326               1.655256   \n",
       "\n",
       "       US Postal Service Branded Boxes  \n",
       "count                    250000.000000  \n",
       "mean                          1.199937  \n",
       "std                           0.119895  \n",
       "min                           0.663480  \n",
       "25%                           1.118755  \n",
       "50%                           1.200183  \n",
       "75%                           1.280694  \n",
       "max                           1.730012  "
      ]
     },
     "execution_count": 5,
     "metadata": {},
     "output_type": "execute_result"
    }
   ],
   "source": [
    "# your script/answers go here\n",
    "dfd.describe()"
   ]
  },
  {
   "cell_type": "markdown",
   "metadata": {},
   "source": [
    "## Exercise 2 (15 pts.) Produce a histogram of the Amazon series and the Walmart series on the same plot.  Plot Amazon using red, and Walmart using blue.  \n",
    "\n",
    "> - Import suitable package to build histograms\n",
    "> - Apply package with plotting call to prodice two histograms on same figure space\n",
    "> - Label plot and axes with suitable annotation"
   ]
  },
  {
   "cell_type": "markdown",
   "metadata": {},
   "source": [
    "#### Plot the histograms with proper formatting"
   ]
  },
  {
   "cell_type": "code",
   "execution_count": 6,
   "metadata": {},
   "outputs": [
    {
     "data": {
      "text/plain": [
       "Text(0, 0.5, 'Amount')"
      ]
     },
     "execution_count": 6,
     "metadata": {},
     "output_type": "execute_result"
    },
    {
     "data": {
      "image/png": "[encoded data removed]",
      "text/plain": [
       "<Figure size 432x288 with 1 Axes>"
      ]
     },
     "metadata": {
      "needs_background": "light"
     },
     "output_type": "display_data"
    }
   ],
   "source": [
    "# your script goes here\n",
    "import matplotlib.pyplot as plt  \n",
    "from numpy.lib.histograms import histogram\n",
    "#a = plt.subplots()\n",
    "graph = dfd.plot.hist(column = ['Amazon Branded Boxes','Walmart Branded Boxes'],density = False, title = \"Amazon vs Walmart Boxes\", color = ['red', 'blue'],bins = 40, alpha = .5)\n",
    "graph.set_xlabel(\"Strength\")\n",
    "graph.set_ylabel(\"Amount\")"
   ]
  },
  {
   "cell_type": "markdown",
   "metadata": {},
   "source": [
    "#### Comment on the histograms, do they overlap?  "
   ]
  },
  {
   "cell_type": "markdown",
   "metadata": {},
   "source": [
    "TYPE HERE: Your comments regarding the histograms here\n",
    "# Yes they overlap"
   ]
  },
  {
   "cell_type": "markdown",
   "metadata": {},
   "source": [
    "## Exercise 3 (5 pts.) Summary Statistics for the Amazon and Walmart Brands\n",
    "> - Compute the mean strength and the standard deviation of the Amazon and Walmart brands\n",
    "> - Identify which series has a greater mean value\n",
    "> - Identify which series has the greater standard deviation"
   ]
  },
  {
   "cell_type": "markdown",
   "metadata": {},
   "source": [
    "#### Compute the means and standard deviations"
   ]
  },
  {
   "cell_type": "code",
   "execution_count": 8,
   "metadata": {},
   "outputs": [
    {
     "name": "stdout",
     "output_type": "stream",
     "text": [
      "1.210036656744606 0.7803082066047033\n",
      "===========================\n",
      "0.3002821784033327 0.20018099285701327\n",
      "The Amazon branded boxes have a higher mean value\n",
      "The Amazon branded boxes have a higher standard deviation value\n"
     ]
    }
   ],
   "source": [
    "# your script goes here\n",
    "import statistics\n",
    "aMean = statistics.mean(dfd['Amazon Branded Boxes'])\n",
    "wMean = statistics.mean(dfd['Walmart Branded Boxes'])\n",
    "\n",
    "print(aMean, wMean)\n",
    "\n",
    "print('===========================')\n",
    "\n",
    "aStand = statistics.stdev(dfd['Amazon Branded Boxes'])\n",
    "wStand = statistics.stdev(dfd['Walmart Branded Boxes'])\n",
    "\n",
    "print(aStand, wStand)\n",
    "\n",
    "print('The Amazon branded boxes have a higher mean value')\n",
    "print('The Amazon branded boxes have a higher standard deviation value')"
   ]
  },
  {
   "cell_type": "markdown",
   "metadata": {},
   "source": [
    "#### Identify which has the largest mean"
   ]
  },
  {
   "cell_type": "markdown",
   "metadata": {},
   "source": [
    "TYPE HERE: Your comments regarding which has a greater mean\n",
    "\n",
    "The Amazon branded boxes have a higher mean value\n"
   ]
  },
  {
   "cell_type": "markdown",
   "metadata": {},
   "source": [
    "#### Identify which has the largest standard deviation"
   ]
  },
  {
   "cell_type": "markdown",
   "metadata": {},
   "source": [
    "TYPE HERE: Your comments regarding which has a greater standard deviation\n",
    "\n",
    "The Amazon branded boxes have a higher standard deviation value\n"
   ]
  },
  {
   "cell_type": "markdown",
   "metadata": {},
   "source": [
    "## Exercise 4 (5 pts.) Test the Amazon data for normality, interpret the results."
   ]
  },
  {
   "cell_type": "markdown",
   "metadata": {},
   "source": [
    "#### Build your test below"
   ]
  },
  {
   "cell_type": "code",
   "execution_count": 10,
   "metadata": {},
   "outputs": [
    {
     "name": "stdout",
     "output_type": "stream",
     "text": [
      "stat = 1.0000150203704834 \n",
      "k is thus = 1.0\n",
      "Good chance its Gaussian\n"
     ]
    },
    {
     "name": "stderr",
     "output_type": "stream",
     "text": [
      "C:\\Users\\medra\\anaconda3\\lib\\site-packages\\scipy\\stats\\morestats.py:1681: UserWarning: p-value may not be accurate for N > 5000.\n",
      "  warnings.warn(\"p-value may not be accurate for N > 5000.\")\n"
     ]
    }
   ],
   "source": [
    "# your script here\n",
    "from scipy.stats import shapiro\n",
    "\n",
    "stat, k = shapiro(dfd['Amazon Branded Boxes'])\n",
    "print('stat =', stat,'\\nk is thus =', k)\n",
    "\n",
    "if k > .05:\n",
    "    print('Good chance its Gaussian')\n",
    "else:\n",
    "    print('Good chance its not Guaissian')"
   ]
  },
  {
   "cell_type": "code",
   "execution_count": 12,
   "metadata": {},
   "outputs": [
    {
     "data": {
      "text/plain": [
       "Text(0, 0.5, 'Amount')"
      ]
     },
     "execution_count": 12,
     "metadata": {},
     "output_type": "execute_result"
    },
    {
     "data": {
      "image/png": "[encoded data removed]",
      "text/plain": [
       "<Figure size 432x288 with 1 Axes>"
      ]
     },
     "metadata": {
      "needs_background": "light"
     },
     "output_type": "display_data"
    }
   ],
   "source": [
    "# your script goes here\n",
    "import matplotlib.pyplot as plt  \n",
    "from numpy.lib.histograms import histogram\n",
    "#a = plt.subplots()\n",
    "graph = dfd.plot.hist(density = False, title = \"Amazon vs Walmart\", color = ['red', 'blue'],bins = 40, alpha = .5)\n",
    "graph.set_xlabel(\"Strength\")\n",
    "graph.set_ylabel(\"Amount\")"
   ]
  },
  {
   "cell_type": "markdown",
   "metadata": {},
   "source": [
    "#### Interpret the results"
   ]
  },
  {
   "cell_type": "markdown",
   "metadata": {},
   "source": [
    "The data is shown to be normal.\n"
   ]
  },
  {
   "cell_type": "markdown",
   "metadata": {},
   "source": [
    "## Exercise 5 (5 pts.) Test the Walmart data for normality, interpret the results."
   ]
  },
  {
   "cell_type": "markdown",
   "metadata": {},
   "source": [
    "#### Build your test below"
   ]
  },
  {
   "cell_type": "code",
   "execution_count": 14,
   "metadata": {},
   "outputs": [
    {
     "name": "stdout",
     "output_type": "stream",
     "text": [
      "stat = 1.0000152587890625 \n",
      "k is thus = 1.0\n",
      "Good chance its Gaussian\n"
     ]
    }
   ],
   "source": [
    "# your script here\n",
    "# your script here\n",
    "from scipy.stats import shapiro\n",
    "\n",
    "stat, k = shapiro(dfd['Walmart Branded Boxes'])\n",
    "print('stat =', stat,'\\nk is thus =', k)\n",
    "\n",
    "if (k > .05):\n",
    "    print('Good chance its Gaussian')\n",
    "else:\n",
    "    print('Good chance its not Guaissian')"
   ]
  },
  {
   "cell_type": "markdown",
   "metadata": {},
   "source": [
    "#### Interpret the results"
   ]
  },
  {
   "cell_type": "markdown",
   "metadata": {},
   "source": [
    "Again it is normal distribution.\n"
   ]
  },
  {
   "cell_type": "markdown",
   "metadata": {},
   "source": [
    "## Exercise 6 (10 pts.) Determine if there is evidence of a difference in mean strength between the two brands.  \n",
    "Use an appropriate hypothesis test to support your assertion at a level of significance of $\\alpha = 0.10$. \n",
    "\n",
    "> - Choose a test and justify choice\n",
    "> - Import suitable package to run the test\n",
    "> - Apply the test and interpret the results\n",
    "> - Report result with suitable annotation"
   ]
  },
  {
   "cell_type": "markdown",
   "metadata": {},
   "source": [
    "#### Build your hypothesis test below"
   ]
  },
  {
   "cell_type": "code",
   "execution_count": 17,
   "metadata": {},
   "outputs": [
    {
     "name": "stdout",
     "output_type": "stream",
     "text": [
      "The statistic seems to be: 7305909682.0 \n",
      "k-value at the rejection point is = 0.0\n",
      "The two seem to have different distribution\n"
     ]
    }
   ],
   "source": [
    "# your script here\n",
    "from scipy.stats import mannwhitneyu as l\n",
    "\n",
    "stat, k = l(dfd['Amazon Branded Boxes'],dfd['Walmart Branded Boxes'])\n",
    "print('The statistic seems to be:',stat, '\\nk-value at the rejection point is =', k)\n",
    "\n",
    "if (k>0.05):\n",
    "    print('The two seem to have the same distribution')\n",
    "else:\n",
    "    print('The two seem to have different distribution')\n"
   ]
  },
  {
   "cell_type": "markdown",
   "metadata": {},
   "source": [
    "#### Interpret the results"
   ]
  },
  {
   "cell_type": "markdown",
   "metadata": {},
   "source": [
    "According to the Mann-Whitneyu test it is apparant that the hypothesis is rejected and the two have different\n",
    "distributions\n"
   ]
  },
  {
   "cell_type": "code",
   "execution_count": null,
   "metadata": {},
   "outputs": [],
   "source": []
  }
 ],
 "metadata": {
  "kernelspec": {
   "display_name": "Python 3",
   "language": "python",
   "name": "python3"
  },
  "language_info": {
   "codemirror_mode": {
    "name": "ipython",
    "version": 3
   },
   "file_extension": ".py",
   "mimetype": "text/x-python",
   "name": "python",
   "nbconvert_exporter": "python",
   "pygments_lexer": "ipython3",
   "version": "3.8.5"
  }
 },
 "nbformat": 4,
 "nbformat_minor": 4
}
