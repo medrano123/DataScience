{
 "cells": [
  {
   "cell_type": "markdown",
   "metadata": {},
   "source": [
    "**Download** (right-click, save target as ...) this page as a jupyterlab notebook from:\n",
    "\n",
    "[Laboratory 2 - HW](http://54.243.252.9/engr-1330-webroot/8-Labs/Lab02/Lab02-TH.ipynb)\n",
    "\n",
    "___\n"
   ]
  },
  {
   "cell_type": "markdown",
   "metadata": {},
   "source": [
    "# <font color=darkblue>Laboratory 2: First Steps ... </font>\n",
    "\n",
    "**Medrano, Giovanni**\n",
    "\n",
    "**R11521018**\n",
    "\n",
    "ENGR 1330 Laboratory 2 - Homework\n"
   ]
  },
  {
   "cell_type": "markdown",
   "metadata": {},
   "source": [
    "Notice the code cell below!  From this notebook forward please include and run the script in the cell, it will help in debugging a notebook. Its ok if the code makes no sense right now - mostly the cell executes system commands. As you change machines, and rerun the cell the output will change (its supposed to!)"
   ]
  },
  {
   "cell_type": "code",
   "execution_count": 37,
   "metadata": {},
   "outputs": [
    {
     "name": "stdout",
     "output_type": "stream",
     "text": [
      "DESKTOP-6HAS1BN\n",
      "desktop-6has1bn\\medra\n",
      "C:\\Users\\medra\\anaconda3\\python.exe\n",
      "3.8.5 (default, Sep  3 2020, 21:29:08) [MSC v.1916 64 bit (AMD64)]\n",
      "sys.version_info(major=3, minor=8, micro=5, releaselevel='final', serial=0)\n"
     ]
    }
   ],
   "source": [
    "# Preamble script block to identify host, user, and kernel\n",
    "import sys\n",
    "! hostname\n",
    "! whoami\n",
    "print(sys.executable)\n",
    "print(sys.version)\n",
    "print(sys.version_info)"
   ]
  },
  {
   "cell_type": "markdown",
   "metadata": {},
   "source": [
    "## Exercise 1\n",
    "\n",
    "The cell below is type RAW, change it into a code cell and activate (suppress the comments) and run the script.\n",
    "\n",
    "What is the value of area? "
   ]
  },
  {
   "cell_type": "code",
   "execution_count": 38,
   "metadata": {},
   "outputs": [],
   "source": [
    "# Demonstrate some assignment operations\n",
    "#width = 4\n",
    "#length := width\n",
    "#length += 2\n",
    "# area = length * width"
   ]
  },
  {
   "cell_type": "markdown",
   "metadata": {},
   "source": [
    "Copy your working script below and add necessary code to output the value of area."
   ]
  },
  {
   "cell_type": "code",
   "execution_count": 39,
   "metadata": {},
   "outputs": [
    {
     "name": "stdout",
     "output_type": "stream",
     "text": [
      "24\n"
     ]
    }
   ],
   "source": [
    "# copy here\n",
    "# Demonstrate some assignment operations\n",
    "width = 4\n",
    "length = width\n",
    "length += 2\n",
    "area = length * width\n",
    "print(area)"
   ]
  },
  {
   "cell_type": "markdown",
   "metadata": {},
   "source": [
    "## Exercise 2\n",
    "\n",
    "Change the RAW cell below into a Code cell, and run the script (fix any syntax errors)"
   ]
  },
  {
   "cell_type": "code",
   "execution_count": 40,
   "metadata": {},
   "outputs": [
    {
     "name": "stdout",
     "output_type": "stream",
     "text": [
      "integers and reals\n",
      "x1 =  1.0  y1 =  1.0  z1 =  1\n",
      "x2 =  5.0  y2 =  5.0  z2 =  5\n",
      "x1/x2 =  0.2  y1/y2 =  0.2  z1/z2 =  0\n",
      "<class 'float'>\n",
      "<class 'float'>\n"
     ]
    }
   ],
   "source": [
    "# data types\n",
    "print ('integers and reals')\n",
    "x1 = 1.0\n",
    "y1 = 1.\n",
    "z1 = 1\n",
    "x2 = 5.0\n",
    "y2 = 5.\n",
    "z2 = 5\n",
    "print ('x1 = ', x1, ' y1 = ', y1, ' z1 = ', z1)\n",
    "print ('x2 = ', x2, ' y2 = ', y2, ' z2 = ', z2)\n",
    "print ('x1/x2 = ',x1/x2,' y1/y2 = ',y1/y2,' z1/z2 = ',z1//z2)\n",
    "print(type(x1))\n",
    "print(type(y1))"
   ]
  },
  {
   "cell_type": "markdown",
   "metadata": {},
   "source": [
    "a. Of the six variables, which are integers?"
   ]
  },
  {
   "cell_type": "markdown",
   "metadata": {},
   "source": [
    "# put your answer here\n",
    "<b><font color=pink>z1 and z2 are the only integers.</font><b>"
   ]
  },
  {
   "cell_type": "markdown",
   "metadata": {},
   "source": [
    "b. What is the difference (in effect) between x1=1.0 and y1=1.?"
   ]
  },
  {
   "cell_type": "markdown",
   "metadata": {},
   "source": [
    "# put your answer here\n",
    "<b><font color=pink> x1= 1.0 is a float and y1=1. is also a float. Python will annex a 0 to 1. to have the same result as 1.0. They are both floats so there is no real difference in how they work </font><b>"
   ]
  },
  {
   "cell_type": "markdown",
   "metadata": {},
   "source": [
    "c. Examine the division results; Why does z1//z2 return a value of 0?"
   ]
  },
  {
   "cell_type": "markdown",
   "metadata": {},
   "source": [
    "# put your answer here\n",
    "<b><font color=pink> It is doing integer division and since z2 doesn't got into z1 evenly at all then it will return zero since its 1//5 means how many times does 5 divide into 1? None, which means it is 0.</font><b>"
   ]
  },
  {
   "cell_type": "markdown",
   "metadata": {},
   "source": [
    "___\n",
    "## Exercise 3\n",
    "\n",
    "Exploring arithmetic. First define three variables a,b, and c."
   ]
  },
  {
   "cell_type": "code",
   "execution_count": 41,
   "metadata": {},
   "outputs": [],
   "source": [
    "# change this cell to CODE to run\n",
    "a = 21\n",
    "b = 10\n",
    "c = 0"
   ]
  },
  {
   "cell_type": "markdown",
   "metadata": {},
   "source": [
    "Then change the cell below to code and run it."
   ]
  },
  {
   "cell_type": "code",
   "execution_count": 42,
   "metadata": {},
   "outputs": [
    {
     "name": "stdout",
     "output_type": "stream",
     "text": [
      "Value of c is  31\n"
     ]
    }
   ],
   "source": [
    "# change this cell to CODE to run\n",
    "c = a + b\n",
    "print (\"Value of c is \", c)"
   ]
  },
  {
   "cell_type": "markdown",
   "metadata": {},
   "source": [
    "Now using the example in the cell above,  exaluate the following expressions in the indicated cells below:"
   ]
  },
  {
   "cell_type": "code",
   "execution_count": 43,
   "metadata": {},
   "outputs": [
    {
     "name": "stdout",
     "output_type": "stream",
     "text": [
      "Value of c is  11\n"
     ]
    }
   ],
   "source": [
    "c = a - b\n",
    "print (\"Value of c is \", c)"
   ]
  },
  {
   "cell_type": "code",
   "execution_count": 44,
   "metadata": {},
   "outputs": [
    {
     "name": "stdout",
     "output_type": "stream",
     "text": [
      "Value of c is  210\n"
     ]
    }
   ],
   "source": [
    "c = a * b\n",
    "print (\"Value of c is \", c)"
   ]
  },
  {
   "cell_type": "code",
   "execution_count": 45,
   "metadata": {},
   "outputs": [
    {
     "name": "stdout",
     "output_type": "stream",
     "text": [
      "Value of c is  2.1\n"
     ]
    }
   ],
   "source": [
    "c = a / b\n",
    "print (\"Value of c is \", c)"
   ]
  },
  {
   "cell_type": "code",
   "execution_count": 46,
   "metadata": {},
   "outputs": [
    {
     "name": "stdout",
     "output_type": "stream",
     "text": [
      "Value of c is  1\n"
     ]
    }
   ],
   "source": [
    "c = a % b\n",
    "print (\"Value of c is \", c)"
   ]
  },
  {
   "cell_type": "code",
   "execution_count": 47,
   "metadata": {},
   "outputs": [
    {
     "name": "stdout",
     "output_type": "stream",
     "text": [
      "Value of c is  8\n"
     ]
    }
   ],
   "source": [
    "#a= 2, b = 3, c = a** b\n",
    "a = 2\n",
    "b = 3\n",
    "c = a ** b\n",
    "print (\"Value of c is \", c)"
   ]
  },
  {
   "cell_type": "code",
   "execution_count": 48,
   "metadata": {},
   "outputs": [
    {
     "name": "stdout",
     "output_type": "stream",
     "text": [
      "Value of c is  2\n"
     ]
    }
   ],
   "source": [
    "#a = 10, b = 5, c = a//b\n",
    "a = 10\n",
    "b = 5\n",
    "c = a//b\n",
    "print (\"Value of c is \", c)"
   ]
  },
  {
   "cell_type": "code",
   "execution_count": null,
   "metadata": {},
   "outputs": [],
   "source": []
  }
 ],
 "metadata": {
  "kernelspec": {
   "display_name": "Python 3",
   "language": "python",
   "name": "python3"
  },
  "language_info": {
   "codemirror_mode": {
    "name": "ipython",
    "version": 3
   },
   "file_extension": ".py",
   "mimetype": "text/x-python",
   "name": "python",
   "nbconvert_exporter": "python",
   "pygments_lexer": "ipython3",
   "version": "3.8.5"
  }
 },
 "nbformat": 4,
 "nbformat_minor": 4
}
