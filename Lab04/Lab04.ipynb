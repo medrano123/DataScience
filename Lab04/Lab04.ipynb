{
 "cells": [
  {
   "cell_type": "markdown",
   "metadata": {},
   "source": [
    "**Download** (right-click, save target as ...) this page as a jupyterlab notebook from: [Lab4](http://54.243.252.9/engr-1330-webroot/8-Labs/Lab04/Lab04.ipynb)\n",
    "\n",
    "___"
   ]
  },
  {
   "cell_type": "markdown",
   "metadata": {},
   "source": [
    "# <font color=darkred>Laboratory 4: Input and Output </font>\n",
    "\n",
    "**Medrano, Giovanni**\n",
    "\n",
    "**R11521018**\n",
    "\n",
    "ENGR 1330 Laboratory 4 - In-Lab\n"
   ]
  },
  {
   "cell_type": "code",
   "execution_count": 36,
   "metadata": {},
   "outputs": [
    {
     "name": "stdout",
     "output_type": "stream",
     "text": [
      "DESKTOP-6HAS1BN\n",
      "desktop-6has1bn\\medra\n",
      "C:\\Users\\medra\\anaconda3\\python.exe\n",
      "3.8.5 (default, Sep  3 2020, 21:29:08) [MSC v.1916 64 bit (AMD64)]\n",
      "sys.version_info(major=3, minor=8, micro=5, releaselevel='final', serial=0)\n"
     ]
    }
   ],
   "source": [
    "# Preamble script block to identify host, user, and kernel\n",
    "\n",
    "import sys\n",
    "! hostname\n",
    "! whoami\n",
    "print(sys.executable)\n",
    "print(sys.version)\n",
    "print(sys.version_info)"
   ]
  },
  {
   "cell_type": "markdown",
   "metadata": {},
   "source": [
    "## Input\n",
    "\n",
    "Useful programs take input and generate output\n",
    "\n",
    "<img src=\"http://54.243.252.9/engr-1330-webroot/8-Labs/Lab04/InNOut.svg.png\" width=\"300\">\n",
    "\n",
    "So here we practice capturing input from the keyboard (most likely) \n",
    "\n",
    "First lets explore the `input()` function"
   ]
  },
  {
   "cell_type": "code",
   "execution_count": 1,
   "metadata": {},
   "outputs": [
    {
     "name": "stdin",
     "output_type": "stream",
     "text": [
      " 35\n"
     ]
    },
    {
     "name": "stdout",
     "output_type": "stream",
     "text": [
      "Data type  =:  <class 'str'>\n",
      "Data value =:  35\n"
     ]
    }
   ],
   "source": [
    "# Case 1 - without a prompt\n",
    "fries=input()\n",
    "print('Data type  =: ',type(fries))\n",
    "print('Data value =: ',fries)"
   ]
  },
  {
   "cell_type": "code",
   "execution_count": 3,
   "metadata": {},
   "outputs": [
    {
     "name": "stdin",
     "output_type": "stream",
     "text": [
      " 35\n"
     ]
    },
    {
     "name": "stdout",
     "output_type": "stream",
     "text": [
      "Data type  =:  <class 'str'>\n",
      "Data value =:  35\n"
     ]
    }
   ],
   "source": [
    "##### Case 2 - without a prompt - force data type\n",
    "fries=input()\n",
    "fries=str(fries) # force into a string\n",
    "print('Data type  =: ',type(fries))\n",
    "print('Data value =: ',fries)"
   ]
  },
  {
   "cell_type": "code",
   "execution_count": 4,
   "metadata": {},
   "outputs": [
    {
     "name": "stdin",
     "output_type": "stream",
     "text": [
      " apple\n"
     ]
    },
    {
     "name": "stdout",
     "output_type": "stream",
     "text": [
      "Data type  =:  <class 'str'>\n",
      "Data value =:  APPLE\n"
     ]
    }
   ],
   "source": [
    "# Case 3 - without a prompt - force data to string, make string all upper case\n",
    "fries=input()\n",
    "fries=str(fries) # force into a string\n",
    "fries=fries.upper()\n",
    "print('Data type  =: ',type(fries))\n",
    "print('Data value =: ',fries)"
   ]
  },
  {
   "cell_type": "markdown",
   "metadata": {},
   "source": [
    "## Exercise \n",
    "\n",
    "Modify Case 3 to make the **fries** numeric (integer or float), then run the script to validate the modification"
   ]
  },
  {
   "cell_type": "code",
   "execution_count": 5,
   "metadata": {},
   "outputs": [
    {
     "name": "stdin",
     "output_type": "stream",
     "text": [
      " 311\n"
     ]
    },
    {
     "name": "stdout",
     "output_type": "stream",
     "text": [
      "Data type  =:  <class 'int'>\n",
      "Data value =:  311\n"
     ]
    }
   ],
   "source": [
    "# Case 3 - without a prompt - force data to string, make string all upper case\n",
    "fries=input()\n",
    "fries=str(fries) # force into a string\n",
    "fries=fries.upper()\n",
    "fries=int(fries)\n",
    "print('Data type  =: ',type(fries))\n",
    "print('Data value =: ',fries)"
   ]
  },
  {
   "cell_type": "markdown",
   "metadata": {},
   "source": [
    "## About the prompt\n",
    "\n",
    "It is a good idea to tell the user what to input. \n",
    "You can do this by putting the hint in quotes inside the input parentheses. \n",
    "The hint will come in the next line and will wait for the user input. \n",
    "You can then type the input and when you hit the ENTER key, it will capture the input. \n",
    "\n",
    "In this example, \"tell me a beautiful number\" is the hint. \n",
    "This gets printed in the next line when asking for the input. If you type 6, this will be assigned to the variable beautiful_number which we can print later."
   ]
  },
  {
   "cell_type": "code",
   "execution_count": 6,
   "metadata": {},
   "outputs": [
    {
     "name": "stdin",
     "output_type": "stream",
     "text": [
      "tell me a beautiful number  6\n"
     ]
    },
    {
     "name": "stdout",
     "output_type": "stream",
     "text": [
      "6\n"
     ]
    }
   ],
   "source": [
    "# Example\n",
    "beautiful_number = input(\"tell me a beautiful number \")\n",
    "print(beautiful_number)"
   ]
  },
  {
   "cell_type": "code",
   "execution_count": 7,
   "metadata": {},
   "outputs": [
    {
     "name": "stdin",
     "output_type": "stream",
     "text": [
      "Would you like fries with that? Enter Y or N Y\n"
     ]
    },
    {
     "name": "stdout",
     "output_type": "stream",
     "text": [
      "Data type  =:  <class 'str'>\n",
      "Data value =:  Y\n"
     ]
    }
   ],
   "source": [
    "# Case 1 - with a prompt\n",
    "fries=input('Would you like fries with that? Enter Y or N')\n",
    "print('Data type  =: ',type(fries))\n",
    "print('Data value =: ',fries)"
   ]
  },
  {
   "cell_type": "code",
   "execution_count": 8,
   "metadata": {},
   "outputs": [
    {
     "name": "stdin",
     "output_type": "stream",
     "text": [
      "Would you like fries with that? Enter Y or N n\n"
     ]
    },
    {
     "name": "stdout",
     "output_type": "stream",
     "text": [
      "Data type  =:  <class 'str'>\n",
      "Data value =:  N\n"
     ]
    }
   ],
   "source": [
    "# Case 3 - with a prompt - force data to string, make string all upper case\n",
    "fries=input('Would you like fries with that? Enter Y or N')\n",
    "fries=str(fries) # force into a string\n",
    "fries=fries.upper() # force to upper\n",
    "print('Data type  =: ',type(fries))\n",
    "print('Data value =: ',fries)"
   ]
  },
  {
   "cell_type": "markdown",
   "metadata": {},
   "source": [
    "The prompt can be any string variable"
   ]
  },
  {
   "cell_type": "code",
   "execution_count": 9,
   "metadata": {},
   "outputs": [
    {
     "name": "stdin",
     "output_type": "stream",
     "text": [
      "Would you like fries with that? Y or N n\n"
     ]
    },
    {
     "name": "stdout",
     "output_type": "stream",
     "text": [
      "Data type  =:  <class 'str'>\n",
      "Data value =:  N\n"
     ]
    }
   ],
   "source": [
    "response = 'Would you like fries with that? Y or N'\n",
    "fries=input(response)\n",
    "fries=str(fries) # force into a string\n",
    "fries=fries.upper() # force to upper\n",
    "print('Data type  =: ',type(fries))\n",
    "print('Data value =: ',fries)"
   ]
  },
  {
   "cell_type": "markdown",
   "metadata": {},
   "source": [
    "<img src=\"http://54.243.252.9/engr-1330-webroot/8-Labs/Lab04/cyberdyne101-pov.png\" width=\"300\">\n",
    "\n",
    "Or the prompt can be drawn from a list of prompts like in the Cyberdyne 101 shown above in its remote desktop mode \n",
    "(from [Terminator (1985) approximately at timestamp 1:14:07](https://www.youtube.com/watch?v=s7_qI6_mIXc))\n",
    "\n",
    "Below the script might look something like (remember the terminator is responding to an input from the apartment super, and is responding).\n",
    "The point of the example is that the prompt in the `input()` function can be drawn from a list rather than retyping each use."
   ]
  },
  {
   "cell_type": "code",
   "execution_count": 10,
   "metadata": {},
   "outputs": [
    {
     "name": "stdin",
     "output_type": "stream",
     "text": [
      "PLEASE COME BACK LATER ok\n"
     ]
    },
    {
     "name": "stdout",
     "output_type": "stream",
     "text": [
      "ok\n"
     ]
    }
   ],
   "source": [
    "#Cyberdyne 101 \n",
    "prompt = ['YES','NO','OR WHAT?','GO AWAY','PLEASE COME BACK LATER','placeholder','placeholder']\n",
    "mystring = input(prompt[4])\n",
    "print(mystring)"
   ]
  },
  {
   "cell_type": "markdown",
   "metadata": {},
   "source": [
    "## Exercise\n",
    "\n",
    "Run the script below a few times.  It should output a randomly selected integer from 0 to 6.  Then copy the Cyberdyne prompt list above to the location shown, replace the last two placeholder strings with the responses from the movie (in the image above).  Then run the script 6 times; how many times does the terminator respond with your replacements for the placeholders?"
   ]
  },
  {
   "cell_type": "code",
   "execution_count": 11,
   "metadata": {},
   "outputs": [
    {
     "name": "stdin",
     "output_type": "stream",
     "text": [
      "NO rent is due\n"
     ]
    },
    {
     "name": "stdout",
     "output_type": "stream",
     "text": [
      "rent is due\n"
     ]
    }
   ],
   "source": [
    "import random\n",
    "low = 0 ; high = 6\n",
    "rand = random.randrange(low,high) #generate random number in range low to high\n",
    "myprompt= prompt[rand]\n",
    "# copy cyberdyne prompt=[...] here\n",
    "# print prompt element as determined by myprompt chosen at random\n",
    "mystring = input(myprompt)\n",
    "print(mystring)"
   ]
  },
  {
   "cell_type": "markdown",
   "metadata": {},
   "source": [
    "## Example.  Suggestive Sell!\n",
    "\n",
    "Suppose we are building an automated food service program.  If you recall from real life, that when you complete your order the cashier always asks \"would you like fries with that?\"\n",
    "\n",
    "Well lets script the interaction, and get either a yes or no answer from the customer."
   ]
  },
  {
   "cell_type": "code",
   "execution_count": 12,
   "metadata": {},
   "outputs": [
    {
     "name": "stdout",
     "output_type": "stream",
     "text": [
      "Thank you for your order\n"
     ]
    },
    {
     "name": "stdin",
     "output_type": "stream",
     "text": [
      "Would you like fries with that too? (Y or N) go away\n"
     ]
    },
    {
     "name": "stdout",
     "output_type": "stream",
     "text": [
      "You did not enter a Y or N, I can't take this ambiguity, I quit\n"
     ]
    }
   ],
   "source": [
    "statements = ['Thank you for your order','Would you like fries with that too? (Y or N)',\n",
    "'Excellent, I\\'ll add them to your order, Have a nice day!',\n",
    "'Are you sure? They are really yummy (Y or N)',\n",
    "'Ok, no fries!  \\nHave a nice day cheapskate',\n",
    "'You did not enter a Y or N, I can\\'t take this ambiguity, I quit']\n",
    "print(statements[0])\n",
    "fries = str(input(statements[1])).upper() # input with prompt, typecast into string, force uppercase\n",
    "# selection\n",
    "if fries == 'Y':\n",
    "    print(statements[2])\n",
    "elif fries == 'N':\n",
    "    print(statements[3])\n",
    "    fries = str(input(statements[1])).upper() # input with prompt, typecast into string, force uppercase\n",
    "    if fries == 'Y':\n",
    "        print(statements[2])\n",
    "    elif fries == 'N':\n",
    "        print(statements[4])\n",
    "else:\n",
    "    print(statements[5])\n",
    "    "
   ]
  },
  {
   "cell_type": "markdown",
   "metadata": {},
   "source": [
    "In these examples we don't operate on the input much, however lets conclude the beautiful number example, and do something with it"
   ]
  },
  {
   "cell_type": "code",
   "execution_count": 13,
   "metadata": {},
   "outputs": [
    {
     "name": "stdin",
     "output_type": "stream",
     "text": [
      "tell me a beautiful number  3\n"
     ]
    },
    {
     "name": "stdout",
     "output_type": "stream",
     "text": [
      "The beautiful number 3.000 squared is 9.00000\n"
     ]
    }
   ],
   "source": [
    "# Example\n",
    "beautiful_number = input(\"tell me a beautiful number \")\n",
    "beautiful_number = float(beautiful_number)\n",
    "print('The beautiful number %.3f squared is %.5f' %(beautiful_number,beautiful_number*beautiful_number))"
   ]
  },
  {
   "cell_type": "markdown",
   "metadata": {},
   "source": [
    "## Exercise/Discussion\n",
    "\n",
    "How could you approximate the square root using just the tool (script) above?\n",
    "\n",
    "Try it for:\n",
    "\n",
    "- 100\n",
    "- 4\n",
    "- 2\n",
    "- 204.490\n",
    "\n"
   ]
  },
  {
   "cell_type": "code",
   "execution_count": 14,
   "metadata": {},
   "outputs": [
    {
     "name": "stdin",
     "output_type": "stream",
     "text": [
      "input a number as a guess for square root 14.3\n"
     ]
    },
    {
     "name": "stdout",
     "output_type": "stream",
     "text": [
      "Your beautiful number 14.300 squared is 204.490\n"
     ]
    }
   ],
   "source": [
    "# Discuss ideas, then implement a brute force approach\n",
    "myNumber = input(\"input a number as a guess for square root\")\n",
    "myNumber = float(myNumber )\n",
    "print('Your beautiful number %.3f squared is %.3f' %(myNumber, myNumber*myNumber))"
   ]
  },
  {
   "cell_type": "markdown",
   "metadata": {},
   "source": [
    "## About Output\n",
    "Later on we will learn about printing to a file (here we use the word print as a surrogate for output, not necessarily actually printing something); the remainder of this lab explores some of the necessary ideas involved in output\n",
    "\n",
    "We have already examined and played with \"Hello World\" as shown below - but I added some interaction."
   ]
  },
  {
   "cell_type": "code",
   "execution_count": 15,
   "metadata": {},
   "outputs": [
    {
     "name": "stdin",
     "output_type": "stream",
     "text": [
      "What is your name? bender\n"
     ]
    },
    {
     "name": "stdout",
     "output_type": "stream",
     "text": [
      "Hello,  bender\n"
     ]
    }
   ],
   "source": [
    "name = input(\"What is your name?\")\n",
    "print(\"Hello, \",name)"
   ]
  },
  {
   "cell_type": "markdown",
   "metadata": {},
   "source": [
    "We can also output values from a list such as"
   ]
  },
  {
   "cell_type": "code",
   "execution_count": 16,
   "metadata": {},
   "outputs": [
    {
     "name": "stdout",
     "output_type": "stream",
     "text": [
      "YES\n",
      "NO\n",
      "OR WHAT?\n",
      "GO AWAY\n"
     ]
    }
   ],
   "source": [
    "prompt = ['YES','NO','OR WHAT?','GO AWAY','PLEASE COME BACK LATER','placeholder','placeholder']\n",
    "print(prompt[0])\n",
    "print(prompt[1])\n",
    "print(prompt[2])\n",
    "print(prompt[3])"
   ]
  },
  {
   "cell_type": "markdown",
   "metadata": {},
   "source": [
    "Or the list can be numeric"
   ]
  },
  {
   "cell_type": "code",
   "execution_count": 17,
   "metadata": {},
   "outputs": [
    {
     "name": "stdout",
     "output_type": "stream",
     "text": [
      "[0, 1, 2, 3, 4, 5]\n",
      "<class 'list'>\n"
     ]
    }
   ],
   "source": [
    "numblist = [0,1,2,3,4,5]\n",
    "print(numblist)\n",
    "print(type(numblist[:]))"
   ]
  },
  {
   "cell_type": "markdown",
   "metadata": {},
   "source": [
    "Print blank lines by using the *newline* symbol, which is `\\n`.\n"
   ]
  },
  {
   "cell_type": "code",
   "execution_count": 18,
   "metadata": {},
   "outputs": [
    {
     "name": "stdout",
     "output_type": "stream",
     "text": [
      "\n",
      "\n",
      "\n",
      "\n",
      "\ttab\n",
      "\n",
      "\n",
      "\n",
      "\n",
      "\n"
     ]
    }
   ],
   "source": [
    "print (\"\\n\\n\\n\\n\\ttab\\n\\n\\n\\n\\n\")"
   ]
  },
  {
   "cell_type": "markdown",
   "metadata": {},
   "source": [
    "## Example \n",
    "Let's build a script thats asks the users name, then says hello. Skips 8 lines and identify ourself as Cyberdyne Terminator Model 101.\n",
    "\n",
    "The work flow is nothing more than\n",
    "\n",
    "- Prompt for a name\n",
    "- Echo the name\n",
    "- Add 8 blank lines\n",
    "- Identify as Cyberdyne\n",
    "\n",
    "Using the bullet list as our structure generator we can start with"
   ]
  },
  {
   "cell_type": "code",
   "execution_count": null,
   "metadata": {},
   "outputs": [],
   "source": [
    "# - Prompt for a name\n",
    "# - Echo the name\n",
    "# - Add 8 blank lines\n",
    "# - Identify as Cyberdyne"
   ]
  },
  {
   "cell_type": "markdown",
   "metadata": {},
   "source": [
    "Now copy-paste our prompt example"
   ]
  },
  {
   "cell_type": "code",
   "execution_count": 19,
   "metadata": {},
   "outputs": [
    {
     "name": "stdin",
     "output_type": "stream",
     "text": [
      "What is your name? gio\n"
     ]
    },
    {
     "name": "stdout",
     "output_type": "stream",
     "text": [
      "Hello,  gio\n"
     ]
    }
   ],
   "source": [
    "# - Prompt for a name\n",
    "name = input(\"What is your name?\")\n",
    "# - Echo the name\n",
    "print(\"Hello, \",name)\n",
    "# - Add 8 blank lines\n",
    "# - Identify as Cyberdyne"
   ]
  },
  {
   "cell_type": "markdown",
   "metadata": {},
   "source": [
    "Next lets print 8 linefeeds"
   ]
  },
  {
   "cell_type": "code",
   "execution_count": 20,
   "metadata": {},
   "outputs": [
    {
     "name": "stdin",
     "output_type": "stream",
     "text": [
      "What is your name? gio\n"
     ]
    },
    {
     "name": "stdout",
     "output_type": "stream",
     "text": [
      "Hello,  gio\n",
      "\n",
      "\n",
      "\n",
      "\n",
      "\n",
      "\n",
      "\n",
      "\n",
      "\n",
      "\n"
     ]
    }
   ],
   "source": [
    "# - Prompt for a name\n",
    "name = input(\"What is your name?\")\n",
    "# - Echo the name\n",
    "print(\"Hello, \",name)\n",
    "# - Add 8 blank lines\n",
    "print (\"\\n\\n\\n\\n\\n\\n\\n\\n\\n\")\n",
    "# - Identify as Cyberdyne"
   ]
  },
  {
   "cell_type": "markdown",
   "metadata": {},
   "source": [
    "Now we add our response."
   ]
  },
  {
   "cell_type": "code",
   "execution_count": 21,
   "metadata": {},
   "outputs": [
    {
     "name": "stdin",
     "output_type": "stream",
     "text": [
      "What is your name? Giovanni\n"
     ]
    },
    {
     "name": "stdout",
     "output_type": "stream",
     "text": [
      "Hello,  Giovanni\n",
      "\n",
      "\n",
      "\n",
      "\n",
      "\n",
      "\n",
      "\n",
      "\n",
      "\n",
      "\n",
      "My name is Bender, I am a Cyberdyne Terminator Model 101 \n",
      "disguised as a bending robot, my favorite beverage is Alby Bock,\n",
      "Have you seen any living humans around here? death to all humans!\n"
     ]
    }
   ],
   "source": [
    "# - Prompt for a name\n",
    "name = input(\"What is your name?\")\n",
    "# - Echo the name\n",
    "print(\"Hello, \",name)\n",
    "# - Add 8 blank lines\n",
    "print (\"\\n\\n\\n\\n\\n\\n\\n\\n\\n\")\n",
    "# - Identify as Cyberdyne\n",
    "print('''My name is Bender, I am a Cyberdyne Terminator Model 101 \n",
    "disguised as a bending robot, my favorite beverage is Alby Bock,\n",
    "Have you seen any living humans around here? death to all humans!''' )"
   ]
  },
  {
   "cell_type": "markdown",
   "metadata": {},
   "source": [
    "Notice the step-by-step build of the script; obviously you dont need to copy and paste so many cells, but here we want to be overly anal as we learn the JupyterLab environment."
   ]
  },
  {
   "cell_type": "markdown",
   "metadata": {},
   "source": [
    "## Formatting the output\n",
    "In the lecture we learned about formatting using the **%** operator and the **format()** method.  They are roughly the same, I think the **%** approach is a little easier to read when maintaining scripts, but you may decide otherwise.\n",
    "\n",
    "As an example we can combine the Terminator example and beautiful number example."
   ]
  },
  {
   "cell_type": "code",
   "execution_count": 22,
   "metadata": {},
   "outputs": [
    {
     "name": "stdin",
     "output_type": "stream",
     "text": [
      "What is your name? Giovanni\n"
     ]
    },
    {
     "name": "stdout",
     "output_type": "stream",
     "text": [
      "Hello Giovanni My name is Bender, \n",
      " I am a Cyberdyne Terminator Model 101 \n",
      "disguised as a bending robot, \n",
      " my favorite beverage is Alby Bock,\n",
      "Have you seen any living humans around here? death to all humans!\n"
     ]
    },
    {
     "name": "stdin",
     "output_type": "stream",
     "text": [
      "So Giovanni tell me a beautiful number  15\n"
     ]
    },
    {
     "name": "stdout",
     "output_type": "stream",
     "text": [
      "The beautiful number 15.000 squared is 225.000\n"
     ]
    }
   ],
   "source": [
    "# - Prompt for a name\n",
    "name = input(\"What is your name?\")\n",
    "# - Identify as Cyberdyne\n",
    "print('''Hello %s My name is Bender, \\n I am a Cyberdyne Terminator Model 101 \n",
    "disguised as a bending robot, \\n my favorite beverage is Alby Bock,\n",
    "Have you seen any living humans around here? death to all humans!''' %(name) )\n",
    "beautiful_number = input(\"So %s tell me a beautiful number \" %(name))\n",
    "beautiful_number = float(beautiful_number)\n",
    "print('The beautiful number %.3f squared is %.3f' %(beautiful_number,beautiful_number*beautiful_number))"
   ]
  },
  {
   "cell_type": "markdown",
   "metadata": {},
   "source": [
    "### About ending the line\n",
    "\n",
    "By default, print function in Python ends with a newline. This function comes with a parameter called 'end.' The default value of this parameter is `\\n` , i.e., the new line character. You can end a print statement with any character or string using this parameter, but you have to specify in the print statement.  "
   ]
  },
  {
   "cell_type": "code",
   "execution_count": 23,
   "metadata": {},
   "outputs": [
    {
     "name": "stdout",
     "output_type": "stream",
     "text": [
      "Welcome to Bender's world!"
     ]
    }
   ],
   "source": [
    "print (\"Welcome to\", end = ' ') # ends with a null character, so NO LINEFEED\n",
    "print (\"Bender's world\", end = '!')"
   ]
  },
  {
   "cell_type": "markdown",
   "metadata": {},
   "source": [
    "# Exercise\n",
    "\n",
    "Explore the %.3f format code above, what happens if you change the numeric part of the format code?"
   ]
  },
  {
   "cell_type": "markdown",
   "metadata": {},
   "source": [
    "the number of decimal places changes."
   ]
  },
  {
   "cell_type": "code",
   "execution_count": null,
   "metadata": {},
   "outputs": [],
   "source": []
  }
 ],
 "metadata": {
  "kernelspec": {
   "display_name": "Python 3",
   "language": "python",
   "name": "python3"
  },
  "language_info": {
   "codemirror_mode": {
    "name": "ipython",
    "version": 3
   },
   "file_extension": ".py",
   "mimetype": "text/x-python",
   "name": "python",
   "nbconvert_exporter": "python",
   "pygments_lexer": "ipython3",
   "version": "3.8.5"
  }
 },
 "nbformat": 4,
 "nbformat_minor": 4
}
