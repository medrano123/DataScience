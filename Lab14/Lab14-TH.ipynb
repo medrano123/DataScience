{
 "cells": [
  {
   "cell_type": "markdown",
   "metadata": {},
   "source": [
    "**Download** (right-click, save target as ...) this page as a jupyterlab notebook from: [Lab14-TH](http://54.243.252.9/engr-1330-webroot/8-Labs/Lab14/Lab14-TH.ipynb)\n",
    "\n",
    "___"
   ]
  },
  {
   "cell_type": "markdown",
   "metadata": {},
   "source": [
    "# <font color=green>Exercise 14: Data Models and Plotting </font>\n",
    "\n",
    "**Medrano, Giovanni**\n",
    "\n",
    "**R11521018**\n",
    "\n",
    "ENGR 1330 ES-14 - Homework\n"
   ]
  },
  {
   "cell_type": "markdown",
   "metadata": {},
   "source": [
    "## Exercise 0: Profile your computer"
   ]
  },
  {
   "cell_type": "code",
   "execution_count": 34,
   "metadata": {},
   "outputs": [
    {
     "name": "stdout",
     "output_type": "stream",
     "text": [
      "DESKTOP-6HAS1BN\n",
      "desktop-6has1bn\\medra\n",
      "C:\\Users\\medra\\anaconda3\\python.exe\n",
      "3.8.5 (default, Sep  3 2020, 21:29:08) [MSC v.1916 64 bit (AMD64)]\n",
      "sys.version_info(major=3, minor=8, micro=5, releaselevel='final', serial=0)\n"
     ]
    }
   ],
   "source": [
    "# Preamble script block to identify host, user, and kernel\n",
    "import sys\n",
    "! hostname\n",
    "! whoami\n",
    "print(sys.executable)\n",
    "print(sys.version)\n",
    "print(sys.version_info)"
   ]
  },
  {
   "cell_type": "markdown",
   "metadata": {},
   "source": [
    "## Exercise 1: Data Modeling by Trial-and-Error\n",
    "\n",
    "### Background\n",
    "Most drugs have therapeutic benefits when the drug is above a “therapeutic threshold” but toxic side effects above a “toxic threshold”. Dosing protocols are intended to maintain the level of the drug in the patient’s blood within a “therapeutic window” that between these two thresholds. Using mathematical models helps an engineer optimize the drug design so the entire delivery process is as efficient as possible and localized drug concentrations are kept within a therapeutic window.  Here you will test some mathematical models for just one part of this process - an in vitro experiment of drug release from a nanoparticle. (“Nanosystems for Simultaneous Imaging and Drug Delivery to T Cells”, by Fahmy et al, AAPS Journal, 2007 vol 9.). The experimental results are listed below\n",
    "\n",
    "\n",
    "|Time(Days) | $\\mu$-grams released|\n",
    "|---|---|\n",
    "|0 |2.5|\n",
    "|0.25|3.6|\n",
    "|0.5|5.3|\n",
    "|1|9.5|\n",
    "|2|14.0|\n",
    "|3|16.5|\n",
    "|4|18.8|\n",
    "|5|21.5|\n",
    "|6|23.2|\n",
    "|8|26.8|\n",
    "|10|28.4|\n",
    "\n",
    "1. Plot the drug release data with time on the horizontal axis, and mass released on the vertical axis. Use red circles as the marker.  \n",
    "\n",
    "2. Create and plot a linear data model using a blue curve for the model. $\\mu g_{release} = \\beta_0 + \\beta_1 \\cdot t_{days}$ \n",
    "\n",
    "3. Create a list of prediction error; produce a histogram of these errors (called residuals).\n",
    "\n",
    "4. Compute the sum of the squares of all of the residuals. "
   ]
  },
  {
   "cell_type": "code",
   "execution_count": 10,
   "metadata": {},
   "outputs": [
    {
     "data": {
      "image/png": "[encoded data removed]",
      "text/plain": [
       "<Figure size 720x360 with 1 Axes>"
      ]
     },
     "metadata": {
      "needs_background": "light"
     },
     "output_type": "display_data"
    }
   ],
   "source": [
    "# code here\n",
    "import matplotlib.pyplot as plt\n",
    "time = [0, .25, .5, 1, 2, 3, 4, 5, 6, 8, 10]\n",
    "u = [2.5, 3.6, 5.3, 9.5, 12, 16.5, 18.8, 21.5, 23.2, 26.8, 28.4]\n",
    "# plotting function\n",
    "def make2plot(listx1,listy1,xlable, ylable,title):\n",
    "    mydata = plt.figure(figsize = (10,5)) # build a square drawing canvass from figure class\n",
    "    plt.plot(listx1,listy1, c='red', marker='o',linewidth=0) # basic data plot\n",
    "    plt.xlabel(xlable)\n",
    "    plt.ylabel(ylable)\n",
    "    plt.legend(['u-grams Released as time progresses','Model'])# modify for argument insertion\n",
    "    plt.title(title)\n",
    "    plt.show()\n",
    "    return\n",
    "make2plot(time, u,'Time','Mass Released','Time vs Mass Released')\n",
    "\n",
    "# sum_of_squares"
   ]
  },
  {
   "cell_type": "code",
   "execution_count": 16,
   "metadata": {},
   "outputs": [
    {
     "name": "stdin",
     "output_type": "stream",
     "text": [
      "Enter b0 value .05\n",
      "Enter b1 value 1\n"
     ]
    },
    {
     "data": {
      "image/png": "[encoded data removed]",
      "text/plain": [
       "<Figure size 720x360 with 1 Axes>"
      ]
     },
     "metadata": {
      "needs_background": "light"
     },
     "output_type": "display_data"
    }
   ],
   "source": [
    "# linear model function\n",
    "def make2plot(listx1,listy1,listx2,listy2,strlablx,strlably,strtitle):\n",
    "    mydata = plt.figure(figsize = (10,5)) # build a square drawing canvass from figure class\n",
    "    plt.plot(listx1,listy1, c='red', marker='o',linewidth=0) # basic data plot\n",
    "    plt.plot(listx2,listy2, c='blue',linewidth=1) # basic model plot\n",
    "    plt.xlabel(strlablx)\n",
    "    plt.ylabel(strlably)\n",
    "    plt.legend(['Observations','Model'])# modify for argument insertion\n",
    "    plt.title(strtitle)\n",
    "    plt.show()\n",
    "    return\n",
    "\n",
    "def linear(b0,b1,x):\n",
    "    linear=b0+b1*x \n",
    "    return(linear)\n",
    "xtable = [0, .25, .5, 1, 2, 3, 4, 5, 6, 8, 10]\n",
    "ytable = [2.5, 3.6, 5.3, 9.5, 12, 16.5, 18.8, 21.5, 23.2, 26.8, 28.4]\n",
    "\n",
    "intercept=float(input('Enter b0 value'))\n",
    "slope=float(input('Enter b1 value'))\n",
    "# build a data model\n",
    "modelYYY = [] # empty list\n",
    "for i in range(len(xtable)):\n",
    "    modelYYY.append(linear(intercept,slope,xtable[i]))\n",
    "# Plotting results\n",
    "make2plot(xtable,ytable,xtable,modelYYY,'time (sec.)','Mass Released','Plot of model and observations')"
   ]
  },
  {
   "cell_type": "code",
   "execution_count": 33,
   "metadata": {},
   "outputs": [
    {
     "name": "stdout",
     "output_type": "stream",
     "text": [
      "127.79999999999998\n",
      "---------------\n",
      "6.002500000000001\n",
      "10.890000000000002\n",
      "22.5625\n",
      "71.40249999999999\n",
      "99.00249999999998\n",
      "180.90249999999997\n",
      "217.5625\n",
      "270.60249999999996\n",
      "294.12249999999995\n",
      "351.5625\n",
      "336.7224999999999\n",
      "---------------\n",
      "1861.3349999999996\n",
      "================\n",
      "[2.45, 3.3000000000000003, 4.75, 8.45, 9.95, 13.45, 14.75, 16.45, 17.15, 18.75, 18.349999999999998]\n"
     ]
    },
    {
     "data": {
      "image/png": "[encoded data removed]",
      "text/plain": [
       "<Figure size 432x288 with 1 Axes>"
      ]
     },
     "metadata": {
      "needs_background": "light"
     },
     "output_type": "display_data"
    }
   ],
   "source": [
    "# supply data\n",
    "def residue(list1,list2,list3):\n",
    "    if len(list1)!=len(list2) or len(list1)!=len(list3):\n",
    "        print('Lists unequal length, undefined operations')\n",
    "        return\n",
    "    for i in range(len(list1)):\n",
    "        list3[i]=list1[i]-list2[i]\n",
    "    return(list3)\n",
    "\n",
    "resids = [0 for i in range(len(xtable))] # empty list\n",
    "residue(ytable,modelYYY,resids)\n",
    "obs = []\n",
    "print(sum(resids))\n",
    "print(\"---------------\")\n",
    "for i in range(len(resids)):\n",
    "    obs.append(resids[i])\n",
    "    resids[i]=resids[i]**2\n",
    "    print(resids[i])\n",
    "print(\"---------------\")\n",
    "print(sum(resids))\n",
    "print('================')\n",
    "# build lists of observation\n",
    "# build lists of model\n",
    "# plot\n",
    "# creating the bar plot \n",
    "print(obs)\n",
    "plt.bar(obs,500, color ='maroon',  \n",
    "        width = .9) \n",
    "  \n",
    "plt.xlabel(\"B0 and B1\") \n",
    "plt.ylabel('Residual') \n",
    "plt.title(\"Histogram of residuals\") \n",
    "plt.show() \n",
    "# prediction residuals"
   ]
  },
  {
   "cell_type": "code",
   "execution_count": 36,
   "metadata": {},
   "outputs": [
    {
     "name": "stdout",
     "output_type": "stream",
     "text": [
      "[2.45, 3.3000000000000003, 4.75, 8.45, 9.95, 13.45, 14.75, 16.45, 17.15, 18.75, 18.349999999999998]\n"
     ]
    },
    {
     "data": {
      "text/plain": [
       "1861.3349999999996"
      ]
     },
     "execution_count": 36,
     "metadata": {},
     "output_type": "execute_result"
    }
   ],
   "source": [
    "# sum of squares\n",
    "import numpy as np\n",
    "print(obs)\n",
    "a = np.array(obs)\n",
    "np.sum(a**2)"
   ]
  },
  {
   "cell_type": "markdown",
   "metadata": {},
   "source": [
    "## Exercise-2: Examine a different model\n",
    "\n",
    "Using the drug release data, repeat your analysis using a 2-nd order polynomial data model \n",
    "\n",
    "$\\mu g_{release} = \\beta_0 + \\beta_1 \\cdot t_{days} + \\beta_2 \\cdot t_{days}^2 $ \n",
    "\n",
    "1. Perform your trial-and-error fit for this model. Report the sum of square of residuals of your fitted data model.\n"
   ]
  },
  {
   "cell_type": "code",
   "execution_count": 46,
   "metadata": {},
   "outputs": [
    {
     "name": "stdin",
     "output_type": "stream",
     "text": [
      "Enter b0 value 0\n",
      "Enter b1 value 1.75\n",
      "Enter b2 value .2\n"
     ]
    },
    {
     "data": {
      "image/png": "[encoded data removed]",
      "text/plain": [
       "<Figure size 720x360 with 1 Axes>"
      ]
     },
     "metadata": {
      "needs_background": "light"
     },
     "output_type": "display_data"
    }
   ],
   "source": [
    "# code here\n",
    "# quadratic model function\n",
    "def make2plot(listx1,listy1,listx2,listy2,strlablx,strlably,strtitle):\n",
    "    mydata = plt.figure(figsize = (10,5)) # build a square drawing canvass from figure class\n",
    "    plt.plot(listx1,listy1, c='red', marker='v',linewidth=0) # basic data plot\n",
    "    plt.plot(listx2,listy2, c='blue',linewidth=1) # basic model plot\n",
    "    plt.xlabel(strlablx)\n",
    "    plt.ylabel(strlably)\n",
    "    plt.legend(['Observations','Model'])# modify for argument insertion\n",
    "    plt.title(strtitle)\n",
    "    plt.show()\n",
    "    return\n",
    "\n",
    "def quadratic(b0,b1,b2,x):\n",
    "\n",
    "    quadratic=b0+b1*x+b2*x**2\n",
    "    return(quadratic)  \n",
    "\n",
    "# Fit a data model - quadratic model\n",
    "intercept=float(input('Enter b0 value'))\n",
    "slope=float(input('Enter b1 value'))\n",
    "curvature = float(input('Enter b2 value'))\n",
    "# build a data model\n",
    "modelYYY = [] # empty list\n",
    "for i in range(len(xtable)):\n",
    "    modelYYY.append(quadratic(intercept,slope,curvature,xtable[i]))\n",
    "# Plotting results\n",
    "make2plot(xtable,ytable,xtable,modelYYY,'time (sec.)','Mass Released','Plot of model and observations')\n",
    "\n",
    "\n"
   ]
  },
  {
   "cell_type": "code",
   "execution_count": 48,
   "metadata": {},
   "outputs": [
    {
     "name": "stdout",
     "output_type": "stream",
     "text": [
      "47.474999999999994\n",
      "487.990625\n",
      "[2.5, 3.15, 4.375, 7.55, 7.7, 9.45, 8.600000000000001, 7.75, 5.5, 0.0, -9.100000000000001]\n"
     ]
    }
   ],
   "source": [
    "# get the residues\n",
    "obs = []\n",
    "resids = [0 for i in range(len(xtable))] # empty list\n",
    "residue(ytable,modelYYY,resids)\n",
    "print(sum(resids))\n",
    "for i in range(len(resids)):\n",
    "    obs.append(resids[i])\n",
    "\n",
    "    resids[i]=resids[i]**2\n",
    "print(sum(resids))\n",
    "#print(obs)"
   ]
  },
  {
   "cell_type": "code",
   "execution_count": 49,
   "metadata": {},
   "outputs": [
    {
     "name": "stdout",
     "output_type": "stream",
     "text": [
      "[2.5, 3.15, 4.375, 7.55, 7.7, 9.45, 8.600000000000001, 7.75, 5.5, 0.0, -9.100000000000001]\n",
      "The sum of squares is below.\n"
     ]
    },
    {
     "data": {
      "text/plain": [
       "487.990625"
      ]
     },
     "execution_count": 49,
     "metadata": {},
     "output_type": "execute_result"
    }
   ],
   "source": [
    "# sum_of_squares\n",
    "import numpy as np\n",
    "print(obs)\n",
    "a = np.array(obs)\n",
    "print('The sum of squares is below.')\n",
    "np.sum(a**2)"
   ]
  },
  {
   "cell_type": "markdown",
   "metadata": {},
   "source": [
    "## Exercise-3: Examine a different model\n",
    "\n",
    "Using the drug release data, repeat your analysis using a 3-rd order polynomial data model \n",
    "\n",
    "$\\mu g_{release} = \\beta_0 + \\beta_1 \\cdot t_{days} + \\beta_2 \\cdot t_{days}^2 + \\beta_3 \\cdot t_{days}^3$ \n",
    "\n",
    "1. Perform your trial-and-error fit. Report the sum of square of residuals of your fitted data model.\n",
    "\n",
    "2. What is the order of the polynomial that gives the best fit in terms of the lowest sum of square of residuals? "
   ]
  },
  {
   "cell_type": "code",
   "execution_count": 55,
   "metadata": {},
   "outputs": [
    {
     "name": "stdin",
     "output_type": "stream",
     "text": [
      "Enter b0 value 0\n",
      "Enter b1 value 1.75\n",
      "Enter b2 value .2\n",
      "Enter b3 value .01\n"
     ]
    },
    {
     "data": {
      "image/png": "[encoded data removed]",
      "text/plain": [
       "<Figure size 720x360 with 1 Axes>"
      ]
     },
     "metadata": {
      "needs_background": "light"
     },
     "output_type": "display_data"
    }
   ],
   "source": [
    "# code here\n",
    "# quadratic model function\n",
    "def make2plot(listx1,listy1,listx2,listy2,strlablx,strlably,strtitle):\n",
    "    mydata = plt.figure(figsize = (10,5)) # build a square drawing canvass from figure class\n",
    "    plt.plot(listx1,listy1, c='red', marker='v',linewidth=0) # basic data plot\n",
    "    plt.plot(listx2,listy2, c='blue',linewidth=1) # basic model plot\n",
    "    plt.xlabel(strlablx)\n",
    "    plt.ylabel(strlably)\n",
    "    plt.legend(['Observations','Model'])# modify for argument insertion\n",
    "    plt.title(strtitle)\n",
    "    plt.show()\n",
    "    return\n",
    "\n",
    "def quadratic(b0,b1,b2,b3,x):\n",
    "\n",
    "    quadratic=b0+b1*x+b2*x**2+b3*x**3\n",
    "    return(quadratic)  \n",
    "\n",
    "# Fit a data model - quadratic model\n",
    "intercept=float(input('Enter b0 value'))\n",
    "slope=float(input('Enter b1 value'))\n",
    "curvature = float(input('Enter b2 value'))\n",
    "b3 = float(input('Enter b3 value'))\n",
    "\n",
    "# build a data model\n",
    "modelYYY = [] # empty list\n",
    "for i in range(len(xtable)):\n",
    "    modelYYY.append(quadratic(intercept,slope,curvature,b3,xtable[i]))\n",
    "# Plotting results\n",
    "make2plot(xtable,ytable,xtable,modelYYY,'time (sec.)','Mass Released','Plot of model and observations')\n",
    "\n",
    "\n",
    "# cubic model function\n",
    "# build lists of model\n",
    "# plot"
   ]
  },
  {
   "cell_type": "code",
   "execution_count": 58,
   "metadata": {},
   "outputs": [
    {
     "name": "stdout",
     "output_type": "stream",
     "text": [
      "27.943593749999998\n",
      "742.2812047119141\n"
     ]
    }
   ],
   "source": [
    "# prediction residuals\n",
    "# get the residues\n",
    "obs = []\n",
    "resids = [0 for i in range(len(xtable))] # empty list\n",
    "residue(ytable,modelYYY,resids)\n",
    "print(sum(resids))\n",
    "for i in range(len(resids)):\n",
    "    obs.append(resids[i])\n",
    "\n",
    "    resids[i]=resids[i]**2\n",
    "print(sum(resids))\n",
    "#print(obs)"
   ]
  },
  {
   "cell_type": "code",
   "execution_count": 59,
   "metadata": {},
   "outputs": [
    {
     "name": "stdout",
     "output_type": "stream",
     "text": [
      "[2.5, 3.14984375, 4.373749999999999, 7.54, 7.62, 9.18, 7.960000000000001, 6.5, 3.34, -5.120000000000001, -19.1]\n",
      "The sum of squares is below.\n"
     ]
    },
    {
     "data": {
      "text/plain": [
       "742.2812047119141"
      ]
     },
     "execution_count": 59,
     "metadata": {},
     "output_type": "execute_result"
    }
   ],
   "source": [
    "# sum_of_squares\n",
    "import numpy as np\n",
    "print(obs)\n",
    "a = np.array(obs)\n",
    "print('The sum of squares is below.')\n",
    "np.sum(a**2)"
   ]
  },
  {
   "cell_type": "markdown",
   "metadata": {},
   "source": [
    "## Exercise-4: Examine a different model\n",
    "\n",
    "Using the drug release data, repeat your analysis using an exponential-decay type model \n",
    "\n",
    "$\\mu g_{release} = \\beta_0 (1- e^{-\\beta_1 \\cdot t_{days}}) $ \n",
    "\n",
    "1. Perform your trial-and-error fit for this model. Report the sum of square of residuals of your fitted data model."
   ]
  },
  {
   "cell_type": "code",
   "execution_count": null,
   "metadata": {},
   "outputs": [],
   "source": [
    "# code here\n",
    "import math\n",
    "\n",
    "def expDecay(b0, b1,x):\n",
    "    x = (b0*(1-(math.e(-b1*x))))\n",
    "    return(x)  \n",
    "    \n",
    "def make2plot(listx1,listy1,listx2,listy2,strlablx,strlably,strtitle):\n",
    "    mydata = plt.figure(figsize = (10,5)) # build a square drawing canvass from figure class\n",
    "    plt.plot(listx1,listy1, c='red', marker='o',linewidth=0) # basic data plot\n",
    "    plt.plot(listx2,listy2, c='blue',linewidth=1) # basic model plot\n",
    "    plt.xlabel(strlablx)\n",
    "    plt.ylabel(strlably)\n",
    "    plt.legend(['Observations','Model'])# modify for argument insertion\n",
    "    plt.title(strtitle)\n",
    "    plt.show()\n",
    "    return\n",
    "\n",
    "xtable = [0, .25, .5, 1, 2, 3, 4, 5, 6, 8, 10]\n",
    "ytable = [2.5, 3.6, 5.3, 9.5, 12, 16.5, 18.8, 21.5, 23.2, 26.8, 28.4]\n",
    "\n",
    "intercept=float(input('Enter b0 value'))\n",
    "slope=float(input('Enter b1 value'))\n",
    "# build a data model\n",
    "modelYYY = [] # empty list\n",
    "for i in range(len(xtable)):\n",
    "    modelYYY.append(expDecay(intercept,slope,xtable[i]))\n",
    "# Plotting results\n",
    "make2plot(xtable,ytable,xtable,modelYYY,'time (sec.)','Mass Released','Plot of model and observations')\n",
    "\n",
    "# exponential decay model function\n",
    "# build lists of model\n",
    "# plot\n",
    "# prediction residuals\n",
    "# sum_of_squares"
   ]
  },
  {
   "cell_type": "markdown",
   "metadata": {},
   "source": [
    "## Exercise-5: Decide\n",
    "\n",
    "Which of the drug-release models do you like best?  Why?  The parameters in the exponential-decay model have bio-chemical conceptual meaning.  What is the significance of $\\beta_0$ in this model? (Consider what happens as time gets large)"
   ]
  },
  {
   "cell_type": "markdown",
   "metadata": {},
   "source": [
    "# I believe the exponential decat function is the best as it follows and models the data more accurately. The data appears to be increasing in an decaying matter.\n",
    "# As time gets bigger the b0 the amount released begins to lower and lower due to the exponential decay model."
   ]
  },
  {
   "cell_type": "markdown",
   "metadata": {},
   "source": [
    "## Exercise-5: (continued) Use your model to predict behavior\n",
    "\n",
    "Using your favorite data model predict the drug release for days 11-21 inclusive.  Compare your predictions to observations reported from the drug trials below:\n",
    "\n",
    "|Time(Days) | $\\mu$-grams released|\n",
    "|---|---|\n",
    "|12 |28.4|\n",
    "|16 |28.5|\n",
    "|21 |29.5|\n"
   ]
  },
  {
   "cell_type": "code",
   "execution_count": 69,
   "metadata": {},
   "outputs": [
    {
     "name": "stdin",
     "output_type": "stream",
     "text": [
      "Enter b0 value .05\n",
      "Enter b1 value 1\n"
     ]
    },
    {
     "data": {
      "image/png": "[encoded data removed]",
      "text/plain": [
       "<Figure size 720x360 with 1 Axes>"
      ]
     },
     "metadata": {
      "needs_background": "light"
     },
     "output_type": "display_data"
    }
   ],
   "source": [
    "# code here\n",
    "# add new data to observations\n",
    "# use favorite model function with already determined parameters\n",
    "# build lists of model\n",
    "# plot\n",
    "# linear model function\n",
    "def make2plot(listx1,listy1,listx2,listy2,strlablx,strlably,strtitle):\n",
    "    mydata = plt.figure(figsize = (10,5)) # build a square drawing canvass from figure class\n",
    "    plt.plot(listx1,listy1, c='red', marker='o',linewidth=0) # basic data plot\n",
    "    plt.plot(listx2,listy2, c='blue',linewidth=1) # basic model plot\n",
    "    plt.xlabel(strlablx)\n",
    "    plt.ylabel(strlably)\n",
    "    plt.legend(['Observations','Model'])# modify for argument insertion\n",
    "    plt.title(strtitle)\n",
    "    plt.show()\n",
    "    return\n",
    "\n",
    "def linear(b0,b1,x):\n",
    "    linear=b0+b1*x \n",
    "    #print(linear)\n",
    "    return(linear)\n",
    "xtable = [12,16,21]\n",
    "ytable = [28.4,28.5,29.5]\n",
    "\n",
    "intercept=float(input('Enter b0 value'))\n",
    "slope=float(input('Enter b1 value'))\n",
    "# build a data model\n",
    "modelYYY = [] # empty list\n",
    "for i in range(len(xtable)):\n",
    "    modelYYY.append(linear(intercept,slope,xtable[i]))\n",
    "# Plotting results\n",
    "make2plot(xtable,ytable,xtable,modelYYY,'time (sec.)','Mass Released','Plot of model and observations')\n",
    "# compute prediction error \n",
    "# report error for 12,16,21 days values"
   ]
  },
  {
   "cell_type": "code",
   "execution_count": 62,
   "metadata": {},
   "outputs": [
    {
     "name": "stdout",
     "output_type": "stream",
     "text": [
      "37.25\n",
      "---------------\n",
      "267.32249999999993\n",
      "155.00249999999997\n",
      "71.40249999999999\n",
      "---------------\n",
      "493.7274999999999\n",
      "================\n",
      "[16.349999999999998, 12.45, 8.45]\n"
     ]
    },
    {
     "data": {
      "image/png": "[encoded data removed]",
      "text/plain": [
       "<Figure size 432x288 with 1 Axes>"
      ]
     },
     "metadata": {
      "needs_background": "light"
     },
     "output_type": "display_data"
    }
   ],
   "source": [
    "# supply data\n",
    "def residue(list1,list2,list3):\n",
    "    if len(list1)!=len(list2) or len(list1)!=len(list3):\n",
    "        print('Lists unequal length, undefined operations')\n",
    "        return\n",
    "    for i in range(len(list1)):\n",
    "        list3[i]=list1[i]-list2[i]\n",
    "    return(list3)\n",
    "\n",
    "resids = [0 for i in range(len(xtable))] # empty list\n",
    "residue(ytable,modelYYY,resids)\n",
    "obs = []\n",
    "print(sum(resids))\n",
    "print(\"---------------\")\n",
    "for i in range(len(resids)):\n",
    "    obs.append(resids[i])\n",
    "    resids[i]=resids[i]**2\n",
    "    print(resids[i])\n",
    "print(\"---------------\")\n",
    "print(sum(resids))\n",
    "print('================')\n",
    "# build lists of observation\n",
    "# build lists of model\n",
    "# plot\n",
    "# creating the bar plot \n",
    "print(obs)\n",
    "plt.bar(obs,500, color ='maroon',  \n",
    "        width = .9) \n",
    "  \n",
    "plt.xlabel(\"B0 and B1\") \n",
    "plt.ylabel('Residual') \n",
    "plt.title(\"Histogram of residuals\") \n",
    "plt.show() \n",
    "# prediction residuals"
   ]
  },
  {
   "cell_type": "code",
   "execution_count": 63,
   "metadata": {},
   "outputs": [
    {
     "name": "stdout",
     "output_type": "stream",
     "text": [
      "[16.349999999999998, 12.45, 8.45]\n"
     ]
    },
    {
     "data": {
      "text/plain": [
       "493.7274999999999"
      ]
     },
     "execution_count": 63,
     "metadata": {},
     "output_type": "execute_result"
    }
   ],
   "source": [
    "# sum of squares\n",
    "import numpy as np\n",
    "print(obs)\n",
    "a = np.array(obs)\n",
    "np.sum(a**2)"
   ]
  },
  {
   "cell_type": "markdown",
   "metadata": {},
   "source": [
    "<!--## Exercise-6: Interpolating Polynomials\n",
    "\n",
    "In a radiation-induced polymerization study, a gamma source was used to give measured doses of radiation. The dosage varied with position in the apparatus, with the following data being recorded:\n",
    "\n",
    "|Position from emitter (inches)  | Dosage Rate, $10^5$ rads/hr  |\n",
    "|:---  | :--- |\n",
    "|0   |1.90|\n",
    "|0.5 |2.39|\n",
    "|1.0 |2.71|\n",
    "|1.5 |2.98|\n",
    "|2.0 |3.20|\n",
    "|3.0 |3.20|\n",
    "|3.5 |2.98|\n",
    "|4.0 |2.74|\n",
    "\n",
    "For some reason, the reading at 2.5 inches was not reported, but the value of radiation at that distance is needed; estimate the dosage level at 2.5 inches using a lagrange interpolation-type prediction engine.  Plot the interpolating function as well as the observations.-->"
   ]
  }
 ],
 "metadata": {
  "kernelspec": {
   "display_name": "Python 3",
   "language": "python",
   "name": "python3"
  },
  "language_info": {
   "codemirror_mode": {
    "name": "ipython",
    "version": 3
   },
   "file_extension": ".py",
   "mimetype": "text/x-python",
   "name": "python",
   "nbconvert_exporter": "python",
   "pygments_lexer": "ipython3",
   "version": "3.8.5"
  }
 },
 "nbformat": 4,
 "nbformat_minor": 4
}
