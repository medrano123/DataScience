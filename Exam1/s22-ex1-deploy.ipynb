{
 "cells": [
  {
   "cell_type": "markdown",
   "metadata": {},
   "source": [
    "# <font color=darkblue>ENGR 1330-2022-1 Exam1-Laboratory Portion  </font>\n",
    "\n",
    "**Medrano, Giovanni**\n",
    "\n",
    "**R11521018**\n",
    "\n",
    "ENGR 1330 Exam 1 - Laboratory/Programming Skills\n",
    "\n",
    "\n"
   ]
  },
  {
   "cell_type": "markdown",
   "metadata": {},
   "source": [
    "---\n",
    "\n",
    "## Problem 1 (10 pts) : <font color = 'magenta'>*Profile your computer*</font>\n",
    "\n",
    "Execute the code cell below exactly as written.  If you get an error just continue to the remaining problems."
   ]
  },
  {
   "cell_type": "code",
   "execution_count": 1,
   "metadata": {},
   "outputs": [
    {
     "name": "stdout",
     "output_type": "stream",
     "text": [
      "DESKTOP-6HAS1BN\n",
      "desktop-6has1bn\\medra\n",
      "C:\\Users\\medra\\anaconda3\\python.exe\n",
      "3.8.5 (default, Sep  3 2020, 21:29:08) [MSC v.1916 64 bit (AMD64)]\n",
      "sys.version_info(major=3, minor=8, micro=5, releaselevel='final', serial=0)\n"
     ]
    }
   ],
   "source": [
    "# Preamble script block to identify host, user, and kernel\n",
    "import sys\n",
    "! hostname\n",
    "! whoami\n",
    "print(sys.executable)\n",
    "print(sys.version)\n",
    "print(sys.version_info)"
   ]
  },
  {
   "cell_type": "markdown",
   "metadata": {},
   "source": [
    "---\n",
    "\n",
    "## Problem 2 (10 pts): <font color = 'magenta'>*input(),typecast, string reversal, comparison based selection, print()*</font>\n",
    "\n",
    "Build a script where the user will supply a number then determine if it is a palindrome number. A palindrome number is a number that is same after reversal. For example 545, is a palindrome number.\n",
    "- Case 1: 545\n",
    "- Case 2: 123\n",
    "- Case 3: 666"
   ]
  },
  {
   "cell_type": "code",
   "execution_count": null,
   "metadata": {},
   "outputs": [],
   "source": [
    "# define variables\n",
    "# interactive input\n",
    "# computation/compare\n",
    "# report result"
   ]
  },
  {
   "cell_type": "code",
   "execution_count": 1,
   "metadata": {},
   "outputs": [
    {
     "name": "stdout",
     "output_type": "stream",
     "text": [
      "545 is a palindrone!\n"
     ]
    }
   ],
   "source": [
    "# Case 1\n",
    "num = 545\n",
    "num = str(num) # '545'\n",
    "length = len(num)\n",
    "position = length - 1 # end the string\n",
    "rev = ''         # blank variable for reversed string\n",
    "for i in range(length):\n",
    "    rev += num[position] # begin iteration within num at position position which we defined as the end the string.\n",
    "    position -=  1   # iterating backwards and update\n",
    "if(rev == num):\n",
    "    print(num, 'is a palindrone!')\n",
    "else:\n",
    "    print(num, 'is not a palindrone!')  "
   ]
  },
  {
   "cell_type": "code",
   "execution_count": 5,
   "metadata": {},
   "outputs": [
    {
     "name": "stdout",
     "output_type": "stream",
     "text": [
      "123 is not a palindrone!\n"
     ]
    }
   ],
   "source": [
    "# Case 2\n",
    "num = 123\n",
    "num = str(num)\n",
    "length = len(num)\n",
    "position = length - 1 # end the string\n",
    "rev = ''         # blank variable for reversed string\n",
    "for i in range(length):\n",
    "    rev += num[position] # begin iteration within num at position position which we defined as the end the string.\n",
    "    position -=  1   # iterating backwards and update\n",
    "if(rev == num):\n",
    "    print(num, 'is a palindrone!')\n",
    "else:\n",
    "    print(num, 'is not a palindrone!')  "
   ]
  },
  {
   "cell_type": "code",
   "execution_count": 6,
   "metadata": {},
   "outputs": [
    {
     "name": "stdout",
     "output_type": "stream",
     "text": [
      "666 is a palindrone!\n"
     ]
    }
   ],
   "source": [
    "# Case 3\n",
    "num = 666\n",
    "num = str(num)\n",
    "length = len(num)\n",
    "position = length - 1 # end the string\n",
    "rev = ''         # blank variable for reversed string\n",
    "for i in range(length):\n",
    "    rev += num[position] # begin iteration within num at position position which we defined as the end the string.\n",
    "    position -=  1   # iterating backwards and update\n",
    "if(rev == num):\n",
    "    print(num, 'is a palindrone!')\n",
    "else:\n",
    "    print(num, 'is not a palindrone!')  "
   ]
  },
  {
   "cell_type": "code",
   "execution_count": 7,
   "metadata": {},
   "outputs": [
    {
     "name": "stdin",
     "output_type": "stream",
     "text": [
      "Please input a number to check for palindrome-ness: 166858661\n"
     ]
    },
    {
     "name": "stdout",
     "output_type": "stream",
     "text": [
      "166858661 is a palindrone!\n"
     ]
    }
   ],
   "source": [
    "num = input(\"Please input a number to check for palindrome-ness:\")\n",
    "rev = num[::-1]\n",
    "if(rev == num):\n",
    "    print(num, 'is a palindrone!')\n",
    "else:\n",
    "    print(num, 'is not a palindrone!')"
   ]
  },
  {
   "cell_type": "markdown",
   "metadata": {},
   "source": [
    "---\n",
    "\n",
    "## Problem 3 (15 pts): <font color = 'magenta'>*len(),compare,accumulator, populate an empty list,for loop, print()*</font>\n",
    "\n",
    "Two lists are defined as\n",
    "\n",
    "```\n",
    "x= [1.0,1.1,1.2,1.3,1.4,1.5,1.6,1.7,1.8]\n",
    "f_of_x = [1.543,1.668,1.811,1.971,2.151,2.352,2.577,2.828,3.107]\n",
    "```\n",
    "\n",
    "Create a script that determines the length of each list and if they are the same length then print the contents of each list row-wise, and the running sum of `f_of_x` so the output looks like\n",
    "\n",
    "```\n",
    "--x--  --f_of_x--  --sum--\n",
    "1.0     1.543      1.543\n",
    "1.1     1.668      3.211\n",
    "...     ...        ...\n",
    "...     ...        ...\n",
    "1.7     2.828      16.901\n",
    "1.8     3.107      20.008\n",
    "```\n",
    "\n",
    "Test your script using the two lists above, then with the two lists below:\n",
    "\n",
    "```\n",
    "x= [1.0,1.1,1.2,1.3,1.4,1.5,1.6,1.7,1.8]\n",
    "f_of_x =[1.543, 3.211, 5.022, 6.993, 9.144, 11.496, 14.073, 16.901, 20.008]\n",
    "```"
   ]
  },
  {
   "cell_type": "code",
   "execution_count": 90,
   "metadata": {},
   "outputs": [
    {
     "name": "stdout",
     "output_type": "stream",
     "text": [
      "--x--  --f_of_x--  --sum--\n",
      "1.0\t 1.543\t    1.543\n",
      "1.1\t 1.668\t    3.211\n",
      "1.2\t 1.811\t    5.022\n",
      "1.3\t 1.971\t    6.993\n",
      "1.4\t 2.151\t    9.144\n",
      "1.5\t 2.352\t    11.496\n",
      "1.6\t 2.577\t    14.073\n",
      "1.7\t 2.828\t    16.901\n",
      "1.8\t 3.107\t    20.008\n"
     ]
    }
   ],
   "source": [
    "# define variables\n",
    "# Case 1 \n",
    "x = [1.0,1.1,1.2,1.3,1.4,1.5,1.6,1.7,1.8]\n",
    "f_of_x = [1.543,1.668,1.811,1.971,2.151,2.352,2.577,2.828,3.107]\n",
    "# validate lengths\n",
    "lenX = len(x)\n",
    "lenF = len(f_of_x)\n",
    "#print(lenX, lenF)\n",
    "# initialize accumulator and empty list to store a running sum\n",
    "if(lenX == lenF):\n",
    "    total = []\n",
    "# print header line\n",
    "    print(\"--x--  --f_of_x--  --sum--\")\n",
    "# repetition (for loop) structure\n",
    "    sums = 0\n",
    "    for i in range(lenF):\n",
    "        sums += f_of_x[i]\n",
    "        sums = round(sums,3)\n",
    "        total.append(sums)\n",
    "#print(total)\n",
    "# report result\n",
    "    for i in range(lenX):\n",
    "        print(str(x[i]) + '\\t ' + str(f_of_x[i]) + '\\t    ' + str(total[i])) #casted to a string so we can use string \n",
    "                                                                            #concatenation "
   ]
  },
  {
   "cell_type": "code",
   "execution_count": 93,
   "metadata": {},
   "outputs": [
    {
     "name": "stdout",
     "output_type": "stream",
     "text": [
      "9 9\n",
      "--x--  --f_of_x--  --sum--\n",
      "1.0\t1.543\t   1.543\n",
      "1.1\t3.211\t   4.754\n",
      "1.2\t5.022\t   9.776\n",
      "1.3\t6.993\t   16.769\n",
      "1.4\t9.144\t   25.913\n",
      "1.5\t11.496\t   37.409\n",
      "1.6\t14.073\t   51.482\n",
      "1.7\t16.901\t   68.383\n",
      "1.8\t20.008\t   88.391\n"
     ]
    }
   ],
   "source": [
    "# define variables\n",
    "# Case 2\n",
    "x= [1.0,1.1,1.2,1.3,1.4,1.5,1.6,1.7,1.8]\n",
    "f_of_x =[1.543, 3.211, 5.022, 6.993, 9.144, 11.496, 14.073, 16.901, 20.008]\n",
    "# validate lengths\n",
    "lenX = len(x)\n",
    "lenF = len(f_of_x)\n",
    "print(lenX, lenF)\n",
    "# initialize accumulator and empty list to store a running sum\n",
    "if(lenX == lenF):\n",
    "    total = []\n",
    "# print header line\n",
    "    print(\"--x--  --f_of_x--  --sum--\")\n",
    "# repetition (for loop) structure\n",
    "    sums = 0\n",
    "    for i in range(lenF):\n",
    "        sums += f_of_x[i]\n",
    "        sums = round(sums,3)\n",
    "        total.append(sums)\n",
    "#print(total)\n",
    "# report result\n",
    "    for i in range(lenX):\n",
    "        print(str(x[i]) + '\\t' + str(f_of_x[i]) + '\\t   ' + str(total[i]))"
   ]
  },
  {
   "cell_type": "markdown",
   "metadata": {},
   "source": [
    "---\n",
    "\n",
    "## Problem 4 Function (15 points) : <font color = 'magenta'> *def ..., input(),typecast,arithmetic based selection, print()* </font>\n",
    "Build a function that takes as input two integer numbers. The function should return their product if the product is greater than 666, otherwise the function should return their sum.  \n",
    "\n",
    "Employ the function in an interactive script and test the following cases:\n",
    "\n",
    "- Case 1: 65 and 10\n",
    "- Case 2: 66 and 11\n",
    "- Case 3: 25 and 5"
   ]
  },
  {
   "cell_type": "code",
   "execution_count": null,
   "metadata": {},
   "outputs": [],
   "source": [
    "# define variables\n",
    "# interactive input\n",
    "# computation/compare\n",
    "# report result"
   ]
  },
  {
   "cell_type": "code",
   "execution_count": 19,
   "metadata": {},
   "outputs": [
    {
     "name": "stdout",
     "output_type": "stream",
     "text": [
      "Their sum is: 75\n"
     ]
    }
   ],
   "source": [
    "# Case 1\n",
    "a = 65\n",
    "b = 10\n",
    "product = a * b\n",
    "total = a + b\n",
    "if(product > 666):\n",
    "    print('The product is:', product)\n",
    "else:\n",
    "    print('Their sum is:', total)"
   ]
  },
  {
   "cell_type": "code",
   "execution_count": 20,
   "metadata": {},
   "outputs": [
    {
     "name": "stdout",
     "output_type": "stream",
     "text": [
      "The product is: 726\n"
     ]
    }
   ],
   "source": [
    "# Case 2\n",
    "a = 66\n",
    "b = 11\n",
    "product = a * b\n",
    "total = a + b\n",
    "if(product > 666):\n",
    "    print('The product is:', product)\n",
    "else:\n",
    "    print('Their sum is:', total)"
   ]
  },
  {
   "cell_type": "code",
   "execution_count": 21,
   "metadata": {},
   "outputs": [
    {
     "name": "stdout",
     "output_type": "stream",
     "text": [
      "Their sum is: 30\n"
     ]
    }
   ],
   "source": [
    "# Case 3\n",
    "a = 25\n",
    "b = 5\n",
    "product = a * b\n",
    "total = a + b\n",
    "if(product > 666):\n",
    "    print('The product is:', product)\n",
    "else:\n",
    "    print('Their sum is:', total)"
   ]
  },
  {
   "cell_type": "code",
   "execution_count": 4,
   "metadata": {},
   "outputs": [
    {
     "name": "stdin",
     "output_type": "stream",
     "text": [
      "Enter two integers with a space between them and we will see if their product is greater than 666, otherwise the sum will be returned:  500 500\n"
     ]
    },
    {
     "name": "stdout",
     "output_type": "stream",
     "text": [
      "The product is: 250000.0\n"
     ]
    }
   ],
   "source": [
    "a, b = input(\"Enter two integers with a space between them and we will see if their product is greater than 666, otherwise the sum will be returned: \").split()\n",
    "a = float(a) #floats are used incase a user inputs decimal points.\n",
    "b = float(b) \n",
    "product = a * b\n",
    "total = a + b\n",
    "if(product > 666):\n",
    "    print('The product is:', product)\n",
    "else:\n",
    "    print('Their sum is:', total)"
   ]
  },
  {
   "cell_type": "code",
   "execution_count": null,
   "metadata": {},
   "outputs": [],
   "source": []
  }
 ],
 "metadata": {
  "kernelspec": {
   "display_name": "Python 3",
   "language": "python",
   "name": "python3"
  },
  "language_info": {
   "codemirror_mode": {
    "name": "ipython",
    "version": 3
   },
   "file_extension": ".py",
   "mimetype": "text/x-python",
   "name": "python",
   "nbconvert_exporter": "python",
   "pygments_lexer": "ipython3",
   "version": "3.8.5"
  }
 },
 "nbformat": 4,
 "nbformat_minor": 4
}
