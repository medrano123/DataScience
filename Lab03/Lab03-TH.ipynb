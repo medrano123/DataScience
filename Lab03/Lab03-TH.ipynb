{
 "cells": [
  {
   "cell_type": "markdown",
   "metadata": {},
   "source": [
    "**Download** (right-click, save target as ...) this page as a jupyterlab notebook from:\n",
    "\n",
    "[Laboratory 3 - TH](http://54.243.252.9/engr-1330-webroot/8-Labs/Lab03/Lab03-TH.ipynb)\n",
    "\n",
    "___"
   ]
  },
  {
   "cell_type": "markdown",
   "metadata": {},
   "source": [
    "# <font color=darkblue>Exercise Set 3: Expressions and Problem Solving </font>\n",
    "\n",
    "**Medrano, Giovanni**\n",
    "\n",
    "**R11521018**\n",
    "\n",
    "ENGR 1330 ES-3 - Homework\n",
    "\n"
   ]
  },
  {
   "cell_type": "code",
   "execution_count": 28,
   "metadata": {},
   "outputs": [
    {
     "name": "stdout",
     "output_type": "stream",
     "text": [
      "DESKTOP-6HAS1BN\n",
      "desktop-6has1bn\\medra\n",
      "C:\\Users\\medra\\anaconda3\\python.exe\n",
      "3.8.5 (default, Sep  3 2020, 21:29:08) [MSC v.1916 64 bit (AMD64)]\n",
      "sys.version_info(major=3, minor=8, micro=5, releaselevel='final', serial=0)\n"
     ]
    }
   ],
   "source": [
    "# Preamble script block to identify host, user, and kernel\n",
    "import sys\n",
    "! hostname\n",
    "! whoami\n",
    "print(sys.executable)\n",
    "print(sys.version)\n",
    "print(sys.version_info)"
   ]
  },
  {
   "cell_type": "markdown",
   "metadata": {},
   "source": [
    "## Exercise 1: Odd/Even\n",
    "\n",
    "Depending on whether the number is even or odd, print out an appropriate message to the user. \n",
    "\n",
    "Use the following cases to test your script:\n",
    "- Case 1: `number=33`\n",
    "- Case 2: `number=44`\n",
    "\n",
    "Bonus(Optional):\n",
    "- If the number is a multiple of 4, print out a different message.\n",
    "- Supply two numbers: one number to check (call it `num`) and one number to divide by (`check`). If check divides evenly into num, tell that to the user. If not, print a different appropriate message."
   ]
  },
  {
   "cell_type": "code",
   "execution_count": 29,
   "metadata": {},
   "outputs": [
    {
     "name": "stdout",
     "output_type": "stream",
     "text": [
      "33 turns out to be an odd numer!\n"
     ]
    }
   ],
   "source": [
    "# put your Case 1 code here\n",
    "num = 33\n",
    "if((num % 2) == 0):\n",
    "    print(num, 'turns out to be a even number!')\n",
    "else:\n",
    "    print(num, 'turns out to be an odd numer!')"
   ]
  },
  {
   "cell_type": "code",
   "execution_count": 30,
   "metadata": {},
   "outputs": [
    {
     "name": "stdout",
     "output_type": "stream",
     "text": [
      "44 turns out to be a even number!\n"
     ]
    }
   ],
   "source": [
    "# put your Case 2 code here\n",
    "num = 44\n",
    "if((num % 2) == 0):\n",
    "    print(num, 'turns out to be a even number!')\n",
    "else:\n",
    "    print(num, 'turns out to be an odd numer!')"
   ]
  },
  {
   "cell_type": "code",
   "execution_count": 31,
   "metadata": {},
   "outputs": [
    {
     "name": "stdin",
     "output_type": "stream",
     "text": [
      "PLEASE ENTER A NUMBER SO WE CAN CHECK IF ITS EVEN OR ODD:  19\n"
     ]
    },
    {
     "name": "stdout",
     "output_type": "stream",
     "text": [
      "19 turns out to be an odd numer!\n"
     ]
    }
   ],
   "source": [
    "num = int(input('PLEASE ENTER A NUMBER SO WE CAN CHECK IF ITS EVEN OR ODD: '))\n",
    "if((num % 2) == 0):\n",
    "    print(num, 'turns out to be a even number!')\n",
    "else:\n",
    "    print(num, 'turns out to be an odd numer!')"
   ]
  },
  {
   "cell_type": "markdown",
   "metadata": {},
   "source": [
    "# bonus "
   ]
  },
  {
   "cell_type": "code",
   "execution_count": 32,
   "metadata": {},
   "outputs": [
    {
     "name": "stdin",
     "output_type": "stream",
     "text": [
      "PLEASE ENTER A NUMBER SO WE CAN CHECK IF ITS EVEN OR ODD:  32\n"
     ]
    },
    {
     "name": "stdout",
     "output_type": "stream",
     "text": [
      "32 is divisible by 4\n",
      "32 turns out to be a even number!\n"
     ]
    }
   ],
   "source": [
    "num = int(input('PLEASE ENTER A NUMBER SO WE CAN CHECK IF ITS EVEN OR ODD: '))\n",
    "check = num % 4\n",
    "if(check == 0):\n",
    "    print(num, 'is divisible by 4')\n",
    "if((num % 2) == 0):\n",
    "    print(num, 'turns out to be a even number!')\n",
    "else:\n",
    "    print(num, 'turns out to be an odd numer!')"
   ]
  },
  {
   "cell_type": "markdown",
   "metadata": {},
   "source": [
    "___\n",
    "## Exercise 2: Number Manipulation <br>\n",
    "\n",
    "Create a script that accepts an integer (n) as input and computes the value of n+nn+nnn. For example for an input value of n = 5 the required result is 615 obtained from 5+55+555\n",
    "\n",
    "Use the following cases to test your script:\n",
    "\n",
    "- Case 1: `n=1`\n",
    "- Case 2: `n=6`\n",
    "\n",
    "Bonus(Optional):\n",
    "- Modify the script to accept multi-digit values, and test with `n=33`"
   ]
  },
  {
   "cell_type": "code",
   "execution_count": 33,
   "metadata": {},
   "outputs": [
    {
     "name": "stdout",
     "output_type": "stream",
     "text": [
      "123\n"
     ]
    }
   ],
   "source": [
    "# put your Case 1 code here\n",
    "start = 1\n",
    "num = str(start)\n",
    "\n",
    "num1 = num\n",
    "num2 = num + num\n",
    "num3 = num + num + num\n",
    "total = (int(num1) + int(num2) + int(num3))\n",
    "print(total)"
   ]
  },
  {
   "cell_type": "code",
   "execution_count": 34,
   "metadata": {},
   "outputs": [
    {
     "name": "stdout",
     "output_type": "stream",
     "text": [
      "738\n"
     ]
    }
   ],
   "source": [
    "# put your Case 2 code here\n",
    "start = 6\n",
    "num = str(start)\n",
    "\n",
    "num1 = num\n",
    "num2 = num + num\n",
    "num3 = num + num + num\n",
    "total = (int(num1) + int(num2) + int(num3))\n",
    "print(total)"
   ]
  },
  {
   "cell_type": "code",
   "execution_count": 35,
   "metadata": {},
   "outputs": [
    {
     "name": "stdin",
     "output_type": "stream",
     "text": [
      "Please Enter a number to be computed:  33\n"
     ]
    },
    {
     "name": "stdout",
     "output_type": "stream",
     "text": [
      "336699\n"
     ]
    }
   ],
   "source": [
    "start = input('Please Enter a number to be computed: ')\n",
    "num = str(start)\n",
    "\n",
    "num1 = num\n",
    "num2 = num + num\n",
    "num3 = num + num + num\n",
    "total = (int(num1) + int(num2) + int(num3))\n",
    "print(total)"
   ]
  }
 ],
 "metadata": {
  "kernelspec": {
   "display_name": "Python 3",
   "language": "python",
   "name": "python3"
  },
  "language_info": {
   "codemirror_mode": {
    "name": "ipython",
    "version": 3
   },
   "file_extension": ".py",
   "mimetype": "text/x-python",
   "name": "python",
   "nbconvert_exporter": "python",
   "pygments_lexer": "ipython3",
   "version": "3.8.5"
  }
 },
 "nbformat": 4,
 "nbformat_minor": 4
}
